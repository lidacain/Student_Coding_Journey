{
 "cells": [
  {
   "cell_type": "code",
   "execution_count": null,
   "id": "initial_id",
   "metadata": {
    "collapsed": true,
    "is_executing": true
   },
   "outputs": [],
   "source": [
    "import pandas as pd\n",
    "import matplotlib.pyplot as plt\n",
    "from statsmodels.tsa.statespace.sarimax import SARIMAX\n",
    "from datetime import timedelta\n",
    "\n",
    "# Загрузка данных в DataFrame\n",
    "data = pd.read_csv('lukoil.csv', delimiter=';', parse_dates=['Date'], dayfirst=True)\n",
    "\n",
    "# Преобразование числовых значений с запятыми в десятичные числа\n",
    "numeric_cols = ['Volume', 'Open', 'High', 'Low', 'Close', 'Bid', 'Ask']\n",
    "data[numeric_cols] = data[numeric_cols].replace(',', '.', regex=True)\n",
    "\n",
    "# Преобразование значений в числовой тип\n",
    "data[numeric_cols] = data[numeric_cols].apply(pd.to_numeric, errors='coerce')\n",
    "\n",
    "# Создание прогнозов для каждого столбца\n",
    "forecast_period = 60  # Прогноз на 60 месяцев\n",
    "\n",
    "for col in numeric_cols:\n",
    "    try:\n",
    "        model = SARIMAX(data[col], order=(1, 1, 1), seasonal_order=(1, 1, 1, 12))  # Пример параметров модели\n",
    "        fitted = model.fit()\n",
    "\n",
    "        # Прогноз на 60 месяцев вперед\n",
    "        forecast = fitted.forecast(steps=forecast_period)\n",
    "\n",
    "        # Создание графика прогноза для каждого столбца\n",
    "        plt.figure(figsize=(10, 5))\n",
    "        plt.plot(data['Date'], data[col], label='Исходные данные')\n",
    "        plt.plot(pd.date_range(start=data['Date'].max() + timedelta(days=1), periods=forecast_period, freq='M'), forecast, label='Прогноз')\n",
    "        plt.xlabel('Дата')\n",
    "        plt.ylabel(col)\n",
    "        plt.title(f'Прогноз по столбцу {col}')\n",
    "        plt.legend()\n",
    "        plt.tight_layout()\n",
    "        plt.show()\n",
    "    except Exception as e:\n",
    "        print(f\"Ошибка при прогнозировании для столбца {col}: {e}\")\n"
   ]
  },
  {
   "cell_type": "code",
   "execution_count": null,
   "outputs": [],
   "source": [],
   "metadata": {
    "collapsed": false
   },
   "id": "b5d9a0a8c2c09754"
  }
 ],
 "metadata": {
  "kernelspec": {
   "display_name": "Python 3",
   "language": "python",
   "name": "python3"
  },
  "language_info": {
   "codemirror_mode": {
    "name": "ipython",
    "version": 2
   },
   "file_extension": ".py",
   "mimetype": "text/x-python",
   "name": "python",
   "nbconvert_exporter": "python",
   "pygments_lexer": "ipython2",
   "version": "2.7.6"
  }
 },
 "nbformat": 4,
 "nbformat_minor": 5
}
