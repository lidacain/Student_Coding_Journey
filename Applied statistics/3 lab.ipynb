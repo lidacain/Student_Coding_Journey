{
 "cells": [
  {
   "cell_type": "code",
   "execution_count": 1,
   "metadata": {},
   "outputs": [],
   "source": [
    "import numpy as np"
   ]
  },
  {
   "cell_type": "code",
   "execution_count": 4,
   "metadata": {},
   "outputs": [
    {
     "name": "stdout",
     "output_type": "stream",
     "text": [
      "[ 1  2  3  5  6  7  8  9 10 11 12 13 14 15 16 17 18 19 20]\n"
     ]
    },
    {
     "data": {
      "text/plain": "dtype('int64')"
     },
     "execution_count": 4,
     "metadata": {},
     "output_type": "execute_result"
    }
   ],
   "source": [
    "list = [1,2,3,5,6,7,8,9,10,11,12,13,14,15,16,17,18,19,20]\n",
    "numpyList = np.array(list)\n",
    "print(numpyList)\n",
    "numpyList.dtype"
   ]
  },
  {
   "cell_type": "code",
   "execution_count": 5,
   "outputs": [
    {
     "name": "stdout",
     "output_type": "stream",
     "text": [
      "[ 1.  2.  3.  5.  6.  7.  8.  9. 10. 11. 12. 13. 14. 15. 16. 17. 18. 19.\n",
      " 20.]\n"
     ]
    },
    {
     "data": {
      "text/plain": "dtype('float64')"
     },
     "execution_count": 5,
     "metadata": {},
     "output_type": "execute_result"
    }
   ],
   "source": [
    "numpyList = numpyList.astype(float)\n",
    "print(numpyList)\n",
    "numpyList.dtype"
   ],
   "metadata": {
    "collapsed": false
   }
  },
  {
   "cell_type": "code",
   "execution_count": 6,
   "metadata": {},
   "outputs": [
    {
     "data": {
      "text/plain": "{0: -0.9984881639241538,\n 1: -1.213281422201764,\n 2: -0.37407702046902547,\n 3: 0.6197701618012973,\n 4: -0.9913532734080279,\n 5: -0.46509090956260457,\n 6: -1.5662724404743635}"
     },
     "execution_count": 6,
     "metadata": {},
     "output_type": "execute_result"
    }
   ],
   "source": [
    "data = {i : np.random.randn() for i in range(7)}\n",
    "data"
   ]
  },
  {
   "cell_type": "code",
   "execution_count": 12,
   "metadata": {},
   "outputs": [
    {
     "name": "stdout",
     "output_type": "stream",
     "text": [
      "array,  [1 2 3 4 5]\n",
      "asarray,  [1 2 3 4 5]\n",
      "arange,  [1 3 5 7 9]\n",
      "ones, \n",
      " [[1. 1. 1.]\n",
      " [1. 1. 1.]\n",
      " [1. 1. 1.]]\n",
      "zeros, \n",
      " [[0. 0. 0.]\n",
      " [0. 0. 0.]\n",
      " [0. 0. 0.]]\n",
      "empty, \n",
      " [[0. 0. 0.]\n",
      " [0. 0. 0.]\n",
      " [0. 0. 0.]]\n",
      "eye, \n",
      " [[1 0 0]\n",
      " [0 1 0]\n",
      " [0 0 1]]\n",
      "identity, \n",
      " [[1. 0. 0.]\n",
      " [0. 1. 0.]\n",
      " [0. 0. 1.]]\n",
      "full, \n",
      " [[9 9 9 9]\n",
      " [9 9 9 9]\n",
      " [9 9 9 9]\n",
      " [9 9 9 9]]\n",
      "ones_like, \n",
      " [[1 1 1 1]\n",
      " [1 1 1 1]\n",
      " [1 1 1 1]\n",
      " [1 1 1 1]]\n"
     ]
    }
   ],
   "source": [
    "array = np.array([1,2,3,4,5])\n",
    "print(\"array, \", array)\n",
    "asarray = np.asarray([1,2,3,4,5])\n",
    "print(\"asarray, \", asarray)\n",
    "arange = np.arange(1,10,2)\n",
    "print(\"arange, \", arange)\n",
    "ones = np.ones((3,3))\n",
    "print(\"ones, \\n\", ones)\n",
    "zeros = np.zeros((3,3))\n",
    "print(\"zeros, \\n\", zeros)\n",
    "empty = np.empty((3,3))\n",
    "print(\"empty, \\n\", empty)\n",
    "eye = np.eye(3, dtype=np.int32)\n",
    "print(\"eye, \\n\", eye)\n",
    "identity = np.identity(3)\n",
    "print(\"identity, \\n\", identity)\n",
    "full = np.full((4,4), 9)\n",
    "print(\"full, \\n\", full)\n",
    "ones_like = np.ones_like(full)\n",
    "print(\"ones_like, \\n\", ones_like)\n"
   ]
  },
  {
   "cell_type": "code",
   "execution_count": 14,
   "metadata": {},
   "outputs": [
    {
     "name": "stdout",
     "output_type": "stream",
     "text": [
      "complex64,  [1.+2.j 3.+4.j 5.+6.j]\n",
      "unicode_,  ['1' '2' '3' 'adf' 'asd']\n",
      "string_,  [b'1' b'2' b'3' b'q' b'asd']\n"
     ]
    },
    {
     "data": {
      "text/plain": "(5,)"
     },
     "execution_count": 14,
     "metadata": {},
     "output_type": "execute_result"
    }
   ],
   "source": [
    "complex64 = np.array([1+2j, 3+4j, 5+6*1j])\n",
    "print(\"complex64, \", complex64)\n",
    "\n",
    "unicode_ = np.array([1,2,3,'adf','asd'], dtype=np.unicode_)\n",
    "print(\"unicode_, \", unicode_)\n",
    "\n",
    "string_ = np.array([1,2,3,'q','asd'], dtype=np.string_)\n",
    "print(\"string_, \", string_)\n",
    "string_.shape"
   ]
  }
 ],
 "metadata": {
  "kernelspec": {
   "display_name": "base",
   "language": "python",
   "name": "python3"
  },
  "language_info": {
   "codemirror_mode": {
    "name": "ipython",
    "version": 3
   },
   "file_extension": ".py",
   "mimetype": "text/x-python",
   "name": "python",
   "nbconvert_exporter": "python",
   "pygments_lexer": "ipython3",
   "version": "3.9.7"
  },
  "orig_nbformat": 4,
  "vscode": {
   "interpreter": {
    "hash": "3b08f651ab38d954fc81a8f17e5aa059bb82e008b5f6f0b113cf32e5b86f2acc"
   }
  }
 },
 "nbformat": 4,
 "nbformat_minor": 2
}
