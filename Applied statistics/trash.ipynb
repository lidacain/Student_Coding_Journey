{
 "cells": [
  {
   "cell_type": "code",
   "execution_count": 26,
   "outputs": [
    {
     "data": {
      "text/plain": "<Figure size 1400x800 with 1 Axes>",
      "image/svg+xml": "<?xml version=\"1.0\" encoding=\"utf-8\" standalone=\"no\"?>\n<!DOCTYPE svg PUBLIC \"-//W3C//DTD SVG 1.1//EN\"\n  \"http://www.w3.org/Graphics/SVG/1.1/DTD/svg11.dtd\">\n<svg xmlns:xlink=\"http://www.w3.org/1999/xlink\" width=\"832.308438pt\" height=\"507.330469pt\" viewBox=\"0 0 832.308438 507.330469\" xmlns=\"http://www.w3.org/2000/svg\" version=\"1.1\">\n <metadata>\n  <rdf:RDF xmlns:dc=\"http://purl.org/dc/elements/1.1/\" xmlns:cc=\"http://creativecommons.org/ns#\" xmlns:rdf=\"http://www.w3.org/1999/02/22-rdf-syntax-ns#\">\n   <cc:Work>\n    <dc:type rdf:resource=\"http://purl.org/dc/dcmitype/StillImage\"/>\n    <dc:date>2023-01-26T17:24:36.191995</dc:date>\n    <dc:format>image/svg+xml</dc:format>\n    <dc:creator>\n     <cc:Agent>\n      <dc:title>Matplotlib v3.6.3, https://matplotlib.org/</dc:title>\n     </cc:Agent>\n    </dc:creator>\n   </cc:Work>\n  </rdf:RDF>\n </metadata>\n <defs>\n  <style type=\"text/css\">*{stroke-linejoin: round; stroke-linecap: butt}</style>\n </defs>\n <g id=\"figure_1\">\n  <g id=\"patch_1\">\n   <path d=\"M 0 507.330469 \nL 832.308438 507.330469 \nL 832.308438 0 \nL 0 0 \nz\n\" style=\"fill: #ffffff\"/>\n  </g>\n  <g id=\"axes_1\">\n   <g id=\"patch_2\">\n    <path d=\"M 43.908438 465.309375 \nL 825.108438 465.309375 \nL 825.108438 21.789375 \nL 43.908438 21.789375 \nz\n\" style=\"fill: #eaeaf2\"/>\n   </g>\n   <g id=\"matplotlib.axis_1\">\n    <g id=\"xtick_1\">\n     <g id=\"line2d_1\">\n      <path d=\"M 85.124227 465.309375 \nL 85.124227 21.789375 \n\" clip-path=\"url(#p66f54d942b)\" style=\"fill: none; stroke: #ffffff; stroke-linecap: round\"/>\n     </g>\n     <g id=\"text_1\">\n      <!-- 0 -->\n      <g style=\"fill: #262626\" transform=\"translate(82.065711 482.682969) scale(0.11 -0.11)\">\n       <defs>\n        <path id=\"ArialMT-30\" d=\"M 266 2259 \nQ 266 3072 433 3567 \nQ 600 4063 929 4331 \nQ 1259 4600 1759 4600 \nQ 2128 4600 2406 4451 \nQ 2684 4303 2865 4023 \nQ 3047 3744 3150 3342 \nQ 3253 2941 3253 2259 \nQ 3253 1453 3087 958 \nQ 2922 463 2592 192 \nQ 2263 -78 1759 -78 \nQ 1097 -78 719 397 \nQ 266 969 266 2259 \nz\nM 844 2259 \nQ 844 1131 1108 757 \nQ 1372 384 1759 384 \nQ 2147 384 2411 759 \nQ 2675 1134 2675 2259 \nQ 2675 3391 2411 3762 \nQ 2147 4134 1753 4134 \nQ 1366 4134 1134 3806 \nQ 844 3388 844 2259 \nz\n\" transform=\"scale(0.015625)\"/>\n       </defs>\n       <use xlink:href=\"#ArialMT-30\"/>\n      </g>\n     </g>\n    </g>\n    <g id=\"xtick_2\">\n     <g id=\"line2d_2\">\n      <path d=\"M 208.798281 465.309375 \nL 208.798281 21.789375 \n\" clip-path=\"url(#p66f54d942b)\" style=\"fill: none; stroke: #ffffff; stroke-linecap: round\"/>\n     </g>\n     <g id=\"text_2\">\n      <!-- 5000 -->\n      <g style=\"fill: #262626\" transform=\"translate(196.564218 482.682969) scale(0.11 -0.11)\">\n       <defs>\n        <path id=\"ArialMT-35\" d=\"M 266 1200 \nL 856 1250 \nQ 922 819 1161 601 \nQ 1400 384 1738 384 \nQ 2144 384 2425 690 \nQ 2706 997 2706 1503 \nQ 2706 1984 2436 2262 \nQ 2166 2541 1728 2541 \nQ 1456 2541 1237 2417 \nQ 1019 2294 894 2097 \nL 366 2166 \nL 809 4519 \nL 3088 4519 \nL 3088 3981 \nL 1259 3981 \nL 1013 2750 \nQ 1425 3038 1878 3038 \nQ 2478 3038 2890 2622 \nQ 3303 2206 3303 1553 \nQ 3303 931 2941 478 \nQ 2500 -78 1738 -78 \nQ 1113 -78 717 272 \nQ 322 622 266 1200 \nz\n\" transform=\"scale(0.015625)\"/>\n       </defs>\n       <use xlink:href=\"#ArialMT-35\"/>\n       <use xlink:href=\"#ArialMT-30\" x=\"55.615234\"/>\n       <use xlink:href=\"#ArialMT-30\" x=\"111.230469\"/>\n       <use xlink:href=\"#ArialMT-30\" x=\"166.845703\"/>\n      </g>\n     </g>\n    </g>\n    <g id=\"xtick_3\">\n     <g id=\"line2d_3\">\n      <path d=\"M 332.472335 465.309375 \nL 332.472335 21.789375 \n\" clip-path=\"url(#p66f54d942b)\" style=\"fill: none; stroke: #ffffff; stroke-linecap: round\"/>\n     </g>\n     <g id=\"text_3\">\n      <!-- 10000 -->\n      <g style=\"fill: #262626\" transform=\"translate(317.179756 482.682969) scale(0.11 -0.11)\">\n       <defs>\n        <path id=\"ArialMT-31\" d=\"M 2384 0 \nL 1822 0 \nL 1822 3584 \nQ 1619 3391 1289 3197 \nQ 959 3003 697 2906 \nL 697 3450 \nQ 1169 3672 1522 3987 \nQ 1875 4303 2022 4600 \nL 2384 4600 \nL 2384 0 \nz\n\" transform=\"scale(0.015625)\"/>\n       </defs>\n       <use xlink:href=\"#ArialMT-31\"/>\n       <use xlink:href=\"#ArialMT-30\" x=\"55.615234\"/>\n       <use xlink:href=\"#ArialMT-30\" x=\"111.230469\"/>\n       <use xlink:href=\"#ArialMT-30\" x=\"166.845703\"/>\n       <use xlink:href=\"#ArialMT-30\" x=\"222.460938\"/>\n      </g>\n     </g>\n    </g>\n    <g id=\"xtick_4\">\n     <g id=\"line2d_4\">\n      <path d=\"M 456.146388 465.309375 \nL 456.146388 21.789375 \n\" clip-path=\"url(#p66f54d942b)\" style=\"fill: none; stroke: #ffffff; stroke-linecap: round\"/>\n     </g>\n     <g id=\"text_4\">\n      <!-- 15000 -->\n      <g style=\"fill: #262626\" transform=\"translate(440.85381 482.682969) scale(0.11 -0.11)\">\n       <use xlink:href=\"#ArialMT-31\"/>\n       <use xlink:href=\"#ArialMT-35\" x=\"55.615234\"/>\n       <use xlink:href=\"#ArialMT-30\" x=\"111.230469\"/>\n       <use xlink:href=\"#ArialMT-30\" x=\"166.845703\"/>\n       <use xlink:href=\"#ArialMT-30\" x=\"222.460938\"/>\n      </g>\n     </g>\n    </g>\n    <g id=\"xtick_5\">\n     <g id=\"line2d_5\">\n      <path d=\"M 579.820442 465.309375 \nL 579.820442 21.789375 \n\" clip-path=\"url(#p66f54d942b)\" style=\"fill: none; stroke: #ffffff; stroke-linecap: round\"/>\n     </g>\n     <g id=\"text_5\">\n      <!-- 20000 -->\n      <g style=\"fill: #262626\" transform=\"translate(564.527864 482.682969) scale(0.11 -0.11)\">\n       <defs>\n        <path id=\"ArialMT-32\" d=\"M 3222 541 \nL 3222 0 \nL 194 0 \nQ 188 203 259 391 \nQ 375 700 629 1000 \nQ 884 1300 1366 1694 \nQ 2113 2306 2375 2664 \nQ 2638 3022 2638 3341 \nQ 2638 3675 2398 3904 \nQ 2159 4134 1775 4134 \nQ 1369 4134 1125 3890 \nQ 881 3647 878 3216 \nL 300 3275 \nQ 359 3922 746 4261 \nQ 1134 4600 1788 4600 \nQ 2447 4600 2831 4234 \nQ 3216 3869 3216 3328 \nQ 3216 3053 3103 2787 \nQ 2991 2522 2730 2228 \nQ 2469 1934 1863 1422 \nQ 1356 997 1212 845 \nQ 1069 694 975 541 \nL 3222 541 \nz\n\" transform=\"scale(0.015625)\"/>\n       </defs>\n       <use xlink:href=\"#ArialMT-32\"/>\n       <use xlink:href=\"#ArialMT-30\" x=\"55.615234\"/>\n       <use xlink:href=\"#ArialMT-30\" x=\"111.230469\"/>\n       <use xlink:href=\"#ArialMT-30\" x=\"166.845703\"/>\n       <use xlink:href=\"#ArialMT-30\" x=\"222.460938\"/>\n      </g>\n     </g>\n    </g>\n    <g id=\"xtick_6\">\n     <g id=\"line2d_6\">\n      <path d=\"M 703.494496 465.309375 \nL 703.494496 21.789375 \n\" clip-path=\"url(#p66f54d942b)\" style=\"fill: none; stroke: #ffffff; stroke-linecap: round\"/>\n     </g>\n     <g id=\"text_6\">\n      <!-- 25000 -->\n      <g style=\"fill: #262626\" transform=\"translate(688.201918 482.682969) scale(0.11 -0.11)\">\n       <use xlink:href=\"#ArialMT-32\"/>\n       <use xlink:href=\"#ArialMT-35\" x=\"55.615234\"/>\n       <use xlink:href=\"#ArialMT-30\" x=\"111.230469\"/>\n       <use xlink:href=\"#ArialMT-30\" x=\"166.845703\"/>\n       <use xlink:href=\"#ArialMT-30\" x=\"222.460938\"/>\n      </g>\n     </g>\n    </g>\n    <g id=\"text_7\">\n     <!-- Студенттер -->\n     <g style=\"fill: #262626\" transform=\"translate(402.310938 497.604844) scale(0.12 -0.12)\">\n      <defs>\n       <path id=\"ArialMT-421\" d=\"M 3763 1606 \nL 4369 1453 \nQ 4178 706 3683 314 \nQ 3188 -78 2472 -78 \nQ 1731 -78 1267 223 \nQ 803 525 561 1097 \nQ 319 1669 319 2325 \nQ 319 3041 592 3573 \nQ 866 4106 1370 4382 \nQ 1875 4659 2481 4659 \nQ 3169 4659 3637 4309 \nQ 4106 3959 4291 3325 \nL 3694 3184 \nQ 3534 3684 3231 3912 \nQ 2928 4141 2469 4141 \nQ 1941 4141 1586 3887 \nQ 1231 3634 1087 3207 \nQ 944 2781 944 2328 \nQ 944 1744 1114 1308 \nQ 1284 872 1643 656 \nQ 2003 441 2422 441 \nQ 2931 441 3284 734 \nQ 3638 1028 3763 1606 \nz\n\" transform=\"scale(0.015625)\"/>\n       <path id=\"ArialMT-442\" d=\"M 119 3319 \nL 2816 3319 \nL 2816 2853 \nL 1747 2853 \nL 1747 0 \nL 1188 0 \nL 1188 2853 \nL 119 2853 \nL 119 3319 \nz\n\" transform=\"scale(0.015625)\"/>\n       <path id=\"ArialMT-443\" d=\"M 397 -1278 \nL 334 -750 \nQ 519 -800 656 -800 \nQ 844 -800 956 -737 \nQ 1069 -675 1141 -563 \nQ 1194 -478 1313 -144 \nQ 1328 -97 1363 -6 \nL 103 3319 \nL 709 3319 \nL 1400 1397 \nQ 1534 1031 1641 628 \nQ 1738 1016 1872 1384 \nL 2581 3319 \nL 3144 3319 \nL 1881 -56 \nQ 1678 -603 1566 -809 \nQ 1416 -1088 1222 -1217 \nQ 1028 -1347 759 -1347 \nQ 597 -1347 397 -1278 \nz\n\" transform=\"scale(0.015625)\"/>\n       <path id=\"ArialMT-434\" d=\"M 866 3319 \nL 3178 3319 \nL 3178 463 \nL 3538 463 \nL 3538 -941 \nL 3075 -941 \nL 3075 0 \nL 463 0 \nL 463 -941 \nL 0 -941 \nL 0 463 \nL 297 463 \nQ 891 1269 866 3319 \nz\nM 1334 2853 \nQ 1272 1238 834 463 \nL 2619 463 \nL 2619 2853 \nL 1334 2853 \nz\n\" transform=\"scale(0.015625)\"/>\n       <path id=\"ArialMT-435\" d=\"M 2694 1069 \nL 3275 997 \nQ 3138 488 2766 206 \nQ 2394 -75 1816 -75 \nQ 1088 -75 661 373 \nQ 234 822 234 1631 \nQ 234 2469 665 2931 \nQ 1097 3394 1784 3394 \nQ 2450 3394 2872 2941 \nQ 3294 2488 3294 1666 \nQ 3294 1616 3291 1516 \nL 816 1516 \nQ 847 969 1125 678 \nQ 1403 388 1819 388 \nQ 2128 388 2347 550 \nQ 2566 713 2694 1069 \nz\nM 847 1978 \nL 2700 1978 \nQ 2663 2397 2488 2606 \nQ 2219 2931 1791 2931 \nQ 1403 2931 1139 2672 \nQ 875 2413 847 1978 \nz\n\" transform=\"scale(0.015625)\"/>\n       <path id=\"ArialMT-43d\" d=\"M 425 3319 \nL 988 3319 \nL 988 1938 \nL 2547 1938 \nL 2547 3319 \nL 3109 3319 \nL 3109 0 \nL 2547 0 \nL 2547 1472 \nL 988 1472 \nL 988 0 \nL 425 0 \nL 425 3319 \nz\n\" transform=\"scale(0.015625)\"/>\n       <path id=\"ArialMT-440\" d=\"M 422 -1272 \nL 422 3319 \nL 934 3319 \nL 934 2888 \nQ 1116 3141 1344 3267 \nQ 1572 3394 1897 3394 \nQ 2322 3394 2647 3175 \nQ 2972 2956 3137 2557 \nQ 3303 2159 3303 1684 \nQ 3303 1175 3120 767 \nQ 2938 359 2589 142 \nQ 2241 -75 1856 -75 \nQ 1575 -75 1351 44 \nQ 1128 163 984 344 \nL 984 -1272 \nL 422 -1272 \nz\nM 931 1641 \nQ 931 1000 1190 694 \nQ 1450 388 1819 388 \nQ 2194 388 2461 705 \nQ 2728 1022 2728 1688 \nQ 2728 2322 2467 2637 \nQ 2206 2953 1844 2953 \nQ 1484 2953 1207 2617 \nQ 931 2281 931 1641 \nz\n\" transform=\"scale(0.015625)\"/>\n      </defs>\n      <use xlink:href=\"#ArialMT-421\"/>\n      <use xlink:href=\"#ArialMT-442\" x=\"72.216797\"/>\n      <use xlink:href=\"#ArialMT-443\" x=\"119.142578\"/>\n      <use xlink:href=\"#ArialMT-434\" x=\"165.767578\"/>\n      <use xlink:href=\"#ArialMT-435\" x=\"224.117188\"/>\n      <use xlink:href=\"#ArialMT-43d\" x=\"279.732422\"/>\n      <use xlink:href=\"#ArialMT-442\" x=\"334.957031\"/>\n      <use xlink:href=\"#ArialMT-442\" x=\"380.757812\"/>\n      <use xlink:href=\"#ArialMT-435\" x=\"425.433594\"/>\n      <use xlink:href=\"#ArialMT-440\" x=\"481.048828\"/>\n     </g>\n    </g>\n   </g>\n   <g id=\"matplotlib.axis_2\">\n    <g id=\"ytick_1\">\n     <g id=\"line2d_7\">\n      <path d=\"M 43.908438 465.309375 \nL 825.108438 465.309375 \n\" clip-path=\"url(#p66f54d942b)\" style=\"fill: none; stroke: #ffffff; stroke-linecap: round\"/>\n     </g>\n     <g id=\"text_8\">\n      <!-- 0 -->\n      <g style=\"fill: #262626\" transform=\"translate(28.291406 469.246172) scale(0.11 -0.11)\">\n       <use xlink:href=\"#ArialMT-30\"/>\n      </g>\n     </g>\n    </g>\n    <g id=\"ytick_2\">\n     <g id=\"line2d_8\">\n      <path d=\"M 43.908438 415.023661 \nL 825.108438 415.023661 \n\" clip-path=\"url(#p66f54d942b)\" style=\"fill: none; stroke: #ffffff; stroke-linecap: round\"/>\n     </g>\n     <g id=\"text_9\">\n      <!-- 5 -->\n      <g style=\"fill: #262626\" transform=\"translate(28.291406 418.960458) scale(0.11 -0.11)\">\n       <use xlink:href=\"#ArialMT-35\"/>\n      </g>\n     </g>\n    </g>\n    <g id=\"ytick_3\">\n     <g id=\"line2d_9\">\n      <path d=\"M 43.908438 364.737946 \nL 825.108438 364.737946 \n\" clip-path=\"url(#p66f54d942b)\" style=\"fill: none; stroke: #ffffff; stroke-linecap: round\"/>\n     </g>\n     <g id=\"text_10\">\n      <!-- 10 -->\n      <g style=\"fill: #262626\" transform=\"translate(22.174375 368.674743) scale(0.11 -0.11)\">\n       <use xlink:href=\"#ArialMT-31\"/>\n       <use xlink:href=\"#ArialMT-30\" x=\"55.615234\"/>\n      </g>\n     </g>\n    </g>\n    <g id=\"ytick_4\">\n     <g id=\"line2d_10\">\n      <path d=\"M 43.908438 314.452232 \nL 825.108438 314.452232 \n\" clip-path=\"url(#p66f54d942b)\" style=\"fill: none; stroke: #ffffff; stroke-linecap: round\"/>\n     </g>\n     <g id=\"text_11\">\n      <!-- 15 -->\n      <g style=\"fill: #262626\" transform=\"translate(22.174375 318.389029) scale(0.11 -0.11)\">\n       <use xlink:href=\"#ArialMT-31\"/>\n       <use xlink:href=\"#ArialMT-35\" x=\"55.615234\"/>\n      </g>\n     </g>\n    </g>\n    <g id=\"ytick_5\">\n     <g id=\"line2d_11\">\n      <path d=\"M 43.908438 264.166518 \nL 825.108438 264.166518 \n\" clip-path=\"url(#p66f54d942b)\" style=\"fill: none; stroke: #ffffff; stroke-linecap: round\"/>\n     </g>\n     <g id=\"text_12\">\n      <!-- 20 -->\n      <g style=\"fill: #262626\" transform=\"translate(22.174375 268.103315) scale(0.11 -0.11)\">\n       <use xlink:href=\"#ArialMT-32\"/>\n       <use xlink:href=\"#ArialMT-30\" x=\"55.615234\"/>\n      </g>\n     </g>\n    </g>\n    <g id=\"ytick_6\">\n     <g id=\"line2d_12\">\n      <path d=\"M 43.908438 213.880804 \nL 825.108438 213.880804 \n\" clip-path=\"url(#p66f54d942b)\" style=\"fill: none; stroke: #ffffff; stroke-linecap: round\"/>\n     </g>\n     <g id=\"text_13\">\n      <!-- 25 -->\n      <g style=\"fill: #262626\" transform=\"translate(22.174375 217.8176) scale(0.11 -0.11)\">\n       <use xlink:href=\"#ArialMT-32\"/>\n       <use xlink:href=\"#ArialMT-35\" x=\"55.615234\"/>\n      </g>\n     </g>\n    </g>\n    <g id=\"ytick_7\">\n     <g id=\"line2d_13\">\n      <path d=\"M 43.908438 163.595089 \nL 825.108438 163.595089 \n\" clip-path=\"url(#p66f54d942b)\" style=\"fill: none; stroke: #ffffff; stroke-linecap: round\"/>\n     </g>\n     <g id=\"text_14\">\n      <!-- 30 -->\n      <g style=\"fill: #262626\" transform=\"translate(22.174375 167.531886) scale(0.11 -0.11)\">\n       <defs>\n        <path id=\"ArialMT-33\" d=\"M 269 1209 \nL 831 1284 \nQ 928 806 1161 595 \nQ 1394 384 1728 384 \nQ 2125 384 2398 659 \nQ 2672 934 2672 1341 \nQ 2672 1728 2419 1979 \nQ 2166 2231 1775 2231 \nQ 1616 2231 1378 2169 \nL 1441 2663 \nQ 1497 2656 1531 2656 \nQ 1891 2656 2178 2843 \nQ 2466 3031 2466 3422 \nQ 2466 3731 2256 3934 \nQ 2047 4138 1716 4138 \nQ 1388 4138 1169 3931 \nQ 950 3725 888 3313 \nL 325 3413 \nQ 428 3978 793 4289 \nQ 1159 4600 1703 4600 \nQ 2078 4600 2393 4439 \nQ 2709 4278 2876 4000 \nQ 3044 3722 3044 3409 \nQ 3044 3113 2884 2869 \nQ 2725 2625 2413 2481 \nQ 2819 2388 3044 2092 \nQ 3269 1797 3269 1353 \nQ 3269 753 2831 336 \nQ 2394 -81 1725 -81 \nQ 1122 -81 723 278 \nQ 325 638 269 1209 \nz\n\" transform=\"scale(0.015625)\"/>\n       </defs>\n       <use xlink:href=\"#ArialMT-33\"/>\n       <use xlink:href=\"#ArialMT-30\" x=\"55.615234\"/>\n      </g>\n     </g>\n    </g>\n    <g id=\"ytick_8\">\n     <g id=\"line2d_14\">\n      <path d=\"M 43.908438 113.309375 \nL 825.108438 113.309375 \n\" clip-path=\"url(#p66f54d942b)\" style=\"fill: none; stroke: #ffffff; stroke-linecap: round\"/>\n     </g>\n     <g id=\"text_15\">\n      <!-- 35 -->\n      <g style=\"fill: #262626\" transform=\"translate(22.174375 117.246172) scale(0.11 -0.11)\">\n       <use xlink:href=\"#ArialMT-33\"/>\n       <use xlink:href=\"#ArialMT-35\" x=\"55.615234\"/>\n      </g>\n     </g>\n    </g>\n    <g id=\"ytick_9\">\n     <g id=\"line2d_15\">\n      <path d=\"M 43.908438 63.023661 \nL 825.108438 63.023661 \n\" clip-path=\"url(#p66f54d942b)\" style=\"fill: none; stroke: #ffffff; stroke-linecap: round\"/>\n     </g>\n     <g id=\"text_16\">\n      <!-- 40 -->\n      <g style=\"fill: #262626\" transform=\"translate(22.174375 66.960458) scale(0.11 -0.11)\">\n       <defs>\n        <path id=\"ArialMT-34\" d=\"M 2069 0 \nL 2069 1097 \nL 81 1097 \nL 81 1613 \nL 2172 4581 \nL 2631 4581 \nL 2631 1613 \nL 3250 1613 \nL 3250 1097 \nL 2631 1097 \nL 2631 0 \nL 2069 0 \nz\nM 2069 1613 \nL 2069 3678 \nL 634 1613 \nL 2069 1613 \nz\n\" transform=\"scale(0.015625)\"/>\n       </defs>\n       <use xlink:href=\"#ArialMT-34\"/>\n       <use xlink:href=\"#ArialMT-30\" x=\"55.615234\"/>\n      </g>\n     </g>\n    </g>\n    <g id=\"text_17\">\n     <!-- Жиілік -->\n     <g style=\"fill: #262626\" transform=\"translate(15.789375 261.2325) rotate(-90) scale(0.12 -0.12)\">\n      <defs>\n       <path id=\"ArialMT-416\" d=\"M 3266 4581 \nL 3266 2575 \nQ 3713 2575 3880 2739 \nQ 4047 2903 4306 3509 \nQ 4497 3959 4620 4145 \nQ 4744 4331 4972 4457 \nQ 5200 4584 5472 4584 \nQ 5769 4584 5841 4578 \nL 5841 4053 \nQ 5813 4053 5722 4056 \nQ 5622 4059 5600 4059 \nQ 5309 4059 5169 3919 \nQ 5025 3778 4841 3319 \nQ 4641 2822 4494 2642 \nQ 4347 2463 4069 2344 \nQ 4519 2219 4941 1525 \nL 5884 0 \nL 5134 0 \nL 4369 1244 \nQ 4063 1738 3853 1941 \nQ 3644 2144 3266 2144 \nL 3266 0 \nL 2644 0 \nL 2644 2144 \nQ 2344 2144 2114 1986 \nQ 1884 1828 1578 1306 \nL 1541 1244 \nL 775 0 \nL 22 0 \nL 966 1525 \nQ 1397 2222 1841 2344 \nQ 1594 2444 1437 2611 \nQ 1281 2778 1066 3319 \nQ 869 3809 728 3934 \nQ 588 4059 309 4059 \nL 66 4053 \nL 66 4578 \nQ 100 4584 416 4584 \nQ 716 4584 936 4461 \nQ 1156 4338 1281 4152 \nQ 1406 3966 1603 3509 \nQ 1866 2894 2030 2737 \nQ 2194 2581 2644 2575 \nL 2644 4581 \nL 3266 4581 \nz\n\" transform=\"scale(0.015625)\"/>\n       <path id=\"ArialMT-438\" d=\"M 422 3319 \nL 984 3319 \nL 984 788 \nL 2544 3319 \nL 3150 3319 \nL 3150 0 \nL 2588 0 \nL 2588 2516 \nL 1028 0 \nL 422 0 \nL 422 3319 \nz\n\" transform=\"scale(0.015625)\"/>\n       <path id=\"ArialMT-456\" d=\"M 425 3934 \nL 425 4581 \nL 988 4581 \nL 988 3934 \nL 425 3934 \nz\nM 425 0 \nL 425 3319 \nL 988 3319 \nL 988 0 \nL 425 0 \nz\n\" transform=\"scale(0.015625)\"/>\n       <path id=\"ArialMT-43b\" d=\"M 697 3319 \nL 3309 3319 \nL 3309 0 \nL 2750 0 \nL 2750 2853 \nL 1259 2853 \nL 1259 1200 \nQ 1259 622 1221 437 \nQ 1184 253 1015 115 \nQ 847 -22 528 -22 \nQ 331 -22 75 3 \nL 75 472 \nL 322 472 \nQ 497 472 572 508 \nQ 647 544 672 622 \nQ 697 700 697 1131 \nL 697 3319 \nz\n\" transform=\"scale(0.015625)\"/>\n       <path id=\"ArialMT-43a\" d=\"M 419 3319 \nL 981 3319 \nL 981 1884 \nQ 1250 1884 1358 1987 \nQ 1466 2091 1675 2588 \nQ 1841 2981 1944 3106 \nQ 2047 3231 2181 3275 \nQ 2316 3319 2613 3319 \nL 2725 3319 \nL 2725 2853 \nL 2569 2856 \nQ 2347 2856 2284 2791 \nQ 2219 2722 2084 2381 \nQ 1956 2056 1850 1931 \nQ 1744 1806 1522 1703 \nQ 1884 1606 2234 1028 \nL 2850 0 \nL 2231 0 \nL 1631 1028 \nQ 1447 1338 1309 1436 \nQ 1172 1534 981 1534 \nL 981 0 \nL 419 0 \nL 419 3319 \nz\n\" transform=\"scale(0.015625)\"/>\n      </defs>\n      <use xlink:href=\"#ArialMT-416\"/>\n      <use xlink:href=\"#ArialMT-438\" x=\"92.333984\"/>\n      <use xlink:href=\"#ArialMT-456\" x=\"148.193359\"/>\n      <use xlink:href=\"#ArialMT-43b\" x=\"170.410156\"/>\n      <use xlink:href=\"#ArialMT-456\" x=\"228.759766\"/>\n      <use xlink:href=\"#ArialMT-43a\" x=\"250.976562\"/>\n     </g>\n    </g>\n   </g>\n   <g id=\"patch_3\">\n    <path d=\"M 79.417528 465.309375 \nL 93.621165 465.309375 \nL 93.621165 455.252232 \nL 79.417528 455.252232 \nz\n\" clip-path=\"url(#p66f54d942b)\" style=\"fill: #4c72b0; stroke: #ffffff; stroke-linejoin: miter\"/>\n   </g>\n   <g id=\"patch_4\">\n    <path d=\"M 93.621165 465.309375 \nL 107.824801 465.309375 \nL 107.824801 455.252232 \nL 93.621165 455.252232 \nz\n\" clip-path=\"url(#p66f54d942b)\" style=\"fill: #4c72b0; stroke: #ffffff; stroke-linejoin: miter\"/>\n   </g>\n   <g id=\"patch_5\">\n    <path d=\"M 107.824801 465.309375 \nL 122.028438 465.309375 \nL 122.028438 445.195089 \nL 107.824801 445.195089 \nz\n\" clip-path=\"url(#p66f54d942b)\" style=\"fill: #4c72b0; stroke: #ffffff; stroke-linejoin: miter\"/>\n   </g>\n   <g id=\"patch_6\">\n    <path d=\"M 122.028438 465.309375 \nL 136.232074 465.309375 \nL 136.232074 445.195089 \nL 122.028438 445.195089 \nz\n\" clip-path=\"url(#p66f54d942b)\" style=\"fill: #4c72b0; stroke: #ffffff; stroke-linejoin: miter\"/>\n   </g>\n   <g id=\"patch_7\">\n    <path d=\"M 136.232074 465.309375 \nL 150.43571 465.309375 \nL 150.43571 445.195089 \nL 136.232074 445.195089 \nz\n\" clip-path=\"url(#p66f54d942b)\" style=\"fill: #4c72b0; stroke: #ffffff; stroke-linejoin: miter\"/>\n   </g>\n   <g id=\"patch_8\">\n    <path d=\"M 150.43571 465.309375 \nL 164.639347 465.309375 \nL 164.639347 445.195089 \nL 150.43571 445.195089 \nz\n\" clip-path=\"url(#p66f54d942b)\" style=\"fill: #4c72b0; stroke: #ffffff; stroke-linejoin: miter\"/>\n   </g>\n   <g id=\"patch_9\">\n    <path d=\"M 164.639347 465.309375 \nL 178.842983 465.309375 \nL 178.842983 435.137946 \nL 164.639347 435.137946 \nz\n\" clip-path=\"url(#p66f54d942b)\" style=\"fill: #4c72b0; stroke: #ffffff; stroke-linejoin: miter\"/>\n   </g>\n   <g id=\"patch_10\">\n    <path d=\"M 178.842983 465.309375 \nL 193.046619 465.309375 \nL 193.046619 435.137946 \nL 178.842983 435.137946 \nz\n\" clip-path=\"url(#p66f54d942b)\" style=\"fill: #4c72b0; stroke: #ffffff; stroke-linejoin: miter\"/>\n   </g>\n   <g id=\"patch_11\">\n    <path d=\"M 193.046619 465.309375 \nL 207.250256 465.309375 \nL 207.250256 425.080804 \nL 193.046619 425.080804 \nz\n\" clip-path=\"url(#p66f54d942b)\" style=\"fill: #4c72b0; stroke: #ffffff; stroke-linejoin: miter\"/>\n   </g>\n   <g id=\"patch_12\">\n    <path d=\"M 207.250256 465.309375 \nL 221.453892 465.309375 \nL 221.453892 404.966518 \nL 207.250256 404.966518 \nz\n\" clip-path=\"url(#p66f54d942b)\" style=\"fill: #4c72b0; stroke: #ffffff; stroke-linejoin: miter\"/>\n   </g>\n   <g id=\"patch_13\">\n    <path d=\"M 221.453892 465.309375 \nL 235.657528 465.309375 \nL 235.657528 435.137946 \nL 221.453892 435.137946 \nz\n\" clip-path=\"url(#p66f54d942b)\" style=\"fill: #4c72b0; stroke: #ffffff; stroke-linejoin: miter\"/>\n   </g>\n   <g id=\"patch_14\">\n    <path d=\"M 235.657528 465.309375 \nL 249.861165 465.309375 \nL 249.861165 364.737946 \nL 235.657528 364.737946 \nz\n\" clip-path=\"url(#p66f54d942b)\" style=\"fill: #4c72b0; stroke: #ffffff; stroke-linejoin: miter\"/>\n   </g>\n   <g id=\"patch_15\">\n    <path d=\"M 249.861165 465.309375 \nL 264.064801 465.309375 \nL 264.064801 334.566518 \nL 249.861165 334.566518 \nz\n\" clip-path=\"url(#p66f54d942b)\" style=\"fill: #4c72b0; stroke: #ffffff; stroke-linejoin: miter\"/>\n   </g>\n   <g id=\"patch_16\">\n    <path d=\"M 264.064801 465.309375 \nL 278.268438 465.309375 \nL 278.268438 344.623661 \nL 264.064801 344.623661 \nz\n\" clip-path=\"url(#p66f54d942b)\" style=\"fill: #4c72b0; stroke: #ffffff; stroke-linejoin: miter\"/>\n   </g>\n   <g id=\"patch_17\">\n    <path d=\"M 278.268438 465.309375 \nL 292.472074 465.309375 \nL 292.472074 344.623661 \nL 278.268438 344.623661 \nz\n\" clip-path=\"url(#p66f54d942b)\" style=\"fill: #4c72b0; stroke: #ffffff; stroke-linejoin: miter\"/>\n   </g>\n   <g id=\"patch_18\">\n    <path d=\"M 292.472074 465.309375 \nL 306.67571 465.309375 \nL 306.67571 314.452232 \nL 292.472074 314.452232 \nz\n\" clip-path=\"url(#p66f54d942b)\" style=\"fill: #4c72b0; stroke: #ffffff; stroke-linejoin: miter\"/>\n   </g>\n   <g id=\"patch_19\">\n    <path d=\"M 306.67571 465.309375 \nL 320.879347 465.309375 \nL 320.879347 264.166518 \nL 306.67571 264.166518 \nz\n\" clip-path=\"url(#p66f54d942b)\" style=\"fill: #4c72b0; stroke: #ffffff; stroke-linejoin: miter\"/>\n   </g>\n   <g id=\"patch_20\">\n    <path d=\"M 320.879347 465.309375 \nL 335.082983 465.309375 \nL 335.082983 304.395089 \nL 320.879347 304.395089 \nz\n\" clip-path=\"url(#p66f54d942b)\" style=\"fill: #4c72b0; stroke: #ffffff; stroke-linejoin: miter\"/>\n   </g>\n   <g id=\"patch_21\">\n    <path d=\"M 335.082983 465.309375 \nL 349.286619 465.309375 \nL 349.286619 193.766518 \nL 335.082983 193.766518 \nz\n\" clip-path=\"url(#p66f54d942b)\" style=\"fill: #4c72b0; stroke: #ffffff; stroke-linejoin: miter\"/>\n   </g>\n   <g id=\"patch_22\">\n    <path d=\"M 349.286619 465.309375 \nL 363.490256 465.309375 \nL 363.490256 284.280804 \nL 349.286619 284.280804 \nz\n\" clip-path=\"url(#p66f54d942b)\" style=\"fill: #4c72b0; stroke: #ffffff; stroke-linejoin: miter\"/>\n   </g>\n   <g id=\"patch_23\">\n    <path d=\"M 363.490256 465.309375 \nL 377.693892 465.309375 \nL 377.693892 93.195089 \nL 363.490256 93.195089 \nz\n\" clip-path=\"url(#p66f54d942b)\" style=\"fill: #4c72b0; stroke: #ffffff; stroke-linejoin: miter\"/>\n   </g>\n   <g id=\"patch_24\">\n    <path d=\"M 377.693892 465.309375 \nL 391.897528 465.309375 \nL 391.897528 254.109375 \nL 377.693892 254.109375 \nz\n\" clip-path=\"url(#p66f54d942b)\" style=\"fill: #4c72b0; stroke: #ffffff; stroke-linejoin: miter\"/>\n   </g>\n   <g id=\"patch_25\">\n    <path d=\"M 391.897528 465.309375 \nL 406.101165 465.309375 \nL 406.101165 123.366518 \nL 391.897528 123.366518 \nz\n\" clip-path=\"url(#p66f54d942b)\" style=\"fill: #4c72b0; stroke: #ffffff; stroke-linejoin: miter\"/>\n   </g>\n   <g id=\"patch_26\">\n    <path d=\"M 406.101165 465.309375 \nL 420.304801 465.309375 \nL 420.304801 42.909375 \nL 406.101165 42.909375 \nz\n\" clip-path=\"url(#p66f54d942b)\" style=\"fill: #4c72b0; stroke: #ffffff; stroke-linejoin: miter\"/>\n   </g>\n   <g id=\"patch_27\">\n    <path d=\"M 420.304801 465.309375 \nL 434.508438 465.309375 \nL 434.508438 163.595089 \nL 420.304801 163.595089 \nz\n\" clip-path=\"url(#p66f54d942b)\" style=\"fill: #4c72b0; stroke: #ffffff; stroke-linejoin: miter\"/>\n   </g>\n   <g id=\"patch_28\">\n    <path d=\"M 434.508438 465.309375 \nL 448.712074 465.309375 \nL 448.712074 133.423661 \nL 434.508438 133.423661 \nz\n\" clip-path=\"url(#p66f54d942b)\" style=\"fill: #4c72b0; stroke: #ffffff; stroke-linejoin: miter\"/>\n   </g>\n   <g id=\"patch_29\">\n    <path d=\"M 448.712074 465.309375 \nL 462.91571 465.309375 \nL 462.91571 163.595089 \nL 448.712074 163.595089 \nz\n\" clip-path=\"url(#p66f54d942b)\" style=\"fill: #4c72b0; stroke: #ffffff; stroke-linejoin: miter\"/>\n   </g>\n   <g id=\"patch_30\">\n    <path d=\"M 462.91571 465.309375 \nL 477.119347 465.309375 \nL 477.119347 163.595089 \nL 462.91571 163.595089 \nz\n\" clip-path=\"url(#p66f54d942b)\" style=\"fill: #4c72b0; stroke: #ffffff; stroke-linejoin: miter\"/>\n   </g>\n   <g id=\"patch_31\">\n    <path d=\"M 477.119347 465.309375 \nL 491.322983 465.309375 \nL 491.322983 143.480804 \nL 477.119347 143.480804 \nz\n\" clip-path=\"url(#p66f54d942b)\" style=\"fill: #4c72b0; stroke: #ffffff; stroke-linejoin: miter\"/>\n   </g>\n   <g id=\"patch_32\">\n    <path d=\"M 491.322983 465.309375 \nL 505.526619 465.309375 \nL 505.526619 103.252232 \nL 491.322983 103.252232 \nz\n\" clip-path=\"url(#p66f54d942b)\" style=\"fill: #4c72b0; stroke: #ffffff; stroke-linejoin: miter\"/>\n   </g>\n   <g id=\"patch_33\">\n    <path d=\"M 505.526619 465.309375 \nL 519.730256 465.309375 \nL 519.730256 163.595089 \nL 505.526619 163.595089 \nz\n\" clip-path=\"url(#p66f54d942b)\" style=\"fill: #4c72b0; stroke: #ffffff; stroke-linejoin: miter\"/>\n   </g>\n   <g id=\"patch_34\">\n    <path d=\"M 519.730256 465.309375 \nL 533.933892 465.309375 \nL 533.933892 233.995089 \nL 519.730256 233.995089 \nz\n\" clip-path=\"url(#p66f54d942b)\" style=\"fill: #4c72b0; stroke: #ffffff; stroke-linejoin: miter\"/>\n   </g>\n   <g id=\"patch_35\">\n    <path d=\"M 533.933892 465.309375 \nL 548.137528 465.309375 \nL 548.137528 264.166518 \nL 533.933892 264.166518 \nz\n\" clip-path=\"url(#p66f54d942b)\" style=\"fill: #4c72b0; stroke: #ffffff; stroke-linejoin: miter\"/>\n   </g>\n   <g id=\"patch_36\">\n    <path d=\"M 548.137528 465.309375 \nL 562.341165 465.309375 \nL 562.341165 203.823661 \nL 548.137528 203.823661 \nz\n\" clip-path=\"url(#p66f54d942b)\" style=\"fill: #4c72b0; stroke: #ffffff; stroke-linejoin: miter\"/>\n   </g>\n   <g id=\"patch_37\">\n    <path d=\"M 562.341165 465.309375 \nL 576.544801 465.309375 \nL 576.544801 193.766518 \nL 562.341165 193.766518 \nz\n\" clip-path=\"url(#p66f54d942b)\" style=\"fill: #4c72b0; stroke: #ffffff; stroke-linejoin: miter\"/>\n   </g>\n   <g id=\"patch_38\">\n    <path d=\"M 576.544801 465.309375 \nL 590.748438 465.309375 \nL 590.748438 294.337946 \nL 576.544801 294.337946 \nz\n\" clip-path=\"url(#p66f54d942b)\" style=\"fill: #4c72b0; stroke: #ffffff; stroke-linejoin: miter\"/>\n   </g>\n   <g id=\"patch_39\">\n    <path d=\"M 590.748438 465.309375 \nL 604.952074 465.309375 \nL 604.952074 284.280804 \nL 590.748438 284.280804 \nz\n\" clip-path=\"url(#p66f54d942b)\" style=\"fill: #4c72b0; stroke: #ffffff; stroke-linejoin: miter\"/>\n   </g>\n   <g id=\"patch_40\">\n    <path d=\"M 604.952074 465.309375 \nL 619.15571 465.309375 \nL 619.15571 354.680804 \nL 604.952074 354.680804 \nz\n\" clip-path=\"url(#p66f54d942b)\" style=\"fill: #4c72b0; stroke: #ffffff; stroke-linejoin: miter\"/>\n   </g>\n   <g id=\"patch_41\">\n    <path d=\"M 619.15571 465.309375 \nL 633.359347 465.309375 \nL 633.359347 364.737946 \nL 619.15571 364.737946 \nz\n\" clip-path=\"url(#p66f54d942b)\" style=\"fill: #4c72b0; stroke: #ffffff; stroke-linejoin: miter\"/>\n   </g>\n   <g id=\"patch_42\">\n    <path d=\"M 633.359347 465.309375 \nL 647.562983 465.309375 \nL 647.562983 334.566518 \nL 633.359347 334.566518 \nz\n\" clip-path=\"url(#p66f54d942b)\" style=\"fill: #4c72b0; stroke: #ffffff; stroke-linejoin: miter\"/>\n   </g>\n   <g id=\"patch_43\">\n    <path d=\"M 647.562983 465.309375 \nL 661.766619 465.309375 \nL 661.766619 425.080804 \nL 647.562983 425.080804 \nz\n\" clip-path=\"url(#p66f54d942b)\" style=\"fill: #4c72b0; stroke: #ffffff; stroke-linejoin: miter\"/>\n   </g>\n   <g id=\"patch_44\">\n    <path d=\"M 661.766619 465.309375 \nL 675.970256 465.309375 \nL 675.970256 394.909375 \nL 661.766619 394.909375 \nz\n\" clip-path=\"url(#p66f54d942b)\" style=\"fill: #4c72b0; stroke: #ffffff; stroke-linejoin: miter\"/>\n   </g>\n   <g id=\"patch_45\">\n    <path d=\"M 675.970256 465.309375 \nL 690.173892 465.309375 \nL 690.173892 415.023661 \nL 675.970256 415.023661 \nz\n\" clip-path=\"url(#p66f54d942b)\" style=\"fill: #4c72b0; stroke: #ffffff; stroke-linejoin: miter\"/>\n   </g>\n   <g id=\"patch_46\">\n    <path d=\"M 690.173892 465.309375 \nL 704.377528 465.309375 \nL 704.377528 394.909375 \nL 690.173892 394.909375 \nz\n\" clip-path=\"url(#p66f54d942b)\" style=\"fill: #4c72b0; stroke: #ffffff; stroke-linejoin: miter\"/>\n   </g>\n   <g id=\"patch_47\">\n    <path d=\"M 704.377528 465.309375 \nL 718.581165 465.309375 \nL 718.581165 425.080804 \nL 704.377528 425.080804 \nz\n\" clip-path=\"url(#p66f54d942b)\" style=\"fill: #4c72b0; stroke: #ffffff; stroke-linejoin: miter\"/>\n   </g>\n   <g id=\"patch_48\">\n    <path d=\"M 718.581165 465.309375 \nL 732.784801 465.309375 \nL 732.784801 445.195089 \nL 718.581165 445.195089 \nz\n\" clip-path=\"url(#p66f54d942b)\" style=\"fill: #4c72b0; stroke: #ffffff; stroke-linejoin: miter\"/>\n   </g>\n   <g id=\"patch_49\">\n    <path d=\"M 732.784801 465.309375 \nL 746.988438 465.309375 \nL 746.988438 415.023661 \nL 732.784801 415.023661 \nz\n\" clip-path=\"url(#p66f54d942b)\" style=\"fill: #4c72b0; stroke: #ffffff; stroke-linejoin: miter\"/>\n   </g>\n   <g id=\"patch_50\">\n    <path d=\"M 746.988438 465.309375 \nL 761.192074 465.309375 \nL 761.192074 435.137946 \nL 746.988438 435.137946 \nz\n\" clip-path=\"url(#p66f54d942b)\" style=\"fill: #4c72b0; stroke: #ffffff; stroke-linejoin: miter\"/>\n   </g>\n   <g id=\"patch_51\">\n    <path d=\"M 761.192074 465.309375 \nL 775.39571 465.309375 \nL 775.39571 465.309375 \nL 761.192074 465.309375 \nz\n\" clip-path=\"url(#p66f54d942b)\" style=\"fill: #4c72b0; stroke: #ffffff; stroke-linejoin: miter\"/>\n   </g>\n   <g id=\"patch_52\">\n    <path d=\"M 775.39571 465.309375 \nL 789.599347 465.309375 \nL 789.599347 455.252232 \nL 775.39571 455.252232 \nz\n\" clip-path=\"url(#p66f54d942b)\" style=\"fill: #4c72b0; stroke: #ffffff; stroke-linejoin: miter\"/>\n   </g>\n   <g id=\"patch_53\">\n    <path d=\"M 43.908438 465.309375 \nL 43.908438 21.789375 \n\" style=\"fill: none; stroke: #ffffff; stroke-width: 1.25; stroke-linejoin: miter; stroke-linecap: square\"/>\n   </g>\n   <g id=\"patch_54\">\n    <path d=\"M 825.108438 465.309375 \nL 825.108438 21.789375 \n\" style=\"fill: none; stroke: #ffffff; stroke-width: 1.25; stroke-linejoin: miter; stroke-linecap: square\"/>\n   </g>\n   <g id=\"patch_55\">\n    <path d=\"M 43.908438 465.309375 \nL 825.108438 465.309375 \n\" style=\"fill: none; stroke: #ffffff; stroke-width: 1.25; stroke-linejoin: miter; stroke-linecap: square\"/>\n   </g>\n   <g id=\"patch_56\">\n    <path d=\"M 43.908438 21.789375 \nL 825.108438 21.789375 \n\" style=\"fill: none; stroke: #ffffff; stroke-width: 1.25; stroke-linejoin: miter; stroke-linecap: square\"/>\n   </g>\n   <g id=\"text_18\">\n    <!-- Универге кунделикти келетин адамдар саны -->\n    <g style=\"fill: #262626\" transform=\"translate(310.85875 15.789375) scale(0.12 -0.12)\">\n     <defs>\n      <path id=\"ArialMT-423\" d=\"M 31 4581 \nL 644 4581 \nL 2138 1775 \nL 3444 4581 \nL 4047 4581 \nL 2328 1019 \nQ 2006 350 1800 143 \nQ 1594 -63 1209 -63 \nQ 975 -63 634 47 \nL 634 566 \nQ 878 425 1150 425 \nQ 1372 425 1533 567 \nQ 1694 709 1888 1216 \nL 31 4581 \nz\n\" transform=\"scale(0.015625)\"/>\n      <path id=\"ArialMT-432\" d=\"M 425 3319 \nL 1722 3319 \nQ 2200 3319 2433 3239 \nQ 2666 3159 2833 2946 \nQ 3000 2734 3000 2438 \nQ 3000 2200 2901 2023 \nQ 2803 1847 2606 1728 \nQ 2841 1650 2995 1436 \nQ 3150 1222 3150 928 \nQ 3119 456 2812 228 \nQ 2506 0 1922 0 \nL 425 0 \nL 425 3319 \nz\nM 988 1922 \nL 1588 1922 \nQ 1947 1922 2081 1959 \nQ 2216 1997 2322 2111 \nQ 2428 2225 2428 2384 \nQ 2428 2647 2242 2750 \nQ 2056 2853 1606 2853 \nL 988 2853 \nL 988 1922 \nz\nM 988 463 \nL 1728 463 \nQ 2206 463 2384 573 \nQ 2563 684 2572 956 \nQ 2572 1116 2469 1252 \nQ 2366 1388 2200 1423 \nQ 2034 1459 1669 1459 \nL 988 1459 \nL 988 463 \nz\n\" transform=\"scale(0.015625)\"/>\n      <path id=\"ArialMT-433\" d=\"M 425 3319 \nL 2334 3319 \nL 2334 2853 \nL 988 2853 \nL 988 0 \nL 425 0 \nL 425 3319 \nz\n\" transform=\"scale(0.015625)\"/>\n      <path id=\"ArialMT-20\" transform=\"scale(0.015625)\"/>\n      <path id=\"ArialMT-430\" d=\"M 2588 409 \nQ 2275 144 1986 34 \nQ 1697 -75 1366 -75 \nQ 819 -75 525 192 \nQ 231 459 231 875 \nQ 231 1119 342 1320 \nQ 453 1522 633 1644 \nQ 813 1766 1038 1828 \nQ 1203 1872 1538 1913 \nQ 2219 1994 2541 2106 \nQ 2544 2222 2544 2253 \nQ 2544 2597 2384 2738 \nQ 2169 2928 1744 2928 \nQ 1347 2928 1158 2789 \nQ 969 2650 878 2297 \nL 328 2372 \nQ 403 2725 575 2942 \nQ 747 3159 1072 3276 \nQ 1397 3394 1825 3394 \nQ 2250 3394 2515 3294 \nQ 2781 3194 2906 3042 \nQ 3031 2891 3081 2659 \nQ 3109 2516 3109 2141 \nL 3109 1391 \nQ 3109 606 3145 398 \nQ 3181 191 3288 0 \nL 2700 0 \nQ 2613 175 2588 409 \nz\nM 2541 1666 \nQ 2234 1541 1622 1453 \nQ 1275 1403 1131 1340 \nQ 988 1278 909 1158 \nQ 831 1038 831 891 \nQ 831 666 1001 516 \nQ 1172 366 1500 366 \nQ 1825 366 2078 508 \nQ 2331 650 2450 897 \nQ 2541 1088 2541 1459 \nL 2541 1666 \nz\n\" transform=\"scale(0.015625)\"/>\n      <path id=\"ArialMT-43c\" d=\"M 438 3319 \nL 1313 3319 \nL 2184 663 \nL 3153 3319 \nL 3963 3319 \nL 3963 0 \nL 3400 0 \nL 3400 2672 \nL 2419 0 \nL 1916 0 \nL 988 2800 \nL 988 0 \nL 438 0 \nL 438 3319 \nz\n\" transform=\"scale(0.015625)\"/>\n      <path id=\"ArialMT-441\" d=\"M 2588 1216 \nL 3141 1144 \nQ 3050 572 2676 248 \nQ 2303 -75 1759 -75 \nQ 1078 -75 664 370 \nQ 250 816 250 1647 \nQ 250 2184 428 2587 \nQ 606 2991 970 3192 \nQ 1334 3394 1763 3394 \nQ 2303 3394 2647 3120 \nQ 2991 2847 3088 2344 \nL 2541 2259 \nQ 2463 2594 2264 2762 \nQ 2066 2931 1784 2931 \nQ 1359 2931 1093 2626 \nQ 828 2322 828 1663 \nQ 828 994 1084 691 \nQ 1341 388 1753 388 \nQ 2084 388 2306 591 \nQ 2528 794 2588 1216 \nz\n\" transform=\"scale(0.015625)\"/>\n      <path id=\"ArialMT-44b\" d=\"M 3581 3319 \nL 4144 3319 \nL 4144 0 \nL 3581 0 \nL 3581 3319 \nz\nM 434 3319 \nL 997 3319 \nL 997 2022 \nL 1709 2022 \nQ 2406 2022 2782 1751 \nQ 3159 1481 3159 1006 \nQ 3159 591 2845 295 \nQ 2531 0 1841 0 \nL 434 0 \nL 434 3319 \nz\nM 997 463 \nL 1588 463 \nQ 2122 463 2350 594 \nQ 2578 725 2578 1003 \nQ 2578 1219 2409 1387 \nQ 2241 1556 1663 1556 \nL 997 1556 \nL 997 463 \nz\n\" transform=\"scale(0.015625)\"/>\n     </defs>\n     <use xlink:href=\"#ArialMT-423\"/>\n     <use xlink:href=\"#ArialMT-43d\" x=\"59.025391\"/>\n     <use xlink:href=\"#ArialMT-438\" x=\"114.25\"/>\n     <use xlink:href=\"#ArialMT-432\" x=\"170.109375\"/>\n     <use xlink:href=\"#ArialMT-435\" x=\"222.109375\"/>\n     <use xlink:href=\"#ArialMT-440\" x=\"277.724609\"/>\n     <use xlink:href=\"#ArialMT-433\" x=\"333.339844\"/>\n     <use xlink:href=\"#ArialMT-435\" x=\"367.564453\"/>\n     <use xlink:href=\"#ArialMT-20\" x=\"423.179688\"/>\n     <use xlink:href=\"#ArialMT-43a\" x=\"450.962891\"/>\n     <use xlink:href=\"#ArialMT-443\" x=\"495.837891\"/>\n     <use xlink:href=\"#ArialMT-43d\" x=\"545.837891\"/>\n     <use xlink:href=\"#ArialMT-434\" x=\"601.0625\"/>\n     <use xlink:href=\"#ArialMT-435\" x=\"659.412109\"/>\n     <use xlink:href=\"#ArialMT-43b\" x=\"711.652344\"/>\n     <use xlink:href=\"#ArialMT-438\" x=\"770.001953\"/>\n     <use xlink:href=\"#ArialMT-43a\" x=\"825.861328\"/>\n     <use xlink:href=\"#ArialMT-442\" x=\"870.736328\"/>\n     <use xlink:href=\"#ArialMT-438\" x=\"916.537109\"/>\n     <use xlink:href=\"#ArialMT-20\" x=\"972.396484\"/>\n     <use xlink:href=\"#ArialMT-43a\" x=\"1000.179688\"/>\n     <use xlink:href=\"#ArialMT-435\" x=\"1045.054688\"/>\n     <use xlink:href=\"#ArialMT-43b\" x=\"1097.294922\"/>\n     <use xlink:href=\"#ArialMT-435\" x=\"1155.644531\"/>\n     <use xlink:href=\"#ArialMT-442\" x=\"1207.884766\"/>\n     <use xlink:href=\"#ArialMT-438\" x=\"1253.685547\"/>\n     <use xlink:href=\"#ArialMT-43d\" x=\"1309.544922\"/>\n     <use xlink:href=\"#ArialMT-20\" x=\"1364.769531\"/>\n     <use xlink:href=\"#ArialMT-430\" x=\"1392.552734\"/>\n     <use xlink:href=\"#ArialMT-434\" x=\"1448.167969\"/>\n     <use xlink:href=\"#ArialMT-430\" x=\"1506.517578\"/>\n     <use xlink:href=\"#ArialMT-43c\" x=\"1562.132812\"/>\n     <use xlink:href=\"#ArialMT-434\" x=\"1630.882812\"/>\n     <use xlink:href=\"#ArialMT-430\" x=\"1689.232422\"/>\n     <use xlink:href=\"#ArialMT-440\" x=\"1744.847656\"/>\n     <use xlink:href=\"#ArialMT-20\" x=\"1800.462891\"/>\n     <use xlink:href=\"#ArialMT-441\" x=\"1828.246094\"/>\n     <use xlink:href=\"#ArialMT-430\" x=\"1878.246094\"/>\n     <use xlink:href=\"#ArialMT-43d\" x=\"1933.861328\"/>\n     <use xlink:href=\"#ArialMT-44b\" x=\"1989.085938\"/>\n    </g>\n   </g>\n  </g>\n </g>\n <defs>\n  <clipPath id=\"p66f54d942b\">\n   <rect x=\"43.908438\" y=\"21.789375\" width=\"781.2\" height=\"443.52\"/>\n  </clipPath>\n </defs>\n</svg>\n"
     },
     "metadata": {},
     "output_type": "display_data"
    }
   ],
   "source": [
    "import pandas as pd\n",
    "import numpy as np\n",
    "from scipy import stats\n",
    "import seaborn as sns\n",
    "import matplotlib.pyplot as plt\n",
    "from pylab import rcParams\n",
    "sns.set()\n",
    "\n",
    "np.random.seed(0)\n",
    "\n",
    "students = np.random.normal(15000, 5000, 730)\n",
    "\n",
    "plt.figure(figsize=(14,8))\n",
    "\n",
    "plt.hist(students, bins=50)\n",
    "\n",
    "plt.title('Универге кунделикти келетин адамдар саны')\n",
    "plt.xlabel('Студенттер')\n",
    "plt.ylabel('Жиілік')\n",
    "\n",
    "plt.show()\n"
   ],
   "metadata": {
    "collapsed": false
   }
  },
  {
   "cell_type": "code",
   "execution_count": 37,
   "outputs": [
    {
     "name": "stderr",
     "output_type": "stream",
     "text": [
      "/var/folders/t1/pt8lfl0s2rz_z_7z9cbm9f5r0000gn/T/ipykernel_82444/1962858001.py:7: UserWarning: \n",
      "\n",
      "`distplot` is a deprecated function and will be removed in seaborn v0.14.0.\n",
      "\n",
      "Please adapt your code to use either `displot` (a figure-level function with\n",
      "similar flexibility) or `histplot` (an axes-level function for histograms).\n",
      "\n",
      "For a guide to updating your code to use the new functions, please see\n",
      "https://gist.github.com/mwaskom/de44147ed2974457ad6372750bbe5751\n",
      "\n",
      "  sns.distplot(students, bins=50)\n"
     ]
    },
    {
     "data": {
      "text/plain": "<Figure size 1400x800 with 1 Axes>",
      "image/svg+xml": "<?xml version=\"1.0\" encoding=\"utf-8\" standalone=\"no\"?>\n<!DOCTYPE svg PUBLIC \"-//W3C//DTD SVG 1.1//EN\"\n  \"http://www.w3.org/Graphics/SVG/1.1/DTD/svg11.dtd\">\n<svg xmlns:xlink=\"http://www.w3.org/1999/xlink\" width=\"859.8325pt\" height=\"507.330469pt\" viewBox=\"0 0 859.8325 507.330469\" xmlns=\"http://www.w3.org/2000/svg\" version=\"1.1\">\n <metadata>\n  <rdf:RDF xmlns:dc=\"http://purl.org/dc/elements/1.1/\" xmlns:cc=\"http://creativecommons.org/ns#\" xmlns:rdf=\"http://www.w3.org/1999/02/22-rdf-syntax-ns#\">\n   <cc:Work>\n    <dc:type rdf:resource=\"http://purl.org/dc/dcmitype/StillImage\"/>\n    <dc:date>2023-01-26T17:33:26.102649</dc:date>\n    <dc:format>image/svg+xml</dc:format>\n    <dc:creator>\n     <cc:Agent>\n      <dc:title>Matplotlib v3.6.3, https://matplotlib.org/</dc:title>\n     </cc:Agent>\n    </dc:creator>\n   </cc:Work>\n  </rdf:RDF>\n </metadata>\n <defs>\n  <style type=\"text/css\">*{stroke-linejoin: round; stroke-linecap: butt}</style>\n </defs>\n <g id=\"figure_1\">\n  <g id=\"patch_1\">\n   <path d=\"M 0 507.330469 \nL 859.8325 507.330469 \nL 859.8325 0 \nL 0 0 \nz\n\" style=\"fill: #ffffff\"/>\n  </g>\n  <g id=\"axes_1\">\n   <g id=\"patch_2\">\n    <path d=\"M 71.4325 465.309375 \nL 852.6325 465.309375 \nL 852.6325 21.789375 \nL 71.4325 21.789375 \nz\n\" style=\"fill: #eaeaf2\"/>\n   </g>\n   <g id=\"matplotlib.axis_1\">\n    <g id=\"xtick_1\">\n     <g id=\"line2d_1\">\n      <path d=\"M 92.416698 465.309375 \nL 92.416698 21.789375 \n\" clip-path=\"url(#pb2b2f1a594)\" style=\"fill: none; stroke: #ffffff; stroke-linecap: round\"/>\n     </g>\n     <g id=\"text_1\">\n      <!-- −5000 -->\n      <g style=\"fill: #262626\" transform=\"translate(76.970292 482.682969) scale(0.11 -0.11)\">\n       <defs>\n        <path id=\"ArialMT-2212\" d=\"M 3381 1997 \nL 356 1997 \nL 356 2522 \nL 3381 2522 \nL 3381 1997 \nz\n\" transform=\"scale(0.015625)\"/>\n        <path id=\"ArialMT-35\" d=\"M 266 1200 \nL 856 1250 \nQ 922 819 1161 601 \nQ 1400 384 1738 384 \nQ 2144 384 2425 690 \nQ 2706 997 2706 1503 \nQ 2706 1984 2436 2262 \nQ 2166 2541 1728 2541 \nQ 1456 2541 1237 2417 \nQ 1019 2294 894 2097 \nL 366 2166 \nL 809 4519 \nL 3088 4519 \nL 3088 3981 \nL 1259 3981 \nL 1013 2750 \nQ 1425 3038 1878 3038 \nQ 2478 3038 2890 2622 \nQ 3303 2206 3303 1553 \nQ 3303 931 2941 478 \nQ 2500 -78 1738 -78 \nQ 1113 -78 717 272 \nQ 322 622 266 1200 \nz\n\" transform=\"scale(0.015625)\"/>\n        <path id=\"ArialMT-30\" d=\"M 266 2259 \nQ 266 3072 433 3567 \nQ 600 4063 929 4331 \nQ 1259 4600 1759 4600 \nQ 2128 4600 2406 4451 \nQ 2684 4303 2865 4023 \nQ 3047 3744 3150 3342 \nQ 3253 2941 3253 2259 \nQ 3253 1453 3087 958 \nQ 2922 463 2592 192 \nQ 2263 -78 1759 -78 \nQ 1097 -78 719 397 \nQ 266 969 266 2259 \nz\nM 844 2259 \nQ 844 1131 1108 757 \nQ 1372 384 1759 384 \nQ 2147 384 2411 759 \nQ 2675 1134 2675 2259 \nQ 2675 3391 2411 3762 \nQ 2147 4134 1753 4134 \nQ 1366 4134 1134 3806 \nQ 844 3388 844 2259 \nz\n\" transform=\"scale(0.015625)\"/>\n       </defs>\n       <use xlink:href=\"#ArialMT-2212\"/>\n       <use xlink:href=\"#ArialMT-35\" x=\"58.398438\"/>\n       <use xlink:href=\"#ArialMT-30\" x=\"114.013672\"/>\n       <use xlink:href=\"#ArialMT-30\" x=\"169.628906\"/>\n       <use xlink:href=\"#ArialMT-30\" x=\"225.244141\"/>\n      </g>\n     </g>\n    </g>\n    <g id=\"xtick_2\">\n     <g id=\"line2d_2\">\n      <path d=\"M 189.047257 465.309375 \nL 189.047257 21.789375 \n\" clip-path=\"url(#pb2b2f1a594)\" style=\"fill: none; stroke: #ffffff; stroke-linecap: round\"/>\n     </g>\n     <g id=\"text_2\">\n      <!-- 0 -->\n      <g style=\"fill: #262626\" transform=\"translate(185.988742 482.682969) scale(0.11 -0.11)\">\n       <use xlink:href=\"#ArialMT-30\"/>\n      </g>\n     </g>\n    </g>\n    <g id=\"xtick_3\">\n     <g id=\"line2d_3\">\n      <path d=\"M 285.677816 465.309375 \nL 285.677816 21.789375 \n\" clip-path=\"url(#pb2b2f1a594)\" style=\"fill: none; stroke: #ffffff; stroke-linecap: round\"/>\n     </g>\n     <g id=\"text_3\">\n      <!-- 5000 -->\n      <g style=\"fill: #262626\" transform=\"translate(273.443754 482.682969) scale(0.11 -0.11)\">\n       <use xlink:href=\"#ArialMT-35\"/>\n       <use xlink:href=\"#ArialMT-30\" x=\"55.615234\"/>\n       <use xlink:href=\"#ArialMT-30\" x=\"111.230469\"/>\n       <use xlink:href=\"#ArialMT-30\" x=\"166.845703\"/>\n      </g>\n     </g>\n    </g>\n    <g id=\"xtick_4\">\n     <g id=\"line2d_4\">\n      <path d=\"M 382.308375 465.309375 \nL 382.308375 21.789375 \n\" clip-path=\"url(#pb2b2f1a594)\" style=\"fill: none; stroke: #ffffff; stroke-linecap: round\"/>\n     </g>\n     <g id=\"text_4\">\n      <!-- 10000 -->\n      <g style=\"fill: #262626\" transform=\"translate(367.015797 482.682969) scale(0.11 -0.11)\">\n       <defs>\n        <path id=\"ArialMT-31\" d=\"M 2384 0 \nL 1822 0 \nL 1822 3584 \nQ 1619 3391 1289 3197 \nQ 959 3003 697 2906 \nL 697 3450 \nQ 1169 3672 1522 3987 \nQ 1875 4303 2022 4600 \nL 2384 4600 \nL 2384 0 \nz\n\" transform=\"scale(0.015625)\"/>\n       </defs>\n       <use xlink:href=\"#ArialMT-31\"/>\n       <use xlink:href=\"#ArialMT-30\" x=\"55.615234\"/>\n       <use xlink:href=\"#ArialMT-30\" x=\"111.230469\"/>\n       <use xlink:href=\"#ArialMT-30\" x=\"166.845703\"/>\n       <use xlink:href=\"#ArialMT-30\" x=\"222.460938\"/>\n      </g>\n     </g>\n    </g>\n    <g id=\"xtick_5\">\n     <g id=\"line2d_5\">\n      <path d=\"M 478.938934 465.309375 \nL 478.938934 21.789375 \n\" clip-path=\"url(#pb2b2f1a594)\" style=\"fill: none; stroke: #ffffff; stroke-linecap: round\"/>\n     </g>\n     <g id=\"text_5\">\n      <!-- 15000 -->\n      <g style=\"fill: #262626\" transform=\"translate(463.646356 482.682969) scale(0.11 -0.11)\">\n       <use xlink:href=\"#ArialMT-31\"/>\n       <use xlink:href=\"#ArialMT-35\" x=\"55.615234\"/>\n       <use xlink:href=\"#ArialMT-30\" x=\"111.230469\"/>\n       <use xlink:href=\"#ArialMT-30\" x=\"166.845703\"/>\n       <use xlink:href=\"#ArialMT-30\" x=\"222.460938\"/>\n      </g>\n     </g>\n    </g>\n    <g id=\"xtick_6\">\n     <g id=\"line2d_6\">\n      <path d=\"M 575.569493 465.309375 \nL 575.569493 21.789375 \n\" clip-path=\"url(#pb2b2f1a594)\" style=\"fill: none; stroke: #ffffff; stroke-linecap: round\"/>\n     </g>\n     <g id=\"text_6\">\n      <!-- 20000 -->\n      <g style=\"fill: #262626\" transform=\"translate(560.276915 482.682969) scale(0.11 -0.11)\">\n       <defs>\n        <path id=\"ArialMT-32\" d=\"M 3222 541 \nL 3222 0 \nL 194 0 \nQ 188 203 259 391 \nQ 375 700 629 1000 \nQ 884 1300 1366 1694 \nQ 2113 2306 2375 2664 \nQ 2638 3022 2638 3341 \nQ 2638 3675 2398 3904 \nQ 2159 4134 1775 4134 \nQ 1369 4134 1125 3890 \nQ 881 3647 878 3216 \nL 300 3275 \nQ 359 3922 746 4261 \nQ 1134 4600 1788 4600 \nQ 2447 4600 2831 4234 \nQ 3216 3869 3216 3328 \nQ 3216 3053 3103 2787 \nQ 2991 2522 2730 2228 \nQ 2469 1934 1863 1422 \nQ 1356 997 1212 845 \nQ 1069 694 975 541 \nL 3222 541 \nz\n\" transform=\"scale(0.015625)\"/>\n       </defs>\n       <use xlink:href=\"#ArialMT-32\"/>\n       <use xlink:href=\"#ArialMT-30\" x=\"55.615234\"/>\n       <use xlink:href=\"#ArialMT-30\" x=\"111.230469\"/>\n       <use xlink:href=\"#ArialMT-30\" x=\"166.845703\"/>\n       <use xlink:href=\"#ArialMT-30\" x=\"222.460938\"/>\n      </g>\n     </g>\n    </g>\n    <g id=\"xtick_7\">\n     <g id=\"line2d_7\">\n      <path d=\"M 672.200053 465.309375 \nL 672.200053 21.789375 \n\" clip-path=\"url(#pb2b2f1a594)\" style=\"fill: none; stroke: #ffffff; stroke-linecap: round\"/>\n     </g>\n     <g id=\"text_7\">\n      <!-- 25000 -->\n      <g style=\"fill: #262626\" transform=\"translate(656.907474 482.682969) scale(0.11 -0.11)\">\n       <use xlink:href=\"#ArialMT-32\"/>\n       <use xlink:href=\"#ArialMT-35\" x=\"55.615234\"/>\n       <use xlink:href=\"#ArialMT-30\" x=\"111.230469\"/>\n       <use xlink:href=\"#ArialMT-30\" x=\"166.845703\"/>\n       <use xlink:href=\"#ArialMT-30\" x=\"222.460938\"/>\n      </g>\n     </g>\n    </g>\n    <g id=\"xtick_8\">\n     <g id=\"line2d_8\">\n      <path d=\"M 768.830612 465.309375 \nL 768.830612 21.789375 \n\" clip-path=\"url(#pb2b2f1a594)\" style=\"fill: none; stroke: #ffffff; stroke-linecap: round\"/>\n     </g>\n     <g id=\"text_8\">\n      <!-- 30000 -->\n      <g style=\"fill: #262626\" transform=\"translate(753.538034 482.682969) scale(0.11 -0.11)\">\n       <defs>\n        <path id=\"ArialMT-33\" d=\"M 269 1209 \nL 831 1284 \nQ 928 806 1161 595 \nQ 1394 384 1728 384 \nQ 2125 384 2398 659 \nQ 2672 934 2672 1341 \nQ 2672 1728 2419 1979 \nQ 2166 2231 1775 2231 \nQ 1616 2231 1378 2169 \nL 1441 2663 \nQ 1497 2656 1531 2656 \nQ 1891 2656 2178 2843 \nQ 2466 3031 2466 3422 \nQ 2466 3731 2256 3934 \nQ 2047 4138 1716 4138 \nQ 1388 4138 1169 3931 \nQ 950 3725 888 3313 \nL 325 3413 \nQ 428 3978 793 4289 \nQ 1159 4600 1703 4600 \nQ 2078 4600 2393 4439 \nQ 2709 4278 2876 4000 \nQ 3044 3722 3044 3409 \nQ 3044 3113 2884 2869 \nQ 2725 2625 2413 2481 \nQ 2819 2388 3044 2092 \nQ 3269 1797 3269 1353 \nQ 3269 753 2831 336 \nQ 2394 -81 1725 -81 \nQ 1122 -81 723 278 \nQ 325 638 269 1209 \nz\n\" transform=\"scale(0.015625)\"/>\n       </defs>\n       <use xlink:href=\"#ArialMT-33\"/>\n       <use xlink:href=\"#ArialMT-30\" x=\"55.615234\"/>\n       <use xlink:href=\"#ArialMT-30\" x=\"111.230469\"/>\n       <use xlink:href=\"#ArialMT-30\" x=\"166.845703\"/>\n       <use xlink:href=\"#ArialMT-30\" x=\"222.460938\"/>\n      </g>\n     </g>\n    </g>\n    <g id=\"text_9\">\n     <!-- Студенттер -->\n     <g style=\"fill: #262626\" transform=\"translate(429.835 497.604844) scale(0.12 -0.12)\">\n      <defs>\n       <path id=\"ArialMT-421\" d=\"M 3763 1606 \nL 4369 1453 \nQ 4178 706 3683 314 \nQ 3188 -78 2472 -78 \nQ 1731 -78 1267 223 \nQ 803 525 561 1097 \nQ 319 1669 319 2325 \nQ 319 3041 592 3573 \nQ 866 4106 1370 4382 \nQ 1875 4659 2481 4659 \nQ 3169 4659 3637 4309 \nQ 4106 3959 4291 3325 \nL 3694 3184 \nQ 3534 3684 3231 3912 \nQ 2928 4141 2469 4141 \nQ 1941 4141 1586 3887 \nQ 1231 3634 1087 3207 \nQ 944 2781 944 2328 \nQ 944 1744 1114 1308 \nQ 1284 872 1643 656 \nQ 2003 441 2422 441 \nQ 2931 441 3284 734 \nQ 3638 1028 3763 1606 \nz\n\" transform=\"scale(0.015625)\"/>\n       <path id=\"ArialMT-442\" d=\"M 119 3319 \nL 2816 3319 \nL 2816 2853 \nL 1747 2853 \nL 1747 0 \nL 1188 0 \nL 1188 2853 \nL 119 2853 \nL 119 3319 \nz\n\" transform=\"scale(0.015625)\"/>\n       <path id=\"ArialMT-443\" d=\"M 397 -1278 \nL 334 -750 \nQ 519 -800 656 -800 \nQ 844 -800 956 -737 \nQ 1069 -675 1141 -563 \nQ 1194 -478 1313 -144 \nQ 1328 -97 1363 -6 \nL 103 3319 \nL 709 3319 \nL 1400 1397 \nQ 1534 1031 1641 628 \nQ 1738 1016 1872 1384 \nL 2581 3319 \nL 3144 3319 \nL 1881 -56 \nQ 1678 -603 1566 -809 \nQ 1416 -1088 1222 -1217 \nQ 1028 -1347 759 -1347 \nQ 597 -1347 397 -1278 \nz\n\" transform=\"scale(0.015625)\"/>\n       <path id=\"ArialMT-434\" d=\"M 866 3319 \nL 3178 3319 \nL 3178 463 \nL 3538 463 \nL 3538 -941 \nL 3075 -941 \nL 3075 0 \nL 463 0 \nL 463 -941 \nL 0 -941 \nL 0 463 \nL 297 463 \nQ 891 1269 866 3319 \nz\nM 1334 2853 \nQ 1272 1238 834 463 \nL 2619 463 \nL 2619 2853 \nL 1334 2853 \nz\n\" transform=\"scale(0.015625)\"/>\n       <path id=\"ArialMT-435\" d=\"M 2694 1069 \nL 3275 997 \nQ 3138 488 2766 206 \nQ 2394 -75 1816 -75 \nQ 1088 -75 661 373 \nQ 234 822 234 1631 \nQ 234 2469 665 2931 \nQ 1097 3394 1784 3394 \nQ 2450 3394 2872 2941 \nQ 3294 2488 3294 1666 \nQ 3294 1616 3291 1516 \nL 816 1516 \nQ 847 969 1125 678 \nQ 1403 388 1819 388 \nQ 2128 388 2347 550 \nQ 2566 713 2694 1069 \nz\nM 847 1978 \nL 2700 1978 \nQ 2663 2397 2488 2606 \nQ 2219 2931 1791 2931 \nQ 1403 2931 1139 2672 \nQ 875 2413 847 1978 \nz\n\" transform=\"scale(0.015625)\"/>\n       <path id=\"ArialMT-43d\" d=\"M 425 3319 \nL 988 3319 \nL 988 1938 \nL 2547 1938 \nL 2547 3319 \nL 3109 3319 \nL 3109 0 \nL 2547 0 \nL 2547 1472 \nL 988 1472 \nL 988 0 \nL 425 0 \nL 425 3319 \nz\n\" transform=\"scale(0.015625)\"/>\n       <path id=\"ArialMT-440\" d=\"M 422 -1272 \nL 422 3319 \nL 934 3319 \nL 934 2888 \nQ 1116 3141 1344 3267 \nQ 1572 3394 1897 3394 \nQ 2322 3394 2647 3175 \nQ 2972 2956 3137 2557 \nQ 3303 2159 3303 1684 \nQ 3303 1175 3120 767 \nQ 2938 359 2589 142 \nQ 2241 -75 1856 -75 \nQ 1575 -75 1351 44 \nQ 1128 163 984 344 \nL 984 -1272 \nL 422 -1272 \nz\nM 931 1641 \nQ 931 1000 1190 694 \nQ 1450 388 1819 388 \nQ 2194 388 2461 705 \nQ 2728 1022 2728 1688 \nQ 2728 2322 2467 2637 \nQ 2206 2953 1844 2953 \nQ 1484 2953 1207 2617 \nQ 931 2281 931 1641 \nz\n\" transform=\"scale(0.015625)\"/>\n      </defs>\n      <use xlink:href=\"#ArialMT-421\"/>\n      <use xlink:href=\"#ArialMT-442\" x=\"72.216797\"/>\n      <use xlink:href=\"#ArialMT-443\" x=\"119.142578\"/>\n      <use xlink:href=\"#ArialMT-434\" x=\"165.767578\"/>\n      <use xlink:href=\"#ArialMT-435\" x=\"224.117188\"/>\n      <use xlink:href=\"#ArialMT-43d\" x=\"279.732422\"/>\n      <use xlink:href=\"#ArialMT-442\" x=\"334.957031\"/>\n      <use xlink:href=\"#ArialMT-442\" x=\"380.757812\"/>\n      <use xlink:href=\"#ArialMT-435\" x=\"425.433594\"/>\n      <use xlink:href=\"#ArialMT-440\" x=\"481.048828\"/>\n     </g>\n    </g>\n   </g>\n   <g id=\"matplotlib.axis_2\">\n    <g id=\"ytick_1\">\n     <g id=\"line2d_9\">\n      <path d=\"M 71.4325 465.309375 \nL 852.6325 465.309375 \n\" clip-path=\"url(#pb2b2f1a594)\" style=\"fill: none; stroke: #ffffff; stroke-linecap: round\"/>\n     </g>\n     <g id=\"text_10\">\n      <!-- 0.00000 -->\n      <g style=\"fill: #262626\" transform=\"translate(22.174375 469.246172) scale(0.11 -0.11)\">\n       <defs>\n        <path id=\"ArialMT-2e\" d=\"M 581 0 \nL 581 641 \nL 1222 641 \nL 1222 0 \nL 581 0 \nz\n\" transform=\"scale(0.015625)\"/>\n       </defs>\n       <use xlink:href=\"#ArialMT-30\"/>\n       <use xlink:href=\"#ArialMT-2e\" x=\"55.615234\"/>\n       <use xlink:href=\"#ArialMT-30\" x=\"83.398438\"/>\n       <use xlink:href=\"#ArialMT-30\" x=\"139.013672\"/>\n       <use xlink:href=\"#ArialMT-30\" x=\"194.628906\"/>\n       <use xlink:href=\"#ArialMT-30\" x=\"250.244141\"/>\n       <use xlink:href=\"#ArialMT-30\" x=\"305.859375\"/>\n      </g>\n     </g>\n    </g>\n    <g id=\"ytick_2\">\n     <g id=\"line2d_10\">\n      <path d=\"M 71.4325 380.991738 \nL 852.6325 380.991738 \n\" clip-path=\"url(#pb2b2f1a594)\" style=\"fill: none; stroke: #ffffff; stroke-linecap: round\"/>\n     </g>\n     <g id=\"text_11\">\n      <!-- 0.00002 -->\n      <g style=\"fill: #262626\" transform=\"translate(22.174375 384.928535) scale(0.11 -0.11)\">\n       <use xlink:href=\"#ArialMT-30\"/>\n       <use xlink:href=\"#ArialMT-2e\" x=\"55.615234\"/>\n       <use xlink:href=\"#ArialMT-30\" x=\"83.398438\"/>\n       <use xlink:href=\"#ArialMT-30\" x=\"139.013672\"/>\n       <use xlink:href=\"#ArialMT-30\" x=\"194.628906\"/>\n       <use xlink:href=\"#ArialMT-30\" x=\"250.244141\"/>\n       <use xlink:href=\"#ArialMT-32\" x=\"305.859375\"/>\n      </g>\n     </g>\n    </g>\n    <g id=\"ytick_3\">\n     <g id=\"line2d_11\">\n      <path d=\"M 71.4325 296.6741 \nL 852.6325 296.6741 \n\" clip-path=\"url(#pb2b2f1a594)\" style=\"fill: none; stroke: #ffffff; stroke-linecap: round\"/>\n     </g>\n     <g id=\"text_12\">\n      <!-- 0.00004 -->\n      <g style=\"fill: #262626\" transform=\"translate(22.174375 300.610897) scale(0.11 -0.11)\">\n       <defs>\n        <path id=\"ArialMT-34\" d=\"M 2069 0 \nL 2069 1097 \nL 81 1097 \nL 81 1613 \nL 2172 4581 \nL 2631 4581 \nL 2631 1613 \nL 3250 1613 \nL 3250 1097 \nL 2631 1097 \nL 2631 0 \nL 2069 0 \nz\nM 2069 1613 \nL 2069 3678 \nL 634 1613 \nL 2069 1613 \nz\n\" transform=\"scale(0.015625)\"/>\n       </defs>\n       <use xlink:href=\"#ArialMT-30\"/>\n       <use xlink:href=\"#ArialMT-2e\" x=\"55.615234\"/>\n       <use xlink:href=\"#ArialMT-30\" x=\"83.398438\"/>\n       <use xlink:href=\"#ArialMT-30\" x=\"139.013672\"/>\n       <use xlink:href=\"#ArialMT-30\" x=\"194.628906\"/>\n       <use xlink:href=\"#ArialMT-30\" x=\"250.244141\"/>\n       <use xlink:href=\"#ArialMT-34\" x=\"305.859375\"/>\n      </g>\n     </g>\n    </g>\n    <g id=\"ytick_4\">\n     <g id=\"line2d_12\">\n      <path d=\"M 71.4325 212.356463 \nL 852.6325 212.356463 \n\" clip-path=\"url(#pb2b2f1a594)\" style=\"fill: none; stroke: #ffffff; stroke-linecap: round\"/>\n     </g>\n     <g id=\"text_13\">\n      <!-- 0.00006 -->\n      <g style=\"fill: #262626\" transform=\"translate(22.174375 216.29326) scale(0.11 -0.11)\">\n       <defs>\n        <path id=\"ArialMT-36\" d=\"M 3184 3459 \nL 2625 3416 \nQ 2550 3747 2413 3897 \nQ 2184 4138 1850 4138 \nQ 1581 4138 1378 3988 \nQ 1113 3794 959 3422 \nQ 806 3050 800 2363 \nQ 1003 2672 1297 2822 \nQ 1591 2972 1913 2972 \nQ 2475 2972 2870 2558 \nQ 3266 2144 3266 1488 \nQ 3266 1056 3080 686 \nQ 2894 316 2569 119 \nQ 2244 -78 1831 -78 \nQ 1128 -78 684 439 \nQ 241 956 241 2144 \nQ 241 3472 731 4075 \nQ 1159 4600 1884 4600 \nQ 2425 4600 2770 4297 \nQ 3116 3994 3184 3459 \nz\nM 888 1484 \nQ 888 1194 1011 928 \nQ 1134 663 1356 523 \nQ 1578 384 1822 384 \nQ 2178 384 2434 671 \nQ 2691 959 2691 1453 \nQ 2691 1928 2437 2201 \nQ 2184 2475 1800 2475 \nQ 1419 2475 1153 2201 \nQ 888 1928 888 1484 \nz\n\" transform=\"scale(0.015625)\"/>\n       </defs>\n       <use xlink:href=\"#ArialMT-30\"/>\n       <use xlink:href=\"#ArialMT-2e\" x=\"55.615234\"/>\n       <use xlink:href=\"#ArialMT-30\" x=\"83.398438\"/>\n       <use xlink:href=\"#ArialMT-30\" x=\"139.013672\"/>\n       <use xlink:href=\"#ArialMT-30\" x=\"194.628906\"/>\n       <use xlink:href=\"#ArialMT-30\" x=\"250.244141\"/>\n       <use xlink:href=\"#ArialMT-36\" x=\"305.859375\"/>\n      </g>\n     </g>\n    </g>\n    <g id=\"ytick_5\">\n     <g id=\"line2d_13\">\n      <path d=\"M 71.4325 128.038826 \nL 852.6325 128.038826 \n\" clip-path=\"url(#pb2b2f1a594)\" style=\"fill: none; stroke: #ffffff; stroke-linecap: round\"/>\n     </g>\n     <g id=\"text_14\">\n      <!-- 0.00008 -->\n      <g style=\"fill: #262626\" transform=\"translate(22.174375 131.975623) scale(0.11 -0.11)\">\n       <defs>\n        <path id=\"ArialMT-38\" d=\"M 1131 2484 \nQ 781 2613 612 2850 \nQ 444 3088 444 3419 \nQ 444 3919 803 4259 \nQ 1163 4600 1759 4600 \nQ 2359 4600 2725 4251 \nQ 3091 3903 3091 3403 \nQ 3091 3084 2923 2848 \nQ 2756 2613 2416 2484 \nQ 2838 2347 3058 2040 \nQ 3278 1734 3278 1309 \nQ 3278 722 2862 322 \nQ 2447 -78 1769 -78 \nQ 1091 -78 675 323 \nQ 259 725 259 1325 \nQ 259 1772 486 2073 \nQ 713 2375 1131 2484 \nz\nM 1019 3438 \nQ 1019 3113 1228 2906 \nQ 1438 2700 1772 2700 \nQ 2097 2700 2305 2904 \nQ 2513 3109 2513 3406 \nQ 2513 3716 2298 3927 \nQ 2084 4138 1766 4138 \nQ 1444 4138 1231 3931 \nQ 1019 3725 1019 3438 \nz\nM 838 1322 \nQ 838 1081 952 856 \nQ 1066 631 1291 507 \nQ 1516 384 1775 384 \nQ 2178 384 2440 643 \nQ 2703 903 2703 1303 \nQ 2703 1709 2433 1975 \nQ 2163 2241 1756 2241 \nQ 1359 2241 1098 1978 \nQ 838 1716 838 1322 \nz\n\" transform=\"scale(0.015625)\"/>\n       </defs>\n       <use xlink:href=\"#ArialMT-30\"/>\n       <use xlink:href=\"#ArialMT-2e\" x=\"55.615234\"/>\n       <use xlink:href=\"#ArialMT-30\" x=\"83.398438\"/>\n       <use xlink:href=\"#ArialMT-30\" x=\"139.013672\"/>\n       <use xlink:href=\"#ArialMT-30\" x=\"194.628906\"/>\n       <use xlink:href=\"#ArialMT-30\" x=\"250.244141\"/>\n       <use xlink:href=\"#ArialMT-38\" x=\"305.859375\"/>\n      </g>\n     </g>\n    </g>\n    <g id=\"ytick_6\">\n     <g id=\"line2d_14\">\n      <path d=\"M 71.4325 43.721189 \nL 852.6325 43.721189 \n\" clip-path=\"url(#pb2b2f1a594)\" style=\"fill: none; stroke: #ffffff; stroke-linecap: round\"/>\n     </g>\n     <g id=\"text_15\">\n      <!-- 0.00010 -->\n      <g style=\"fill: #262626\" transform=\"translate(22.174375 47.657986) scale(0.11 -0.11)\">\n       <use xlink:href=\"#ArialMT-30\"/>\n       <use xlink:href=\"#ArialMT-2e\" x=\"55.615234\"/>\n       <use xlink:href=\"#ArialMT-30\" x=\"83.398438\"/>\n       <use xlink:href=\"#ArialMT-30\" x=\"139.013672\"/>\n       <use xlink:href=\"#ArialMT-30\" x=\"194.628906\"/>\n       <use xlink:href=\"#ArialMT-31\" x=\"250.244141\"/>\n       <use xlink:href=\"#ArialMT-30\" x=\"305.859375\"/>\n      </g>\n     </g>\n    </g>\n    <g id=\"text_16\">\n     <!-- Жиілік -->\n     <g style=\"fill: #262626\" transform=\"translate(15.789375 261.2325) rotate(-90) scale(0.12 -0.12)\">\n      <defs>\n       <path id=\"ArialMT-416\" d=\"M 3266 4581 \nL 3266 2575 \nQ 3713 2575 3880 2739 \nQ 4047 2903 4306 3509 \nQ 4497 3959 4620 4145 \nQ 4744 4331 4972 4457 \nQ 5200 4584 5472 4584 \nQ 5769 4584 5841 4578 \nL 5841 4053 \nQ 5813 4053 5722 4056 \nQ 5622 4059 5600 4059 \nQ 5309 4059 5169 3919 \nQ 5025 3778 4841 3319 \nQ 4641 2822 4494 2642 \nQ 4347 2463 4069 2344 \nQ 4519 2219 4941 1525 \nL 5884 0 \nL 5134 0 \nL 4369 1244 \nQ 4063 1738 3853 1941 \nQ 3644 2144 3266 2144 \nL 3266 0 \nL 2644 0 \nL 2644 2144 \nQ 2344 2144 2114 1986 \nQ 1884 1828 1578 1306 \nL 1541 1244 \nL 775 0 \nL 22 0 \nL 966 1525 \nQ 1397 2222 1841 2344 \nQ 1594 2444 1437 2611 \nQ 1281 2778 1066 3319 \nQ 869 3809 728 3934 \nQ 588 4059 309 4059 \nL 66 4053 \nL 66 4578 \nQ 100 4584 416 4584 \nQ 716 4584 936 4461 \nQ 1156 4338 1281 4152 \nQ 1406 3966 1603 3509 \nQ 1866 2894 2030 2737 \nQ 2194 2581 2644 2575 \nL 2644 4581 \nL 3266 4581 \nz\n\" transform=\"scale(0.015625)\"/>\n       <path id=\"ArialMT-438\" d=\"M 422 3319 \nL 984 3319 \nL 984 788 \nL 2544 3319 \nL 3150 3319 \nL 3150 0 \nL 2588 0 \nL 2588 2516 \nL 1028 0 \nL 422 0 \nL 422 3319 \nz\n\" transform=\"scale(0.015625)\"/>\n       <path id=\"ArialMT-456\" d=\"M 425 3934 \nL 425 4581 \nL 988 4581 \nL 988 3934 \nL 425 3934 \nz\nM 425 0 \nL 425 3319 \nL 988 3319 \nL 988 0 \nL 425 0 \nz\n\" transform=\"scale(0.015625)\"/>\n       <path id=\"ArialMT-43b\" d=\"M 697 3319 \nL 3309 3319 \nL 3309 0 \nL 2750 0 \nL 2750 2853 \nL 1259 2853 \nL 1259 1200 \nQ 1259 622 1221 437 \nQ 1184 253 1015 115 \nQ 847 -22 528 -22 \nQ 331 -22 75 3 \nL 75 472 \nL 322 472 \nQ 497 472 572 508 \nQ 647 544 672 622 \nQ 697 700 697 1131 \nL 697 3319 \nz\n\" transform=\"scale(0.015625)\"/>\n       <path id=\"ArialMT-43a\" d=\"M 419 3319 \nL 981 3319 \nL 981 1884 \nQ 1250 1884 1358 1987 \nQ 1466 2091 1675 2588 \nQ 1841 2981 1944 3106 \nQ 2047 3231 2181 3275 \nQ 2316 3319 2613 3319 \nL 2725 3319 \nL 2725 2853 \nL 2569 2856 \nQ 2347 2856 2284 2791 \nQ 2219 2722 2084 2381 \nQ 1956 2056 1850 1931 \nQ 1744 1806 1522 1703 \nQ 1884 1606 2234 1028 \nL 2850 0 \nL 2231 0 \nL 1631 1028 \nQ 1447 1338 1309 1436 \nQ 1172 1534 981 1534 \nL 981 0 \nL 419 0 \nL 419 3319 \nz\n\" transform=\"scale(0.015625)\"/>\n      </defs>\n      <use xlink:href=\"#ArialMT-416\"/>\n      <use xlink:href=\"#ArialMT-438\" x=\"92.333984\"/>\n      <use xlink:href=\"#ArialMT-456\" x=\"148.193359\"/>\n      <use xlink:href=\"#ArialMT-43b\" x=\"170.410156\"/>\n      <use xlink:href=\"#ArialMT-456\" x=\"228.759766\"/>\n      <use xlink:href=\"#ArialMT-43a\" x=\"250.976562\"/>\n     </g>\n    </g>\n   </g>\n   <g id=\"patch_3\">\n    <path d=\"M 184.588428 465.309375 \nL 195.686191 465.309375 \nL 195.686191 455.252232 \nL 184.588428 455.252232 \nz\n\" clip-path=\"url(#pb2b2f1a594)\" style=\"fill: #4c72b0; opacity: 0.4; stroke: #ffffff; stroke-linejoin: miter\"/>\n   </g>\n   <g id=\"patch_4\">\n    <path d=\"M 195.686191 465.309375 \nL 206.783954 465.309375 \nL 206.783954 455.252232 \nL 195.686191 455.252232 \nz\n\" clip-path=\"url(#pb2b2f1a594)\" style=\"fill: #4c72b0; opacity: 0.4; stroke: #ffffff; stroke-linejoin: miter\"/>\n   </g>\n   <g id=\"patch_5\">\n    <path d=\"M 206.783954 465.309375 \nL 217.881717 465.309375 \nL 217.881717 445.195089 \nL 206.783954 445.195089 \nz\n\" clip-path=\"url(#pb2b2f1a594)\" style=\"fill: #4c72b0; opacity: 0.4; stroke: #ffffff; stroke-linejoin: miter\"/>\n   </g>\n   <g id=\"patch_6\">\n    <path d=\"M 217.881717 465.309375 \nL 228.979479 465.309375 \nL 228.979479 445.195089 \nL 217.881717 445.195089 \nz\n\" clip-path=\"url(#pb2b2f1a594)\" style=\"fill: #4c72b0; opacity: 0.4; stroke: #ffffff; stroke-linejoin: miter\"/>\n   </g>\n   <g id=\"patch_7\">\n    <path d=\"M 228.979479 465.309375 \nL 240.077242 465.309375 \nL 240.077242 445.195089 \nL 228.979479 445.195089 \nz\n\" clip-path=\"url(#pb2b2f1a594)\" style=\"fill: #4c72b0; opacity: 0.4; stroke: #ffffff; stroke-linejoin: miter\"/>\n   </g>\n   <g id=\"patch_8\">\n    <path d=\"M 240.077242 465.309375 \nL 251.175005 465.309375 \nL 251.175005 445.195089 \nL 240.077242 445.195089 \nz\n\" clip-path=\"url(#pb2b2f1a594)\" style=\"fill: #4c72b0; opacity: 0.4; stroke: #ffffff; stroke-linejoin: miter\"/>\n   </g>\n   <g id=\"patch_9\">\n    <path d=\"M 251.175005 465.309375 \nL 262.272768 465.309375 \nL 262.272768 435.137946 \nL 251.175005 435.137946 \nz\n\" clip-path=\"url(#pb2b2f1a594)\" style=\"fill: #4c72b0; opacity: 0.4; stroke: #ffffff; stroke-linejoin: miter\"/>\n   </g>\n   <g id=\"patch_10\">\n    <path d=\"M 262.272768 465.309375 \nL 273.370531 465.309375 \nL 273.370531 435.137946 \nL 262.272768 435.137946 \nz\n\" clip-path=\"url(#pb2b2f1a594)\" style=\"fill: #4c72b0; opacity: 0.4; stroke: #ffffff; stroke-linejoin: miter\"/>\n   </g>\n   <g id=\"patch_11\">\n    <path d=\"M 273.370531 465.309375 \nL 284.468294 465.309375 \nL 284.468294 425.080804 \nL 273.370531 425.080804 \nz\n\" clip-path=\"url(#pb2b2f1a594)\" style=\"fill: #4c72b0; opacity: 0.4; stroke: #ffffff; stroke-linejoin: miter\"/>\n   </g>\n   <g id=\"patch_12\">\n    <path d=\"M 284.468294 465.309375 \nL 295.566057 465.309375 \nL 295.566057 404.966518 \nL 284.468294 404.966518 \nz\n\" clip-path=\"url(#pb2b2f1a594)\" style=\"fill: #4c72b0; opacity: 0.4; stroke: #ffffff; stroke-linejoin: miter\"/>\n   </g>\n   <g id=\"patch_13\">\n    <path d=\"M 295.566057 465.309375 \nL 306.66382 465.309375 \nL 306.66382 435.137946 \nL 295.566057 435.137946 \nz\n\" clip-path=\"url(#pb2b2f1a594)\" style=\"fill: #4c72b0; opacity: 0.4; stroke: #ffffff; stroke-linejoin: miter\"/>\n   </g>\n   <g id=\"patch_14\">\n    <path d=\"M 306.66382 465.309375 \nL 317.761583 465.309375 \nL 317.761583 364.737946 \nL 306.66382 364.737946 \nz\n\" clip-path=\"url(#pb2b2f1a594)\" style=\"fill: #4c72b0; opacity: 0.4; stroke: #ffffff; stroke-linejoin: miter\"/>\n   </g>\n   <g id=\"patch_15\">\n    <path d=\"M 317.761583 465.309375 \nL 328.859345 465.309375 \nL 328.859345 334.566518 \nL 317.761583 334.566518 \nz\n\" clip-path=\"url(#pb2b2f1a594)\" style=\"fill: #4c72b0; opacity: 0.4; stroke: #ffffff; stroke-linejoin: miter\"/>\n   </g>\n   <g id=\"patch_16\">\n    <path d=\"M 328.859345 465.309375 \nL 339.957108 465.309375 \nL 339.957108 344.623661 \nL 328.859345 344.623661 \nz\n\" clip-path=\"url(#pb2b2f1a594)\" style=\"fill: #4c72b0; opacity: 0.4; stroke: #ffffff; stroke-linejoin: miter\"/>\n   </g>\n   <g id=\"patch_17\">\n    <path d=\"M 339.957108 465.309375 \nL 351.054871 465.309375 \nL 351.054871 344.623661 \nL 339.957108 344.623661 \nz\n\" clip-path=\"url(#pb2b2f1a594)\" style=\"fill: #4c72b0; opacity: 0.4; stroke: #ffffff; stroke-linejoin: miter\"/>\n   </g>\n   <g id=\"patch_18\">\n    <path d=\"M 351.054871 465.309375 \nL 362.152634 465.309375 \nL 362.152634 314.452232 \nL 351.054871 314.452232 \nz\n\" clip-path=\"url(#pb2b2f1a594)\" style=\"fill: #4c72b0; opacity: 0.4; stroke: #ffffff; stroke-linejoin: miter\"/>\n   </g>\n   <g id=\"patch_19\">\n    <path d=\"M 362.152634 465.309375 \nL 373.250397 465.309375 \nL 373.250397 264.166518 \nL 362.152634 264.166518 \nz\n\" clip-path=\"url(#pb2b2f1a594)\" style=\"fill: #4c72b0; opacity: 0.4; stroke: #ffffff; stroke-linejoin: miter\"/>\n   </g>\n   <g id=\"patch_20\">\n    <path d=\"M 373.250397 465.309375 \nL 384.34816 465.309375 \nL 384.34816 304.395089 \nL 373.250397 304.395089 \nz\n\" clip-path=\"url(#pb2b2f1a594)\" style=\"fill: #4c72b0; opacity: 0.4; stroke: #ffffff; stroke-linejoin: miter\"/>\n   </g>\n   <g id=\"patch_21\">\n    <path d=\"M 384.34816 465.309375 \nL 395.445923 465.309375 \nL 395.445923 193.766518 \nL 384.34816 193.766518 \nz\n\" clip-path=\"url(#pb2b2f1a594)\" style=\"fill: #4c72b0; opacity: 0.4; stroke: #ffffff; stroke-linejoin: miter\"/>\n   </g>\n   <g id=\"patch_22\">\n    <path d=\"M 395.445923 465.309375 \nL 406.543686 465.309375 \nL 406.543686 284.280804 \nL 395.445923 284.280804 \nz\n\" clip-path=\"url(#pb2b2f1a594)\" style=\"fill: #4c72b0; opacity: 0.4; stroke: #ffffff; stroke-linejoin: miter\"/>\n   </g>\n   <g id=\"patch_23\">\n    <path d=\"M 406.543686 465.309375 \nL 417.641448 465.309375 \nL 417.641448 93.195089 \nL 406.543686 93.195089 \nz\n\" clip-path=\"url(#pb2b2f1a594)\" style=\"fill: #4c72b0; opacity: 0.4; stroke: #ffffff; stroke-linejoin: miter\"/>\n   </g>\n   <g id=\"patch_24\">\n    <path d=\"M 417.641448 465.309375 \nL 428.739211 465.309375 \nL 428.739211 254.109375 \nL 417.641448 254.109375 \nz\n\" clip-path=\"url(#pb2b2f1a594)\" style=\"fill: #4c72b0; opacity: 0.4; stroke: #ffffff; stroke-linejoin: miter\"/>\n   </g>\n   <g id=\"patch_25\">\n    <path d=\"M 428.739211 465.309375 \nL 439.836974 465.309375 \nL 439.836974 123.366518 \nL 428.739211 123.366518 \nz\n\" clip-path=\"url(#pb2b2f1a594)\" style=\"fill: #4c72b0; opacity: 0.4; stroke: #ffffff; stroke-linejoin: miter\"/>\n   </g>\n   <g id=\"patch_26\">\n    <path d=\"M 439.836974 465.309375 \nL 450.934737 465.309375 \nL 450.934737 42.909375 \nL 439.836974 42.909375 \nz\n\" clip-path=\"url(#pb2b2f1a594)\" style=\"fill: #4c72b0; opacity: 0.4; stroke: #ffffff; stroke-linejoin: miter\"/>\n   </g>\n   <g id=\"patch_27\">\n    <path d=\"M 450.934737 465.309375 \nL 462.0325 465.309375 \nL 462.0325 163.595089 \nL 450.934737 163.595089 \nz\n\" clip-path=\"url(#pb2b2f1a594)\" style=\"fill: #4c72b0; opacity: 0.4; stroke: #ffffff; stroke-linejoin: miter\"/>\n   </g>\n   <g id=\"patch_28\">\n    <path d=\"M 462.0325 465.309375 \nL 473.130263 465.309375 \nL 473.130263 133.423661 \nL 462.0325 133.423661 \nz\n\" clip-path=\"url(#pb2b2f1a594)\" style=\"fill: #4c72b0; opacity: 0.4; stroke: #ffffff; stroke-linejoin: miter\"/>\n   </g>\n   <g id=\"patch_29\">\n    <path d=\"M 473.130263 465.309375 \nL 484.228026 465.309375 \nL 484.228026 163.595089 \nL 473.130263 163.595089 \nz\n\" clip-path=\"url(#pb2b2f1a594)\" style=\"fill: #4c72b0; opacity: 0.4; stroke: #ffffff; stroke-linejoin: miter\"/>\n   </g>\n   <g id=\"patch_30\">\n    <path d=\"M 484.228026 465.309375 \nL 495.325789 465.309375 \nL 495.325789 163.595089 \nL 484.228026 163.595089 \nz\n\" clip-path=\"url(#pb2b2f1a594)\" style=\"fill: #4c72b0; opacity: 0.4; stroke: #ffffff; stroke-linejoin: miter\"/>\n   </g>\n   <g id=\"patch_31\">\n    <path d=\"M 495.325789 465.309375 \nL 506.423552 465.309375 \nL 506.423552 143.480804 \nL 495.325789 143.480804 \nz\n\" clip-path=\"url(#pb2b2f1a594)\" style=\"fill: #4c72b0; opacity: 0.4; stroke: #ffffff; stroke-linejoin: miter\"/>\n   </g>\n   <g id=\"patch_32\">\n    <path d=\"M 506.423552 465.309375 \nL 517.521314 465.309375 \nL 517.521314 103.252232 \nL 506.423552 103.252232 \nz\n\" clip-path=\"url(#pb2b2f1a594)\" style=\"fill: #4c72b0; opacity: 0.4; stroke: #ffffff; stroke-linejoin: miter\"/>\n   </g>\n   <g id=\"patch_33\">\n    <path d=\"M 517.521314 465.309375 \nL 528.619077 465.309375 \nL 528.619077 163.595089 \nL 517.521314 163.595089 \nz\n\" clip-path=\"url(#pb2b2f1a594)\" style=\"fill: #4c72b0; opacity: 0.4; stroke: #ffffff; stroke-linejoin: miter\"/>\n   </g>\n   <g id=\"patch_34\">\n    <path d=\"M 528.619077 465.309375 \nL 539.71684 465.309375 \nL 539.71684 233.995089 \nL 528.619077 233.995089 \nz\n\" clip-path=\"url(#pb2b2f1a594)\" style=\"fill: #4c72b0; opacity: 0.4; stroke: #ffffff; stroke-linejoin: miter\"/>\n   </g>\n   <g id=\"patch_35\">\n    <path d=\"M 539.71684 465.309375 \nL 550.814603 465.309375 \nL 550.814603 264.166518 \nL 539.71684 264.166518 \nz\n\" clip-path=\"url(#pb2b2f1a594)\" style=\"fill: #4c72b0; opacity: 0.4; stroke: #ffffff; stroke-linejoin: miter\"/>\n   </g>\n   <g id=\"patch_36\">\n    <path d=\"M 550.814603 465.309375 \nL 561.912366 465.309375 \nL 561.912366 203.823661 \nL 550.814603 203.823661 \nz\n\" clip-path=\"url(#pb2b2f1a594)\" style=\"fill: #4c72b0; opacity: 0.4; stroke: #ffffff; stroke-linejoin: miter\"/>\n   </g>\n   <g id=\"patch_37\">\n    <path d=\"M 561.912366 465.309375 \nL 573.010129 465.309375 \nL 573.010129 193.766518 \nL 561.912366 193.766518 \nz\n\" clip-path=\"url(#pb2b2f1a594)\" style=\"fill: #4c72b0; opacity: 0.4; stroke: #ffffff; stroke-linejoin: miter\"/>\n   </g>\n   <g id=\"patch_38\">\n    <path d=\"M 573.010129 465.309375 \nL 584.107892 465.309375 \nL 584.107892 294.337946 \nL 573.010129 294.337946 \nz\n\" clip-path=\"url(#pb2b2f1a594)\" style=\"fill: #4c72b0; opacity: 0.4; stroke: #ffffff; stroke-linejoin: miter\"/>\n   </g>\n   <g id=\"patch_39\">\n    <path d=\"M 584.107892 465.309375 \nL 595.205655 465.309375 \nL 595.205655 284.280804 \nL 584.107892 284.280804 \nz\n\" clip-path=\"url(#pb2b2f1a594)\" style=\"fill: #4c72b0; opacity: 0.4; stroke: #ffffff; stroke-linejoin: miter\"/>\n   </g>\n   <g id=\"patch_40\">\n    <path d=\"M 595.205655 465.309375 \nL 606.303417 465.309375 \nL 606.303417 354.680804 \nL 595.205655 354.680804 \nz\n\" clip-path=\"url(#pb2b2f1a594)\" style=\"fill: #4c72b0; opacity: 0.4; stroke: #ffffff; stroke-linejoin: miter\"/>\n   </g>\n   <g id=\"patch_41\">\n    <path d=\"M 606.303417 465.309375 \nL 617.40118 465.309375 \nL 617.40118 364.737946 \nL 606.303417 364.737946 \nz\n\" clip-path=\"url(#pb2b2f1a594)\" style=\"fill: #4c72b0; opacity: 0.4; stroke: #ffffff; stroke-linejoin: miter\"/>\n   </g>\n   <g id=\"patch_42\">\n    <path d=\"M 617.40118 465.309375 \nL 628.498943 465.309375 \nL 628.498943 334.566518 \nL 617.40118 334.566518 \nz\n\" clip-path=\"url(#pb2b2f1a594)\" style=\"fill: #4c72b0; opacity: 0.4; stroke: #ffffff; stroke-linejoin: miter\"/>\n   </g>\n   <g id=\"patch_43\">\n    <path d=\"M 628.498943 465.309375 \nL 639.596706 465.309375 \nL 639.596706 425.080804 \nL 628.498943 425.080804 \nz\n\" clip-path=\"url(#pb2b2f1a594)\" style=\"fill: #4c72b0; opacity: 0.4; stroke: #ffffff; stroke-linejoin: miter\"/>\n   </g>\n   <g id=\"patch_44\">\n    <path d=\"M 639.596706 465.309375 \nL 650.694469 465.309375 \nL 650.694469 394.909375 \nL 639.596706 394.909375 \nz\n\" clip-path=\"url(#pb2b2f1a594)\" style=\"fill: #4c72b0; opacity: 0.4; stroke: #ffffff; stroke-linejoin: miter\"/>\n   </g>\n   <g id=\"patch_45\">\n    <path d=\"M 650.694469 465.309375 \nL 661.792232 465.309375 \nL 661.792232 415.023661 \nL 650.694469 415.023661 \nz\n\" clip-path=\"url(#pb2b2f1a594)\" style=\"fill: #4c72b0; opacity: 0.4; stroke: #ffffff; stroke-linejoin: miter\"/>\n   </g>\n   <g id=\"patch_46\">\n    <path d=\"M 661.792232 465.309375 \nL 672.889995 465.309375 \nL 672.889995 394.909375 \nL 661.792232 394.909375 \nz\n\" clip-path=\"url(#pb2b2f1a594)\" style=\"fill: #4c72b0; opacity: 0.4; stroke: #ffffff; stroke-linejoin: miter\"/>\n   </g>\n   <g id=\"patch_47\">\n    <path d=\"M 672.889995 465.309375 \nL 683.987758 465.309375 \nL 683.987758 425.080804 \nL 672.889995 425.080804 \nz\n\" clip-path=\"url(#pb2b2f1a594)\" style=\"fill: #4c72b0; opacity: 0.4; stroke: #ffffff; stroke-linejoin: miter\"/>\n   </g>\n   <g id=\"patch_48\">\n    <path d=\"M 683.987758 465.309375 \nL 695.085521 465.309375 \nL 695.085521 445.195089 \nL 683.987758 445.195089 \nz\n\" clip-path=\"url(#pb2b2f1a594)\" style=\"fill: #4c72b0; opacity: 0.4; stroke: #ffffff; stroke-linejoin: miter\"/>\n   </g>\n   <g id=\"patch_49\">\n    <path d=\"M 695.085521 465.309375 \nL 706.183283 465.309375 \nL 706.183283 415.023661 \nL 695.085521 415.023661 \nz\n\" clip-path=\"url(#pb2b2f1a594)\" style=\"fill: #4c72b0; opacity: 0.4; stroke: #ffffff; stroke-linejoin: miter\"/>\n   </g>\n   <g id=\"patch_50\">\n    <path d=\"M 706.183283 465.309375 \nL 717.281046 465.309375 \nL 717.281046 435.137946 \nL 706.183283 435.137946 \nz\n\" clip-path=\"url(#pb2b2f1a594)\" style=\"fill: #4c72b0; opacity: 0.4; stroke: #ffffff; stroke-linejoin: miter\"/>\n   </g>\n   <g id=\"patch_51\">\n    <path d=\"M 717.281046 465.309375 \nL 728.378809 465.309375 \nL 728.378809 465.309375 \nL 717.281046 465.309375 \nz\n\" clip-path=\"url(#pb2b2f1a594)\" style=\"fill: #4c72b0; opacity: 0.4; stroke: #ffffff; stroke-linejoin: miter\"/>\n   </g>\n   <g id=\"patch_52\">\n    <path d=\"M 728.378809 465.309375 \nL 739.476572 465.309375 \nL 739.476572 455.252232 \nL 728.378809 455.252232 \nz\n\" clip-path=\"url(#pb2b2f1a594)\" style=\"fill: #4c72b0; opacity: 0.4; stroke: #ffffff; stroke-linejoin: miter\"/>\n   </g>\n   <g id=\"line2d_15\">\n    <path d=\"M 106.941591 465.287903 \nL 124.785355 465.16141 \nL 135.491614 464.920719 \nL 146.197872 464.415225 \nL 153.335378 463.853799 \nL 160.472884 463.056926 \nL 167.610389 461.985771 \nL 174.747895 460.620329 \nL 181.885401 458.968851 \nL 189.022907 457.073051 \nL 199.729165 453.931882 \nL 231.847941 444.08975 \nL 238.985447 441.610429 \nL 246.122952 438.781081 \nL 249.691705 437.194748 \nL 253.260458 435.473521 \nL 256.829211 433.602412 \nL 260.397964 431.566312 \nL 263.966717 429.349729 \nL 267.535469 426.936737 \nL 271.104222 424.311247 \nL 274.672975 421.457637 \nL 278.241728 418.361732 \nL 281.810481 415.012046 \nL 285.379234 411.401138 \nL 288.947987 407.52689 \nL 292.516739 403.393488 \nL 296.085492 399.011919 \nL 299.654245 394.399818 \nL 306.791751 384.581912 \nL 313.929257 374.164717 \nL 321.066762 363.36732 \nL 331.773021 346.74004 \nL 338.910526 335.371333 \nL 346.048032 323.663295 \nL 353.185538 311.487066 \nL 360.323044 298.737509 \nL 367.460549 285.352452 \nL 374.598055 271.311169 \nL 381.735561 256.634538 \nL 388.873066 241.404762 \nL 410.285584 194.916432 \nL 413.854336 187.637873 \nL 417.423089 180.691454 \nL 420.991842 174.157499 \nL 424.560595 168.112351 \nL 428.129348 162.624447 \nL 431.698101 157.750462 \nL 435.266854 153.53186 \nL 438.835606 149.992115 \nL 442.404359 147.134923 \nL 445.973112 144.943622 \nL 449.541865 143.381983 \nL 453.110618 142.39643 \nL 456.679371 141.919613 \nL 460.248124 141.875167 \nL 463.816876 142.183335 \nL 467.385629 142.767065 \nL 470.954382 143.558097 \nL 474.523135 144.502496 \nL 481.660641 146.732436 \nL 485.229394 148.013505 \nL 488.798146 149.438522 \nL 492.366899 151.055246 \nL 495.935652 152.923336 \nL 499.504405 155.107155 \nL 503.073158 157.667785 \nL 506.641911 160.655165 \nL 510.210664 164.101342 \nL 513.779416 168.015729 \nL 517.348169 172.383075 \nL 520.916922 177.164484 \nL 524.485675 182.301437 \nL 528.054428 187.722311 \nL 535.191934 199.113432 \nL 549.466945 222.588738 \nL 556.604451 234.522757 \nL 563.741956 246.959115 \nL 567.310709 253.485758 \nL 570.879462 260.265316 \nL 574.448215 267.312718 \nL 581.585721 282.169046 \nL 588.723226 297.774103 \nL 599.429485 321.405011 \nL 606.566991 336.408634 \nL 610.135743 343.48266 \nL 613.704496 350.205707 \nL 617.273249 356.544442 \nL 620.842002 362.478544 \nL 624.410755 368.00014 \nL 627.979508 373.112829 \nL 631.548261 377.830437 \nL 635.117013 382.175604 \nL 638.685766 386.178249 \nL 642.254519 389.873916 \nL 645.823272 393.302015 \nL 649.392025 396.503992 \nL 656.529531 402.394457 \nL 663.667036 407.849815 \nL 677.942048 418.312397 \nL 706.492071 439.041622 \nL 713.629576 443.875163 \nL 720.767082 448.328137 \nL 724.335835 450.370415 \nL 727.904588 452.271579 \nL 731.473341 454.021814 \nL 735.042093 455.615123 \nL 738.610846 457.04952 \nL 742.179599 458.326898 \nL 745.748352 459.452608 \nL 749.317105 460.434821 \nL 752.885858 461.283784 \nL 760.023363 462.628771 \nL 767.160869 463.583881 \nL 774.298375 464.239887 \nL 781.435881 464.674383 \nL 792.142139 465.044705 \nL 806.417151 465.242016 \nL 817.123409 465.288998 \nL 817.123409 465.288998 \n\" clip-path=\"url(#pb2b2f1a594)\" style=\"fill: none; stroke: #4c72b0; stroke-width: 1.5; stroke-linecap: round\"/>\n   </g>\n   <g id=\"patch_53\">\n    <path d=\"M 71.4325 465.309375 \nL 71.4325 21.789375 \n\" style=\"fill: none; stroke: #ffffff; stroke-width: 1.25; stroke-linejoin: miter; stroke-linecap: square\"/>\n   </g>\n   <g id=\"patch_54\">\n    <path d=\"M 852.6325 465.309375 \nL 852.6325 21.789375 \n\" style=\"fill: none; stroke: #ffffff; stroke-width: 1.25; stroke-linejoin: miter; stroke-linecap: square\"/>\n   </g>\n   <g id=\"patch_55\">\n    <path d=\"M 71.4325 465.309375 \nL 852.6325 465.309375 \n\" style=\"fill: none; stroke: #ffffff; stroke-width: 1.25; stroke-linejoin: miter; stroke-linecap: square\"/>\n   </g>\n   <g id=\"patch_56\">\n    <path d=\"M 71.4325 21.789375 \nL 852.6325 21.789375 \n\" style=\"fill: none; stroke: #ffffff; stroke-width: 1.25; stroke-linejoin: miter; stroke-linecap: square\"/>\n   </g>\n   <g id=\"text_17\">\n    <!-- Универге кунделикти келетин адамдар саны -->\n    <g style=\"fill: #262626\" transform=\"translate(338.382812 15.789375) scale(0.12 -0.12)\">\n     <defs>\n      <path id=\"ArialMT-423\" d=\"M 31 4581 \nL 644 4581 \nL 2138 1775 \nL 3444 4581 \nL 4047 4581 \nL 2328 1019 \nQ 2006 350 1800 143 \nQ 1594 -63 1209 -63 \nQ 975 -63 634 47 \nL 634 566 \nQ 878 425 1150 425 \nQ 1372 425 1533 567 \nQ 1694 709 1888 1216 \nL 31 4581 \nz\n\" transform=\"scale(0.015625)\"/>\n      <path id=\"ArialMT-432\" d=\"M 425 3319 \nL 1722 3319 \nQ 2200 3319 2433 3239 \nQ 2666 3159 2833 2946 \nQ 3000 2734 3000 2438 \nQ 3000 2200 2901 2023 \nQ 2803 1847 2606 1728 \nQ 2841 1650 2995 1436 \nQ 3150 1222 3150 928 \nQ 3119 456 2812 228 \nQ 2506 0 1922 0 \nL 425 0 \nL 425 3319 \nz\nM 988 1922 \nL 1588 1922 \nQ 1947 1922 2081 1959 \nQ 2216 1997 2322 2111 \nQ 2428 2225 2428 2384 \nQ 2428 2647 2242 2750 \nQ 2056 2853 1606 2853 \nL 988 2853 \nL 988 1922 \nz\nM 988 463 \nL 1728 463 \nQ 2206 463 2384 573 \nQ 2563 684 2572 956 \nQ 2572 1116 2469 1252 \nQ 2366 1388 2200 1423 \nQ 2034 1459 1669 1459 \nL 988 1459 \nL 988 463 \nz\n\" transform=\"scale(0.015625)\"/>\n      <path id=\"ArialMT-433\" d=\"M 425 3319 \nL 2334 3319 \nL 2334 2853 \nL 988 2853 \nL 988 0 \nL 425 0 \nL 425 3319 \nz\n\" transform=\"scale(0.015625)\"/>\n      <path id=\"ArialMT-20\" transform=\"scale(0.015625)\"/>\n      <path id=\"ArialMT-430\" d=\"M 2588 409 \nQ 2275 144 1986 34 \nQ 1697 -75 1366 -75 \nQ 819 -75 525 192 \nQ 231 459 231 875 \nQ 231 1119 342 1320 \nQ 453 1522 633 1644 \nQ 813 1766 1038 1828 \nQ 1203 1872 1538 1913 \nQ 2219 1994 2541 2106 \nQ 2544 2222 2544 2253 \nQ 2544 2597 2384 2738 \nQ 2169 2928 1744 2928 \nQ 1347 2928 1158 2789 \nQ 969 2650 878 2297 \nL 328 2372 \nQ 403 2725 575 2942 \nQ 747 3159 1072 3276 \nQ 1397 3394 1825 3394 \nQ 2250 3394 2515 3294 \nQ 2781 3194 2906 3042 \nQ 3031 2891 3081 2659 \nQ 3109 2516 3109 2141 \nL 3109 1391 \nQ 3109 606 3145 398 \nQ 3181 191 3288 0 \nL 2700 0 \nQ 2613 175 2588 409 \nz\nM 2541 1666 \nQ 2234 1541 1622 1453 \nQ 1275 1403 1131 1340 \nQ 988 1278 909 1158 \nQ 831 1038 831 891 \nQ 831 666 1001 516 \nQ 1172 366 1500 366 \nQ 1825 366 2078 508 \nQ 2331 650 2450 897 \nQ 2541 1088 2541 1459 \nL 2541 1666 \nz\n\" transform=\"scale(0.015625)\"/>\n      <path id=\"ArialMT-43c\" d=\"M 438 3319 \nL 1313 3319 \nL 2184 663 \nL 3153 3319 \nL 3963 3319 \nL 3963 0 \nL 3400 0 \nL 3400 2672 \nL 2419 0 \nL 1916 0 \nL 988 2800 \nL 988 0 \nL 438 0 \nL 438 3319 \nz\n\" transform=\"scale(0.015625)\"/>\n      <path id=\"ArialMT-441\" d=\"M 2588 1216 \nL 3141 1144 \nQ 3050 572 2676 248 \nQ 2303 -75 1759 -75 \nQ 1078 -75 664 370 \nQ 250 816 250 1647 \nQ 250 2184 428 2587 \nQ 606 2991 970 3192 \nQ 1334 3394 1763 3394 \nQ 2303 3394 2647 3120 \nQ 2991 2847 3088 2344 \nL 2541 2259 \nQ 2463 2594 2264 2762 \nQ 2066 2931 1784 2931 \nQ 1359 2931 1093 2626 \nQ 828 2322 828 1663 \nQ 828 994 1084 691 \nQ 1341 388 1753 388 \nQ 2084 388 2306 591 \nQ 2528 794 2588 1216 \nz\n\" transform=\"scale(0.015625)\"/>\n      <path id=\"ArialMT-44b\" d=\"M 3581 3319 \nL 4144 3319 \nL 4144 0 \nL 3581 0 \nL 3581 3319 \nz\nM 434 3319 \nL 997 3319 \nL 997 2022 \nL 1709 2022 \nQ 2406 2022 2782 1751 \nQ 3159 1481 3159 1006 \nQ 3159 591 2845 295 \nQ 2531 0 1841 0 \nL 434 0 \nL 434 3319 \nz\nM 997 463 \nL 1588 463 \nQ 2122 463 2350 594 \nQ 2578 725 2578 1003 \nQ 2578 1219 2409 1387 \nQ 2241 1556 1663 1556 \nL 997 1556 \nL 997 463 \nz\n\" transform=\"scale(0.015625)\"/>\n     </defs>\n     <use xlink:href=\"#ArialMT-423\"/>\n     <use xlink:href=\"#ArialMT-43d\" x=\"59.025391\"/>\n     <use xlink:href=\"#ArialMT-438\" x=\"114.25\"/>\n     <use xlink:href=\"#ArialMT-432\" x=\"170.109375\"/>\n     <use xlink:href=\"#ArialMT-435\" x=\"222.109375\"/>\n     <use xlink:href=\"#ArialMT-440\" x=\"277.724609\"/>\n     <use xlink:href=\"#ArialMT-433\" x=\"333.339844\"/>\n     <use xlink:href=\"#ArialMT-435\" x=\"367.564453\"/>\n     <use xlink:href=\"#ArialMT-20\" x=\"423.179688\"/>\n     <use xlink:href=\"#ArialMT-43a\" x=\"450.962891\"/>\n     <use xlink:href=\"#ArialMT-443\" x=\"495.837891\"/>\n     <use xlink:href=\"#ArialMT-43d\" x=\"545.837891\"/>\n     <use xlink:href=\"#ArialMT-434\" x=\"601.0625\"/>\n     <use xlink:href=\"#ArialMT-435\" x=\"659.412109\"/>\n     <use xlink:href=\"#ArialMT-43b\" x=\"711.652344\"/>\n     <use xlink:href=\"#ArialMT-438\" x=\"770.001953\"/>\n     <use xlink:href=\"#ArialMT-43a\" x=\"825.861328\"/>\n     <use xlink:href=\"#ArialMT-442\" x=\"870.736328\"/>\n     <use xlink:href=\"#ArialMT-438\" x=\"916.537109\"/>\n     <use xlink:href=\"#ArialMT-20\" x=\"972.396484\"/>\n     <use xlink:href=\"#ArialMT-43a\" x=\"1000.179688\"/>\n     <use xlink:href=\"#ArialMT-435\" x=\"1045.054688\"/>\n     <use xlink:href=\"#ArialMT-43b\" x=\"1097.294922\"/>\n     <use xlink:href=\"#ArialMT-435\" x=\"1155.644531\"/>\n     <use xlink:href=\"#ArialMT-442\" x=\"1207.884766\"/>\n     <use xlink:href=\"#ArialMT-438\" x=\"1253.685547\"/>\n     <use xlink:href=\"#ArialMT-43d\" x=\"1309.544922\"/>\n     <use xlink:href=\"#ArialMT-20\" x=\"1364.769531\"/>\n     <use xlink:href=\"#ArialMT-430\" x=\"1392.552734\"/>\n     <use xlink:href=\"#ArialMT-434\" x=\"1448.167969\"/>\n     <use xlink:href=\"#ArialMT-430\" x=\"1506.517578\"/>\n     <use xlink:href=\"#ArialMT-43c\" x=\"1562.132812\"/>\n     <use xlink:href=\"#ArialMT-434\" x=\"1630.882812\"/>\n     <use xlink:href=\"#ArialMT-430\" x=\"1689.232422\"/>\n     <use xlink:href=\"#ArialMT-440\" x=\"1744.847656\"/>\n     <use xlink:href=\"#ArialMT-20\" x=\"1800.462891\"/>\n     <use xlink:href=\"#ArialMT-441\" x=\"1828.246094\"/>\n     <use xlink:href=\"#ArialMT-430\" x=\"1878.246094\"/>\n     <use xlink:href=\"#ArialMT-43d\" x=\"1933.861328\"/>\n     <use xlink:href=\"#ArialMT-44b\" x=\"1989.085938\"/>\n    </g>\n   </g>\n  </g>\n </g>\n <defs>\n  <clipPath id=\"pb2b2f1a594\">\n   <rect x=\"71.4325\" y=\"21.789375\" width=\"781.2\" height=\"443.52\"/>\n  </clipPath>\n </defs>\n</svg>\n"
     },
     "metadata": {},
     "output_type": "display_data"
    }
   ],
   "source": [
    "np.random.seed(0)\n",
    "\n",
    "students = np.random.normal(15000, 5000, 730)\n",
    "\n",
    "plt.figure(figsize=(14,8))\n",
    "\n",
    "sns.distplot(students, bins=50)\n",
    "\n",
    "plt.title('Универге кунделикти келетин адамдар саны')\n",
    "plt.xlabel('Студенттер')\n",
    "plt.ylabel('Жиілік')\n",
    "\n",
    "plt.show()\n"
   ],
   "metadata": {
    "collapsed": false
   }
  },
  {
   "cell_type": "code",
   "execution_count": 50,
   "outputs": [],
   "source": [
    "import numpy as np\n",
    "import matplotlib.pyplot as plt\n",
    "import pandas as pd\n",
    "import seaborn as sns\n",
    "from random import randint as r"
   ],
   "metadata": {
    "collapsed": false
   }
  },
  {
   "cell_type": "code",
   "execution_count": 39,
   "outputs": [],
   "source": [
    "data = {i : np.random.randn() for i in range(7)}"
   ],
   "metadata": {
    "collapsed": false
   }
  },
  {
   "cell_type": "code",
   "execution_count": 66,
   "outputs": [
    {
     "data": {
      "text/plain": "array([[-1.03311829,  1.0084273 ,  0.16149298],\n       [-0.20144378,  0.38930261, -0.82913925],\n       [ 0.421918  ,  0.08427671, -0.53689619]])"
     },
     "execution_count": 66,
     "metadata": {},
     "output_type": "execute_result"
    }
   ],
   "source": [
    "data= np.random.randn(3, 3)\n",
    "data"
   ],
   "metadata": {
    "collapsed": false
   }
  },
  {
   "cell_type": "code",
   "execution_count": 67,
   "outputs": [
    {
     "data": {
      "text/plain": "array([[-2.06623658,  2.0168546 ,  0.32298595],\n       [-0.40288756,  0.77860522, -1.6582785 ],\n       [ 0.843836  ,  0.16855343, -1.07379238]])"
     },
     "execution_count": 67,
     "metadata": {},
     "output_type": "execute_result"
    }
   ],
   "source": [
    "data+data"
   ],
   "metadata": {
    "collapsed": false
   }
  },
  {
   "cell_type": "code",
   "execution_count": 70,
   "outputs": [
    {
     "data": {
      "text/plain": "array([[-2.06623658,  2.0168546 ,  0.32298595],\n       [-0.40288756,  0.77860522, -1.6582785 ],\n       [ 0.843836  ,  0.16855343, -1.07379238]])"
     },
     "execution_count": 70,
     "metadata": {},
     "output_type": "execute_result"
    }
   ],
   "source": [
    "data*2"
   ],
   "metadata": {
    "collapsed": false
   }
  },
  {
   "cell_type": "code",
   "execution_count": 69,
   "outputs": [
    {
     "data": {
      "text/plain": "array([[1., 1., 1.],\n       [1., 1., 1.],\n       [1., 1., 1.]])"
     },
     "execution_count": 69,
     "metadata": {},
     "output_type": "execute_result"
    }
   ],
   "source": [
    "data/data"
   ],
   "metadata": {
    "collapsed": false
   }
  },
  {
   "cell_type": "code",
   "execution_count": 90,
   "outputs": [
    {
     "data": {
      "text/plain": "array([-0.03397095,  0.27140736,  0.09616771, -1.03476641, -1.27379152,\n        1.3903857 ,  2.24166326, -0.50559003,  0.99180683, -1.60484148])"
     },
     "execution_count": 90,
     "metadata": {},
     "output_type": "execute_result"
    }
   ],
   "source": [
    "array = [np.random.randn() for i in range(10)]\n",
    "arraynp = np.array(array, dtype=float)\n",
    "arraynp"
   ],
   "metadata": {
    "collapsed": false
   }
  },
  {
   "cell_type": "code",
   "execution_count": null,
   "outputs": [],
   "source": [],
   "metadata": {
    "collapsed": false
   }
  },
  {
   "cell_type": "code",
   "execution_count": 89,
   "outputs": [
    {
     "data": {
      "text/plain": "array([[-8., -8.,  2., -2.],\n       [-8., -6.,  3., 10.]])"
     },
     "execution_count": 89,
     "metadata": {},
     "output_type": "execute_result"
    }
   ],
   "source": [
    "array1 = [[r(-10, 10) for i in range(4) ] for j in range(2)]\n",
    "arraynp1 = np.array(array1, dtype=float)\n",
    "arraynp1\n"
   ],
   "metadata": {
    "collapsed": false
   }
  },
  {
   "cell_type": "code",
   "execution_count": 91,
   "outputs": [
    {
     "data": {
      "text/plain": "array([[-16., -16.,   4.,  -4.],\n       [-16., -12.,   6.,  20.]])"
     },
     "execution_count": 91,
     "metadata": {},
     "output_type": "execute_result"
    }
   ],
   "source": [
    "arraynp1+arraynp1"
   ],
   "metadata": {
    "collapsed": false
   }
  },
  {
   "cell_type": "code",
   "execution_count": 92,
   "outputs": [
    {
     "data": {
      "text/plain": "array([[ 64.,  64.,   4.,   4.],\n       [ 64.,  36.,   9., 100.]])"
     },
     "execution_count": 92,
     "metadata": {},
     "output_type": "execute_result"
    }
   ],
   "source": [
    "arraynp1*arraynp1"
   ],
   "metadata": {
    "collapsed": false
   }
  },
  {
   "cell_type": "code",
   "execution_count": 93,
   "outputs": [
    {
     "data": {
      "text/plain": "array([[1., 1., 1., 1.],\n       [1., 1., 1., 1.]])"
     },
     "execution_count": 93,
     "metadata": {},
     "output_type": "execute_result"
    }
   ],
   "source": [
    "arraynp1/arraynp1"
   ],
   "metadata": {
    "collapsed": false
   }
  },
  {
   "cell_type": "code",
   "execution_count": 94,
   "outputs": [
    {
     "data": {
      "text/plain": "dtype('float64')"
     },
     "execution_count": 94,
     "metadata": {},
     "output_type": "execute_result"
    }
   ],
   "source": [
    "arraynp1.dtype"
   ],
   "metadata": {
    "collapsed": false
   }
  },
  {
   "cell_type": "code",
   "execution_count": 84,
   "outputs": [
    {
     "data": {
      "text/plain": "(2, 4)"
     },
     "execution_count": 84,
     "metadata": {},
     "output_type": "execute_result"
    }
   ],
   "source": [
    "arraynp1.shape"
   ],
   "metadata": {
    "collapsed": false
   }
  },
  {
   "cell_type": "code",
   "execution_count": 86,
   "outputs": [
    {
     "data": {
      "text/plain": "array([[0., 0., 0., 0., 0.],\n       [0., 0., 0., 0., 0.],\n       [0., 0., 0., 0., 0.]])"
     },
     "execution_count": 86,
     "metadata": {},
     "output_type": "execute_result"
    }
   ],
   "source": [
    "np.zeros((3, 5))"
   ],
   "metadata": {
    "collapsed": false
   }
  },
  {
   "cell_type": "code",
   "execution_count": 88,
   "outputs": [
    {
     "data": {
      "text/plain": "array([1., 2., 3.])"
     },
     "execution_count": 88,
     "metadata": {},
     "output_type": "execute_result"
    }
   ],
   "source": [
    "arr1 = np.array([1, 2, 3], dtype=np.float64)\n",
    "arr1"
   ],
   "metadata": {
    "collapsed": false
   }
  },
  {
   "cell_type": "code",
   "execution_count": 2,
   "outputs": [],
   "source": [
    "from sklearn import datasets\n",
    "from sklearn import preprocessing\n",
    "import numpy as np"
   ],
   "metadata": {
    "collapsed": false
   }
  },
  {
   "cell_type": "code",
   "execution_count": 33,
   "outputs": [
    {
     "name": "stdout",
     "output_type": "stream",
     "text": [
      "[[1.423e+01 1.710e+00 2.430e+00 ... 1.040e+00 3.920e+00 1.065e+03]\n",
      " [1.320e+01 1.780e+00 2.140e+00 ... 1.050e+00 3.400e+00 1.050e+03]\n",
      " [1.316e+01 2.360e+00 2.670e+00 ... 1.030e+00 3.170e+00 1.185e+03]\n",
      " ...\n",
      " [1.327e+01 4.280e+00 2.260e+00 ... 5.900e-01 1.560e+00 8.350e+02]\n",
      " [1.317e+01 2.590e+00 2.370e+00 ... 6.000e-01 1.620e+00 8.400e+02]\n",
      " [1.413e+01 4.100e+00 2.740e+00 ... 6.100e-01 1.600e+00 5.600e+02]]\n"
     ]
    }
   ],
   "source": [
    "house_prices = datasets.load_wine()\n",
    "print(house_prices.data)\n"
   ],
   "metadata": {
    "collapsed": false
   }
  },
  {
   "cell_type": "code",
   "execution_count": 13,
   "outputs": [
    {
     "name": "stdout",
     "output_type": "stream",
     "text": [
      "[151.  75. 141. 206. 135.  97. 138.  63. 110. 310. 101.  69. 179. 185.\n",
      " 118. 171. 166. 144.  97. 168.  68.  49.  68. 245. 184. 202. 137.  85.\n",
      " 131. 283. 129.  59. 341.  87.  65. 102. 265. 276. 252.  90. 100.  55.\n",
      "  61.  92. 259.  53. 190. 142.  75. 142. 155. 225.  59. 104. 182. 128.\n",
      "  52.  37. 170. 170.  61. 144.  52. 128.  71. 163. 150.  97. 160. 178.\n",
      "  48. 270. 202. 111.  85.  42. 170. 200. 252. 113. 143.  51.  52. 210.\n",
      "  65. 141.  55. 134.  42. 111.  98. 164.  48.  96.  90. 162. 150. 279.\n",
      "  92.  83. 128. 102. 302. 198.  95.  53. 134. 144. 232.  81. 104.  59.\n",
      " 246. 297. 258. 229. 275. 281. 179. 200. 200. 173. 180.  84. 121. 161.\n",
      "  99. 109. 115. 268. 274. 158. 107.  83. 103. 272.  85. 280. 336. 281.\n",
      " 118. 317. 235.  60. 174. 259. 178. 128.  96. 126. 288.  88. 292.  71.\n",
      " 197. 186.  25.  84.  96. 195.  53. 217. 172. 131. 214.  59.  70. 220.\n",
      " 268. 152.  47.  74. 295. 101. 151. 127. 237. 225.  81. 151. 107.  64.\n",
      " 138. 185. 265. 101. 137. 143. 141.  79. 292. 178.  91. 116.  86. 122.\n",
      "  72. 129. 142.  90. 158.  39. 196. 222. 277.  99. 196. 202. 155.  77.\n",
      " 191.  70.  73.  49.  65. 263. 248. 296. 214. 185.  78.  93. 252. 150.\n",
      "  77. 208.  77. 108. 160.  53. 220. 154. 259.  90. 246. 124.  67.  72.\n",
      " 257. 262. 275. 177.  71.  47. 187. 125.  78.  51. 258. 215. 303. 243.\n",
      "  91. 150. 310. 153. 346.  63.  89.  50.  39. 103. 308. 116. 145.  74.\n",
      "  45. 115. 264.  87. 202. 127. 182. 241.  66.  94. 283.  64. 102. 200.\n",
      " 265.  94. 230. 181. 156. 233.  60. 219.  80.  68. 332. 248.  84. 200.\n",
      "  55.  85.  89.  31. 129.  83. 275.  65. 198. 236. 253. 124.  44. 172.\n",
      " 114. 142. 109. 180. 144. 163. 147.  97. 220. 190. 109. 191. 122. 230.\n",
      " 242. 248. 249. 192. 131. 237.  78. 135. 244. 199. 270. 164.  72.  96.\n",
      " 306.  91. 214.  95. 216. 263. 178. 113. 200. 139. 139.  88. 148.  88.\n",
      " 243.  71.  77. 109. 272.  60.  54. 221.  90. 311. 281. 182. 321.  58.\n",
      " 262. 206. 233. 242. 123. 167.  63. 197.  71. 168. 140. 217. 121. 235.\n",
      " 245.  40.  52. 104. 132.  88.  69. 219.  72. 201. 110.  51. 277.  63.\n",
      " 118.  69. 273. 258.  43. 198. 242. 232. 175.  93. 168. 275. 293. 281.\n",
      "  72. 140. 189. 181. 209. 136. 261. 113. 131. 174. 257.  55.  84.  42.\n",
      " 146. 212. 233.  91. 111. 152. 120.  67. 310.  94. 183.  66. 173.  72.\n",
      "  49.  64.  48. 178. 104. 132. 220.  57.]\n"
     ]
    }
   ],
   "source": [
    "print(house_prices.target)"
   ],
   "metadata": {
    "collapsed": false
   }
  },
  {
   "cell_type": "code",
   "execution_count": 4,
   "outputs": [
    {
     "name": "stdout",
     "output_type": "stream",
     "text": [
      "[[ 0.  0.  5. ...  0.  0.  0.]\n",
      " [ 0.  0.  0. ... 10.  0.  0.]\n",
      " [ 0.  0.  0. ... 16.  9.  0.]\n",
      " ...\n",
      " [ 0.  0.  1. ...  6.  0.  0.]\n",
      " [ 0.  0.  2. ... 12.  0.  0.]\n",
      " [ 0.  0. 10. ... 12.  1.  0.]]\n"
     ]
    }
   ],
   "source": [
    "digits = datasets.load_digits()\n",
    "print(digits.data)"
   ],
   "metadata": {
    "collapsed": false
   }
  },
  {
   "cell_type": "code",
   "execution_count": 15,
   "outputs": [],
   "source": [
    "input_data = np.array([[5.1, -2.9, 3.3],\n",
    "                      [-1.2, 7.8, -6.1],\n",
    "                      [3.9, 0.4, 2.1],\n",
    "                      [7.3, -9.9, -4.5]])"
   ],
   "metadata": {
    "collapsed": false
   }
  },
  {
   "cell_type": "code",
   "execution_count": 16,
   "outputs": [
    {
     "name": "stdout",
     "output_type": "stream",
     "text": [
      "\n",
      "Binarized data:\n",
      " [[1. 0. 1.]\n",
      " [0. 1. 0.]\n",
      " [1. 0. 0.]\n",
      " [1. 0. 0.]]\n"
     ]
    }
   ],
   "source": [
    "# Бинаризация данных\n",
    "data_binarized = preprocessing.Binarizer(threshold=2.1).transform(input_data)\n",
    "print(\"\\nBinarized data:\\n\", data_binarized)"
   ],
   "metadata": {
    "collapsed": false
   }
  },
  {
   "cell_type": "code",
   "execution_count": 29,
   "outputs": [
    {
     "name": "stdout",
     "output_type": "stream",
     "text": [
      "\n",
      "BEFORE:\n",
      "Mean = [ 3.775 -1.15  -1.3  ]\n",
      "Std deviation = [3.12039661 6.36651396 4.0620192 ]\n",
      "\n",
      "AFTER: \n",
      "Mean = [1.11022302e-16 0.00000000e+00 2.77555756e-17]\n",
      "Std deviation = [1. 1. 1.]\n"
     ]
    }
   ],
   "source": [
    "# Вывод среднего значения и стандартного отклонения\n",
    "print (\"\\nBEFORE:\")\n",
    "print(\"Mean =\", input_data.mean(axis = 0))\n",
    "print(\"Std deviation =\", input_data.std(axis = 0))\n",
    "\n",
    "# Исключение среднего\n",
    "data_scaled = preprocessing.scale(input_data)\n",
    "print (\"\\nAFTER: \")\n",
    "print(\"Mean =\", data_scaled.mean(axis=0))\n",
    "print(\"Std deviation =\", data_scaled.std(axis=0))"
   ],
   "metadata": {
    "collapsed": false
   }
  },
  {
   "cell_type": "code",
   "execution_count": 19,
   "outputs": [
    {
     "name": "stdout",
     "output_type": "stream",
     "text": [
      "\n",
      "Мin max scaled data:\n",
      " [[0.74117647 0.39548023 1.        ]\n",
      " [0.         1.         0.        ]\n",
      " [0.6        0.5819209  0.87234043]\n",
      " [1.         0.         0.17021277]]\n"
     ]
    }
   ],
   "source": [
    "# Масштабирование MinМax\n",
    "data_scaler_minmax = preprocessing.MinMaxScaler(feature_range=(0, 1))\n",
    "data_scaled_minmax = data_scaler_minmax.fit_transform(input_data)\n",
    "print(\"\\nМin max scaled data:\\n\", data_scaled_minmax)"
   ],
   "metadata": {
    "collapsed": false
   }
  },
  {
   "cell_type": "code",
   "execution_count": 20,
   "outputs": [
    {
     "name": "stdout",
     "output_type": "stream",
     "text": [
      "\n",
      "L1normalized data:\n",
      " [[ 0.45132743 -0.25663717  0.2920354 ]\n",
      " [-0.0794702   0.51655629 -0.40397351]\n",
      " [ 0.609375    0.0625      0.328125  ]\n",
      " [ 0.33640553 -0.4562212  -0.20737327]]\n",
      "\n",
      "12 normalized data:\n",
      " [[ 0.75765788 -0.43082507  0.49024922]\n",
      " [-0.12030718  0.78199664 -0.61156148]\n",
      " [ 0.87690281  0.08993875  0.47217844]\n",
      " [ 0.55734935 -0.75585734 -0.34357152]]\n"
     ]
    }
   ],
   "source": [
    "# Нормализация данных\n",
    "data_normalized_l1 = preprocessing.normalize(input_data, norm='l1')\n",
    "data_normalized_l2 = preprocessing.normalize(input_data, norm='l2')\n",
    "print(\"\\nL1 normalized data:\\n\", data_normalized_l1)\n",
    "print(\"\\n12 normalized data:\\n\", data_normalized_l2)"
   ],
   "metadata": {
    "collapsed": false
   }
  },
  {
   "cell_type": "code",
   "execution_count": 23,
   "outputs": [],
   "source": [
    "# Предоставление меток входных данных\n",
    "input_labels = ['red', 'blасk', 'red', 'green', 'black', 'yellow', 'white']"
   ],
   "metadata": {
    "collapsed": false
   }
  },
  {
   "cell_type": "code",
   "execution_count": 25,
   "outputs": [
    {
     "name": "stdout",
     "output_type": "stream",
     "text": [
      "\n",
      "Label rnapping:\n",
      "black --> 0\n",
      "blасk --> 1\n",
      "green --> 2\n",
      "red --> 3\n",
      "white --> 4\n",
      "yellow --> 5\n"
     ]
    }
   ],
   "source": [
    "# Создание кодировщика и установление соответствия между метками и числами\n",
    "encoder = preprocessing.LabelEncoder()\n",
    "encoder.fit(input_labels)\n",
    "\n",
    "# Вывод отображения\n",
    "print(\"\\nLabel rnapping:\")\n",
    "for i, item in enumerate(encoder.classes_):\n",
    "    print(item, '-->', i)"
   ],
   "metadata": {
    "collapsed": false
   }
  },
  {
   "cell_type": "code",
   "execution_count": 28,
   "outputs": [
    {
     "name": "stdout",
     "output_type": "stream",
     "text": [
      "\n",
      "Labels = ['green', 'red', 'black']\n",
      "Encoded values = [2, 3, 0]\n"
     ]
    }
   ],
   "source": [
    "test_labels = ['green', 'red', 'black']\n",
    "encoded_values = encoder.transform(test_labels)\n",
    "print(\"\\nLabels =\", test_labels)\n",
    "print(\"Encoded values =\", list(encoded_values))"
   ],
   "metadata": {
    "collapsed": false
   }
  },
  {
   "cell_type": "code",
   "execution_count": 27,
   "outputs": [
    {
     "name": "stdout",
     "output_type": "stream",
     "text": [
      "\n",
      "Encoded values = [3, 0, 4, 1]\n",
      "Decoded labels = ['red', 'black', 'white', 'blасk']\n"
     ]
    }
   ],
   "source": [
    "encoded_values = [3, 0, 4, 1]\n",
    "decoded_list = encoder.inverse_transform(encoded_values)\n",
    "print(\"\\nEncoded values =\", encoded_values)\n",
    "print(\"Decoded labels =\", list(decoded_list))"
   ],
   "metadata": {
    "collapsed": false
   }
  },
  {
   "cell_type": "code",
   "execution_count": 73,
   "outputs": [],
   "source": [
    "from utilites import visualize_classifier\n",
    "from sklearn import linear_model"
   ],
   "metadata": {
    "collapsed": false
   }
  },
  {
   "cell_type": "code",
   "execution_count": 74,
   "outputs": [],
   "source": [
    "# Определение образца входных данных\n",
    "X = np.array([[3.1, 7.2], [4, 6.7], [2.9, 8], [5.1, 4.5], [6, 5], [5.6, 5], [3.3, 0.4], [3.9, 0.9], [2.8, 1], [0.5, 3.4], [1, 4], [0.6, 4.9]])\n",
    "y = np.array([0, 0, 0, 1, 1, 1, 2, 2, 2, 3, 3, 3])\n"
   ],
   "metadata": {
    "collapsed": false
   }
  },
  {
   "cell_type": "code",
   "execution_count": 75,
   "outputs": [],
   "source": [
    "classifier = linear_model.LogisticRegression(solver='liblinear',C=1)"
   ],
   "metadata": {
    "collapsed": false
   }
  },
  {
   "cell_type": "code",
   "execution_count": 76,
   "outputs": [
    {
     "data": {
      "text/plain": "LogisticRegression(C=1, solver='liblinear')",
      "text/html": "<style>#sk-container-id-5 {color: black;background-color: white;}#sk-container-id-5 pre{padding: 0;}#sk-container-id-5 div.sk-toggleable {background-color: white;}#sk-container-id-5 label.sk-toggleable__label {cursor: pointer;display: block;width: 100%;margin-bottom: 0;padding: 0.3em;box-sizing: border-box;text-align: center;}#sk-container-id-5 label.sk-toggleable__label-arrow:before {content: \"▸\";float: left;margin-right: 0.25em;color: #696969;}#sk-container-id-5 label.sk-toggleable__label-arrow:hover:before {color: black;}#sk-container-id-5 div.sk-estimator:hover label.sk-toggleable__label-arrow:before {color: black;}#sk-container-id-5 div.sk-toggleable__content {max-height: 0;max-width: 0;overflow: hidden;text-align: left;background-color: #f0f8ff;}#sk-container-id-5 div.sk-toggleable__content pre {margin: 0.2em;color: black;border-radius: 0.25em;background-color: #f0f8ff;}#sk-container-id-5 input.sk-toggleable__control:checked~div.sk-toggleable__content {max-height: 200px;max-width: 100%;overflow: auto;}#sk-container-id-5 input.sk-toggleable__control:checked~label.sk-toggleable__label-arrow:before {content: \"▾\";}#sk-container-id-5 div.sk-estimator input.sk-toggleable__control:checked~label.sk-toggleable__label {background-color: #d4ebff;}#sk-container-id-5 div.sk-label input.sk-toggleable__control:checked~label.sk-toggleable__label {background-color: #d4ebff;}#sk-container-id-5 input.sk-hidden--visually {border: 0;clip: rect(1px 1px 1px 1px);clip: rect(1px, 1px, 1px, 1px);height: 1px;margin: -1px;overflow: hidden;padding: 0;position: absolute;width: 1px;}#sk-container-id-5 div.sk-estimator {font-family: monospace;background-color: #f0f8ff;border: 1px dotted black;border-radius: 0.25em;box-sizing: border-box;margin-bottom: 0.5em;}#sk-container-id-5 div.sk-estimator:hover {background-color: #d4ebff;}#sk-container-id-5 div.sk-parallel-item::after {content: \"\";width: 100%;border-bottom: 1px solid gray;flex-grow: 1;}#sk-container-id-5 div.sk-label:hover label.sk-toggleable__label {background-color: #d4ebff;}#sk-container-id-5 div.sk-serial::before {content: \"\";position: absolute;border-left: 1px solid gray;box-sizing: border-box;top: 0;bottom: 0;left: 50%;z-index: 0;}#sk-container-id-5 div.sk-serial {display: flex;flex-direction: column;align-items: center;background-color: white;padding-right: 0.2em;padding-left: 0.2em;position: relative;}#sk-container-id-5 div.sk-item {position: relative;z-index: 1;}#sk-container-id-5 div.sk-parallel {display: flex;align-items: stretch;justify-content: center;background-color: white;position: relative;}#sk-container-id-5 div.sk-item::before, #sk-container-id-5 div.sk-parallel-item::before {content: \"\";position: absolute;border-left: 1px solid gray;box-sizing: border-box;top: 0;bottom: 0;left: 50%;z-index: -1;}#sk-container-id-5 div.sk-parallel-item {display: flex;flex-direction: column;z-index: 1;position: relative;background-color: white;}#sk-container-id-5 div.sk-parallel-item:first-child::after {align-self: flex-end;width: 50%;}#sk-container-id-5 div.sk-parallel-item:last-child::after {align-self: flex-start;width: 50%;}#sk-container-id-5 div.sk-parallel-item:only-child::after {width: 0;}#sk-container-id-5 div.sk-dashed-wrapped {border: 1px dashed gray;margin: 0 0.4em 0.5em 0.4em;box-sizing: border-box;padding-bottom: 0.4em;background-color: white;}#sk-container-id-5 div.sk-label label {font-family: monospace;font-weight: bold;display: inline-block;line-height: 1.2em;}#sk-container-id-5 div.sk-label-container {text-align: center;}#sk-container-id-5 div.sk-container {/* jupyter's `normalize.less` sets `[hidden] { display: none; }` but bootstrap.min.css set `[hidden] { display: none !important; }` so we also need the `!important` here to be able to override the default hidden behavior on the sphinx rendered scikit-learn.org. See: https://github.com/scikit-learn/scikit-learn/issues/21755 */display: inline-block !important;position: relative;}#sk-container-id-5 div.sk-text-repr-fallback {display: none;}</style><div id=\"sk-container-id-5\" class=\"sk-top-container\"><div class=\"sk-text-repr-fallback\"><pre>LogisticRegression(C=1, solver=&#x27;liblinear&#x27;)</pre><b>In a Jupyter environment, please rerun this cell to show the HTML representation or trust the notebook. <br />On GitHub, the HTML representation is unable to render, please try loading this page with nbviewer.org.</b></div><div class=\"sk-container\" hidden><div class=\"sk-item\"><div class=\"sk-estimator sk-toggleable\"><input class=\"sk-toggleable__control sk-hidden--visually\" id=\"sk-estimator-id-5\" type=\"checkbox\" checked><label for=\"sk-estimator-id-5\" class=\"sk-toggleable__label sk-toggleable__label-arrow\">LogisticRegression</label><div class=\"sk-toggleable__content\"><pre>LogisticRegression(C=1, solver=&#x27;liblinear&#x27;)</pre></div></div></div></div></div>"
     },
     "execution_count": 76,
     "metadata": {},
     "output_type": "execute_result"
    }
   ],
   "source": [
    "classifier.fit(X, y)"
   ],
   "metadata": {
    "collapsed": false
   }
  },
  {
   "cell_type": "code",
   "execution_count": 80,
   "outputs": [],
   "source": [
    "visualize_classifier(classifier, X, y)"
   ],
   "metadata": {
    "collapsed": false
   }
  },
  {
   "cell_type": "code",
   "execution_count": null,
   "outputs": [],
   "source": [],
   "metadata": {
    "collapsed": false
   }
  }
 ],
 "metadata": {
  "kernelspec": {
   "display_name": "Python 3",
   "language": "python",
   "name": "python3"
  },
  "language_info": {
   "codemirror_mode": {
    "name": "ipython",
    "version": 2
   },
   "file_extension": ".py",
   "mimetype": "text/x-python",
   "name": "python",
   "nbconvert_exporter": "python",
   "pygments_lexer": "ipython2",
   "version": "2.7.6"
  }
 },
 "nbformat": 4,
 "nbformat_minor": 0
}
