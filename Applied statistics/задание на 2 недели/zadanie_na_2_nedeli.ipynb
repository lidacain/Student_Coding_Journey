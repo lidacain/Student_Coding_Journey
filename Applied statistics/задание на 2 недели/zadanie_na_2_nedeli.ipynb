{
 "cells": [
  {
   "cell_type": "code",
   "execution_count": 45,
   "outputs": [],
   "source": [
    "import pandas as pd\n",
    "import scipy.stats as stats\n",
    "import numpy as np"
   ],
   "metadata": {
    "collapsed": false
   }
  },
  {
   "cell_type": "code",
   "execution_count": 46,
   "outputs": [],
   "source": [
    "#Pandas"
   ],
   "metadata": {
    "collapsed": false
   }
  },
  {
   "cell_type": "code",
   "execution_count": 47,
   "outputs": [
    {
     "name": "stderr",
     "output_type": "stream",
     "text": [
      "/Users/adil/PycharmProjects/trash/venv/lib/python3.9/site-packages/openpyxl/styles/stylesheet.py:226: UserWarning: Workbook contains no default style, apply openpyxl's default\n",
      "  warn(\"Workbook contains no default style, apply openpyxl's default\")\n"
     ]
    }
   ],
   "source": [
    "data = pd.read_excel('incomeandexpenses_spo9-v3.xlsx')"
   ],
   "metadata": {
    "collapsed": false
   }
  },
  {
   "cell_type": "code",
   "execution_count": 48,
   "outputs": [
    {
     "data": {
      "text/plain": "                Наименование статьи на русском языке  \\\n0                   Доходы от страховой деятельности   \n1  Страховые премии, принятые по договорам страхо...   \n2  Страховые премии, принятые по договорам перест...   \n3    Страховые премии, переданные на перестрахование   \n4                      Чистая сумма страховых премий   \n\n   за аналогичный период с начала предыдущего года (с нарастающим итогом)  (в тысячах тенге)  \\\n0                                          655790866                                           \n1                                          737091240                                           \n2                                           69969569                                           \n3                                          103517616                                           \n4                                          703543193                                           \n\n        Наименование статьи на государственном языке  \\\n0              Сақтандыру қызметінен болған кірістер   \n1  Сақтандыру шарттары бойынша қабылданған сақтан...   \n2  Қайта сақтандыру шарттары бойынша қабылданған ...   \n3  Қайта сақтандыруға берілген сақтандыру сыйлықа...   \n4            Сақтандыру сыйлықақыларының таза сомасы   \n\n   за отчетный период  (в тысячах тенге)  id  \\\n0                               82399518   1   \n1                               91345619   2   \n2                                6473271   3   \n3                               14880486   4   \n4                               82938404   5   \n\n   за период с начала текущего года (с нарастающим итогом)  (в тысячах тенге)  \\\n0                                          728251726                            \n1                                          811487866                            \n2                                           88109916                            \n3                                          115903929                            \n4                                          783693853                            \n\n   за аналогичный период предыдущего года  (в тысячах тенге)  \\\n0                                           67026875           \n1                                           82459408           \n2                                            7038446           \n3                                           13186337           \n4                                           76311517           \n\n              Наименование статьи на английком языке  \n0                     Income from insurance activity  \n1  Insurance premiums, accepted on insurance cont...  \n2  Insurance premiums, accepted on reinsurance co...  \n3           Insurance premiums, ceded to reinsurance  \n4                      Net sum of insurance premiums  ",
      "text/html": "<div>\n<style scoped>\n    .dataframe tbody tr th:only-of-type {\n        vertical-align: middle;\n    }\n\n    .dataframe tbody tr th {\n        vertical-align: top;\n    }\n\n    .dataframe thead th {\n        text-align: right;\n    }\n</style>\n<table border=\"1\" class=\"dataframe\">\n  <thead>\n    <tr style=\"text-align: right;\">\n      <th></th>\n      <th>Наименование статьи на русском языке</th>\n      <th>за аналогичный период с начала предыдущего года (с нарастающим итогом)  (в тысячах тенге)</th>\n      <th>Наименование статьи на государственном языке</th>\n      <th>за отчетный период  (в тысячах тенге)</th>\n      <th>id</th>\n      <th>за период с начала текущего года (с нарастающим итогом)  (в тысячах тенге)</th>\n      <th>за аналогичный период предыдущего года  (в тысячах тенге)</th>\n      <th>Наименование статьи на английком языке</th>\n    </tr>\n  </thead>\n  <tbody>\n    <tr>\n      <th>0</th>\n      <td>Доходы от страховой деятельности</td>\n      <td>655790866</td>\n      <td>Сақтандыру қызметінен болған кірістер</td>\n      <td>82399518</td>\n      <td>1</td>\n      <td>728251726</td>\n      <td>67026875</td>\n      <td>Income from insurance activity</td>\n    </tr>\n    <tr>\n      <th>1</th>\n      <td>Страховые премии, принятые по договорам страхо...</td>\n      <td>737091240</td>\n      <td>Сақтандыру шарттары бойынша қабылданған сақтан...</td>\n      <td>91345619</td>\n      <td>2</td>\n      <td>811487866</td>\n      <td>82459408</td>\n      <td>Insurance premiums, accepted on insurance cont...</td>\n    </tr>\n    <tr>\n      <th>2</th>\n      <td>Страховые премии, принятые по договорам перест...</td>\n      <td>69969569</td>\n      <td>Қайта сақтандыру шарттары бойынша қабылданған ...</td>\n      <td>6473271</td>\n      <td>3</td>\n      <td>88109916</td>\n      <td>7038446</td>\n      <td>Insurance premiums, accepted on reinsurance co...</td>\n    </tr>\n    <tr>\n      <th>3</th>\n      <td>Страховые премии, переданные на перестрахование</td>\n      <td>103517616</td>\n      <td>Қайта сақтандыруға берілген сақтандыру сыйлықа...</td>\n      <td>14880486</td>\n      <td>4</td>\n      <td>115903929</td>\n      <td>13186337</td>\n      <td>Insurance premiums, ceded to reinsurance</td>\n    </tr>\n    <tr>\n      <th>4</th>\n      <td>Чистая сумма страховых премий</td>\n      <td>703543193</td>\n      <td>Сақтандыру сыйлықақыларының таза сомасы</td>\n      <td>82938404</td>\n      <td>5</td>\n      <td>783693853</td>\n      <td>76311517</td>\n      <td>Net sum of insurance premiums</td>\n    </tr>\n  </tbody>\n</table>\n</div>"
     },
     "execution_count": 48,
     "metadata": {},
     "output_type": "execute_result"
    }
   ],
   "source": [
    "data.head()"
   ],
   "metadata": {
    "collapsed": false
   }
  },
  {
   "cell_type": "code",
   "execution_count": 49,
   "outputs": [
    {
     "data": {
      "text/plain": "       за аналогичный период с начала предыдущего года (с нарастающим итогом)  (в тысячах тенге)  \\\ncount                                       7.100000e+01                                           \nmean                                        8.668801e+07                                           \nstd                                         1.932736e+08                                           \nmin                                        -3.772292e+06                                           \n25%                                         8.267740e+05                                           \n50%                                         6.609942e+06                                           \n75%                                         8.724366e+07                                           \nmax                                         7.902629e+08                                           \n\n       за отчетный период  (в тысячах тенге)         id  \\\ncount                           7.100000e+01  71.000000   \nmean                            1.027154e+07  36.000000   \nstd                             2.345687e+07  20.639767   \nmin                            -9.957558e+06   1.000000   \n25%                             2.576900e+04  18.500000   \n50%                             7.971980e+05  36.000000   \n75%                             9.973053e+06  53.500000   \nmax                             9.134562e+07  71.000000   \n\n       за период с начала текущего года (с нарастающим итогом)  (в тысячах тенге)  \\\ncount                                       7.100000e+01                            \nmean                                        9.967678e+07                            \nstd                                         2.164988e+08                            \nmin                                        -1.007134e+07                            \n25%                                         1.589748e+06                            \n50%                                         8.466766e+06                            \n75%                                         1.023411e+08                            \nmax                                         9.036623e+08                            \n\n       за аналогичный период предыдущего года  (в тысячах тенге)  \ncount                                       7.100000e+01          \nmean                                        9.013703e+06          \nstd                                         1.998070e+07          \nmin                                        -9.377387e+06          \n25%                                         1.089250e+04          \n50%                                         6.322060e+05          \n75%                                         9.178483e+06          \nmax                                         8.245941e+07          ",
      "text/html": "<div>\n<style scoped>\n    .dataframe tbody tr th:only-of-type {\n        vertical-align: middle;\n    }\n\n    .dataframe tbody tr th {\n        vertical-align: top;\n    }\n\n    .dataframe thead th {\n        text-align: right;\n    }\n</style>\n<table border=\"1\" class=\"dataframe\">\n  <thead>\n    <tr style=\"text-align: right;\">\n      <th></th>\n      <th>за аналогичный период с начала предыдущего года (с нарастающим итогом)  (в тысячах тенге)</th>\n      <th>за отчетный период  (в тысячах тенге)</th>\n      <th>id</th>\n      <th>за период с начала текущего года (с нарастающим итогом)  (в тысячах тенге)</th>\n      <th>за аналогичный период предыдущего года  (в тысячах тенге)</th>\n    </tr>\n  </thead>\n  <tbody>\n    <tr>\n      <th>count</th>\n      <td>7.100000e+01</td>\n      <td>7.100000e+01</td>\n      <td>71.000000</td>\n      <td>7.100000e+01</td>\n      <td>7.100000e+01</td>\n    </tr>\n    <tr>\n      <th>mean</th>\n      <td>8.668801e+07</td>\n      <td>1.027154e+07</td>\n      <td>36.000000</td>\n      <td>9.967678e+07</td>\n      <td>9.013703e+06</td>\n    </tr>\n    <tr>\n      <th>std</th>\n      <td>1.932736e+08</td>\n      <td>2.345687e+07</td>\n      <td>20.639767</td>\n      <td>2.164988e+08</td>\n      <td>1.998070e+07</td>\n    </tr>\n    <tr>\n      <th>min</th>\n      <td>-3.772292e+06</td>\n      <td>-9.957558e+06</td>\n      <td>1.000000</td>\n      <td>-1.007134e+07</td>\n      <td>-9.377387e+06</td>\n    </tr>\n    <tr>\n      <th>25%</th>\n      <td>8.267740e+05</td>\n      <td>2.576900e+04</td>\n      <td>18.500000</td>\n      <td>1.589748e+06</td>\n      <td>1.089250e+04</td>\n    </tr>\n    <tr>\n      <th>50%</th>\n      <td>6.609942e+06</td>\n      <td>7.971980e+05</td>\n      <td>36.000000</td>\n      <td>8.466766e+06</td>\n      <td>6.322060e+05</td>\n    </tr>\n    <tr>\n      <th>75%</th>\n      <td>8.724366e+07</td>\n      <td>9.973053e+06</td>\n      <td>53.500000</td>\n      <td>1.023411e+08</td>\n      <td>9.178483e+06</td>\n    </tr>\n    <tr>\n      <th>max</th>\n      <td>7.902629e+08</td>\n      <td>9.134562e+07</td>\n      <td>71.000000</td>\n      <td>9.036623e+08</td>\n      <td>8.245941e+07</td>\n    </tr>\n  </tbody>\n</table>\n</div>"
     },
     "execution_count": 49,
     "metadata": {},
     "output_type": "execute_result"
    }
   ],
   "source": [
    "data.describe()"
   ],
   "metadata": {
    "collapsed": false
   }
  },
  {
   "cell_type": "code",
   "execution_count": 50,
   "outputs": [
    {
     "data": {
      "text/plain": "71"
     },
     "execution_count": 50,
     "metadata": {},
     "output_type": "execute_result"
    }
   ],
   "source": [
    "#количество наблюдений\n",
    "data.shape[0]"
   ],
   "metadata": {
    "collapsed": false
   }
  },
  {
   "cell_type": "code",
   "execution_count": 51,
   "outputs": [
    {
     "data": {
      "text/plain": "99676775.90140845"
     },
     "execution_count": 51,
     "metadata": {},
     "output_type": "execute_result"
    }
   ],
   "source": [
    "#среднее значение\n",
    "data['за период с начала текущего года (с нарастающим итогом)  (в тысячах тенге)'].mean()"
   ],
   "metadata": {
    "collapsed": false
   }
  },
  {
   "cell_type": "code",
   "execution_count": 52,
   "outputs": [
    {
     "data": {
      "text/plain": "216498822.12676457"
     },
     "execution_count": 52,
     "metadata": {},
     "output_type": "execute_result"
    }
   ],
   "source": [
    "#стандартное отклонение\n",
    "data['за период с начала текущего года (с нарастающим итогом)  (в тысячах тенге)'].std()"
   ],
   "metadata": {
    "collapsed": false
   }
  },
  {
   "cell_type": "code",
   "execution_count": 53,
   "outputs": [
    {
     "data": {
      "text/plain": "-10071344"
     },
     "execution_count": 53,
     "metadata": {},
     "output_type": "execute_result"
    }
   ],
   "source": [
    "#минимальное значение\n",
    "data['за период с начала текущего года (с нарастающим итогом)  (в тысячах тенге)'].min()"
   ],
   "metadata": {
    "collapsed": false
   }
  },
  {
   "cell_type": "code",
   "execution_count": 54,
   "outputs": [
    {
     "data": {
      "text/plain": "903662291"
     },
     "execution_count": 54,
     "metadata": {},
     "output_type": "execute_result"
    }
   ],
   "source": [
    "#максимальное значение\n",
    "data['за период с начала текущего года (с нарастающим итогом)  (в тысячах тенге)'].max()"
   ],
   "metadata": {
    "collapsed": false
   }
  },
  {
   "cell_type": "code",
   "execution_count": 54,
   "outputs": [],
   "source": [],
   "metadata": {
    "collapsed": false
   }
  },
  {
   "cell_type": "code",
   "execution_count": 54,
   "outputs": [],
   "source": [],
   "metadata": {
    "collapsed": false
   }
  },
  {
   "cell_type": "code",
   "execution_count": 54,
   "outputs": [],
   "source": [],
   "metadata": {
    "collapsed": false
   }
  },
  {
   "cell_type": "code",
   "execution_count": 55,
   "outputs": [],
   "source": [
    "#SciPy"
   ],
   "metadata": {
    "collapsed": false
   }
  },
  {
   "cell_type": "code",
   "execution_count": 56,
   "outputs": [
    {
     "name": "stdout",
     "output_type": "stream",
     "text": [
      "Статистика=57.815, p=0.000\n",
      "Распределение не похоже на нормальное (альтернативная гипотеза)\n"
     ]
    }
   ],
   "source": [
    "#распределение данных на нормальность с помощью scipy\n",
    "stat, p = stats.normaltest(data['за период с начала текущего года (с нарастающим итогом)  (в тысячах тенге)'])\n",
    "print('Статистика=%.3f, p=%.3f' % (stat, p))\n",
    "alpha = 0.05\n",
    "if p > alpha:\n",
    "    print('Распределение похоже на нормальное (нулевая гипотеза)')\n",
    "else:\n",
    "    print('Распределение не похоже на нормальное (альтернативная гипотеза)')"
   ],
   "metadata": {
    "collapsed": false
   }
  },
  {
   "cell_type": "code",
   "execution_count": 57,
   "outputs": [
    {
     "name": "stdout",
     "output_type": "stream",
     "text": [
      "Статистика=57.075, p=0.000\n",
      "Распределение не похоже на нормальное (альтернативная гипотеза)\n"
     ]
    }
   ],
   "source": [
    "stat, p = stats.normaltest(data['за аналогичный период предыдущего года  (в тысячах тенге)'])\n",
    "print('Статистика=%.3f, p=%.3f' % (stat, p))\n",
    "alpha = 0.05\n",
    "if p > alpha:\n",
    "    print('Распределение похоже на нормальное (нулевая гипотеза)')\n",
    "else:\n",
    "    print('Распределение не похоже на нормальное (альтернативная гипотеза)')"
   ],
   "metadata": {
    "collapsed": false
   }
  },
  {
   "cell_type": "code",
   "execution_count": 58,
   "outputs": [
    {
     "name": "stdout",
     "output_type": "stream",
     "text": [
      "Статистика=58.378, p=0.000\n",
      "Распределение не похоже на нормальное (альтернативная гипотеза)\n"
     ]
    }
   ],
   "source": [
    "stat, p = stats.normaltest(data['за аналогичный период с начала предыдущего года (с нарастающим итогом)  (в тысячах тенге)'])\n",
    "print('Статистика=%.3f, p=%.3f' % (stat, p))\n",
    "alpha = 0.05\n",
    "if p > alpha:\n",
    "    print('Распределение похоже на нормальное (нулевая гипотеза)')\n",
    "else:\n",
    "    print('Распределение не похоже на нормальное (альтернативная гипотеза)')"
   ],
   "metadata": {
    "collapsed": false
   }
  },
  {
   "cell_type": "code",
   "execution_count": 59,
   "outputs": [
    {
     "name": "stdout",
     "output_type": "stream",
     "text": [
      "Статистика=56.243, p=0.000\n",
      "Распределение не похоже на нормальное (альтернативная гипотеза)\n"
     ]
    }
   ],
   "source": [
    "stat, p = stats.normaltest(data['за отчетный период  (в тысячах тенге)'])\n",
    "print('Статистика=%.3f, p=%.3f' % (stat, p))\n",
    "alpha = 0.05\n",
    "if p > alpha:\n",
    "    print('Распределение похоже на нормальное (нулевая гипотеза)')\n",
    "else:\n",
    "    print('Распределение не похоже на нормальное (альтернативная гипотеза)')"
   ],
   "metadata": {
    "collapsed": false
   }
  },
  {
   "cell_type": "code",
   "execution_count": 59,
   "outputs": [],
   "source": [],
   "metadata": {
    "collapsed": false
   }
  },
  {
   "cell_type": "code",
   "execution_count": 60,
   "outputs": [],
   "source": [
    "#test t"
   ],
   "metadata": {
    "collapsed": false
   }
  },
  {
   "cell_type": "code",
   "execution_count": 61,
   "outputs": [
    {
     "name": "stdout",
     "output_type": "stream",
     "text": [
      "Статистика=-3.514, p=0.001\n",
      "Различия между выборками статистически значимы\n"
     ]
    }
   ],
   "source": [
    "t_stat, p = stats.ttest_ind(data['за аналогичный период предыдущего года  (в тысячах тенге)'], data['за период с начала текущего года (с нарастающим итогом)  (в тысячах тенге)'])\n",
    "print('Статистика=%.3f, p=%.3f' % (t_stat, p))\n",
    "if p < 0.05:\n",
    "    print('Различия между выборками статистически значимы')\n",
    "else:\n",
    "    print('Различия между выборками не статистически значимы')\n",
    "\n"
   ],
   "metadata": {
    "collapsed": false
   }
  },
  {
   "cell_type": "code",
   "execution_count": 62,
   "outputs": [
    {
     "name": "stdout",
     "output_type": "stream",
     "text": [
      "Статистика=-3.882, p=0.000\n",
      "Различия между выборками статистически значимы\n"
     ]
    }
   ],
   "source": [
    "t_stat, p = stats.ttest_rel(data['за аналогичный период предыдущего года  (в тысячах тенге)'], data['за период с начала текущего года (с нарастающим итогом)  (в тысячах тенге)'])\n",
    "print('Статистика=%.3f, p=%.3f' % (t_stat, p))\n",
    "if p < 0.05:\n",
    "    print('Различия между выборками статистически значимы')\n",
    "else:\n",
    "    print('Различия между выборками не статистически значимы')\n"
   ],
   "metadata": {
    "collapsed": false
   }
  },
  {
   "cell_type": "code",
   "execution_count": 62,
   "outputs": [],
   "source": [],
   "metadata": {
    "collapsed": false
   }
  },
  {
   "cell_type": "code",
   "execution_count": 62,
   "outputs": [],
   "source": [],
   "metadata": {
    "collapsed": false
   }
  }
 ],
 "metadata": {
  "kernelspec": {
   "display_name": "Python 3",
   "language": "python",
   "name": "python3"
  },
  "language_info": {
   "codemirror_mode": {
    "name": "ipython",
    "version": 2
   },
   "file_extension": ".py",
   "mimetype": "text/x-python",
   "name": "python",
   "nbconvert_exporter": "python",
   "pygments_lexer": "ipython2",
   "version": "2.7.6"
  }
 },
 "nbformat": 4,
 "nbformat_minor": 0
}
