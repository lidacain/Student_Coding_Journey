{
 "cells": [
  {
   "cell_type": "code",
   "execution_count": 2,
   "id": "b7a8ad09",
   "metadata": {
    "ExecuteTime": {
     "end_time": "2024-03-28T09:40:10.768731Z",
     "start_time": "2024-03-28T09:40:09.604524Z"
    }
   },
   "outputs": [
    {
     "data": {
      "text/plain": "      rownames  crl.tot  dollar   bang  money  n000  make yesno\n0            1      278   0.000  0.778   0.00  0.00  0.00     y\n1            2     1028   0.180  0.372   0.43  0.43  0.21     y\n2            3     2259   0.184  0.276   0.06  1.16  0.06     y\n3            4      191   0.000  0.137   0.00  0.00  0.00     y\n4            5      191   0.000  0.135   0.00  0.00  0.00     y\n...        ...      ...     ...    ...    ...   ...   ...   ...\n4596      4597       88   0.000  0.000   0.00  0.00  0.31     n\n4597      4598       14   0.000  0.353   0.00  0.00  0.00     n\n4598      4599      118   0.000  0.000   0.00  0.00  0.30     n\n4599      4600       78   0.000  0.000   0.00  0.00  0.96     n\n4600      4601       40   0.000  0.125   0.00  0.00  0.00     n\n\n[4601 rows x 8 columns]",
      "text/html": "<div>\n<style scoped>\n    .dataframe tbody tr th:only-of-type {\n        vertical-align: middle;\n    }\n\n    .dataframe tbody tr th {\n        vertical-align: top;\n    }\n\n    .dataframe thead th {\n        text-align: right;\n    }\n</style>\n<table border=\"1\" class=\"dataframe\">\n  <thead>\n    <tr style=\"text-align: right;\">\n      <th></th>\n      <th>rownames</th>\n      <th>crl.tot</th>\n      <th>dollar</th>\n      <th>bang</th>\n      <th>money</th>\n      <th>n000</th>\n      <th>make</th>\n      <th>yesno</th>\n    </tr>\n  </thead>\n  <tbody>\n    <tr>\n      <th>0</th>\n      <td>1</td>\n      <td>278</td>\n      <td>0.000</td>\n      <td>0.778</td>\n      <td>0.00</td>\n      <td>0.00</td>\n      <td>0.00</td>\n      <td>y</td>\n    </tr>\n    <tr>\n      <th>1</th>\n      <td>2</td>\n      <td>1028</td>\n      <td>0.180</td>\n      <td>0.372</td>\n      <td>0.43</td>\n      <td>0.43</td>\n      <td>0.21</td>\n      <td>y</td>\n    </tr>\n    <tr>\n      <th>2</th>\n      <td>3</td>\n      <td>2259</td>\n      <td>0.184</td>\n      <td>0.276</td>\n      <td>0.06</td>\n      <td>1.16</td>\n      <td>0.06</td>\n      <td>y</td>\n    </tr>\n    <tr>\n      <th>3</th>\n      <td>4</td>\n      <td>191</td>\n      <td>0.000</td>\n      <td>0.137</td>\n      <td>0.00</td>\n      <td>0.00</td>\n      <td>0.00</td>\n      <td>y</td>\n    </tr>\n    <tr>\n      <th>4</th>\n      <td>5</td>\n      <td>191</td>\n      <td>0.000</td>\n      <td>0.135</td>\n      <td>0.00</td>\n      <td>0.00</td>\n      <td>0.00</td>\n      <td>y</td>\n    </tr>\n    <tr>\n      <th>...</th>\n      <td>...</td>\n      <td>...</td>\n      <td>...</td>\n      <td>...</td>\n      <td>...</td>\n      <td>...</td>\n      <td>...</td>\n      <td>...</td>\n    </tr>\n    <tr>\n      <th>4596</th>\n      <td>4597</td>\n      <td>88</td>\n      <td>0.000</td>\n      <td>0.000</td>\n      <td>0.00</td>\n      <td>0.00</td>\n      <td>0.31</td>\n      <td>n</td>\n    </tr>\n    <tr>\n      <th>4597</th>\n      <td>4598</td>\n      <td>14</td>\n      <td>0.000</td>\n      <td>0.353</td>\n      <td>0.00</td>\n      <td>0.00</td>\n      <td>0.00</td>\n      <td>n</td>\n    </tr>\n    <tr>\n      <th>4598</th>\n      <td>4599</td>\n      <td>118</td>\n      <td>0.000</td>\n      <td>0.000</td>\n      <td>0.00</td>\n      <td>0.00</td>\n      <td>0.30</td>\n      <td>n</td>\n    </tr>\n    <tr>\n      <th>4599</th>\n      <td>4600</td>\n      <td>78</td>\n      <td>0.000</td>\n      <td>0.000</td>\n      <td>0.00</td>\n      <td>0.00</td>\n      <td>0.96</td>\n      <td>n</td>\n    </tr>\n    <tr>\n      <th>4600</th>\n      <td>4601</td>\n      <td>40</td>\n      <td>0.000</td>\n      <td>0.125</td>\n      <td>0.00</td>\n      <td>0.00</td>\n      <td>0.00</td>\n      <td>n</td>\n    </tr>\n  </tbody>\n</table>\n<p>4601 rows × 8 columns</p>\n</div>"
     },
     "execution_count": 2,
     "metadata": {},
     "output_type": "execute_result"
    }
   ],
   "source": [
    "import pandas as pd\n",
    "df = pd.read_csv('https://raw.githubusercontent.com/vincentarelbundock/Rdatasets/master/csv/DAAG/spam7.csv')\n",
    "df"
   ]
  },
  {
   "cell_type": "code",
   "execution_count": 3,
   "id": "a1ad7709",
   "metadata": {
    "ExecuteTime": {
     "end_time": "2024-03-28T09:40:11.748586Z",
     "start_time": "2024-03-28T09:40:11.737254Z"
    }
   },
   "outputs": [
    {
     "name": "stderr",
     "output_type": "stream",
     "text": [
      "/var/folders/t1/pt8lfl0s2rz_z_7z9cbm9f5r0000gn/T/ipykernel_37592/3416208827.py:1: FutureWarning: Downcasting behavior in `replace` is deprecated and will be removed in a future version. To retain the old behavior, explicitly call `result.infer_objects(copy=False)`. To opt-in to the future behavior, set `pd.set_option('future.no_silent_downcasting', True)`\n",
      "  df['spam'] = df['yesno'].replace({'y': 1, 'n': 0})\n"
     ]
    }
   ],
   "source": [
    "df['spam'] = df['yesno'].replace({'y': 1, 'n': 0})"
   ]
  },
  {
   "cell_type": "code",
   "execution_count": 4,
   "id": "1a21615f",
   "metadata": {
    "ExecuteTime": {
     "end_time": "2024-03-28T09:40:12.283314Z",
     "start_time": "2024-03-28T09:40:12.270359Z"
    }
   },
   "outputs": [],
   "source": [
    "df.drop(columns=['rownames', 'yesno'], inplace=True)"
   ]
  },
  {
   "cell_type": "code",
   "execution_count": 5,
   "id": "3b0f8f13",
   "metadata": {
    "ExecuteTime": {
     "end_time": "2024-03-28T09:40:13.213618Z",
     "start_time": "2024-03-28T09:40:13.200845Z"
    }
   },
   "outputs": [],
   "source": [
    "features = df.columns[:-1]  \n",
    "for i in range(len(features)):\n",
    "    for j in range(i + 1, len(features)):\n",
    "        feature1 = features[i]\n",
    "        feature2 = features[j]\n",
    "        new_feature_name = f\"{feature1}_{feature2}\"\n",
    "        df[new_feature_name] = df[feature1] * df[feature2]"
   ]
  },
  {
   "cell_type": "code",
   "execution_count": 16,
   "id": "219d0f63",
   "metadata": {
    "ExecuteTime": {
     "end_time": "2024-03-28T10:05:10.692100Z",
     "start_time": "2024-03-28T10:05:10.665500Z"
    }
   },
   "outputs": [],
   "source": [
    "x = df.drop(columns=['spam'])\n",
    "y = df['spam']"
   ]
  },
  {
   "cell_type": "markdown",
   "id": "b527a595",
   "metadata": {},
   "source": [
    "Задание 7.4.1\n",
    "Сколько получится признаков после преобразования (включая те шесть, которые были в исходных данных)?\n",
    "□\t15\n",
    "□\t21\n",
    "□\t20\n",
    "□\t14\n"
   ]
  },
  {
   "cell_type": "code",
   "execution_count": 7,
   "id": "f493df3f",
   "metadata": {
    "ExecuteTime": {
     "end_time": "2024-03-28T09:41:09.292544Z",
     "start_time": "2024-03-28T09:41:07.790714Z"
    }
   },
   "outputs": [
    {
     "name": "stdout",
     "output_type": "stream",
     "text": [
      "0.865\n"
     ]
    }
   ],
   "source": [
    "#Задание 7.4.2\n",
    "from sklearn.model_selection import train_test_split\n",
    "from sklearn.ensemble import GradientBoostingClassifier\n",
    "from sklearn.metrics import accuracy_score\n",
    "\n",
    "x_train, x_test, y_train, y_test = train_test_split(x, y, test_size=0.2, random_state=42)\n",
    "\n",
    "model = GradientBoostingClassifier(learning_rate=0.1, n_estimators=100, max_depth=3, \n",
    "                                   min_samples_split=2, min_samples_leaf=1, subsample=1,\n",
    "                                   max_features=None, random_state=42)\n",
    "model.fit(x_train, y_train)\n",
    "\n",
    "y_pred = model.predict(x_test)\n",
    "\n",
    "accuracy = accuracy_score(y_test, y_pred)\n",
    "print(round(accuracy, 3))"
   ]
  },
  {
   "cell_type": "code",
   "execution_count": 11,
   "id": "19bc3056",
   "metadata": {
    "ExecuteTime": {
     "end_time": "2024-03-28T09:42:59.863409Z",
     "start_time": "2024-03-28T09:42:59.457179Z"
    }
   },
   "outputs": [
    {
     "data": {
      "text/plain": "<Figure size 1000x600 with 1 Axes>",
      "image/png": "[encoded data removed]"
     },
     "metadata": {},
     "output_type": "display_data"
    },
    {
     "name": "stdout",
     "output_type": "stream",
     "text": [
      "dollar_bang\n"
     ]
    }
   ],
   "source": [
    "#Задание 7.4.3\n",
    "import matplotlib.pyplot as plt\n",
    "\n",
    "feature_importance = model.feature_importances_\n",
    "\n",
    "features = x.columns\n",
    "#вертикальные столбцы\n",
    "plt.figure(figsize=(10, 6))\n",
    "plt.barh(features, feature_importance, color='g', align='center')\n",
    "plt.xlabel('Важность признака')\n",
    "plt.ylabel('Признак')\n",
    "plt.title('Важность признаков')\n",
    "plt.gca().invert_yaxis()  \n",
    "plt.show()\n",
    "\n",
    "third_most_important_feature = features[feature_importance.argsort()[-3]]\n",
    "print(third_most_important_feature)"
   ]
  },
  {
   "cell_type": "code",
   "execution_count": 12,
   "id": "70243940",
   "metadata": {
    "ExecuteTime": {
     "end_time": "2024-03-28T09:55:01.772169Z",
     "start_time": "2024-03-28T09:43:05.052505Z"
    }
   },
   "outputs": [
    {
     "name": "stdout",
     "output_type": "stream",
     "text": [
      "0.884\n"
     ]
    }
   ],
   "source": [
    "#Задание 7.4.4\n",
    "from sklearn.model_selection import GridSearchCV\n",
    "\n",
    "base_model = GradientBoostingClassifier(random_state=42)\n",
    "\n",
    "param_grid = {\n",
    "    'learning_rate': [0.00001, 0.0001, 0.001, 0.01, 0.1, 1],\n",
    "    'n_estimators': [100, 250, 500, 750, 1000, 1250, 1500, 1750]\n",
    "}\n",
    "\n",
    "grid_search = GridSearchCV(estimator=base_model, param_grid=param_grid, scoring='accuracy', n_jobs=-1, cv=5)\n",
    "\n",
    "grid_search.fit(x_train, y_train)\n",
    "\n",
    "best_params = grid_search.best_params_\n",
    "best_accuracy = grid_search.best_score_\n",
    "\n",
    "print(round(best_accuracy, 3))\n"
   ]
  },
  {
   "cell_type": "markdown",
   "id": "92d8ef25",
   "metadata": {},
   "source": [
    "Задание 7.4.5\n",
    "Подбор параметров — незаменимый инструмент при настройке моделей. Однако, если данных очень много, а модель сложная, то иногда имеет смысл ограничить количество параметров, которые вы хотите перебрать. Если модель с одним набором параметров обучается 30 минут, а вы хотите перебрать 10 таких наборов, то стоит приготовиться к пятичасовому ожиданию. Также стоит учитывать, что размер некоторых параметров влияет на время, потраченное на обучение моделей. Например, менее глубокие деревья учатся быстрее, чем глубокие.\n",
    "При использовании GridSearchCV перебираются все возможные способы комбинации параметров. Сколько разных моделей (моделей градиентного бустинга с разными наборами параметров) обучилось в прошлом задании?\n"
   ]
  },
  {
   "cell_type": "code",
   "execution_count": 13,
   "id": "dbf28332",
   "metadata": {
    "ExecuteTime": {
     "end_time": "2024-03-28T10:00:31.084637Z",
     "start_time": "2024-03-28T09:55:01.776436Z"
    }
   },
   "outputs": [
    {
     "data": {
      "text/plain": "5"
     },
     "execution_count": 13,
     "metadata": {},
     "output_type": "execute_result"
    }
   ],
   "source": [
    "#Задание 7.4.6\n",
    "from sklearn.model_selection import GridSearchCV\n",
    "\n",
    "base_model = GradientBoostingClassifier(learning_rate=best_params['learning_rate'], \n",
    "                                        n_estimators=best_params['n_estimators'], \n",
    "                                        random_state=42)\n",
    "\n",
    "param_grid = {'max_depth': range(5, 16)}\n",
    "\n",
    "grid_search_depth = GridSearchCV(estimator=base_model, param_grid=param_grid, scoring='accuracy', n_jobs=-1, cv=5)\n",
    "\n",
    "grid_search_depth.fit(x_train, y_train)\n",
    "\n",
    "best_depth = grid_search_depth.best_params_['max_depth']\n",
    "best_depth"
   ]
  },
  {
   "cell_type": "code",
   "execution_count": 14,
   "id": "fb1b429f",
   "metadata": {
    "ExecuteTime": {
     "end_time": "2024-03-28T10:00:31.158915Z",
     "start_time": "2024-03-28T10:00:31.089369Z"
    }
   },
   "outputs": [
    {
     "name": "stdout",
     "output_type": "stream",
     "text": [
      "Accuracy =  0.8228645946533363\n"
     ]
    }
   ],
   "source": [
    "#Задание 7.4.7\n",
    "from sklearn.tree import DecisionTreeClassifier\n",
    "import numpy as np\n",
    "\n",
    "def AdaBoost_scratch(X, y, M=10, learning_rate=1):\n",
    "    # Инициализация служебных переменных\n",
    "    N = len(y)\n",
    "    estimator_list, y_predict_list, estimator_error_list, estimator_weight_list, sample_weight_list = [], [], [], [], []\n",
    "\n",
    "    # Инициализация весов\n",
    "    sample_weight = np.ones(N) / N\n",
    "    sample_weight_list.append(sample_weight.copy())\n",
    "\n",
    "    # Цикл по длине M\n",
    "    for m in range(M):\n",
    "\n",
    "        # Обучение базовой модели и получение предсказания\n",
    "        estimator = DecisionTreeClassifier(max_depth=1, max_leaf_nodes=2)\n",
    "        estimator.fit(X, y, sample_weight=sample_weight)\n",
    "        y_predict = estimator.predict(X)\n",
    "\n",
    "        # Маска для ошибок классификации\n",
    "        incorrect = (y_predict != y)\n",
    "\n",
    "        # Оценка ошибки\n",
    "        estimator_error = np.sum(sample_weight * incorrect) / np.sum(sample_weight)\n",
    "\n",
    "        # Вычисление веса нового алгоритма\n",
    "        estimator_weight = learning_rate * np.log((1 - estimator_error) / estimator_error)\n",
    "\n",
    "        # Получение новых весов объектов\n",
    "        sample_weight *= np.exp(estimator_weight * incorrect)\n",
    "\n",
    "        # Сохранение результатов данной итерации\n",
    "        estimator_list.append(estimator)\n",
    "        y_predict_list.append(y_predict.copy())\n",
    "        estimator_error_list.append(estimator_error.copy())\n",
    "        estimator_weight_list.append(estimator_weight.copy())\n",
    "        sample_weight_list.append(sample_weight.copy())\n",
    "\n",
    "    # Для удобства переводим в numpy.array\n",
    "    estimator_list = np.asarray(estimator_list)\n",
    "    y_predict_list = np.asarray(y_predict_list)\n",
    "    estimator_error_list = np.asarray(estimator_error_list)\n",
    "    estimator_weight_list = np.asarray(estimator_weight_list)\n",
    "    sample_weight_list = np.asarray(sample_weight_list)\n",
    "\n",
    "    # Получение предсказаний\n",
    "    preds = (np.array([np.sign((y_predict_list[:, point] * estimator_weight_list).sum()) for point in range(N)]))\n",
    "    accuracy = (preds == y).sum() / N\n",
    "    print('Accuracy = ', accuracy)\n",
    "\n",
    "    return estimator_list, estimator_weight_list, sample_weight_list\n",
    "\n",
    "# Вызов функции AdaBoost_scratch с использованием предыдущих данных\n",
    "estimator_list, estimator_weight_list, sample_weight_list = AdaBoost_scratch(x.values, y.values, M=10, learning_rate=0.001)\n"
   ]
  },
  {
   "cell_type": "code",
   "execution_count": null,
   "id": "9473dd49",
   "metadata": {},
   "outputs": [],
   "source": []
  }
 ],
 "metadata": {
  "kernelspec": {
   "display_name": "Python 3 (ipykernel)",
   "language": "python",
   "name": "python3"
  },
  "language_info": {
   "codemirror_mode": {
    "name": "ipython",
    "version": 3
   },
   "file_extension": ".py",
   "mimetype": "text/x-python",
   "name": "python",
   "nbconvert_exporter": "python",
   "pygments_lexer": "ipython3",
   "version": "3.10.9"
  }
 },
 "nbformat": 4,
 "nbformat_minor": 5
}
