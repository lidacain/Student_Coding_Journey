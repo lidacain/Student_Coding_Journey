{
 "cells": [
  {
   "cell_type": "markdown",
   "metadata": {
    "id": "LYKqDli0Lqas"
   },
   "source": [
    "# Предсказание цен на недвижимость\n",
    "\n",
    "**Бизнес-постановка задачи**\n",
    "\n",
    "Компании по продаже недвижимости оценивают ее стоимость, используя методы машинного обучения.\n",
    "Задача оценки цены на недвижимость также может быть нужна для:\n",
    "* выявления аномально низких цен на недвижимость,\n",
    "* оценки макроэкономических показателей,\n",
    "* уточнения ставок по ипотеке"
   ]
  },
  {
   "cell_type": "markdown",
   "metadata": {
    "id": "FB3xfscxLqat"
   },
   "source": [
    "**Постановка задачи анализа данных**\n",
    "\n",
    "Целью данной задачи является прогнозирование стоимости домов в округе Кинг (штат Вашингтон, США) с помощью построения регрессионных моделей и их анализа. Набор данных состоит из цен на дома в округе Кинг, проданных в период с мая 2014 года по май 2015 года. Данные опубликованы в открытом доступе на платформе Kaggle."
   ]
  },
  {
   "cell_type": "markdown",
   "metadata": {
    "id": "rvJWkambLqau"
   },
   "source": [
    "Данные с сайта renthub.com по стоимости квартир для аренды в Сиэтле:"
   ]
  },
  {
   "cell_type": "markdown",
   "metadata": {
    "id": "_vD1NqACLqav"
   },
   "source": [
    "<a href=\"https://drive.google.com/uc?id=1Dr-p-o5yMi3uIS2kPcUUwT5bH0cCt1Be\n",
    "\" target=\"_blank\"><img src=\"https://drive.google.com/uc?id=1Dr-p-o5yMi3uIS2kPcUUwT5bH0cCt1Be\"\n",
    "alt=\"IMAGE ALT TEXT HERE\" width=\"360\" border=\"0\" /></a>\n"
   ]
  },
  {
   "cell_type": "markdown",
   "metadata": {
    "id": "S15gn1XfLqaw"
   },
   "source": [
    "**Обзор доступных данных**\n",
    "\n",
    "В выборке 21613 наблюдений и 21 переменная.\n",
    "Таким образом, про каждый из 21613 объектов недвижимости мы знаем значения 21 их характеристики (число спален, оценка состояния риелтором, наличие вида на воду и т.п.)\n",
    "\n",
    "Выборка была разбита на две части для обучения и для тестирования модели. Данные на обучение и тест обычно делят случайно и равномерно: нужно чтобы и обучающая, и тестовая выборка были похожие на те данные, на которых модель будет использоваться в боевых условиях.\n",
    "\n",
    "Более сложные разбиения могут использоваться если в данных есть временная компонента - например, мы строим скоринговую модель и для теста откладываем данные за последние несколько месяцев, а всю остальную выборку используем для обучения. Такое разбиение имитирует реальную работу модели: мы можем обучаться только на данных прошлых кредитов, а работать модель уже будет на данных из будущего.\n",
    "\n",
    "Доли общей выборки для обучения и тестирования обычно 70% и 30% соотвественно. Любые разумные числа подходят, если для обучения используется достаточно много данных (обычно больше 50%), но и для тестирования что-то остается (10% и больше).\n"
   ]
  },
  {
   "cell_type": "markdown",
   "metadata": {
    "id": "iOeVms4dLqax"
   },
   "source": [
    "Данные содержат два типа переменных:\n",
    "\n",
    "* Целевая: **Целевая. Цена**\n",
    "* Остальные переменные: **20 переменных, могут использоваться для прогноза целевой переменной.**"
   ]
  },
  {
   "cell_type": "markdown",
   "metadata": {
    "id": "OFP_i1F1Lqay"
   },
   "source": [
    "## План анализа данных (data mining):\n",
    "\n",
    "  1. Загрузить данные для обучения\n",
    "  2. Обработать данные перед обучением модели\n",
    "  3. Обучить модель на обучающей выборке\n",
    "  4. Загрузить и предобработать данные для тестирования\n",
    "  5. Провалидировать модель на тестовой выборке"
   ]
  },
  {
   "cell_type": "markdown",
   "metadata": {
    "id": "mKUYn0nHLqaz"
   },
   "source": [
    "## 1. Загрузить данные для обучения"
   ]
  },
  {
   "cell_type": "markdown",
   "metadata": {
    "id": "Bqqurd70Lqaz"
   },
   "source": [
    "**Шаг 1.1. Загружаем библиотеки**"
   ]
  },
  {
   "cell_type": "markdown",
   "metadata": {
    "id": "rY5oSQ0-Lqa0"
   },
   "source": [
    "Библиотека **warnings** отвечает за то, какие предупреждения (warnings) о работе будут выводиться пользователю.\n",
    "FutureWarning - предупреждения о том, как изменится работа библиотек в будущих версиях.\n",
    "Поэтому такие предупреждения мы будем игнорировать.\n",
    "Чтобы включить режим игнорирования мы отбираем все предупреждения из категории FutureWarning и выбираем для них действия 'ignore'.\n",
    "Это делается вызовом функции simplefilter c задание двух атрибутов: действия action и категории предупреждений category."
   ]
  },
  {
   "cell_type": "code",
   "execution_count": 4,
   "metadata": {
    "id": "SVfM6HC8Lqa1",
    "ExecuteTime": {
     "end_time": "2024-02-08T07:57:33.917042Z",
     "start_time": "2024-02-08T07:57:33.886727Z"
    }
   },
   "outputs": [],
   "source": [
    "import warnings\n",
    "warnings.simplefilter(action='ignore', category=FutureWarning)"
   ]
  },
  {
   "cell_type": "markdown",
   "metadata": {
    "id": "28Bf-HdaLqa4"
   },
   "source": [
    "Для корректной работы с данными в python требуется загрузить специальную библиотеку\n",
    "**pandas**, программную библиотеку на языке python для обработки и анализа данных."
   ]
  },
  {
   "cell_type": "code",
   "execution_count": 5,
   "metadata": {
    "id": "DuCW163qLqa4",
    "ExecuteTime": {
     "end_time": "2024-02-08T07:57:34.904668Z",
     "start_time": "2024-02-08T07:57:34.384639Z"
    }
   },
   "outputs": [
    {
     "name": "stderr",
     "output_type": "stream",
     "text": [
      "/var/folders/t1/pt8lfl0s2rz_z_7z9cbm9f5r0000gn/T/ipykernel_80271/3469037740.py:1: DeprecationWarning: \n",
      "Pyarrow will become a required dependency of pandas in the next major release of pandas (pandas 3.0),\n",
      "(to allow more performant data types, such as the Arrow string type, and better interoperability with other libraries)\n",
      "but was not found to be installed on your system.\n",
      "If this would cause problems for you,\n",
      "please provide us feedback at https://github.com/pandas-dev/pandas/issues/54466\n",
      "        \n",
      "  import pandas as pd # загружаем библиотеку и для простоты обращения в коде называем её сокращенно pd\n"
     ]
    }
   ],
   "source": [
    "import pandas as pd # загружаем библиотеку и для простоты обращения в коде называем её сокращенно pd"
   ]
  },
  {
   "cell_type": "markdown",
   "metadata": {
    "id": "NT0TLhqxLqa7"
   },
   "source": [
    "Для корректной работы с графиками в python требуется загрузить специальную библиотеку\n",
    "**matplotlib**, программную библиотеку на языке python для визуализации данных двумерной и трехмерной графикой.\n",
    "\n",
    "Графики используются для облегчения интерпретации полученных результатов, а также в качестве иллюстраций в презентациях и отчетах.\n",
    "\n",
    "Оснвные методы для построения:\n",
    "* plot() - графики\n",
    "* semilogy() - график логарифметический\n",
    "* hist() - гистограммы"
   ]
  },
  {
   "cell_type": "code",
   "execution_count": 6,
   "metadata": {
    "id": "gHGUZu8rLqa8",
    "ExecuteTime": {
     "end_time": "2024-02-08T07:57:35.448815Z",
     "start_time": "2024-02-08T07:57:35.055404Z"
    }
   },
   "outputs": [],
   "source": [
    "import matplotlib.pyplot as plt # загружаем библиотеку и для простоты обращения в коде называем её сокращенно plt\n",
    "# указываем, чтобы картинки отображались прямо в ноутбуке\n",
    "%matplotlib inline"
   ]
  },
  {
   "cell_type": "markdown",
   "metadata": {
    "id": "JVr8btg7Qk3x"
   },
   "source": [
    "**Шаг 1.2. Загрузим данные**"
   ]
  },
  {
   "cell_type": "markdown",
   "metadata": {
    "id": "5pzU4iRyQN9H"
   },
   "source": [
    "Для решения задачи мы будем использовать данные. Они состоят из двух частей: часть для обучения и часть для тестирования модели. Загружаем данные с помощие команды !wget. Для того, чтобы игнорировать сообщения в процессе загрузки используем магическую команду %%capture в первой строке."
   ]
  },
  {
   "cell_type": "code",
   "execution_count": 7,
   "metadata": {
    "id": "g6rmRg3BOTxG",
    "ExecuteTime": {
     "end_time": "2024-02-08T07:57:35.913821Z",
     "start_time": "2024-02-08T07:57:35.655552Z"
    }
   },
   "outputs": [],
   "source": [
    "%%capture\n",
    "!wget https://www.dropbox.com/s/afwb0tnqm9izxha/predict_house_price_training_data.xlsx\n",
    "!wget https://www.dropbox.com/s/sur2avqf4n5f4az/predict_house_price_test_data.xlsx"
   ]
  },
  {
   "cell_type": "code",
   "outputs": [],
   "source": [
    "excel_file_1 = 'predict_house_price_training_data.xlsx'\n",
    "excel_file_2 = 'predict_house_price_test_data.xlsx'"
   ],
   "metadata": {
    "collapsed": false,
    "ExecuteTime": {
     "end_time": "2024-02-08T07:57:36.194899Z",
     "start_time": "2024-02-08T07:57:36.162537Z"
    }
   },
   "execution_count": 8
  },
  {
   "cell_type": "markdown",
   "metadata": {
    "id": "yJpKlVRBLqa-"
   },
   "source": [
    "Так как данные в формате xlsx (Excel), мы будем использовать специальную функцию\n",
    "из библиотеки pandas для загрузки таких данных **read_excel**.\n",
    "\n",
    "В функции передаем один атрибут: название таблицы с данными."
   ]
  },
  {
   "cell_type": "code",
   "execution_count": 9,
   "metadata": {
    "id": "jaBeMSeuLqa_",
    "ExecuteTime": {
     "end_time": "2024-02-08T07:57:39.677564Z",
     "start_time": "2024-02-08T07:57:36.319405Z"
    }
   },
   "outputs": [],
   "source": [
    "training_data = pd.read_excel(excel_file_1)"
   ]
  },
  {
   "cell_type": "markdown",
   "metadata": {
    "id": "jK9Xd2a5LqbB"
   },
   "source": [
    "*Что важно посмотреть после того, как мы загрузили данные?*\n",
    "- проверить, что данные действительно загрузились\n",
    "- посмотреть на данные, чтобы удостовериться, что они правильные: колонки имеют те же названия, что и в таблице и т.д.\n",
    "\n",
    "Для того чтобы это сделать, нужно вызвать от переменной *training_data* метод **head()**, который выводит первые 5 строк таблицы.\n",
    "\n",
    "Для вызова метода объекта необходимо сначала написать *имя объекта*, затем поставить *точку*, затем уже написать *название метода*. Обратите внимание, что в конце обязательно ставить скобочки, потому что метод - это функция и в ней есть аргументы, просто в данном случае мы их не передаем, поэтому оставляем поле пустым"
   ]
  },
  {
   "cell_type": "code",
   "execution_count": 10,
   "metadata": {
    "colab": {
     "base_uri": "https://localhost:8080/",
     "height": 305
    },
    "id": "q3Me_dg-LqbC",
    "outputId": "037e92ae-ddd3-4ce5-9b5e-332278899de7",
    "ExecuteTime": {
     "end_time": "2024-02-08T07:57:39.680250Z",
     "start_time": "2024-02-08T07:57:39.654475Z"
    }
   },
   "outputs": [
    {
     "data": {
      "text/plain": "   Целевая.Цена  Спальни  Ванные  Жилая площадь  Общая площадь  \\\n0        830000        5    3.50           3490          21780   \n1        385000        4    1.75           2360           7620   \n2        610000        6    2.75           2040           8560   \n3        550000        3    1.75           1940           8376   \n4       1300000        3    2.75           3450           5350   \n\n   Количество этажей  Вид на воду  Просмотрены ранее  Состояние  \\\n0                2.0            0                  0          3   \n1                1.0            0                  0          4   \n2                1.0            0                  2          4   \n3                1.0            0                  0          4   \n4                1.5            0                  3          4   \n\n   Оценка риелтора  Площадь без подвала  Площадь подвала  Год постройки  \\\n0                8                 3490                0           1996   \n1                7                 1180             1180           1955   \n2                7                 1100              940           1961   \n3                8                 1290              650           1963   \n4                9                 2590              860           1925   \n\n   Год реновации   Широта  Долгота  \n0              0  47.6707 -122.144  \n1              0  47.5278 -122.345  \n2              0  47.6160 -122.115  \n3              0  47.5586 -122.173  \n4              0  47.6389 -122.407  ",
      "text/html": "<div>\n<style scoped>\n    .dataframe tbody tr th:only-of-type {\n        vertical-align: middle;\n    }\n\n    .dataframe tbody tr th {\n        vertical-align: top;\n    }\n\n    .dataframe thead th {\n        text-align: right;\n    }\n</style>\n<table border=\"1\" class=\"dataframe\">\n  <thead>\n    <tr style=\"text-align: right;\">\n      <th></th>\n      <th>Целевая.Цена</th>\n      <th>Спальни</th>\n      <th>Ванные</th>\n      <th>Жилая площадь</th>\n      <th>Общая площадь</th>\n      <th>Количество этажей</th>\n      <th>Вид на воду</th>\n      <th>Просмотрены ранее</th>\n      <th>Состояние</th>\n      <th>Оценка риелтора</th>\n      <th>Площадь без подвала</th>\n      <th>Площадь подвала</th>\n      <th>Год постройки</th>\n      <th>Год реновации</th>\n      <th>Широта</th>\n      <th>Долгота</th>\n    </tr>\n  </thead>\n  <tbody>\n    <tr>\n      <th>0</th>\n      <td>830000</td>\n      <td>5</td>\n      <td>3.50</td>\n      <td>3490</td>\n      <td>21780</td>\n      <td>2.0</td>\n      <td>0</td>\n      <td>0</td>\n      <td>3</td>\n      <td>8</td>\n      <td>3490</td>\n      <td>0</td>\n      <td>1996</td>\n      <td>0</td>\n      <td>47.6707</td>\n      <td>-122.144</td>\n    </tr>\n    <tr>\n      <th>1</th>\n      <td>385000</td>\n      <td>4</td>\n      <td>1.75</td>\n      <td>2360</td>\n      <td>7620</td>\n      <td>1.0</td>\n      <td>0</td>\n      <td>0</td>\n      <td>4</td>\n      <td>7</td>\n      <td>1180</td>\n      <td>1180</td>\n      <td>1955</td>\n      <td>0</td>\n      <td>47.5278</td>\n      <td>-122.345</td>\n    </tr>\n    <tr>\n      <th>2</th>\n      <td>610000</td>\n      <td>6</td>\n      <td>2.75</td>\n      <td>2040</td>\n      <td>8560</td>\n      <td>1.0</td>\n      <td>0</td>\n      <td>2</td>\n      <td>4</td>\n      <td>7</td>\n      <td>1100</td>\n      <td>940</td>\n      <td>1961</td>\n      <td>0</td>\n      <td>47.6160</td>\n      <td>-122.115</td>\n    </tr>\n    <tr>\n      <th>3</th>\n      <td>550000</td>\n      <td>3</td>\n      <td>1.75</td>\n      <td>1940</td>\n      <td>8376</td>\n      <td>1.0</td>\n      <td>0</td>\n      <td>0</td>\n      <td>4</td>\n      <td>8</td>\n      <td>1290</td>\n      <td>650</td>\n      <td>1963</td>\n      <td>0</td>\n      <td>47.5586</td>\n      <td>-122.173</td>\n    </tr>\n    <tr>\n      <th>4</th>\n      <td>1300000</td>\n      <td>3</td>\n      <td>2.75</td>\n      <td>3450</td>\n      <td>5350</td>\n      <td>1.5</td>\n      <td>0</td>\n      <td>3</td>\n      <td>4</td>\n      <td>9</td>\n      <td>2590</td>\n      <td>860</td>\n      <td>1925</td>\n      <td>0</td>\n      <td>47.6389</td>\n      <td>-122.407</td>\n    </tr>\n  </tbody>\n</table>\n</div>"
     },
     "execution_count": 10,
     "metadata": {},
     "output_type": "execute_result"
    }
   ],
   "source": [
    "training_data.head()"
   ]
  },
  {
   "cell_type": "markdown",
   "metadata": {
    "id": "wkuIAKG4LqbF"
   },
   "source": [
    "**Шаг 1.3. Посмотрим на размеры загруженной таблицы**, у которой мы видели только первые 5 строк.\n",
    "\n",
    "Для этого вызываем поле **shape** у нашей переменной *training_data*. Поле вызывается также как метод, но в конце скобки не ставятся, так как для поля не предусмотрена передача аргументов.  "
   ]
  },
  {
   "cell_type": "code",
   "execution_count": 11,
   "metadata": {
    "colab": {
     "base_uri": "https://localhost:8080/"
    },
    "id": "8uNkaQKWLqbG",
    "outputId": "fee1a849-1855-4f44-eb85-93ce830ff75b",
    "ExecuteTime": {
     "end_time": "2024-02-08T07:57:39.739501Z",
     "start_time": "2024-02-08T07:57:39.673998Z"
    }
   },
   "outputs": [
    {
     "data": {
      "text/plain": "(15129, 16)"
     },
     "execution_count": 11,
     "metadata": {},
     "output_type": "execute_result"
    }
   ],
   "source": [
    "training_data.shape"
   ]
  },
  {
   "cell_type": "markdown",
   "metadata": {
    "id": "8oiD7YJjLqbI"
   },
   "source": [
    "*Что означает первое и второе число?*\n",
    "\n",
    "Итак, таблица содержит 15129 строк (объектов) и 16 столбцов (признаков), включая выходной (целевой) признак.\n",
    "15129 меньше 21613, так как мы пока загрузили только часть данных, которую будем использовать для обучения модели.\n",
    "\n",
    "Таблицу проверили, теперь можно приступать к обработке данных."
   ]
  },
  {
   "cell_type": "markdown",
   "metadata": {
    "id": "Mz4rsFhALqbJ"
   },
   "source": [
    "# 2. Обработать данные перед обучением модели"
   ]
  },
  {
   "cell_type": "markdown",
   "metadata": {
    "id": "0Z2QQXxSLqbK"
   },
   "source": [
    "**Шаг 2.1. Проверяем данные на наличие пропусков и типов переменных**\n",
    "\n",
    "Начнем с проверки общей информации о данных.\n",
    "Для того чтобы это сделать, нужно обратиться вызвать у переменной *training_data* метод **info()**.\n",
    "\n",
    "Напомним, что в конце необходимо поставить скобочки."
   ]
  },
  {
   "cell_type": "code",
   "execution_count": 12,
   "metadata": {
    "colab": {
     "base_uri": "https://localhost:8080/"
    },
    "id": "yBfVVIN7LqbL",
    "outputId": "fa9a1238-f5a7-4b8a-8b87-dd5828924707",
    "ExecuteTime": {
     "end_time": "2024-02-08T07:57:39.848986Z",
     "start_time": "2024-02-08T07:57:39.680560Z"
    }
   },
   "outputs": [
    {
     "name": "stdout",
     "output_type": "stream",
     "text": [
      "<class 'pandas.core.frame.DataFrame'>\n",
      "RangeIndex: 15129 entries, 0 to 15128\n",
      "Data columns (total 16 columns):\n",
      " #   Column               Non-Null Count  Dtype  \n",
      "---  ------               --------------  -----  \n",
      " 0   Целевая.Цена         15129 non-null  int64  \n",
      " 1   Спальни              15129 non-null  int64  \n",
      " 2   Ванные               15129 non-null  float64\n",
      " 3   Жилая площадь        15129 non-null  int64  \n",
      " 4   Общая площадь        15129 non-null  int64  \n",
      " 5   Количество этажей    15129 non-null  float64\n",
      " 6   Вид на воду          15129 non-null  int64  \n",
      " 7   Просмотрены ранее    15129 non-null  int64  \n",
      " 8   Состояние            15129 non-null  int64  \n",
      " 9   Оценка риелтора      15129 non-null  int64  \n",
      " 10  Площадь без подвала  15129 non-null  int64  \n",
      " 11  Площадь подвала      15129 non-null  int64  \n",
      " 12  Год постройки        15129 non-null  int64  \n",
      " 13  Год реновации        15129 non-null  int64  \n",
      " 14  Широта               15129 non-null  float64\n",
      " 15  Долгота              15129 non-null  float64\n",
      "dtypes: float64(4), int64(12)\n",
      "memory usage: 1.8 MB\n"
     ]
    }
   ],
   "source": [
    "training_data.info()"
   ]
  },
  {
   "cell_type": "markdown",
   "metadata": {
    "id": "va78W9uuLqbN"
   },
   "source": [
    "Анализируем результата выполнения команды:\n",
    "\n",
    "* 15129 строк (entries)\n",
    "* 16 столбцов (Data columns)\n",
    "\n",
    "В данных присутствует всего два типа dtypes:\n",
    "* int64 - целое число  (12 столбцов)\n",
    "* float64 - дробное число (4 столбца)\n",
    "\n",
    "Цифры в каждой строчке обозначают количество заполненных (*non-null*) значений. Так как эти цифры в каждой строчке совпадают с числом строк (15129), то в данных нет пропусков и можно двигаться дальше."
   ]
  },
  {
   "cell_type": "markdown",
   "metadata": {
    "id": "oPiLacxmLqbO"
   },
   "source": [
    "**Шаг 2.2. Работаем с целевой переменной**\n",
    "\n",
    "*Какая переменная целевая?*\n",
    "\n",
    "В данном случае по условию задачи мы должны прогнозировать стоимость, поэтому целевая переменная - это цена."
   ]
  },
  {
   "cell_type": "markdown",
   "metadata": {
    "id": "gOM9Kj8pLqbS"
   },
   "source": []
  },
  {
   "cell_type": "code",
   "execution_count": 13,
   "metadata": {
    "id": "BbEcpf4mLqbT",
    "ExecuteTime": {
     "end_time": "2024-02-08T07:57:39.851518Z",
     "start_time": "2024-02-08T07:57:39.698081Z"
    }
   },
   "outputs": [],
   "source": [
    "training_values = training_data['Целевая.Цена']"
   ]
  },
  {
   "cell_type": "code",
   "execution_count": 14,
   "metadata": {
    "id": "DDXkAIHBLqbW",
    "ExecuteTime": {
     "end_time": "2024-02-08T07:57:39.976412Z",
     "start_time": "2024-02-08T07:57:39.703801Z"
    }
   },
   "outputs": [],
   "source": [
    "training_points = training_data.drop('Целевая.Цена', axis=1)"
   ]
  },
  {
   "cell_type": "markdown",
   "metadata": {
    "id": "civG1etNLqbY"
   },
   "source": [
    "Можно посмотреть результаты этих действий, вызвав метод **head()** и поле **shape**, которыми мы пользовались ранее, но сейчас нужно вызывать их от новой переменной *training_points*."
   ]
  },
  {
   "cell_type": "code",
   "execution_count": 15,
   "metadata": {
    "colab": {
     "base_uri": "https://localhost:8080/",
     "height": 305
    },
    "id": "tiglFXjuLqbZ",
    "outputId": "0cfbc933-985d-4365-af8a-fb009c54a43d",
    "ExecuteTime": {
     "end_time": "2024-02-08T07:57:40.242357Z",
     "start_time": "2024-02-08T07:57:39.715722Z"
    }
   },
   "outputs": [
    {
     "data": {
      "text/plain": "   Спальни  Ванные  Жилая площадь  Общая площадь  Количество этажей  \\\n0        5    3.50           3490          21780                2.0   \n1        4    1.75           2360           7620                1.0   \n2        6    2.75           2040           8560                1.0   \n3        3    1.75           1940           8376                1.0   \n4        3    2.75           3450           5350                1.5   \n\n   Вид на воду  Просмотрены ранее  Состояние  Оценка риелтора  \\\n0            0                  0          3                8   \n1            0                  0          4                7   \n2            0                  2          4                7   \n3            0                  0          4                8   \n4            0                  3          4                9   \n\n   Площадь без подвала  Площадь подвала  Год постройки  Год реновации  \\\n0                 3490                0           1996              0   \n1                 1180             1180           1955              0   \n2                 1100              940           1961              0   \n3                 1290              650           1963              0   \n4                 2590              860           1925              0   \n\n    Широта  Долгота  \n0  47.6707 -122.144  \n1  47.5278 -122.345  \n2  47.6160 -122.115  \n3  47.5586 -122.173  \n4  47.6389 -122.407  ",
      "text/html": "<div>\n<style scoped>\n    .dataframe tbody tr th:only-of-type {\n        vertical-align: middle;\n    }\n\n    .dataframe tbody tr th {\n        vertical-align: top;\n    }\n\n    .dataframe thead th {\n        text-align: right;\n    }\n</style>\n<table border=\"1\" class=\"dataframe\">\n  <thead>\n    <tr style=\"text-align: right;\">\n      <th></th>\n      <th>Спальни</th>\n      <th>Ванные</th>\n      <th>Жилая площадь</th>\n      <th>Общая площадь</th>\n      <th>Количество этажей</th>\n      <th>Вид на воду</th>\n      <th>Просмотрены ранее</th>\n      <th>Состояние</th>\n      <th>Оценка риелтора</th>\n      <th>Площадь без подвала</th>\n      <th>Площадь подвала</th>\n      <th>Год постройки</th>\n      <th>Год реновации</th>\n      <th>Широта</th>\n      <th>Долгота</th>\n    </tr>\n  </thead>\n  <tbody>\n    <tr>\n      <th>0</th>\n      <td>5</td>\n      <td>3.50</td>\n      <td>3490</td>\n      <td>21780</td>\n      <td>2.0</td>\n      <td>0</td>\n      <td>0</td>\n      <td>3</td>\n      <td>8</td>\n      <td>3490</td>\n      <td>0</td>\n      <td>1996</td>\n      <td>0</td>\n      <td>47.6707</td>\n      <td>-122.144</td>\n    </tr>\n    <tr>\n      <th>1</th>\n      <td>4</td>\n      <td>1.75</td>\n      <td>2360</td>\n      <td>7620</td>\n      <td>1.0</td>\n      <td>0</td>\n      <td>0</td>\n      <td>4</td>\n      <td>7</td>\n      <td>1180</td>\n      <td>1180</td>\n      <td>1955</td>\n      <td>0</td>\n      <td>47.5278</td>\n      <td>-122.345</td>\n    </tr>\n    <tr>\n      <th>2</th>\n      <td>6</td>\n      <td>2.75</td>\n      <td>2040</td>\n      <td>8560</td>\n      <td>1.0</td>\n      <td>0</td>\n      <td>2</td>\n      <td>4</td>\n      <td>7</td>\n      <td>1100</td>\n      <td>940</td>\n      <td>1961</td>\n      <td>0</td>\n      <td>47.6160</td>\n      <td>-122.115</td>\n    </tr>\n    <tr>\n      <th>3</th>\n      <td>3</td>\n      <td>1.75</td>\n      <td>1940</td>\n      <td>8376</td>\n      <td>1.0</td>\n      <td>0</td>\n      <td>0</td>\n      <td>4</td>\n      <td>8</td>\n      <td>1290</td>\n      <td>650</td>\n      <td>1963</td>\n      <td>0</td>\n      <td>47.5586</td>\n      <td>-122.173</td>\n    </tr>\n    <tr>\n      <th>4</th>\n      <td>3</td>\n      <td>2.75</td>\n      <td>3450</td>\n      <td>5350</td>\n      <td>1.5</td>\n      <td>0</td>\n      <td>3</td>\n      <td>4</td>\n      <td>9</td>\n      <td>2590</td>\n      <td>860</td>\n      <td>1925</td>\n      <td>0</td>\n      <td>47.6389</td>\n      <td>-122.407</td>\n    </tr>\n  </tbody>\n</table>\n</div>"
     },
     "execution_count": 15,
     "metadata": {},
     "output_type": "execute_result"
    }
   ],
   "source": [
    "training_points.head()"
   ]
  },
  {
   "cell_type": "code",
   "execution_count": 16,
   "metadata": {
    "colab": {
     "base_uri": "https://localhost:8080/"
    },
    "id": "DAfReQdsLqbb",
    "outputId": "04e399de-3e50-4542-f56c-067ae3d5169b",
    "ExecuteTime": {
     "end_time": "2024-02-08T07:57:40.244142Z",
     "start_time": "2024-02-08T07:57:39.722130Z"
    }
   },
   "outputs": [
    {
     "data": {
      "text/plain": "(15129, 15)"
     },
     "execution_count": 16,
     "metadata": {},
     "output_type": "execute_result"
    }
   ],
   "source": [
    "training_points.shape"
   ]
  },
  {
   "cell_type": "markdown",
   "metadata": {
    "id": "kx5oc0ScLqbf"
   },
   "source": [
    "Видно, что столбца действительно нет, а количество строк не изменилось. Данные в 5 первых строках такие же, как были ранее."
   ]
  },
  {
   "cell_type": "markdown",
   "metadata": {
    "id": "pJyxgxErLqbg"
   },
   "source": [
    "##   3. Обучить модель на обучающей выборке"
   ]
  },
  {
   "cell_type": "markdown",
   "metadata": {
    "id": "0FvCNInJLqbg"
   },
   "source": [
    "\n",
    "**Шаг 3.1. Выбираем метод, который будем использовать**\n",
    "\n",
    "Проще всего начать с простых методов.\n",
    "\n",
    "* Линейная регрессия *linear regression*\n",
    "\n",
    "\n"
   ]
  },
  {
   "cell_type": "markdown",
   "metadata": {
    "id": "m84QeANALqbi"
   },
   "source": [
    "Для корректной работы с методами построения моделей в python требуется загрузить специальную библиотеку\n",
    "**sklearn**, программную библиотеку на языке python для для машинного обучения и анализа данных.\n",
    "\n",
    "Мы импортируем  модуль из этой библиотеки:\n",
    " * *linear_model* - тут находятся все линейные модели\n"
   ]
  },
  {
   "cell_type": "code",
   "execution_count": 17,
   "metadata": {
    "id": "f1mxLNeZLqbj",
    "ExecuteTime": {
     "end_time": "2024-02-08T07:57:41.333849Z",
     "start_time": "2024-02-08T07:57:39.728634Z"
    }
   },
   "outputs": [],
   "source": [
    "from sklearn import linear_model"
   ]
  },
  {
   "cell_type": "markdown",
   "metadata": {
    "id": "B86kcKX_Lqbp"
   },
   "source": [
    "Прежде чем начать делать ремонт, нужно подготовить инструменты для работы. Аналогично в нашем случае, прежде чем обучать модели, нужно создать их прототипы.  "
   ]
  },
  {
   "cell_type": "markdown",
   "metadata": {
    "id": "Zm15N2pvLqbq"
   },
   "source": [
    "Чтобы создать модель линейной регресии, пишем имя модуля 'linear_model', затем точку, затем название модели."
   ]
  },
  {
   "cell_type": "code",
   "execution_count": 18,
   "metadata": {
    "id": "aJdy5rsFLqbt",
    "ExecuteTime": {
     "end_time": "2024-02-08T07:57:41.335998Z",
     "start_time": "2024-02-08T07:57:41.314134Z"
    }
   },
   "outputs": [],
   "source": [
    "linear_regression_model = linear_model.LinearRegression() # создаем модель"
   ]
  },
  {
   "cell_type": "markdown",
   "metadata": {
    "id": "TM7UfC6uLqb2"
   },
   "source": [
    "**Шаг 3.2. Обучить модель**\n",
    "\n",
    "Теперь, когда мы создали прототип  модели, можем его обучить с помощью обучающей выборки.\n",
    "\n",
    "Для этого вызываем метод **fit()** у каждой модели и передаем ему на вход два аргумента:\n",
    "таблицу входных признаков и столбец значений целевой переменной - (training_points, training_values)"
   ]
  },
  {
   "cell_type": "code",
   "execution_count": 38,
   "metadata": {
    "colab": {
     "base_uri": "https://localhost:8080/"
    },
    "id": "zlMSe5KOLqb3",
    "outputId": "ade21ee7-9277-44e6-ed20-27eebb1bcc4b",
    "ExecuteTime": {
     "end_time": "2024-02-08T09:07:18.007611Z",
     "start_time": "2024-02-08T09:07:17.981439Z"
    }
   },
   "outputs": [
    {
     "name": "stdout",
     "output_type": "stream",
     "text": [
      "Intercept: -36263897.49702227\n",
      "(b1, b2, ..., b15): [-3.37568700e+04  4.31210151e+04  1.15347631e+02 -4.72733343e-02\n",
      " -6.33671614e+03  5.91890463e+05  4.97598815e+04  3.21627978e+04\n",
      "  9.96353171e+04  7.99725608e+01  3.53750699e+01 -2.44905828e+03\n",
      "  2.45690914e+01  5.70765126e+05 -1.08281940e+05]\n"
     ]
    }
   ],
   "source": [
    "linear_regression_model.fit(training_points, training_values)\n",
    "\n",
    "intercept = linear_regression_model.intercept_\n",
    "print(f'Intercept: {intercept}')\n",
    "coefficients = linear_regression_model.coef_\n",
    "print(f'(b1, b2, ..., b15): {coefficients}')"
   ]
  },
  {
   "cell_type": "markdown",
   "metadata": {
    "id": "vNdd15xULqb7"
   },
   "source": [
    "\n",
    "* Мы получили обученную модель.\n",
    "* Теперь необходимо провалидировать модель на новых тестовых данных."
   ]
  },
  {
   "cell_type": "markdown",
   "metadata": {
    "id": "y8BB5t5DLqb8"
   },
   "source": [
    "## 4. Загрузить и предобработать данные для тестирования"
   ]
  },
  {
   "cell_type": "markdown",
   "metadata": {
    "id": "V70UJoRnLqb9"
   },
   "source": [
    "**Шаг 4.1. Загрузим и проанализируем тестовые данные.**\n",
    "\n",
    "Так как данные в формате xlsx (Excel), мы будем использовать специальную функцию\n",
    "из библиотеки pandas для загрузки таких данных **read_excel**.\n",
    "\n",
    "В функции передаем один атрибут: название файла, в котором находится таблица с данными."
   ]
  },
  {
   "cell_type": "code",
   "execution_count": 20,
   "metadata": {
    "id": "G2QC-fcBLqb9",
    "ExecuteTime": {
     "end_time": "2024-02-08T07:57:42.714870Z",
     "start_time": "2024-02-08T07:57:41.351570Z"
    }
   },
   "outputs": [],
   "source": [
    "test_data = pd.read_excel(excel_file_2)"
   ]
  },
  {
   "cell_type": "markdown",
   "metadata": {
    "id": "D5c96FglLqcA"
   },
   "source": [
    "*Что важно посмотреть, после того, как мы загрузили данные?*\n",
    "\n",
    "- проверить, что данные действительно загрузились\n",
    "- посмотреть на данные, чтобы удостовериться, что они правильные: колонки имеют те же названия, что и в таблице и т.д.\n",
    "\n",
    "Для того чтобы это сделать, нужно вызвать от переменной *test_data* метод **head()**, который выводит первые 5 строк таблицы.\n",
    "\n",
    "Для вызова метода объекта необходимо сначала написать *имя объекта*, затем поставить *точку*, затем уже написать *название метода*. Обратите внимание, что в конце обязательно ставить скобочки, потому что метод - это функция и в ней есть аргументы, просто в данном случае мы их не передаем, поэтому оставляем поле пустым"
   ]
  },
  {
   "cell_type": "code",
   "execution_count": 21,
   "metadata": {
    "colab": {
     "base_uri": "https://localhost:8080/"
    },
    "id": "aWplqmHwLqcC",
    "outputId": "be2039b3-8ea5-4488-9010-c10d3b4b1d86",
    "ExecuteTime": {
     "end_time": "2024-02-08T07:57:42.730826Z",
     "start_time": "2024-02-08T07:57:42.719380Z"
    }
   },
   "outputs": [
    {
     "data": {
      "text/plain": "   Целевая.Цена  Спальни  Ванные  Жилая площадь  Общая площадь  \\\n0        260000        3    1.00           1300          10139   \n1        734500        4    2.75           3280           6845   \n2        325000        1    1.00           1220          12426   \n3       1990000        3    2.50           2880          13500   \n4        315000        3    2.00           1300           3731   \n\n   Количество этажей  Вид на воду  Просмотрены ранее  Состояние  \\\n0                1.0            0                  0          3   \n1                2.0            0                  0          3   \n2                1.0            0                  4          4   \n3                1.0            0                  4          5   \n4                1.0            0                  0          3   \n\n   Оценка риелтора  Площадь без подвала  Площадь подвала  Год постройки  \\\n0                7                 1300                0           1962   \n1               10                 3280                0           2003   \n2                6                 1220                0           1946   \n3                8                 1520             1360           1950   \n4                7                  900              400           1993   \n\n   Год реновации   Широта  Долгота  \n0           2007  47.3427 -122.087  \n1              0  47.7042 -122.107  \n2              0  47.4047 -122.331  \n3              0  47.6281 -122.216  \n4              0  47.5374 -122.270  ",
      "text/html": "<div>\n<style scoped>\n    .dataframe tbody tr th:only-of-type {\n        vertical-align: middle;\n    }\n\n    .dataframe tbody tr th {\n        vertical-align: top;\n    }\n\n    .dataframe thead th {\n        text-align: right;\n    }\n</style>\n<table border=\"1\" class=\"dataframe\">\n  <thead>\n    <tr style=\"text-align: right;\">\n      <th></th>\n      <th>Целевая.Цена</th>\n      <th>Спальни</th>\n      <th>Ванные</th>\n      <th>Жилая площадь</th>\n      <th>Общая площадь</th>\n      <th>Количество этажей</th>\n      <th>Вид на воду</th>\n      <th>Просмотрены ранее</th>\n      <th>Состояние</th>\n      <th>Оценка риелтора</th>\n      <th>Площадь без подвала</th>\n      <th>Площадь подвала</th>\n      <th>Год постройки</th>\n      <th>Год реновации</th>\n      <th>Широта</th>\n      <th>Долгота</th>\n    </tr>\n  </thead>\n  <tbody>\n    <tr>\n      <th>0</th>\n      <td>260000</td>\n      <td>3</td>\n      <td>1.00</td>\n      <td>1300</td>\n      <td>10139</td>\n      <td>1.0</td>\n      <td>0</td>\n      <td>0</td>\n      <td>3</td>\n      <td>7</td>\n      <td>1300</td>\n      <td>0</td>\n      <td>1962</td>\n      <td>2007</td>\n      <td>47.3427</td>\n      <td>-122.087</td>\n    </tr>\n    <tr>\n      <th>1</th>\n      <td>734500</td>\n      <td>4</td>\n      <td>2.75</td>\n      <td>3280</td>\n      <td>6845</td>\n      <td>2.0</td>\n      <td>0</td>\n      <td>0</td>\n      <td>3</td>\n      <td>10</td>\n      <td>3280</td>\n      <td>0</td>\n      <td>2003</td>\n      <td>0</td>\n      <td>47.7042</td>\n      <td>-122.107</td>\n    </tr>\n    <tr>\n      <th>2</th>\n      <td>325000</td>\n      <td>1</td>\n      <td>1.00</td>\n      <td>1220</td>\n      <td>12426</td>\n      <td>1.0</td>\n      <td>0</td>\n      <td>4</td>\n      <td>4</td>\n      <td>6</td>\n      <td>1220</td>\n      <td>0</td>\n      <td>1946</td>\n      <td>0</td>\n      <td>47.4047</td>\n      <td>-122.331</td>\n    </tr>\n    <tr>\n      <th>3</th>\n      <td>1990000</td>\n      <td>3</td>\n      <td>2.50</td>\n      <td>2880</td>\n      <td>13500</td>\n      <td>1.0</td>\n      <td>0</td>\n      <td>4</td>\n      <td>5</td>\n      <td>8</td>\n      <td>1520</td>\n      <td>1360</td>\n      <td>1950</td>\n      <td>0</td>\n      <td>47.6281</td>\n      <td>-122.216</td>\n    </tr>\n    <tr>\n      <th>4</th>\n      <td>315000</td>\n      <td>3</td>\n      <td>2.00</td>\n      <td>1300</td>\n      <td>3731</td>\n      <td>1.0</td>\n      <td>0</td>\n      <td>0</td>\n      <td>3</td>\n      <td>7</td>\n      <td>900</td>\n      <td>400</td>\n      <td>1993</td>\n      <td>0</td>\n      <td>47.5374</td>\n      <td>-122.270</td>\n    </tr>\n  </tbody>\n</table>\n</div>"
     },
     "execution_count": 21,
     "metadata": {},
     "output_type": "execute_result"
    }
   ],
   "source": [
    "test_data.head()"
   ]
  },
  {
   "cell_type": "markdown",
   "metadata": {
    "id": "rNOKBtaVLqcF"
   },
   "source": [
    "Посмотрим на размеры загруженной таблицы, так как мы видели только 5 строк\n",
    "\n",
    "Для этого вызываем поле **shape** у нашей переменной *test_data*. Поле вызывается также как метод, но в конце скобки не ставятся (!), так как для поля не предусмотрена передача аргументов.  "
   ]
  },
  {
   "cell_type": "code",
   "execution_count": 22,
   "metadata": {
    "colab": {
     "base_uri": "https://localhost:8080/"
    },
    "id": "FHzoBYPKLqcG",
    "outputId": "6fabdb25-83b2-461b-b6a8-0ba4a84ae667",
    "ExecuteTime": {
     "end_time": "2024-02-08T07:57:42.748104Z",
     "start_time": "2024-02-08T07:57:42.726249Z"
    }
   },
   "outputs": [
    {
     "data": {
      "text/plain": "(6484, 16)"
     },
     "execution_count": 22,
     "metadata": {},
     "output_type": "execute_result"
    }
   ],
   "source": [
    "test_data.shape"
   ]
  },
  {
   "cell_type": "markdown",
   "metadata": {
    "id": "Sic-zsmxLqcI"
   },
   "source": [
    "*Что означает первое и второе число?*\n",
    "Таблица содержит 6484 строк (объектов) и 16 столбцов (признаков), включая выходной (целевой) признак. Также как в учебных данных до обучения.\n",
    "\n",
    "Таблицу проверили, теперь можно приступать к обработке данных\n",
    "Действуем аналогично тому, как делали с данными для обучения"
   ]
  },
  {
   "cell_type": "markdown",
   "metadata": {
    "id": "cirwOcb7LqcJ"
   },
   "source": [
    "Проверим, есть ли в данных пропуски. Для того чтобы это сделать, нужно обратиться вызвать у переменной *test_data* метод **info()**."
   ]
  },
  {
   "cell_type": "code",
   "execution_count": 23,
   "metadata": {
    "colab": {
     "base_uri": "https://localhost:8080/"
    },
    "id": "-TMC8NvMLqcJ",
    "outputId": "7ee6cc09-ea7a-4fb5-ca5e-11979d8e3f63",
    "ExecuteTime": {
     "end_time": "2024-02-08T07:57:42.914738Z",
     "start_time": "2024-02-08T07:57:42.732842Z"
    }
   },
   "outputs": [
    {
     "name": "stdout",
     "output_type": "stream",
     "text": [
      "<class 'pandas.core.frame.DataFrame'>\n",
      "RangeIndex: 6484 entries, 0 to 6483\n",
      "Data columns (total 16 columns):\n",
      " #   Column               Non-Null Count  Dtype  \n",
      "---  ------               --------------  -----  \n",
      " 0   Целевая.Цена         6484 non-null   int64  \n",
      " 1   Спальни              6484 non-null   int64  \n",
      " 2   Ванные               6484 non-null   float64\n",
      " 3   Жилая площадь        6484 non-null   int64  \n",
      " 4   Общая площадь        6484 non-null   int64  \n",
      " 5   Количество этажей    6484 non-null   float64\n",
      " 6   Вид на воду          6484 non-null   int64  \n",
      " 7   Просмотрены ранее    6484 non-null   int64  \n",
      " 8   Состояние            6484 non-null   int64  \n",
      " 9   Оценка риелтора      6484 non-null   int64  \n",
      " 10  Площадь без подвала  6484 non-null   int64  \n",
      " 11  Площадь подвала      6484 non-null   int64  \n",
      " 12  Год постройки        6484 non-null   int64  \n",
      " 13  Год реновации        6484 non-null   int64  \n",
      " 14  Широта               6484 non-null   float64\n",
      " 15  Долгота              6484 non-null   float64\n",
      "dtypes: float64(4), int64(12)\n",
      "memory usage: 810.6 KB\n"
     ]
    }
   ],
   "source": [
    "test_data.info()"
   ]
  },
  {
   "cell_type": "markdown",
   "metadata": {
    "id": "AN3MKGbcLqcL"
   },
   "source": [
    "Цифры в каждой строчке обозначают количество заполненных (*non-null*) значений. Так как эти цифры в каждой строчке совпадают с числом строк (6484), то в данных нет пропусков."
   ]
  },
  {
   "cell_type": "markdown",
   "metadata": {
    "id": "2cUtLvm8LqcM"
   },
   "source": [
    "**Шаг 4.2. Отделяем целевую переменную**"
   ]
  },
  {
   "cell_type": "markdown",
   "metadata": {
    "id": "s2QuCPmzLqcM"
   },
   "source": [
    "Нам нужно выделить в отдельную переменную *test_values* столбец из нашей таблицы, который соответствует определенной выше целевой переменной."
   ]
  },
  {
   "cell_type": "code",
   "execution_count": 24,
   "metadata": {
    "id": "-mJZ2H7QLqcN",
    "ExecuteTime": {
     "end_time": "2024-02-08T07:57:42.918164Z",
     "start_time": "2024-02-08T07:57:42.742720Z"
    }
   },
   "outputs": [],
   "source": [
    "test_values = test_data['Целевая.Цена']"
   ]
  },
  {
   "cell_type": "markdown",
   "metadata": {
    "id": "65B_7B2YLqcP"
   },
   "source": [
    "Отделим входные переменные от выходной (целевой), чтобы можно было построить модель предсказания целевой переменной по входным.\n",
    "Для это нужно у переменной *test_data* вызвать метод **drop()**. Результат мы записываем в новую переменную *test_points*. После выполнения запроса *test_points* будет содержать исходную таблицу без целевого столбца."
   ]
  },
  {
   "cell_type": "code",
   "execution_count": 25,
   "metadata": {
    "id": "-VIMWvPLLqcQ",
    "ExecuteTime": {
     "end_time": "2024-02-08T07:57:42.957394Z",
     "start_time": "2024-02-08T07:57:42.748360Z"
    }
   },
   "outputs": [],
   "source": [
    "test_points = test_data.drop('Целевая.Цена', axis=1)"
   ]
  },
  {
   "cell_type": "markdown",
   "metadata": {
    "id": "y3Cwim1CLqcV"
   },
   "source": [
    "И проверяем результат записанный в test_points"
   ]
  },
  {
   "cell_type": "code",
   "execution_count": 26,
   "metadata": {
    "colab": {
     "base_uri": "https://localhost:8080/"
    },
    "id": "s20UtLqELqcV",
    "outputId": "723c81a0-2a36-4ed2-ffe3-ff0da499b2cc",
    "ExecuteTime": {
     "end_time": "2024-02-08T07:57:42.960883Z",
     "start_time": "2024-02-08T07:57:42.761048Z"
    }
   },
   "outputs": [
    {
     "data": {
      "text/plain": "   Спальни  Ванные  Жилая площадь  Общая площадь  Количество этажей  \\\n0        3    1.00           1300          10139                1.0   \n1        4    2.75           3280           6845                2.0   \n2        1    1.00           1220          12426                1.0   \n3        3    2.50           2880          13500                1.0   \n4        3    2.00           1300           3731                1.0   \n\n   Вид на воду  Просмотрены ранее  Состояние  Оценка риелтора  \\\n0            0                  0          3                7   \n1            0                  0          3               10   \n2            0                  4          4                6   \n3            0                  4          5                8   \n4            0                  0          3                7   \n\n   Площадь без подвала  Площадь подвала  Год постройки  Год реновации  \\\n0                 1300                0           1962           2007   \n1                 3280                0           2003              0   \n2                 1220                0           1946              0   \n3                 1520             1360           1950              0   \n4                  900              400           1993              0   \n\n    Широта  Долгота  \n0  47.3427 -122.087  \n1  47.7042 -122.107  \n2  47.4047 -122.331  \n3  47.6281 -122.216  \n4  47.5374 -122.270  ",
      "text/html": "<div>\n<style scoped>\n    .dataframe tbody tr th:only-of-type {\n        vertical-align: middle;\n    }\n\n    .dataframe tbody tr th {\n        vertical-align: top;\n    }\n\n    .dataframe thead th {\n        text-align: right;\n    }\n</style>\n<table border=\"1\" class=\"dataframe\">\n  <thead>\n    <tr style=\"text-align: right;\">\n      <th></th>\n      <th>Спальни</th>\n      <th>Ванные</th>\n      <th>Жилая площадь</th>\n      <th>Общая площадь</th>\n      <th>Количество этажей</th>\n      <th>Вид на воду</th>\n      <th>Просмотрены ранее</th>\n      <th>Состояние</th>\n      <th>Оценка риелтора</th>\n      <th>Площадь без подвала</th>\n      <th>Площадь подвала</th>\n      <th>Год постройки</th>\n      <th>Год реновации</th>\n      <th>Широта</th>\n      <th>Долгота</th>\n    </tr>\n  </thead>\n  <tbody>\n    <tr>\n      <th>0</th>\n      <td>3</td>\n      <td>1.00</td>\n      <td>1300</td>\n      <td>10139</td>\n      <td>1.0</td>\n      <td>0</td>\n      <td>0</td>\n      <td>3</td>\n      <td>7</td>\n      <td>1300</td>\n      <td>0</td>\n      <td>1962</td>\n      <td>2007</td>\n      <td>47.3427</td>\n      <td>-122.087</td>\n    </tr>\n    <tr>\n      <th>1</th>\n      <td>4</td>\n      <td>2.75</td>\n      <td>3280</td>\n      <td>6845</td>\n      <td>2.0</td>\n      <td>0</td>\n      <td>0</td>\n      <td>3</td>\n      <td>10</td>\n      <td>3280</td>\n      <td>0</td>\n      <td>2003</td>\n      <td>0</td>\n      <td>47.7042</td>\n      <td>-122.107</td>\n    </tr>\n    <tr>\n      <th>2</th>\n      <td>1</td>\n      <td>1.00</td>\n      <td>1220</td>\n      <td>12426</td>\n      <td>1.0</td>\n      <td>0</td>\n      <td>4</td>\n      <td>4</td>\n      <td>6</td>\n      <td>1220</td>\n      <td>0</td>\n      <td>1946</td>\n      <td>0</td>\n      <td>47.4047</td>\n      <td>-122.331</td>\n    </tr>\n    <tr>\n      <th>3</th>\n      <td>3</td>\n      <td>2.50</td>\n      <td>2880</td>\n      <td>13500</td>\n      <td>1.0</td>\n      <td>0</td>\n      <td>4</td>\n      <td>5</td>\n      <td>8</td>\n      <td>1520</td>\n      <td>1360</td>\n      <td>1950</td>\n      <td>0</td>\n      <td>47.6281</td>\n      <td>-122.216</td>\n    </tr>\n    <tr>\n      <th>4</th>\n      <td>3</td>\n      <td>2.00</td>\n      <td>1300</td>\n      <td>3731</td>\n      <td>1.0</td>\n      <td>0</td>\n      <td>0</td>\n      <td>3</td>\n      <td>7</td>\n      <td>900</td>\n      <td>400</td>\n      <td>1993</td>\n      <td>0</td>\n      <td>47.5374</td>\n      <td>-122.270</td>\n    </tr>\n  </tbody>\n</table>\n</div>"
     },
     "execution_count": 26,
     "metadata": {},
     "output_type": "execute_result"
    }
   ],
   "source": [
    "test_points.head()"
   ]
  },
  {
   "cell_type": "code",
   "execution_count": 27,
   "metadata": {
    "colab": {
     "base_uri": "https://localhost:8080/"
    },
    "id": "ig4hw7enLqca",
    "outputId": "e03b15a8-63c1-4d29-81cb-ee6b4d10ecef",
    "ExecuteTime": {
     "end_time": "2024-02-08T07:57:43.018309Z",
     "start_time": "2024-02-08T07:57:42.766950Z"
    }
   },
   "outputs": [
    {
     "data": {
      "text/plain": "(6484, 15)"
     },
     "execution_count": 27,
     "metadata": {},
     "output_type": "execute_result"
    }
   ],
   "source": [
    "test_points.shape"
   ]
  },
  {
   "cell_type": "markdown",
   "metadata": {
    "id": "xvDMV5yoLqce"
   },
   "source": [
    "Видно, что количество столбцов уменьшилось на один. Данные в 5 первых строках такие же, как были ранее."
   ]
  },
  {
   "cell_type": "markdown",
   "metadata": {
    "id": "5QFgDcQXLqcf"
   },
   "source": [
    "# 5. Провалидировать модель на тестовой выборке"
   ]
  },
  {
   "cell_type": "markdown",
   "metadata": {
    "id": "NDTfUzZdLqch"
   },
   "source": [
    "*1.\n",
    "\n",
    "Получим прогноз целевой переменной на тестовых данных для модели линейной регрессии .\n",
    "\n",
    "Для этого вызовем  метод **predict()**, в качестве аргумента передадим *test_points*."
   ]
  },
  {
   "cell_type": "code",
   "execution_count": 28,
   "metadata": {
    "id": "DK3TytoFLqch",
    "ExecuteTime": {
     "end_time": "2024-02-08T07:57:43.155895Z",
     "start_time": "2024-02-08T07:57:42.774538Z"
    }
   },
   "outputs": [],
   "source": [
    "test_predictions_linear = linear_regression_model.predict(test_points)"
   ]
  },
  {
   "cell_type": "markdown",
   "metadata": {
    "id": "kxRo4sq1Lqcm"
   },
   "source": [
    "Качество регрессионных моделей оценим двумя способами:\n",
    "1. Сравним визуально прогнозы с настоящими ценами (тестовые с предсказанием)\n",
    "2. Сравним метрики качества"
   ]
  },
  {
   "cell_type": "markdown",
   "metadata": {
    "id": "3EqEpVOALqcn"
   },
   "source": [
    "Визуализируем прогноз линейной модели и настоящие значения из тестовой выборки.\n"
   ]
  },
  {
   "cell_type": "code",
   "execution_count": 29,
   "metadata": {
    "id": "fDTQwaoCLqco",
    "ExecuteTime": {
     "end_time": "2024-02-08T07:57:43.158844Z",
     "start_time": "2024-02-08T07:57:42.842461Z"
    }
   },
   "outputs": [],
   "source": [
    "%matplotlib inline"
   ]
  },
  {
   "cell_type": "code",
   "execution_count": 30,
   "metadata": {
    "colab": {
     "base_uri": "https://localhost:8080/",
     "height": 462
    },
    "id": "VBEX2xoYLqcp",
    "outputId": "c3171ea3-1841-4280-8be8-3b7f58f7e034",
    "ExecuteTime": {
     "end_time": "2024-02-08T07:57:43.439727Z",
     "start_time": "2024-02-08T07:57:42.900056Z"
    }
   },
   "outputs": [
    {
     "data": {
      "text/plain": "<Figure size 700x700 with 1 Axes>",
      "image/png": "[encoded data removed]"
     },
     "metadata": {},
     "output_type": "display_data"
    }
   ],
   "source": [
    "plt.figure(figsize=(7, 7))\n",
    "plt.scatter(test_values, test_predictions_linear) # рисуем точки, соответствущие парам настоящее значение - прогноз\n",
    "plt.plot([0, 6 * 10**6], [0, 6 * 10**6]) # рисуем прямую, на которой предсказания и настоящие значения совпадают\n",
    "plt.xlabel('Настоящая цена', fontsize=20)\n",
    "plt.ylabel('Предсказанная цена', fontsize=20);"
   ]
  },
  {
   "cell_type": "markdown",
   "metadata": {
    "id": "Swg445QcLqct"
   },
   "source": [
    "Для корректного подсчета метрик качества модели в python требуется загрузить их из библиотеки **sklearn**.\n",
    "\n",
    "Мы используем две метрики качества:\n",
    " * *mean_absolute_error* - средняя абсолютная ошибка $|y_i - \\hat{y}_i|$\n",
    " * *mean_squared_error* - средняя квадратичная ошибка $(y_i - \\hat{y}_i)^2$"
   ]
  },
  {
   "cell_type": "code",
   "execution_count": 31,
   "metadata": {
    "id": "vAmGjpEzLqcu",
    "ExecuteTime": {
     "end_time": "2024-02-08T07:57:43.458776Z",
     "start_time": "2024-02-08T07:57:43.255868Z"
    }
   },
   "outputs": [],
   "source": [
    "from sklearn.metrics import mean_absolute_error, mean_squared_error"
   ]
  },
  {
   "cell_type": "markdown",
   "metadata": {
    "id": "gmkMZN2FLqcw"
   },
   "source": [
    "Подсчитаем ошибки для линейной модели.\n",
    "\n",
    "Для этого вызовем методы **mean_absolute_error()** и **mean_squared_error()**. На вход им передается столбец настоящих значений *test_values* и столбец значений, предсказанных моделью линейной регрессии *test_predictions_linear*."
   ]
  },
  {
   "cell_type": "code",
   "execution_count": 32,
   "metadata": {
    "id": "k14DseleLqcw",
    "ExecuteTime": {
     "end_time": "2024-02-08T07:57:43.464963Z",
     "start_time": "2024-02-08T07:57:43.261654Z"
    }
   },
   "outputs": [],
   "source": [
    "mean_absolute_error_linear_model = mean_absolute_error(test_values, test_predictions_linear)\n",
    "mean_squared_error_linear_model = mean_squared_error(test_values, test_predictions_linear)"
   ]
  },
  {
   "cell_type": "markdown",
   "metadata": {
    "id": "yvsElUo7Lqc2"
   },
   "source": [
    "Теперь напечатаем полученные ошибки. Обычно смотрят на корень из среднеквадратичной ошибки, RMSE. Чтобы извлечь корень нам понадобится библиотека **Numpy**. С помощью неё можно быстро производить вычисления сразу над массивами чисел."
   ]
  },
  {
   "cell_type": "code",
   "execution_count": 34,
   "metadata": {
    "colab": {
     "base_uri": "https://localhost:8080/"
    },
    "id": "35GjVt2mLqc2",
    "outputId": "82289f6f-f754-4591-f6f8-31bcf1c5e352",
    "ExecuteTime": {
     "end_time": "2024-02-08T07:58:14.915911Z",
     "start_time": "2024-02-08T07:58:14.881088Z"
    }
   },
   "outputs": [
    {
     "name": "stdout",
     "output_type": "stream",
     "text": [
      "MAE: 126852.51, RMSE: 201883.24 для модели линейной регрессии\n"
     ]
    }
   ],
   "source": [
    "import numpy as np\n",
    "\n",
    "print(f\"MAE: {mean_absolute_error_linear_model:7.2f}, RMSE: {np.sqrt(mean_squared_error_linear_model):7.2f} для модели линейной регрессии\")"
   ]
  },
  {
   "cell_type": "markdown",
   "metadata": {
    "id": "3WREujt8Lqc5"
   },
   "source": [
    "# Обзор результатов\n",
    "\n",
    "В этом ноутбуке мы научились\n",
    "0. Загружать библиотеки, необходимые для работы.\n",
    "1. Загрузить данные для обучения, представленные в формате excel таблицы.\n",
    "2. Проводить предрватилельную обработку данных перед построением и использованием модели машинного обучения: смотреть на части таблицы, понимать, какой размер у выборки данных, выделять отдельные столбцы таблицы в новые таблицы.\n",
    "3. Обучать модель линейной регрессии  на обучающей выборке.\n",
    "4. Валидировать модель на тестовой выборке с помощью кросс-плота для модели и реальных значений, стандартных ошибок модели."
   ]
  },
  {
   "cell_type": "code",
   "execution_count": 33,
   "metadata": {
    "id": "5G-A_qAYLqdm",
    "ExecuteTime": {
     "end_time": "2024-02-08T07:57:43.468746Z",
     "start_time": "2024-02-08T07:57:43.276797Z"
    }
   },
   "outputs": [],
   "source": []
  },
  {
   "cell_type": "code",
   "outputs": [],
   "source": [],
   "metadata": {
    "collapsed": false,
    "ExecuteTime": {
     "end_time": "2024-02-08T07:57:43.470421Z",
     "start_time": "2024-02-08T07:57:43.280215Z"
    }
   },
   "execution_count": 33
  },
  {
   "cell_type": "code",
   "outputs": [],
   "source": [],
   "metadata": {
    "collapsed": false,
    "ExecuteTime": {
     "end_time": "2024-02-08T07:57:43.471971Z",
     "start_time": "2024-02-08T07:57:43.283990Z"
    }
   },
   "execution_count": 33
  },
  {
   "cell_type": "code",
   "outputs": [],
   "source": [],
   "metadata": {
    "collapsed": false,
    "ExecuteTime": {
     "end_time": "2024-02-08T07:57:43.497070Z",
     "start_time": "2024-02-08T07:57:43.287792Z"
    }
   },
   "execution_count": 33
  },
  {
   "cell_type": "code",
   "outputs": [],
   "source": [],
   "metadata": {
    "collapsed": false,
    "ExecuteTime": {
     "end_time": "2024-02-08T07:57:43.499033Z",
     "start_time": "2024-02-08T07:57:43.291910Z"
    }
   },
   "execution_count": 33
  },
  {
   "cell_type": "code",
   "outputs": [],
   "source": [],
   "metadata": {
    "collapsed": false,
    "ExecuteTime": {
     "end_time": "2024-02-08T07:57:43.501053Z",
     "start_time": "2024-02-08T07:57:43.296546Z"
    }
   },
   "execution_count": 33
  },
  {
   "cell_type": "code",
   "outputs": [],
   "source": [],
   "metadata": {
    "collapsed": false,
    "ExecuteTime": {
     "end_time": "2024-02-08T07:57:43.502622Z",
     "start_time": "2024-02-08T07:57:43.303110Z"
    }
   },
   "execution_count": 33
  },
  {
   "cell_type": "code",
   "outputs": [],
   "source": [],
   "metadata": {
    "collapsed": false,
    "ExecuteTime": {
     "end_time": "2024-02-08T07:57:43.504543Z",
     "start_time": "2024-02-08T07:57:43.309712Z"
    }
   },
   "execution_count": 33
  },
  {
   "cell_type": "code",
   "outputs": [],
   "source": [],
   "metadata": {
    "collapsed": false
   }
  }
 ],
 "metadata": {
  "colab": {
   "collapsed_sections": [
    "pJyxgxErLqbg",
    "y8BB5t5DLqb8",
    "RQS6gBO1Lqc5"
   ],
   "provenance": []
  },
  "kernelspec": {
   "display_name": "Python 3 (ipykernel)",
   "language": "python",
   "name": "python3"
  },
  "language_info": {
   "codemirror_mode": {
    "name": "ipython",
    "version": 3
   },
   "file_extension": ".py",
   "mimetype": "text/x-python",
   "name": "python",
   "nbconvert_exporter": "python",
   "pygments_lexer": "ipython3",
   "version": "3.11.5"
  },
  "toc": {
   "base_numbering": 1,
   "nav_menu": {},
   "number_sections": true,
   "sideBar": true,
   "skip_h1_title": false,
   "title_cell": "Table of Contents",
   "title_sidebar": "Contents",
   "toc_cell": false,
   "toc_position": {},
   "toc_section_display": true,
   "toc_window_display": false
  }
 },
 "nbformat": 4,
 "nbformat_minor": 1
}
