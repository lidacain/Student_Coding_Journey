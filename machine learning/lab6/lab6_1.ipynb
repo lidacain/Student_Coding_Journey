{
 "cells": [
  {
   "cell_type": "code",
   "execution_count": 1,
   "id": "461c3783",
   "metadata": {},
   "outputs": [
    {
     "name": "stdout",
     "output_type": "stream",
     "text": [
      "Index(['satisfaction_level', 'last_evaluation', 'number_project',\n",
      "       'average_montly_hours', 'time_spend_company', 'Work_accident',\n",
      "       'promotion_last_5years', 'dept', 'salary'],\n",
      "      dtype='object')\n"
     ]
    }
   ],
   "source": [
    "import pandas as pd\n",
    "import numpy as np\n",
    "import matplotlib.pyplot as plt\n",
    "\n",
    "from sklearn.model_selection import cross_val_score, train_test_split\n",
    "from sklearn.ensemble import BaggingClassifier, RandomForestClassifier\n",
    "from sklearn.tree import DecisionTreeClassifier\n",
    "from sklearn.linear_model import LogisticRegression\n",
    "from sklearn.preprocessing import StandardScaler\n",
    "df = pd.read_csv('HR-dataset.csv')\n",
    "\n",
    "np.random.seed(42)\n",
    "%matplotlib inline\n",
    "%config InlineBackend.figure_format = 'retina'\n",
    "\n",
    "target = 'left'\n",
    "features = df.columns.drop(target)\n",
    "features = features.drop('empid')  # Удалим идентификатор пользователя как нерепрезентативный признак\n",
    "print(features)\n",
    "\n",
    "X, y = df[features].copy(), df[target]"
   ]
  },
  {
   "cell_type": "code",
   "execution_count": 2,
   "id": "1a7333d8",
   "metadata": {},
   "outputs": [],
   "source": [
    "salary_ordinals = {'low': 1, 'medium': 2, 'high': 3}\n",
    "\n",
    "X['dept'] = X['dept'].apply(X['dept'].value_counts().get)\n",
    "X['salary'] = X['salary'].apply(salary_ordinals.get)\n",
    "scaler = StandardScaler()\n",
    "X = pd.DataFrame(data=scaler.fit_transform(X), columns=X.columns)"
   ]
  },
  {
   "cell_type": "code",
   "execution_count": 3,
   "id": "9884f909",
   "metadata": {},
   "outputs": [],
   "source": [
    "def estimate_accuracy(clf, X, y, cv=5):\n",
    "    return cross_val_score(clf, X, y, cv=5, scoring='accuracy').mean()"
   ]
  },
  {
   "cell_type": "code",
   "execution_count": 4,
   "id": "a5249449",
   "metadata": {},
   "outputs": [
    {
     "name": "stdout",
     "output_type": "stream",
     "text": [
      "Decision tree: 0.9731310659108592\n"
     ]
    }
   ],
   "source": [
    "tree = DecisionTreeClassifier(max_depth=30)\n",
    "print(\"Decision tree:\", estimate_accuracy(tree, X, y))"
   ]
  },
  {
   "cell_type": "code",
   "execution_count": 5,
   "id": "57cb124a",
   "metadata": {},
   "outputs": [
    {
     "name": "stdout",
     "output_type": "stream",
     "text": [
      "Decision tree bagging: 0.9880660886962321\n"
     ]
    }
   ],
   "source": [
    "bagging_trees = BaggingClassifier(tree)\n",
    "print(\"Decision tree bagging:\", estimate_accuracy(bagging_trees, X, y))"
   ]
  },
  {
   "cell_type": "code",
   "execution_count": 6,
   "id": "4dab2714",
   "metadata": {},
   "outputs": [
    {
     "name": "stdout",
     "output_type": "stream",
     "text": [
      "Random tree: 0.9778657330221184\n"
     ]
    }
   ],
   "source": [
    "random_tree = DecisionTreeClassifier(max_features=int(np.sqrt(len(features))), max_depth=30)\n",
    "print(\"Random tree:\", estimate_accuracy(random_tree, X, y))"
   ]
  },
  {
   "cell_type": "code",
   "execution_count": 7,
   "id": "1790e486",
   "metadata": {},
   "outputs": [
    {
     "name": "stdout",
     "output_type": "stream",
     "text": [
      "Random tree bagging: 0.9902662443036567\n"
     ]
    }
   ],
   "source": [
    "bagging_random_trees = BaggingClassifier(random_tree)\n",
    "print(\"Random tree bagging:\", estimate_accuracy(bagging_random_trees, X, y))"
   ]
  },
  {
   "cell_type": "code",
   "execution_count": 8,
   "id": "2ca99afd",
   "metadata": {},
   "outputs": [
    {
     "name": "stdout",
     "output_type": "stream",
     "text": [
      "Random Forest: 0.9920663109925532\n"
     ]
    }
   ],
   "source": [
    "random_forest = RandomForestClassifier(\n",
    "    n_estimators=100,\n",
    "    n_jobs=-1,\n",
    "    max_features=int(np.sqrt(len(features))),\n",
    "    max_depth=30)\n",
    "print(\"Random Forest:\", estimate_accuracy(random_forest, X, y))"
   ]
  },
  {
   "cell_type": "code",
   "execution_count": 9,
   "id": "aead30df",
   "metadata": {},
   "outputs": [
    {
     "data": {
      "text/plain": [
       "0.9929995333022201"
      ]
     },
     "execution_count": 9,
     "metadata": {},
     "output_type": "execute_result"
    }
   ],
   "source": [
    "random_forest = RandomForestClassifier(\n",
    "    n_estimators=100,\n",
    "    max_features=int(np.sqrt(len(features))),\n",
    "    max_depth=30,\n",
    "    oob_score=True,\n",
    "    n_jobs=-1\n",
    ")\n",
    "random_forest.fit(X, y)\n",
    "random_forest.oob_score_.mean()"
   ]
  },
  {
   "cell_type": "code",
   "execution_count": 10,
   "id": "a7e6996b",
   "metadata": {},
   "outputs": [
    {
     "name": "stdout",
     "output_type": "stream",
     "text": [
      "LR: 0.7709770367900411\n"
     ]
    }
   ],
   "source": [
    "lr = LogisticRegression(solver='saga', max_iter=200)\n",
    "lr.fit(X, y)\n",
    "print(\"LR:\", estimate_accuracy(lr, X, y))"
   ]
  },
  {
   "cell_type": "code",
   "execution_count": 11,
   "id": "3b9cb7c1",
   "metadata": {},
   "outputs": [
    {
     "name": "stdout",
     "output_type": "stream",
     "text": [
      "Bagging for LR: 0.7701104368122708\n"
     ]
    }
   ],
   "source": [
    "random_logreg = BaggingClassifier(\n",
    "    lr,\n",
    "    n_estimators=10,\n",
    "    n_jobs=-1,\n",
    "    random_state=42\n",
    ")\n",
    "print(\"Bagging for LR:\", estimate_accuracy(random_logreg, X, y))"
   ]
  },
  {
   "cell_type": "code",
   "execution_count": 12,
   "id": "5c2d7ee2",
   "metadata": {},
   "outputs": [
    {
     "name": "stdout",
     "output_type": "stream",
     "text": [
      "Bagging for LR: 0.7569754140268978\n"
     ]
    }
   ],
   "source": [
    "random_logreg = BaggingClassifier(\n",
    "    lr,\n",
    "    n_estimators=10,\n",
    "    n_jobs=-1,\n",
    "    max_features=0.5,\n",
    "    random_state=42\n",
    ")\n",
    "print(\"Bagging for LR:\", estimate_accuracy(random_logreg, X, y))"
   ]
  },
  {
   "cell_type": "code",
   "execution_count": 13,
   "id": "38d71f0a",
   "metadata": {},
   "outputs": [],
   "source": [
    "def plot_predictions(X, y, clf, proba=False, points_size=7, xlabel='x', ylabel='y'):\n",
    "    \"\"\"Fits the classifier on the data (X, y) and plots the result on a 2-D plane.\"\"\"\n",
    "    def get_grid(data):\n",
    "        x_std, y_std = data.std(axis=0)\n",
    "        x_min, x_max = data[:, 0].min() - x_std / 2, data[:, 0].max() + x_std / 2\n",
    "        y_min, y_max = data[:, 1].min() - y_std / 2, data[:, 1].max() + y_std / 2\n",
    "        return np.meshgrid(np.linspace(x_min, x_max, num=200),\n",
    "                           np.linspace(y_min, y_max, num=200))\n",
    "    \n",
    "    clf.fit(X, y)\n",
    "    xx, yy = get_grid(X)\n",
    "    if proba:\n",
    "        predicted = clf.predict_proba(np.c_[xx.ravel(), yy.ravel()])[:, 1].reshape(xx.shape)\n",
    "    else:\n",
    "        predicted = clf.predict(np.c_[xx.ravel(), yy.ravel()]).reshape(xx.shape)\n",
    "        \n",
    "    plt.figure(figsize=(10.0, 10.0))\n",
    "    plt.pcolormesh(xx, yy, predicted, cmap=plt.cm.coolwarm, alpha=0.1)\n",
    "    plt.scatter(X[:, 0], X[:, 1], c=y, s=points_size, cmap=plt.cm.coolwarm, alpha=0.90)\n",
    "    plt.ylim([yy.min(),yy.max()])\n",
    "    plt.xlim([xx.min(),xx.max()])\n",
    "    plt.xlabel(xlabel)\n",
    "    plt.ylabel(ylabel)\n",
    "    \n",
    "    return clf"
   ]
  },
  {
   "cell_type": "code",
   "execution_count": 18,
   "id": "87fdaf7a",
   "metadata": {
    "ExecuteTime": {
     "end_time": "2024-03-14T10:09:25.416938Z",
     "start_time": "2024-03-14T10:09:25.415759Z"
    }
   },
   "outputs": [],
   "source": []
  },
  {
   "cell_type": "code",
   "outputs": [],
   "source": [],
   "metadata": {
    "collapsed": false
   },
   "id": "3bd5b0f4354bd4b7"
  },
  {
   "cell_type": "code",
   "outputs": [],
   "source": [],
   "metadata": {
    "collapsed": false
   },
   "id": "cdb7247aea9244ab"
  },
  {
   "cell_type": "code",
   "execution_count": 15,
   "id": "0f82e291",
   "metadata": {},
   "outputs": [
    {
     "name": "stdout",
     "output_type": "stream",
     "text": [
      "Среднее значение оценки качества для DecisionTreeClassifier: 0.8247020484171322\n"
     ]
    }
   ],
   "source": [
    "from sklearn.tree import DecisionTreeClassifier\n",
    "\n",
    "dt_clf = DecisionTreeClassifier()\n",
    "\n",
    "dt_scores = cross_val_score(dt_clf, X, y, cv=10, n_jobs=-1)\n",
    "\n",
    "print(\"Среднее значение оценки качества для DecisionTreeClassifier:\", dt_scores.mean())"
   ]
  },
  {
   "cell_type": "code",
   "execution_count": 16,
   "id": "9335b0ff",
   "metadata": {},
   "outputs": [
    {
     "name": "stdout",
     "output_type": "stream",
     "text": [
      "Среднее значение оценки качества для DecisionTreeClassifier: 0.8252545003103663\n"
     ]
    }
   ],
   "source": [
    "from sklearn.tree import DecisionTreeClassifier\n",
    "\n",
    "dt_clf = DecisionTreeClassifier()\n",
    "\n",
    "dt_scores = cross_val_score(dt_clf, X, y, cv=10, n_jobs=-1)\n",
    "\n",
    "print(\"Среднее значение оценки качества для DecisionTreeClassifier:\", dt_scores.mean())\n"
   ]
  },
  {
   "cell_type": "code",
   "execution_count": 17,
   "id": "4825db5f",
   "metadata": {},
   "outputs": [
    {
     "name": "stdout",
     "output_type": "stream",
     "text": [
      "Среднее значение оценки качества для BaggingClassifier: 0.9270732464307884\n"
     ]
    }
   ],
   "source": [
    "from sklearn.ensemble import BaggingClassifier\n",
    "\n",
    "bagging_clf = BaggingClassifier(base_estimator=DecisionTreeClassifier(), n_estimators=100, random_state=42)\n",
    "\n",
    "bagging_scores = cross_val_score(bagging_clf, X, y, cv=10, n_jobs=-1)\n",
    "\n",
    "print(\"Среднее значение оценки качества для BaggingClassifier:\", bagging_scores.mean())\n"
   ]
  },
  {
   "cell_type": "code",
   "execution_count": 18,
   "id": "60395073",
   "metadata": {},
   "outputs": [
    {
     "name": "stdout",
     "output_type": "stream",
     "text": [
      "Среднее значение оценки качества для BaggingClassifier (sqrt(d) признаков): 0.9298851644941031\n"
     ]
    }
   ],
   "source": [
    "import numpy as np\n",
    "\n",
    "max_features_sqrt = int(np.sqrt(X.shape[1]))\n",
    "\n",
    "\n",
    "bagging_clf_sqrt = BaggingClassifier(base_estimator=DecisionTreeClassifier(), \n",
    "                                     n_estimators=100, \n",
    "                                     max_features=max_features_sqrt,\n",
    "                                     random_state=42)\n",
    "\n",
    "bagging_scores_sqrt = cross_val_score(bagging_clf_sqrt, X, y, cv=10, n_jobs=-1)\n",
    "\n",
    "print(\"Среднее значение оценки качества для BaggingClassifier (sqrt(d) признаков):\", bagging_scores_sqrt.mean())"
   ]
  },
  {
   "cell_type": "code",
   "execution_count": null,
   "id": "eeb345e3",
   "metadata": {
    "is_executing": true,
    "ExecuteTime": {
     "start_time": "2024-03-14T10:27:24.369639Z"
    }
   },
   "outputs": [
    {
     "name": "stdout",
     "output_type": "stream",
     "text": [
      "Среднее значение оценки качества для RandomForestClassifier: 0.9932666666666666\n"
     ]
    }
   ],
   "source": [
    "from sklearn.ensemble import RandomForestClassifier\n",
    "import matplotlib.pyplot as plt\n",
    "\n",
    "# Создание RandomForestClassifier с параметрами по умолчанию\n",
    "rf_clf = RandomForestClassifier(random_state=42)\n",
    "# Оценка качества с использованием cross_val_score\n",
    "rf_scores = cross_val_score(rf_clf, X, y, cv=10, n_jobs=-1)\n",
    "print(\"Среднее значение оценки качества для RandomForestClassifier:\", rf_scores.mean())\n",
    "\n",
    "# Исследование зависимости от количества деревьев\n",
    "n_estimators_values = [10, 50, 100, 200, 300]\n",
    "scores_n_estimators = []\n",
    "\n",
    "for n_estimators in n_estimators_values:\n",
    "    rf_clf_n_estimators = RandomForestClassifier(n_estimators=n_estimators, random_state=42)\n",
    "    scores = cross_val_score(rf_clf_n_estimators, X, y, cv=10, n_jobs=-1)\n",
    "    scores_n_estimators.append(scores.mean())\n",
    "\n",
    "# Исследование зависимости от количества признаков\n",
    "max_features_values = [1, int(np.sqrt(X.shape[1])), int(X.shape[1] / 3), X.shape[1]]\n",
    "scores_max_features = []\n",
    "\n",
    "for max_features in max_features_values:\n",
    "    rf_clf_max_features = RandomForestClassifier(max_features=max_features, random_state=42)\n",
    "    scores = cross_val_score(rf_clf_max_features, X, y, cv=10, n_jobs=-1)\n",
    "    scores_max_features.append(scores.mean())\n",
    "\n",
    "# Исследование зависимости от глубины дерева\n",
    "max_depth_values = [None, 5, 10, 15, 20]\n",
    "scores_max_depth = []\n",
    "\n",
    "for max_depth in max_depth_values:\n",
    "    rf_clf_max_depth = RandomForestClassifier(max_depth=max_depth, random_state=42)\n",
    "    scores = cross_val_score(rf_clf_max_depth, X, y, cv=10, n_jobs=-1)\n",
    "    scores_max_depth.append(scores.mean())\n",
    "\n",
    "# Построение графиков\n",
    "plt.figure(figsize=(15, 5))\n",
    "\n",
    "plt.subplot(1, 3, 1)\n",
    "plt.plot(n_estimators_values, scores_n_estimators, marker='o')\n",
    "plt.title('Зависимость от количества деревьев')\n",
    "plt.xlabel('Количество деревьев')\n",
    "plt.ylabel('Среднее значение оценки качества')\n",
    "\n",
    "plt.subplot(1, 3, 2)\n",
    "plt.plot(max_features_values, scores_max_features, marker='o')\n",
    "plt.title('Зависимость от количества признаков')\n",
    "plt.xlabel('Количество признаков')\n",
    "plt.ylabel('Среднее значение оценки качества')\n",
    "\n",
    "plt.subplot(1, 3, 3)\n",
    "plt.plot(max_depth_values, scores_max_depth, marker='o')\n",
    "plt.title('Зависимость от глубины дерева')\n",
    "plt.xlabel('Глубина дерева')\n",
    "plt.ylabel('Среднее значение оценки качества')\n",
    "\n",
    "plt.tight_layout()\n",
    "plt.show()"
   ]
  },
  {
   "cell_type": "code",
   "execution_count": 19,
   "id": "65b13777",
   "metadata": {
    "ExecuteTime": {
     "end_time": "2024-03-14T10:11:34.624987Z",
     "start_time": "2024-03-14T10:11:34.608442Z"
    }
   },
   "outputs": [],
   "source": []
  },
  {
   "cell_type": "code",
   "execution_count": null,
   "id": "aa7d32e9",
   "metadata": {},
   "outputs": [],
   "source": []
  },
  {
   "cell_type": "code",
   "execution_count": null,
   "id": "ceee2fdd",
   "metadata": {},
   "outputs": [],
   "source": []
  },
  {
   "cell_type": "code",
   "execution_count": null,
   "id": "63706f34",
   "metadata": {},
   "outputs": [],
   "source": []
  }
 ],
 "metadata": {
  "kernelspec": {
   "display_name": "Python 3 (ipykernel)",
   "language": "python",
   "name": "python3"
  },
  "language_info": {
   "codemirror_mode": {
    "name": "ipython",
    "version": 3
   },
   "file_extension": ".py",
   "mimetype": "text/x-python",
   "name": "python",
   "nbconvert_exporter": "python",
   "pygments_lexer": "ipython3",
   "version": "3.9.13"
  }
 },
 "nbformat": 4,
 "nbformat_minor": 5
}
