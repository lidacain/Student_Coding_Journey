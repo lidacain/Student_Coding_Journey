{
 "cells": [
  {
   "cell_type": "code",
   "execution_count": 163,
   "id": "initial_id",
   "metadata": {
    "collapsed": true,
    "ExecuteTime": {
     "end_time": "2024-03-14T09:38:55.824664Z",
     "start_time": "2024-03-14T09:38:55.803633Z"
    }
   },
   "outputs": [
    {
     "name": "stdout",
     "output_type": "stream",
     "text": [
      "Index(['satisfaction_level', 'last_evaluation', 'number_project',\n",
      "       'average_montly_hours', 'time_spend_company', 'Work_accident',\n",
      "       'promotion_last_5years', 'dept', 'salary'],\n",
      "      dtype='object')\n"
     ]
    }
   ],
   "source": [
    "import pandas as pd\n",
    "import numpy as np\n",
    "import matplotlib.pyplot as plt\n",
    "\n",
    "from sklearn.model_selection import cross_val_score, train_test_split\n",
    "from sklearn.ensemble import BaggingClassifier, RandomForestClassifier\n",
    "from sklearn.tree import DecisionTreeClassifier\n",
    "from sklearn.linear_model import LogisticRegression\n",
    "from sklearn.preprocessing import StandardScaler\n",
    "df = pd.read_csv('HR-dataset.csv')\n",
    "\n",
    "np.random.seed(42)\n",
    "%matplotlib inline\n",
    "%config InlineBackend.figure_format = 'retina'\n",
    "\n",
    "target = 'left'\n",
    "features = df.columns.drop(target)\n",
    "features = features.drop('empid')  # Удалим идентификатор пользователя как нерепрезентативный признак\n",
    "print(features)\n",
    "\n",
    "X, y = df[features].copy(), df[target]\n"
   ]
  },
  {
   "cell_type": "code",
   "outputs": [],
   "source": [
    "salary_ordinals = {'low': 1, 'medium': 2, 'high': 3}\n",
    "\n",
    "X['dept'] = X['dept'].apply(X['dept'].value_counts().get)\n",
    "X['salary'] = X['salary'].apply(salary_ordinals.get)\n",
    "scaler = StandardScaler()\n",
    "X = pd.DataFrame(data=scaler.fit_transform(X), columns=X.columns)\n"
   ],
   "metadata": {
    "collapsed": false,
    "ExecuteTime": {
     "end_time": "2024-03-14T09:38:56.260076Z",
     "start_time": "2024-03-14T09:38:56.223149Z"
    }
   },
   "id": "a34222613916f287",
   "execution_count": 164
  },
  {
   "cell_type": "code",
   "outputs": [],
   "source": [
    "def estimate_accuracy(clf, X, y, cv=5):\n",
    "    return cross_val_score(clf, X, y, cv=5, scoring='accuracy').mean()\n"
   ],
   "metadata": {
    "collapsed": false,
    "ExecuteTime": {
     "end_time": "2024-03-14T09:38:56.562717Z",
     "start_time": "2024-03-14T09:38:56.557306Z"
    }
   },
   "id": "2342af57f437dea3",
   "execution_count": 165
  },
  {
   "cell_type": "code",
   "outputs": [
    {
     "name": "stdout",
     "output_type": "stream",
     "text": [
      "Decision tree: 0.9731310659108592\n"
     ]
    }
   ],
   "source": [
    "tree = DecisionTreeClassifier(max_depth=30)\n",
    "print(\"Decision tree:\", estimate_accuracy(tree, X, y))\n"
   ],
   "metadata": {
    "collapsed": false,
    "ExecuteTime": {
     "end_time": "2024-03-14T09:38:57.278185Z",
     "start_time": "2024-03-14T09:38:57.083157Z"
    }
   },
   "id": "a754691c168db8f0",
   "execution_count": 166
  },
  {
   "cell_type": "code",
   "outputs": [
    {
     "name": "stdout",
     "output_type": "stream",
     "text": [
      "Decision tree bagging: 0.9880660886962321\n"
     ]
    }
   ],
   "source": [
    "bagging_trees = BaggingClassifier(tree)\n",
    "print(\"Decision tree bagging:\", estimate_accuracy(bagging_trees, X, y))"
   ],
   "metadata": {
    "collapsed": false,
    "ExecuteTime": {
     "end_time": "2024-03-14T09:38:58.542074Z",
     "start_time": "2024-03-14T09:38:57.357029Z"
    }
   },
   "id": "a61b20f90ae3d986",
   "execution_count": 167
  },
  {
   "cell_type": "code",
   "outputs": [
    {
     "name": "stdout",
     "output_type": "stream",
     "text": [
      "Random tree: 0.9778657330221184\n"
     ]
    }
   ],
   "source": [
    "random_tree = DecisionTreeClassifier(max_features=int(np.sqrt(len(features))), max_depth=30)\n",
    "print(\"Random tree:\", estimate_accuracy(random_tree, X, y))\n"
   ],
   "metadata": {
    "collapsed": false,
    "ExecuteTime": {
     "end_time": "2024-03-14T09:38:58.630449Z",
     "start_time": "2024-03-14T09:38:58.541328Z"
    }
   },
   "id": "28b579d4f9d78f59",
   "execution_count": 168
  },
  {
   "cell_type": "code",
   "outputs": [
    {
     "name": "stdout",
     "output_type": "stream",
     "text": [
      "Random tree bagging: 0.9902662443036567\n"
     ]
    }
   ],
   "source": [
    "bagging_random_trees = BaggingClassifier(random_tree)\n",
    "print(\"Random tree bagging:\", estimate_accuracy(bagging_random_trees, X, y))"
   ],
   "metadata": {
    "collapsed": false,
    "ExecuteTime": {
     "end_time": "2024-03-14T09:38:59.133214Z",
     "start_time": "2024-03-14T09:38:58.626407Z"
    }
   },
   "id": "3f59e3458009c7ab",
   "execution_count": 169
  },
  {
   "cell_type": "code",
   "outputs": [
    {
     "name": "stdout",
     "output_type": "stream",
     "text": [
      "Random Forest: 0.9920663109925532\n"
     ]
    }
   ],
   "source": [
    "random_forest = RandomForestClassifier(\n",
    "    n_estimators=100,\n",
    "    n_jobs=-1,\n",
    "    max_features=int(np.sqrt(len(features))),\n",
    "    max_depth=30)\n",
    "print(\"Random Forest:\", estimate_accuracy(random_forest, X, y))\n"
   ],
   "metadata": {
    "collapsed": false,
    "ExecuteTime": {
     "end_time": "2024-03-14T09:39:03.361015Z",
     "start_time": "2024-03-14T09:38:59.131261Z"
    }
   },
   "id": "49f4dcecb36a1324",
   "execution_count": 170
  },
  {
   "cell_type": "code",
   "outputs": [
    {
     "data": {
      "text/plain": "0.9929995333022201"
     },
     "execution_count": 171,
     "metadata": {},
     "output_type": "execute_result"
    }
   ],
   "source": [
    "random_forest = RandomForestClassifier(\n",
    "    n_estimators=100,\n",
    "    max_features=int(np.sqrt(len(features))),\n",
    "    max_depth=30,\n",
    "    oob_score=True,\n",
    "    n_jobs=-1\n",
    ")\n",
    "random_forest.fit(X, y)\n",
    "random_forest.oob_score_.mean()\n"
   ],
   "metadata": {
    "collapsed": false,
    "ExecuteTime": {
     "end_time": "2024-03-14T09:39:03.894733Z",
     "start_time": "2024-03-14T09:39:03.363826Z"
    }
   },
   "id": "6bcbabcc0c57129c",
   "execution_count": 171
  },
  {
   "cell_type": "code",
   "outputs": [
    {
     "name": "stdout",
     "output_type": "stream",
     "text": [
      "LR: 0.7709770367900411\n"
     ]
    }
   ],
   "source": [
    "lr = LogisticRegression(solver='saga', max_iter=200)\n",
    "lr.fit(X, y)\n",
    "print(\"LR:\", estimate_accuracy(lr, X, y))\n"
   ],
   "metadata": {
    "collapsed": false,
    "ExecuteTime": {
     "end_time": "2024-03-14T09:39:04.097293Z",
     "start_time": "2024-03-14T09:39:03.891068Z"
    }
   },
   "id": "146bf5474740cf2d",
   "execution_count": 172
  },
  {
   "cell_type": "code",
   "outputs": [
    {
     "name": "stdout",
     "output_type": "stream",
     "text": [
      "Bagging for LR: 0.7701104368122708\n"
     ]
    }
   ],
   "source": [
    "random_logreg = BaggingClassifier(\n",
    "    lr,\n",
    "    n_estimators=10,\n",
    "    n_jobs=-1,\n",
    "    random_state=42\n",
    ")\n",
    "print(\"Bagging for LR:\", estimate_accuracy(random_logreg, X, y))\n"
   ],
   "metadata": {
    "collapsed": false,
    "ExecuteTime": {
     "end_time": "2024-03-14T09:39:04.819699Z",
     "start_time": "2024-03-14T09:39:04.090973Z"
    }
   },
   "id": "72eb42d38cc832b0",
   "execution_count": 173
  },
  {
   "cell_type": "code",
   "outputs": [
    {
     "name": "stdout",
     "output_type": "stream",
     "text": [
      "Bagging for LR: 0.7569754140268978\n"
     ]
    }
   ],
   "source": [
    "random_logreg = BaggingClassifier(\n",
    "    lr,\n",
    "    n_estimators=10,\n",
    "    n_jobs=-1,\n",
    "    max_features=0.5,\n",
    "    random_state=42\n",
    ")\n",
    "print(\"Bagging for LR:\", estimate_accuracy(random_logreg, X, y))\n"
   ],
   "metadata": {
    "collapsed": false,
    "ExecuteTime": {
     "end_time": "2024-03-14T09:39:05.300735Z",
     "start_time": "2024-03-14T09:39:04.814971Z"
    }
   },
   "id": "362191a26e0987ea",
   "execution_count": 174
  },
  {
   "cell_type": "code",
   "outputs": [],
   "source": [
    "def plot_predictions(X, y, clf, proba=False, points_size=7, xlabel='x', ylabel='y'):\n",
    "    \"\"\"Fits the classifier on the data (X, y) and plots the result on a 2-D plane.\"\"\"\n",
    "    def get_grid(data):\n",
    "        x_std, y_std = data.std(axis=0)\n",
    "        x_min, x_max = data[:, 0].min() - x_std / 2, data[:, 0].max() + x_std / 2\n",
    "        y_min, y_max = data[:, 1].min() - y_std / 2, data[:, 1].max() + y_std / 2\n",
    "        return np.meshgrid(np.linspace(x_min, x_max, num=200),\n",
    "                           np.linspace(y_min, y_max, num=200))\n",
    "    \n",
    "    clf.fit(X, y)\n",
    "    xx, yy = get_grid(X)\n",
    "    if proba:\n",
    "        predicted = clf.predict_proba(np.c_[xx.ravel(), yy.ravel()])[:, 1].reshape(xx.shape)\n",
    "    else:\n",
    "        predicted = clf.predict(np.c_[xx.ravel(), yy.ravel()]).reshape(xx.shape)\n",
    "        \n",
    "    plt.figure(figsize=(10.0, 10.0))\n",
    "    plt.pcolormesh(xx, yy, predicted, cmap=plt.cm.coolwarm, alpha=0.1)\n",
    "    plt.scatter(X[:, 0], X[:, 1], c=y, s=points_size, cmap=plt.cm.coolwarm, alpha=0.90)\n",
    "    plt.ylim([yy.min(),yy.max()])\n",
    "    plt.xlim([xx.min(),xx.max()])\n",
    "    plt.xlabel(xlabel)\n",
    "    plt.ylabel(ylabel)\n",
    "    \n",
    "    return clf\n"
   ],
   "metadata": {
    "collapsed": false,
    "ExecuteTime": {
     "end_time": "2024-03-14T09:39:05.311834Z",
     "start_time": "2024-03-14T09:39:05.302941Z"
    }
   },
   "id": "aed2e7fb5be8baf5",
   "execution_count": 175
  },
  {
   "cell_type": "code",
   "outputs": [],
   "source": [],
   "metadata": {
    "collapsed": false,
    "ExecuteTime": {
     "end_time": "2024-03-14T09:39:05.327258Z",
     "start_time": "2024-03-14T09:39:05.308501Z"
    }
   },
   "id": "b803f07009c3f463",
   "execution_count": 175
  },
  {
   "cell_type": "code",
   "outputs": [],
   "source": [],
   "metadata": {
    "collapsed": false,
    "ExecuteTime": {
     "end_time": "2024-03-14T09:39:05.328206Z",
     "start_time": "2024-03-14T09:39:05.312787Z"
    }
   },
   "id": "b90fe4f3fd612453",
   "execution_count": 175
  },
  {
   "cell_type": "code",
   "outputs": [],
   "source": [],
   "metadata": {
    "collapsed": false,
    "ExecuteTime": {
     "end_time": "2024-03-14T09:39:05.329240Z",
     "start_time": "2024-03-14T09:39:05.316717Z"
    }
   },
   "id": "5d900c5bfe55e2a2",
   "execution_count": 175
  },
  {
   "cell_type": "code",
   "outputs": [
    {
     "name": "stdout",
     "output_type": "stream",
     "text": [
      "1: 0.9739315994220294\n"
     ]
    }
   ],
   "source": [
    "import pandas as pd\n",
    "import numpy as np\n",
    "import matplotlib.pyplot as plt\n",
    "\n",
    "from sklearn.model_selection import cross_val_score, train_test_split\n",
    "from sklearn.ensemble import BaggingClassifier, RandomForestClassifier\n",
    "from sklearn.tree import DecisionTreeClassifier\n",
    "from sklearn.linear_model import LogisticRegression\n",
    "from sklearn.preprocessing import StandardScaler, LabelEncoder\n",
    "df = pd.read_csv('HR-dataset.csv')\n",
    "\n",
    "np.random.seed(42)\n",
    "%matplotlib inline\n",
    "%config InlineBackend.figure_format = 'retina'\n",
    "\n",
    "target = 'left'\n",
    "features = df.columns.drop(target)\n",
    "features = features.drop('empid')  # Удалим идентификатор пользователя как нерепрезентативный признак\n",
    "\n",
    "# Кодируем категориальные признаки\n",
    "label_encoder = LabelEncoder()\n",
    "df['dept'] = label_encoder.fit_transform(df['dept'])\n",
    "salary_ordinals = {'low': 1, 'medium': 2, 'high': 3}\n",
    "df['salary'] = df['salary'].apply(salary_ordinals.get)\n",
    "\n",
    "X, y = df[features].copy(), df[target]\n",
    "\n",
    "scaler = StandardScaler()\n",
    "X = pd.DataFrame(data=scaler.fit_transform(X), columns=X.columns)\n",
    "\n",
    "def estimate_accuracy(clf, X, y, cv=5):\n",
    "    return cross_val_score(clf, X, y, cv=5, scoring='accuracy').mean()\n",
    "\n",
    "tree = DecisionTreeClassifier(max_depth=30)\n",
    "print(\"1:\", estimate_accuracy(tree, X, y))\n"
   ],
   "metadata": {
    "collapsed": false,
    "ExecuteTime": {
     "end_time": "2024-03-14T10:24:16.962050Z",
     "start_time": "2024-03-14T10:24:16.737946Z"
    }
   },
   "id": "615fb7705fdb2cc9",
   "execution_count": 7
  },
  {
   "cell_type": "code",
   "outputs": [
    {
     "name": "stdout",
     "output_type": "stream",
     "text": [
      "2: 0.9899328442814271\n"
     ]
    }
   ],
   "source": [
    "from sklearn.ensemble import BaggingClassifier\n",
    "\n",
    "\n",
    "bagging_trees = BaggingClassifier(base_estimator=DecisionTreeClassifier(), n_estimators=100, random_state=42)\n",
    "print(\"2:\", estimate_accuracy(bagging_trees, X, y))\n"
   ],
   "metadata": {
    "collapsed": false,
    "ExecuteTime": {
     "end_time": "2024-03-14T10:18:38.587504Z",
     "start_time": "2024-03-14T10:18:26.737278Z"
    }
   },
   "id": "95bb365656d6aa2",
   "execution_count": 2
  },
  {
   "cell_type": "code",
   "outputs": [
    {
     "name": "stdout",
     "output_type": "stream",
     "text": [
      "3: 0.9667321329331999\n"
     ]
    }
   ],
   "source": [
    "from sklearn.ensemble import BaggingClassifier\n",
    "from sklearn.tree import DecisionTreeClassifier\n",
    "from math import sqrt\n",
    "\n",
    "# Определяем количество признаков\n",
    "num_features = X.shape[1]\n",
    "# Вычисляем квадратный корень из числа признаков\n",
    "sqrt_num_features = int(sqrt(num_features))\n",
    "\n",
    "# Создаем базовый классификатор DecisionTreeClassifier\n",
    "base_tree = DecisionTreeClassifier()\n",
    "\n",
    "# Создаем BaggingClassifier с базовым классификатором DecisionTreeClassifier\n",
    "# и устанавливаем параметр max_features='sqrt' для выбора sqrt(d) случайных признаков\n",
    "bagging_classifier = BaggingClassifier(base_estimator=base_tree, \n",
    "                                       n_estimators=100,\n",
    "                                       max_features=sqrt_num_features)\n",
    "\n",
    "# Оцениваем качество классификации с помощью кросс-валидации\n",
    "bagging_accuracy = estimate_accuracy(bagging_classifier, X, y)\n",
    "print(\"3:\", bagging_accuracy)\n"
   ],
   "metadata": {
    "collapsed": false,
    "ExecuteTime": {
     "end_time": "2024-03-14T10:18:42.272781Z",
     "start_time": "2024-03-14T10:18:38.586725Z"
    }
   },
   "id": "40b2d7ab7b42e396",
   "execution_count": 3
  },
  {
   "cell_type": "code",
   "outputs": [
    {
     "name": "stdout",
     "output_type": "stream",
     "text": [
      "4: 0.9918662665332889\n"
     ]
    }
   ],
   "source": [
    "from sklearn.ensemble import BaggingClassifier\n",
    "from sklearn.tree import DecisionTreeClassifier\n",
    "from math import sqrt\n",
    "\n",
    "# Определяем количество признаков\n",
    "num_features = X.shape[1]\n",
    "# Вычисляем квадратный корень из числа признаков\n",
    "sqrt_num_features = int(sqrt(num_features))\n",
    "\n",
    "# Создаем базовый классификатор DecisionTreeClassifier с установленным параметром max_features='sqrt'\n",
    "base_tree = DecisionTreeClassifier(max_features='sqrt')\n",
    "\n",
    "# Создаем BaggingClassifier с базовым классификатором DecisionTreeClassifier\n",
    "bagging_classifier = BaggingClassifier(base_estimator=base_tree, \n",
    "                                       n_estimators=100)\n",
    "\n",
    "# Оцениваем качество классификации с помощью кросс-валидации\n",
    "bagging_accuracy = estimate_accuracy(bagging_classifier, X, y)\n",
    "print(\"4:\", bagging_accuracy)\n"
   ],
   "metadata": {
    "collapsed": false,
    "ExecuteTime": {
     "end_time": "2024-03-14T10:18:47.038357Z",
     "start_time": "2024-03-14T10:18:42.276455Z"
    }
   },
   "id": "bd4199c83f48e86e",
   "execution_count": 4
  },
  {
   "cell_type": "code",
   "outputs": [],
   "source": [
    "import pandas as pd\n",
    "import numpy as np\n",
    "import matplotlib.pyplot as plt\n",
    "from sklearn.model_selection import cross_val_score\n",
    "from sklearn.ensemble import RandomForestClassifier\n",
    "\n",
    "df = pd.read_csv('HR-dataset.csv')\n",
    "\n",
    "target = 'left'\n",
    "features = df.columns.drop(target).drop('empid')\n",
    "\n",
    "label_encoder = LabelEncoder()\n",
    "df['dept'] = label_encoder.fit_transform(df['dept'])\n",
    "salary_ordinals = {'low': 1, 'medium': 2, 'high': 3}\n",
    "df['salary'] = df['salary'].apply(salary_ordinals.get)\n",
    "\n",
    "X, y = df[features], df[target]\n",
    "\n",
    "# Создание RandomForestClassifier с параметрами по умолчанию\n",
    "rf_clf = RandomForestClassifier(random_state=42)\n",
    "# Оценка качества с использованием cross_val_score\n",
    "rf_scores = cross_val_score(rf_clf, X, y, cv=10, n_jobs=-1)\n",
    "print(\"Среднее значение оценки качества для RandomForestClassifier:\", rf_scores.mean())\n",
    "\n",
    "# Исследование зависимости от количества деревьев\n",
    "n_estimators_values = [10, 50, 100, 200, 300]\n",
    "scores_n_estimators = []\n",
    "\n",
    "for n_estimators in n_estimators_values:\n",
    "    rf_clf_n_estimators = RandomForestClassifier(n_estimators=n_estimators, random_state=42)\n",
    "    scores = cross_val_score(rf_clf_n_estimators, X, y, cv=10, n_jobs=-1)\n",
    "    scores_n_estimators.append(scores.mean())\n",
    "\n",
    "# Исследование зависимости от количества признаков\n",
    "max_features_values = [1, int(np.sqrt(X.shape[1])), int(X.shape[1] / 3), X.shape[1]]\n",
    "scores_max_features = []\n",
    "\n",
    "for max_features in max_features_values:\n",
    "    rf_clf_max_features = RandomForestClassifier(max_features=max_features, random_state=42)\n",
    "    scores = cross_val_score(rf_clf_max_features, X, y, cv=10, n_jobs=-1)\n",
    "    scores_max_features.append(scores.mean())\n",
    "\n",
    "# Исследование зависимости от глубины дерева\n",
    "max_depth_values = [None, 5, 10, 15, 20]\n",
    "scores_max_depth = []\n",
    "\n",
    "for max_depth in max_depth_values:\n",
    "    rf_clf_max_depth = RandomForestClassifier(max_depth=max_depth, random_state=42)\n",
    "    scores = cross_val_score(rf_clf_max_depth, X, y, cv=10, n_jobs=-1)\n",
    "    scores_max_depth.append(scores.mean())\n",
    "\n",
    "# Построение графиков\n",
    "plt.figure(figsize=(15, 5))\n",
    "\n",
    "plt.subplot(1, 3, 1)\n",
    "plt.plot(n_estimators_values, scores_n_estimators, marker='o')\n",
    "plt.title('Зависимость от количества деревьев')\n",
    "plt.xlabel('Количество деревьев')\n",
    "plt.ylabel('Среднее значение оценки качества')\n",
    "\n",
    "plt.subplot(1, 3, 2)\n",
    "plt.plot(max_features_values, scores_max_features, marker='o')\n",
    "plt.title('Зависимость от количества признаков')\n",
    "plt.xlabel('Количество признаков')\n",
    "plt.ylabel('Среднее значение оценки качества')\n",
    "\n",
    "plt.subplot(1, 3, 3)\n",
    "plt.plot(max_depth_values, scores_max_depth, marker='o')\n",
    "plt.title('Зависимость от глубины дерева')\n",
    "plt.xlabel('Глубина дерева')\n",
    "plt.ylabel('Среднее значение оценки качества')\n",
    "\n",
    "plt.tight_layout()\n",
    "plt.show()\n"
   ],
   "metadata": {
    "collapsed": false,
    "ExecuteTime": {
     "start_time": "2024-03-14T10:24:11.939840Z"
    }
   },
   "id": "23f05e996195ef46",
   "execution_count": null
  },
  {
   "cell_type": "code",
   "outputs": [],
   "source": [],
   "metadata": {
    "collapsed": false,
    "ExecuteTime": {
     "end_time": "2024-03-14T09:30:58.011694Z",
     "start_time": "2024-03-14T09:30:58.009779Z"
    }
   },
   "id": "707617af825f2800",
   "execution_count": 135
  },
  {
   "cell_type": "code",
   "outputs": [],
   "source": [],
   "metadata": {
    "collapsed": false
   },
   "id": "143237c8ef86dae0"
  }
 ],
 "metadata": {
  "kernelspec": {
   "display_name": "Python 3",
   "language": "python",
   "name": "python3"
  },
  "language_info": {
   "codemirror_mode": {
    "name": "ipython",
    "version": 2
   },
   "file_extension": ".py",
   "mimetype": "text/x-python",
   "name": "python",
   "nbconvert_exporter": "python",
   "pygments_lexer": "ipython2",
   "version": "2.7.6"
  }
 },
 "nbformat": 4,
 "nbformat_minor": 5
}
