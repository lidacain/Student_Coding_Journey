{
 "cells": [
  {
   "cell_type": "code",
   "execution_count": 3,
   "id": "initial_id",
   "metadata": {
    "collapsed": true,
    "ExecuteTime": {
     "end_time": "2023-09-15T07:21:33.603209Z",
     "start_time": "2023-09-15T07:21:32.649195Z"
    }
   },
   "outputs": [],
   "source": [
    "import numpy as np\n",
    "import pandas as pd"
   ]
  },
  {
   "cell_type": "code",
   "execution_count": 25,
   "outputs": [],
   "source": [
    "np.random.seed(1234)\n",
    "d1 = pd.Series(2*np.random.normal(size = 100)+3)\n",
    "d2 = np.random.f(2,4, size = 100)\n",
    "d3 = np.random.randint(1, 100, size=100)"
   ],
   "metadata": {
    "collapsed": false,
    "ExecuteTime": {
     "end_time": "2023-09-15T07:23:25.991874Z",
     "start_time": "2023-09-15T07:23:25.984952Z"
    }
   },
   "id": "b899ff0499aad4c1"
  },
  {
   "cell_type": "code",
   "execution_count": 26,
   "outputs": [
    {
     "data": {
      "text/plain": "0     3.942870\n1     0.618049\n2     5.865414\n3     2.374696\n4     1.558823\n        ...   \n95    2.836106\n96    2.310468\n97    4.056576\n98    0.862022\n99    1.976237\nLength: 100, dtype: float64"
     },
     "execution_count": 26,
     "metadata": {},
     "output_type": "execute_result"
    }
   ],
   "source": [
    "d1"
   ],
   "metadata": {
    "collapsed": false,
    "ExecuteTime": {
     "end_time": "2023-09-15T07:23:49.071134Z",
     "start_time": "2023-09-15T07:23:49.061443Z"
    }
   },
   "id": "b8fb25392988e8e8"
  },
  {
   "cell_type": "code",
   "execution_count": 8,
   "outputs": [
    {
     "data": {
      "text/plain": "100"
     },
     "execution_count": 8,
     "metadata": {},
     "output_type": "execute_result"
    }
   ],
   "source": [
    "d1.count()"
   ],
   "metadata": {
    "collapsed": false,
    "ExecuteTime": {
     "end_time": "2023-09-15T07:22:15.787254Z",
     "start_time": "2023-09-15T07:22:15.779059Z"
    }
   },
   "id": "c85af79750f955cc"
  },
  {
   "cell_type": "code",
   "execution_count": 9,
   "outputs": [
    {
     "data": {
      "text/plain": "-4.1270333212494705"
     },
     "execution_count": 9,
     "metadata": {},
     "output_type": "execute_result"
    }
   ],
   "source": [
    "d1.min()"
   ],
   "metadata": {
    "collapsed": false,
    "ExecuteTime": {
     "end_time": "2023-09-15T07:22:22.953948Z",
     "start_time": "2023-09-15T07:22:22.945503Z"
    }
   },
   "id": "115c60e0e1d4620f"
  },
  {
   "cell_type": "code",
   "execution_count": 10,
   "outputs": [
    {
     "data": {
      "text/plain": "7.781921030926066"
     },
     "execution_count": 10,
     "metadata": {},
     "output_type": "execute_result"
    }
   ],
   "source": [
    "d1.max()"
   ],
   "metadata": {
    "collapsed": false,
    "ExecuteTime": {
     "end_time": "2023-09-15T07:22:26.414417Z",
     "start_time": "2023-09-15T07:22:26.400484Z"
    }
   },
   "id": "3454b023d126a16c"
  },
  {
   "cell_type": "code",
   "execution_count": 11,
   "outputs": [
    {
     "data": {
      "text/plain": "81"
     },
     "execution_count": 11,
     "metadata": {},
     "output_type": "execute_result"
    }
   ],
   "source": [
    "d1.idxmin()"
   ],
   "metadata": {
    "collapsed": false,
    "ExecuteTime": {
     "end_time": "2023-09-15T07:22:28.751684Z",
     "start_time": "2023-09-15T07:22:28.743830Z"
    }
   },
   "id": "84c49cb5ff89591a"
  },
  {
   "cell_type": "code",
   "execution_count": 12,
   "outputs": [
    {
     "data": {
      "text/plain": "39"
     },
     "execution_count": 12,
     "metadata": {},
     "output_type": "execute_result"
    }
   ],
   "source": [
    "d1.idxmax()"
   ],
   "metadata": {
    "collapsed": false,
    "ExecuteTime": {
     "end_time": "2023-09-15T07:22:30.567578Z",
     "start_time": "2023-09-15T07:22:30.558299Z"
    }
   },
   "id": "4ef65578f89d7f4e"
  },
  {
   "cell_type": "code",
   "execution_count": 13,
   "outputs": [
    {
     "data": {
      "text/plain": "0.6870184644069929"
     },
     "execution_count": 13,
     "metadata": {},
     "output_type": "execute_result"
    }
   ],
   "source": [
    "d1.quantile(0.1)"
   ],
   "metadata": {
    "collapsed": false,
    "ExecuteTime": {
     "end_time": "2023-09-15T07:22:32.832009Z",
     "start_time": "2023-09-15T07:22:32.811632Z"
    }
   },
   "id": "2956ba67419c3206"
  },
  {
   "cell_type": "code",
   "execution_count": 14,
   "outputs": [
    {
     "data": {
      "text/plain": "307.0224566250873"
     },
     "execution_count": 14,
     "metadata": {},
     "output_type": "execute_result"
    }
   ],
   "source": [
    "d1.sum()"
   ],
   "metadata": {
    "collapsed": false,
    "ExecuteTime": {
     "end_time": "2023-09-15T07:22:34.864851Z",
     "start_time": "2023-09-15T07:22:34.842549Z"
    }
   },
   "id": "560f899074df7c56"
  },
  {
   "cell_type": "code",
   "execution_count": 15,
   "outputs": [
    {
     "data": {
      "text/plain": "3.070224566250873"
     },
     "execution_count": 15,
     "metadata": {},
     "output_type": "execute_result"
    }
   ],
   "source": [
    "d1.mean()"
   ],
   "metadata": {
    "collapsed": false,
    "ExecuteTime": {
     "end_time": "2023-09-15T07:22:37.715006Z",
     "start_time": "2023-09-15T07:22:37.697860Z"
    }
   },
   "id": "38832d7fc99b6b99"
  },
  {
   "cell_type": "code",
   "execution_count": 16,
   "outputs": [
    {
     "data": {
      "text/plain": "3.204555266776845"
     },
     "execution_count": 16,
     "metadata": {},
     "output_type": "execute_result"
    }
   ],
   "source": [
    "d1.median()"
   ],
   "metadata": {
    "collapsed": false,
    "ExecuteTime": {
     "end_time": "2023-09-15T07:22:39.455952Z",
     "start_time": "2023-09-15T07:22:39.440434Z"
    }
   },
   "id": "7816da7ea69ec7dd"
  },
  {
   "cell_type": "code",
   "execution_count": 75,
   "outputs": [
    {
     "data": {
      "text/plain": "0    -4.127033\n1    -1.800907\n2    -1.485370\n3    -1.149955\n4    -1.042510\n        ...   \n95    5.865414\n96    6.091318\n97    7.015686\n98    7.061207\n99    7.781921\nLength: 100, dtype: float64"
     },
     "execution_count": 75,
     "metadata": {},
     "output_type": "execute_result"
    }
   ],
   "source": [
    "d1.mode()"
   ],
   "metadata": {
    "collapsed": false,
    "ExecuteTime": {
     "end_time": "2023-09-15T07:51:18.870676Z",
     "start_time": "2023-09-15T07:51:18.852347Z"
    }
   },
   "id": "e1b86b1772b96c5f"
  },
  {
   "cell_type": "code",
   "execution_count": 18,
   "outputs": [
    {
     "data": {
      "text/plain": "4.005609378535087"
     },
     "execution_count": 18,
     "metadata": {},
     "output_type": "execute_result"
    }
   ],
   "source": [
    "d1.var()"
   ],
   "metadata": {
    "collapsed": false,
    "ExecuteTime": {
     "end_time": "2023-09-15T07:23:07.120555Z",
     "start_time": "2023-09-15T07:23:07.071860Z"
    }
   },
   "id": "bb10e5f368f7053f"
  },
  {
   "cell_type": "code",
   "execution_count": 19,
   "outputs": [
    {
     "data": {
      "text/plain": "2.001401853335578"
     },
     "execution_count": 19,
     "metadata": {},
     "output_type": "execute_result"
    }
   ],
   "source": [
    "d1.std()"
   ],
   "metadata": {
    "collapsed": false,
    "ExecuteTime": {
     "end_time": "2023-09-15T07:23:09.059241Z",
     "start_time": "2023-09-15T07:23:09.049355Z"
    }
   },
   "id": "cbe65d35427c371d"
  },
  {
   "cell_type": "code",
   "execution_count": 20,
   "outputs": [
    {
     "data": {
      "text/plain": "1.5112880411556104"
     },
     "execution_count": 20,
     "metadata": {},
     "output_type": "execute_result"
    }
   ],
   "source": [
    "d1.mad()"
   ],
   "metadata": {
    "collapsed": false,
    "ExecuteTime": {
     "end_time": "2023-09-15T07:23:10.719468Z",
     "start_time": "2023-09-15T07:23:10.710971Z"
    }
   },
   "id": "8299a1f1e4c3910b"
  },
  {
   "cell_type": "code",
   "execution_count": 21,
   "outputs": [
    {
     "data": {
      "text/plain": "-0.6494780760484293"
     },
     "execution_count": 21,
     "metadata": {},
     "output_type": "execute_result"
    }
   ],
   "source": [
    "d1.skew()"
   ],
   "metadata": {
    "collapsed": false,
    "ExecuteTime": {
     "end_time": "2023-09-15T07:23:12.334351Z",
     "start_time": "2023-09-15T07:23:12.323010Z"
    }
   },
   "id": "3a9ce2f86d52fc06"
  },
  {
   "cell_type": "code",
   "execution_count": 22,
   "outputs": [
    {
     "data": {
      "text/plain": "1.2201094052398012"
     },
     "execution_count": 22,
     "metadata": {},
     "output_type": "execute_result"
    }
   ],
   "source": [
    "d1.kurt()"
   ],
   "metadata": {
    "collapsed": false,
    "ExecuteTime": {
     "end_time": "2023-09-15T07:23:13.688547Z",
     "start_time": "2023-09-15T07:23:13.679048Z"
    }
   },
   "id": "80b4220dd6da27f7"
  },
  {
   "cell_type": "code",
   "execution_count": 23,
   "outputs": [
    {
     "data": {
      "text/plain": "count    100.000000\nmean       3.070225\nstd        2.001402\nmin       -4.127033\n25%        2.040101\n50%        3.204555\n75%        4.434788\nmax        7.781921\ndtype: float64"
     },
     "execution_count": 23,
     "metadata": {},
     "output_type": "execute_result"
    }
   ],
   "source": [
    "d1.describe()"
   ],
   "metadata": {
    "collapsed": false,
    "ExecuteTime": {
     "end_time": "2023-09-15T07:23:15.096373Z",
     "start_time": "2023-09-15T07:23:15.087266Z"
    }
   },
   "id": "85554edd3139e04d"
  },
  {
   "cell_type": "code",
   "execution_count": 27,
   "outputs": [],
   "source": [
    "def status(x):\n",
    "    return pd.Series([x.count, x.min(), x.idxmin(), x.quantile(.25), x.median(), x.quantile(.75), x.mean(), x.max(), x.idxmax(), x.mad(), x.var(), x.std(), x.skew(), x.kurt()], index=['Всего','Минимум','Минимальная позиция',\"25% квантиль\",'медиана',\"75% квантиль\",'Значить','Максимум','Максимальное количество цифр','Среднее абсолютное отклонение','дисперсия','Среднеквадратичное отклонение','Асимметрия','Эксцесс'])"
   ],
   "metadata": {
    "collapsed": false,
    "ExecuteTime": {
     "end_time": "2023-09-15T07:27:01.060018Z",
     "start_time": "2023-09-15T07:27:01.043005Z"
    }
   },
   "id": "300c2d66d1f39d90"
  },
  {
   "cell_type": "code",
   "execution_count": 28,
   "outputs": [
    {
     "data": {
      "text/plain": "                                                                               0\nВсего                          <bound method Series.count of 0     3.942870\\n...\nМинимум                                                                -4.127033\nМинимальная позиция                                                           81\n25% квантиль                                                            2.040101\nмедиана                                                                 3.204555\n75% квантиль                                                            4.434788\nЗначить                                                                 3.070225\nМаксимум                                                                7.781921\nМаксимальное количество цифр                                                  39\nСреднее абсолютное отклонение                                           1.511288\nдисперсия                                                               4.005609\nСреднеквадратичное отклонение                                           2.001402\nАсимметрия                                                             -0.649478\nЭксцесс                                                                 1.220109",
      "text/html": "<div>\n<style scoped>\n    .dataframe tbody tr th:only-of-type {\n        vertical-align: middle;\n    }\n\n    .dataframe tbody tr th {\n        vertical-align: top;\n    }\n\n    .dataframe thead th {\n        text-align: right;\n    }\n</style>\n<table border=\"1\" class=\"dataframe\">\n  <thead>\n    <tr style=\"text-align: right;\">\n      <th></th>\n      <th>0</th>\n    </tr>\n  </thead>\n  <tbody>\n    <tr>\n      <th>Всего</th>\n      <td>&lt;bound method Series.count of 0     3.942870\\n...</td>\n    </tr>\n    <tr>\n      <th>Минимум</th>\n      <td>-4.127033</td>\n    </tr>\n    <tr>\n      <th>Минимальная позиция</th>\n      <td>81</td>\n    </tr>\n    <tr>\n      <th>25% квантиль</th>\n      <td>2.040101</td>\n    </tr>\n    <tr>\n      <th>медиана</th>\n      <td>3.204555</td>\n    </tr>\n    <tr>\n      <th>75% квантиль</th>\n      <td>4.434788</td>\n    </tr>\n    <tr>\n      <th>Значить</th>\n      <td>3.070225</td>\n    </tr>\n    <tr>\n      <th>Максимум</th>\n      <td>7.781921</td>\n    </tr>\n    <tr>\n      <th>Максимальное количество цифр</th>\n      <td>39</td>\n    </tr>\n    <tr>\n      <th>Среднее абсолютное отклонение</th>\n      <td>1.511288</td>\n    </tr>\n    <tr>\n      <th>дисперсия</th>\n      <td>4.005609</td>\n    </tr>\n    <tr>\n      <th>Среднеквадратичное отклонение</th>\n      <td>2.001402</td>\n    </tr>\n    <tr>\n      <th>Асимметрия</th>\n      <td>-0.649478</td>\n    </tr>\n    <tr>\n      <th>Эксцесс</th>\n      <td>1.220109</td>\n    </tr>\n  </tbody>\n</table>\n</div>"
     },
     "execution_count": 28,
     "metadata": {},
     "output_type": "execute_result"
    }
   ],
   "source": [
    "df = pd.DataFrame(status(d1))\n",
    "df"
   ],
   "metadata": {
    "collapsed": false,
    "ExecuteTime": {
     "end_time": "2023-09-15T07:27:12.900932Z",
     "start_time": "2023-09-15T07:27:12.886893Z"
    }
   },
   "id": "5bcfea2d9cc5abc6"
  },
  {
   "cell_type": "code",
   "execution_count": 29,
   "outputs": [
    {
     "data": {
      "text/plain": "         x1        x2    x3\n0  3.942870  1.369531  55.0\n1  0.618049  0.943264  68.0\n2  5.865414  0.590663  73.0\n3  2.374696  0.206548  59.0\n4  1.558823  0.223204  60.0",
      "text/html": "<div>\n<style scoped>\n    .dataframe tbody tr th:only-of-type {\n        vertical-align: middle;\n    }\n\n    .dataframe tbody tr th {\n        vertical-align: top;\n    }\n\n    .dataframe thead th {\n        text-align: right;\n    }\n</style>\n<table border=\"1\" class=\"dataframe\">\n  <thead>\n    <tr style=\"text-align: right;\">\n      <th></th>\n      <th>x1</th>\n      <th>x2</th>\n      <th>x3</th>\n    </tr>\n  </thead>\n  <tbody>\n    <tr>\n      <th>0</th>\n      <td>3.942870</td>\n      <td>1.369531</td>\n      <td>55.0</td>\n    </tr>\n    <tr>\n      <th>1</th>\n      <td>0.618049</td>\n      <td>0.943264</td>\n      <td>68.0</td>\n    </tr>\n    <tr>\n      <th>2</th>\n      <td>5.865414</td>\n      <td>0.590663</td>\n      <td>73.0</td>\n    </tr>\n    <tr>\n      <th>3</th>\n      <td>2.374696</td>\n      <td>0.206548</td>\n      <td>59.0</td>\n    </tr>\n    <tr>\n      <th>4</th>\n      <td>1.558823</td>\n      <td>0.223204</td>\n      <td>60.0</td>\n    </tr>\n  </tbody>\n</table>\n</div>"
     },
     "execution_count": 29,
     "metadata": {},
     "output_type": "execute_result"
    }
   ],
   "source": [
    "df = pd.DataFrame(np.array([d1, d2, d3]).T, columns=['x1', 'x2', 'x3'])\n",
    "df.head()"
   ],
   "metadata": {
    "collapsed": false,
    "ExecuteTime": {
     "end_time": "2023-09-15T07:29:44.841598Z",
     "start_time": "2023-09-15T07:29:44.831825Z"
    }
   },
   "id": "5cfc7a80e1389163"
  },
  {
   "cell_type": "code",
   "execution_count": 30,
   "outputs": [
    {
     "data": {
      "text/plain": "                                                                              x1  \\\nВсего                          <bound method Series.count of 0     3.942870\\n...   \nМинимум                                                                -4.127033   \nМинимальная позиция                                                           81   \n25% квантиль                                                            2.040101   \nмедиана                                                                 3.204555   \n75% квантиль                                                            4.434788   \nЗначить                                                                 3.070225   \nМаксимум                                                                7.781921   \nМаксимальное количество цифр                                                  39   \nСреднее абсолютное отклонение                                           1.511288   \nдисперсия                                                               4.005609   \nСреднеквадратичное отклонение                                           2.001402   \nАсимметрия                                                             -0.649478   \nЭксцесс                                                                 1.220109   \n\n                                                                              x2  \\\nВсего                          <bound method Series.count of 0     1.369531\\n...   \nМинимум                                                                  0.01433   \nМинимальная позиция                                                           72   \n25% квантиль                                                             0.24958   \nмедиана                                                                 1.000613   \n75% квантиль                                                            2.101581   \nЗначить                                                                 2.028608   \nМаксимум                                                               18.791565   \nМаксимальное количество цифр                                                  53   \nСреднее абсолютное отклонение                                           1.922669   \nдисперсия                                                              10.206447   \nСреднеквадратичное отклонение                                           3.194753   \nАсимметрия                                                              3.326246   \nЭксцесс                                                                12.636286   \n\n                                                                              x3  \nВсего                          <bound method Series.count of 0     55.0\\n1   ...  \nМинимум                                                                      3.0  \nМинимальная позиция                                                           76  \n25% квантиль                                                                25.0  \nмедиана                                                                     54.5  \n75% квантиль                                                                73.0  \nЗначить                                                                    51.49  \nМаксимум                                                                    98.0  \nМаксимальное количество цифр                                                  96  \nСреднее абсолютное отклонение                                            24.0108  \nдисперсия                                                             780.090808  \nСреднеквадратичное отклонение                                          27.930106  \nАсимметрия                                                             -0.118917  \nЭксцесс                                                                -1.211579  ",
      "text/html": "<div>\n<style scoped>\n    .dataframe tbody tr th:only-of-type {\n        vertical-align: middle;\n    }\n\n    .dataframe tbody tr th {\n        vertical-align: top;\n    }\n\n    .dataframe thead th {\n        text-align: right;\n    }\n</style>\n<table border=\"1\" class=\"dataframe\">\n  <thead>\n    <tr style=\"text-align: right;\">\n      <th></th>\n      <th>x1</th>\n      <th>x2</th>\n      <th>x3</th>\n    </tr>\n  </thead>\n  <tbody>\n    <tr>\n      <th>Всего</th>\n      <td>&lt;bound method Series.count of 0     3.942870\\n...</td>\n      <td>&lt;bound method Series.count of 0     1.369531\\n...</td>\n      <td>&lt;bound method Series.count of 0     55.0\\n1   ...</td>\n    </tr>\n    <tr>\n      <th>Минимум</th>\n      <td>-4.127033</td>\n      <td>0.01433</td>\n      <td>3.0</td>\n    </tr>\n    <tr>\n      <th>Минимальная позиция</th>\n      <td>81</td>\n      <td>72</td>\n      <td>76</td>\n    </tr>\n    <tr>\n      <th>25% квантиль</th>\n      <td>2.040101</td>\n      <td>0.24958</td>\n      <td>25.0</td>\n    </tr>\n    <tr>\n      <th>медиана</th>\n      <td>3.204555</td>\n      <td>1.000613</td>\n      <td>54.5</td>\n    </tr>\n    <tr>\n      <th>75% квантиль</th>\n      <td>4.434788</td>\n      <td>2.101581</td>\n      <td>73.0</td>\n    </tr>\n    <tr>\n      <th>Значить</th>\n      <td>3.070225</td>\n      <td>2.028608</td>\n      <td>51.49</td>\n    </tr>\n    <tr>\n      <th>Максимум</th>\n      <td>7.781921</td>\n      <td>18.791565</td>\n      <td>98.0</td>\n    </tr>\n    <tr>\n      <th>Максимальное количество цифр</th>\n      <td>39</td>\n      <td>53</td>\n      <td>96</td>\n    </tr>\n    <tr>\n      <th>Среднее абсолютное отклонение</th>\n      <td>1.511288</td>\n      <td>1.922669</td>\n      <td>24.0108</td>\n    </tr>\n    <tr>\n      <th>дисперсия</th>\n      <td>4.005609</td>\n      <td>10.206447</td>\n      <td>780.090808</td>\n    </tr>\n    <tr>\n      <th>Среднеквадратичное отклонение</th>\n      <td>2.001402</td>\n      <td>3.194753</td>\n      <td>27.930106</td>\n    </tr>\n    <tr>\n      <th>Асимметрия</th>\n      <td>-0.649478</td>\n      <td>3.326246</td>\n      <td>-0.118917</td>\n    </tr>\n    <tr>\n      <th>Эксцесс</th>\n      <td>1.220109</td>\n      <td>12.636286</td>\n      <td>-1.211579</td>\n    </tr>\n  </tbody>\n</table>\n</div>"
     },
     "execution_count": 30,
     "metadata": {},
     "output_type": "execute_result"
    }
   ],
   "source": [
    "df.apply(status)"
   ],
   "metadata": {
    "collapsed": false,
    "ExecuteTime": {
     "end_time": "2023-09-15T07:29:55.452167Z",
     "start_time": "2023-09-15T07:29:55.420553Z"
    }
   },
   "id": "e5b18b92074e326c"
  },
  {
   "cell_type": "markdown",
   "source": [],
   "metadata": {
    "collapsed": false
   },
   "id": "4e819304aecd7084"
  },
  {
   "cell_type": "code",
   "execution_count": 31,
   "outputs": [
    {
     "data": {
      "text/plain": "   age           job  marital  education default  balance housing loan  \\\n0   58    management  married   tertiary      no     2143     yes   no   \n1   44    technician   single  secondary      no       29     yes   no   \n2   33  entrepreneur  married  secondary      no        2     yes  yes   \n3   47   blue-collar  married    unknown      no     1506     yes   no   \n4   33       unknown   single    unknown      no        1      no   no   \n\n   contact  day month  duration  campaign  pdays  previous poutcome Target  \n0  unknown    5   may       261         1     -1         0  unknown     no  \n1  unknown    5   may       151         1     -1         0  unknown     no  \n2  unknown    5   may        76         1     -1         0  unknown     no  \n3  unknown    5   may        92         1     -1         0  unknown     no  \n4  unknown    5   may       198         1     -1         0  unknown     no  ",
      "text/html": "<div>\n<style scoped>\n    .dataframe tbody tr th:only-of-type {\n        vertical-align: middle;\n    }\n\n    .dataframe tbody tr th {\n        vertical-align: top;\n    }\n\n    .dataframe thead th {\n        text-align: right;\n    }\n</style>\n<table border=\"1\" class=\"dataframe\">\n  <thead>\n    <tr style=\"text-align: right;\">\n      <th></th>\n      <th>age</th>\n      <th>job</th>\n      <th>marital</th>\n      <th>education</th>\n      <th>default</th>\n      <th>balance</th>\n      <th>housing</th>\n      <th>loan</th>\n      <th>contact</th>\n      <th>day</th>\n      <th>month</th>\n      <th>duration</th>\n      <th>campaign</th>\n      <th>pdays</th>\n      <th>previous</th>\n      <th>poutcome</th>\n      <th>Target</th>\n    </tr>\n  </thead>\n  <tbody>\n    <tr>\n      <th>0</th>\n      <td>58</td>\n      <td>management</td>\n      <td>married</td>\n      <td>tertiary</td>\n      <td>no</td>\n      <td>2143</td>\n      <td>yes</td>\n      <td>no</td>\n      <td>unknown</td>\n      <td>5</td>\n      <td>may</td>\n      <td>261</td>\n      <td>1</td>\n      <td>-1</td>\n      <td>0</td>\n      <td>unknown</td>\n      <td>no</td>\n    </tr>\n    <tr>\n      <th>1</th>\n      <td>44</td>\n      <td>technician</td>\n      <td>single</td>\n      <td>secondary</td>\n      <td>no</td>\n      <td>29</td>\n      <td>yes</td>\n      <td>no</td>\n      <td>unknown</td>\n      <td>5</td>\n      <td>may</td>\n      <td>151</td>\n      <td>1</td>\n      <td>-1</td>\n      <td>0</td>\n      <td>unknown</td>\n      <td>no</td>\n    </tr>\n    <tr>\n      <th>2</th>\n      <td>33</td>\n      <td>entrepreneur</td>\n      <td>married</td>\n      <td>secondary</td>\n      <td>no</td>\n      <td>2</td>\n      <td>yes</td>\n      <td>yes</td>\n      <td>unknown</td>\n      <td>5</td>\n      <td>may</td>\n      <td>76</td>\n      <td>1</td>\n      <td>-1</td>\n      <td>0</td>\n      <td>unknown</td>\n      <td>no</td>\n    </tr>\n    <tr>\n      <th>3</th>\n      <td>47</td>\n      <td>blue-collar</td>\n      <td>married</td>\n      <td>unknown</td>\n      <td>no</td>\n      <td>1506</td>\n      <td>yes</td>\n      <td>no</td>\n      <td>unknown</td>\n      <td>5</td>\n      <td>may</td>\n      <td>92</td>\n      <td>1</td>\n      <td>-1</td>\n      <td>0</td>\n      <td>unknown</td>\n      <td>no</td>\n    </tr>\n    <tr>\n      <th>4</th>\n      <td>33</td>\n      <td>unknown</td>\n      <td>single</td>\n      <td>unknown</td>\n      <td>no</td>\n      <td>1</td>\n      <td>no</td>\n      <td>no</td>\n      <td>unknown</td>\n      <td>5</td>\n      <td>may</td>\n      <td>198</td>\n      <td>1</td>\n      <td>-1</td>\n      <td>0</td>\n      <td>unknown</td>\n      <td>no</td>\n    </tr>\n  </tbody>\n</table>\n</div>"
     },
     "execution_count": 31,
     "metadata": {},
     "output_type": "execute_result"
    }
   ],
   "source": [
    "bank = pd.read_csv('bank-full.csv')\n",
    "bank.head()"
   ],
   "metadata": {
    "collapsed": false,
    "ExecuteTime": {
     "end_time": "2023-09-15T07:31:12.737771Z",
     "start_time": "2023-09-15T07:31:12.643006Z"
    }
   },
   "id": "a0c2b09ddaf01a2a"
  },
  {
   "cell_type": "code",
   "execution_count": 33,
   "outputs": [
    {
     "data": {
      "text/plain": "                age\ncount  45211.000000\nmean      40.936210\nstd       10.618762\nmin       18.000000\n25%       33.000000\n50%       39.000000\n75%       48.000000\nmax       95.000000",
      "text/html": "<div>\n<style scoped>\n    .dataframe tbody tr th:only-of-type {\n        vertical-align: middle;\n    }\n\n    .dataframe tbody tr th {\n        vertical-align: top;\n    }\n\n    .dataframe thead th {\n        text-align: right;\n    }\n</style>\n<table border=\"1\" class=\"dataframe\">\n  <thead>\n    <tr style=\"text-align: right;\">\n      <th></th>\n      <th>age</th>\n    </tr>\n  </thead>\n  <tbody>\n    <tr>\n      <th>count</th>\n      <td>45211.000000</td>\n    </tr>\n    <tr>\n      <th>mean</th>\n      <td>40.936210</td>\n    </tr>\n    <tr>\n      <th>std</th>\n      <td>10.618762</td>\n    </tr>\n    <tr>\n      <th>min</th>\n      <td>18.000000</td>\n    </tr>\n    <tr>\n      <th>25%</th>\n      <td>33.000000</td>\n    </tr>\n    <tr>\n      <th>50%</th>\n      <td>39.000000</td>\n    </tr>\n    <tr>\n      <th>75%</th>\n      <td>48.000000</td>\n    </tr>\n    <tr>\n      <th>max</th>\n      <td>95.000000</td>\n    </tr>\n  </tbody>\n</table>\n</div>"
     },
     "execution_count": 33,
     "metadata": {},
     "output_type": "execute_result"
    }
   ],
   "source": [
    "result = bank['age'].describe()\n",
    "pd.DataFrame(result)"
   ],
   "metadata": {
    "collapsed": false,
    "ExecuteTime": {
     "end_time": "2023-09-15T07:33:13.656689Z",
     "start_time": "2023-09-15T07:33:13.625466Z"
    }
   },
   "id": "706111f4043acb85"
  },
  {
   "cell_type": "code",
   "execution_count": 35,
   "outputs": [
    {
     "data": {
      "text/plain": "                job  marital  education default housing   loan   contact  \\\ncount         45211    45211      45211   45211   45211  45211     45211   \nunique           12        3          4       2       2      2         3   \ntop     blue-collar  married  secondary      no     yes     no  cellular   \nfreq           9732    27214      23202   44396   25130  37967     29285   \n\n        month poutcome Target  \ncount   45211    45211  45211  \nunique     12        4      2  \ntop       may  unknown     no  \nfreq    13766    36959  39922  ",
      "text/html": "<div>\n<style scoped>\n    .dataframe tbody tr th:only-of-type {\n        vertical-align: middle;\n    }\n\n    .dataframe tbody tr th {\n        vertical-align: top;\n    }\n\n    .dataframe thead th {\n        text-align: right;\n    }\n</style>\n<table border=\"1\" class=\"dataframe\">\n  <thead>\n    <tr style=\"text-align: right;\">\n      <th></th>\n      <th>job</th>\n      <th>marital</th>\n      <th>education</th>\n      <th>default</th>\n      <th>housing</th>\n      <th>loan</th>\n      <th>contact</th>\n      <th>month</th>\n      <th>poutcome</th>\n      <th>Target</th>\n    </tr>\n  </thead>\n  <tbody>\n    <tr>\n      <th>count</th>\n      <td>45211</td>\n      <td>45211</td>\n      <td>45211</td>\n      <td>45211</td>\n      <td>45211</td>\n      <td>45211</td>\n      <td>45211</td>\n      <td>45211</td>\n      <td>45211</td>\n      <td>45211</td>\n    </tr>\n    <tr>\n      <th>unique</th>\n      <td>12</td>\n      <td>3</td>\n      <td>4</td>\n      <td>2</td>\n      <td>2</td>\n      <td>2</td>\n      <td>3</td>\n      <td>12</td>\n      <td>4</td>\n      <td>2</td>\n    </tr>\n    <tr>\n      <th>top</th>\n      <td>blue-collar</td>\n      <td>married</td>\n      <td>secondary</td>\n      <td>no</td>\n      <td>yes</td>\n      <td>no</td>\n      <td>cellular</td>\n      <td>may</td>\n      <td>unknown</td>\n      <td>no</td>\n    </tr>\n    <tr>\n      <th>freq</th>\n      <td>9732</td>\n      <td>27214</td>\n      <td>23202</td>\n      <td>44396</td>\n      <td>25130</td>\n      <td>37967</td>\n      <td>29285</td>\n      <td>13766</td>\n      <td>36959</td>\n      <td>39922</td>\n    </tr>\n  </tbody>\n</table>\n</div>"
     },
     "execution_count": 35,
     "metadata": {},
     "output_type": "execute_result"
    }
   ],
   "source": [
    "result = bank.describe(include = ['object'])\n",
    "result"
   ],
   "metadata": {
    "collapsed": false,
    "ExecuteTime": {
     "end_time": "2023-09-15T07:34:21.418548Z",
     "start_time": "2023-09-15T07:34:21.370926Z"
    }
   },
   "id": "f5d44534cc956927"
  },
  {
   "cell_type": "code",
   "execution_count": 38,
   "outputs": [
    {
     "data": {
      "text/plain": "                age        balance           day      duration      campaign  \\\ncount  45211.000000   45211.000000  45211.000000  45211.000000  45211.000000   \nmean      40.936210    1362.272058     15.806419    258.163080      2.763841   \nstd       10.618762    3044.765829      8.322476    257.527812      3.098021   \nmin       18.000000   -8019.000000      1.000000      0.000000      1.000000   \n25%       33.000000      72.000000      8.000000    103.000000      1.000000   \n50%       39.000000     448.000000     16.000000    180.000000      2.000000   \n75%       48.000000    1428.000000     21.000000    319.000000      3.000000   \nmax       95.000000  102127.000000     31.000000   4918.000000     63.000000   \n\n              pdays      previous  \ncount  45211.000000  45211.000000  \nmean      40.197828      0.580323  \nstd      100.128746      2.303441  \nmin       -1.000000      0.000000  \n25%       -1.000000      0.000000  \n50%       -1.000000      0.000000  \n75%       -1.000000      0.000000  \nmax      871.000000    275.000000  ",
      "text/html": "<div>\n<style scoped>\n    .dataframe tbody tr th:only-of-type {\n        vertical-align: middle;\n    }\n\n    .dataframe tbody tr th {\n        vertical-align: top;\n    }\n\n    .dataframe thead th {\n        text-align: right;\n    }\n</style>\n<table border=\"1\" class=\"dataframe\">\n  <thead>\n    <tr style=\"text-align: right;\">\n      <th></th>\n      <th>age</th>\n      <th>balance</th>\n      <th>day</th>\n      <th>duration</th>\n      <th>campaign</th>\n      <th>pdays</th>\n      <th>previous</th>\n    </tr>\n  </thead>\n  <tbody>\n    <tr>\n      <th>count</th>\n      <td>45211.000000</td>\n      <td>45211.000000</td>\n      <td>45211.000000</td>\n      <td>45211.000000</td>\n      <td>45211.000000</td>\n      <td>45211.000000</td>\n      <td>45211.000000</td>\n    </tr>\n    <tr>\n      <th>mean</th>\n      <td>40.936210</td>\n      <td>1362.272058</td>\n      <td>15.806419</td>\n      <td>258.163080</td>\n      <td>2.763841</td>\n      <td>40.197828</td>\n      <td>0.580323</td>\n    </tr>\n    <tr>\n      <th>std</th>\n      <td>10.618762</td>\n      <td>3044.765829</td>\n      <td>8.322476</td>\n      <td>257.527812</td>\n      <td>3.098021</td>\n      <td>100.128746</td>\n      <td>2.303441</td>\n    </tr>\n    <tr>\n      <th>min</th>\n      <td>18.000000</td>\n      <td>-8019.000000</td>\n      <td>1.000000</td>\n      <td>0.000000</td>\n      <td>1.000000</td>\n      <td>-1.000000</td>\n      <td>0.000000</td>\n    </tr>\n    <tr>\n      <th>25%</th>\n      <td>33.000000</td>\n      <td>72.000000</td>\n      <td>8.000000</td>\n      <td>103.000000</td>\n      <td>1.000000</td>\n      <td>-1.000000</td>\n      <td>0.000000</td>\n    </tr>\n    <tr>\n      <th>50%</th>\n      <td>39.000000</td>\n      <td>448.000000</td>\n      <td>16.000000</td>\n      <td>180.000000</td>\n      <td>2.000000</td>\n      <td>-1.000000</td>\n      <td>0.000000</td>\n    </tr>\n    <tr>\n      <th>75%</th>\n      <td>48.000000</td>\n      <td>1428.000000</td>\n      <td>21.000000</td>\n      <td>319.000000</td>\n      <td>3.000000</td>\n      <td>-1.000000</td>\n      <td>0.000000</td>\n    </tr>\n    <tr>\n      <th>max</th>\n      <td>95.000000</td>\n      <td>102127.000000</td>\n      <td>31.000000</td>\n      <td>4918.000000</td>\n      <td>63.000000</td>\n      <td>871.000000</td>\n      <td>275.000000</td>\n    </tr>\n  </tbody>\n</table>\n</div>"
     },
     "execution_count": 38,
     "metadata": {},
     "output_type": "execute_result"
    }
   ],
   "source": [
    "result = bank.describe(include=['number'])\n",
    "result"
   ],
   "metadata": {
    "collapsed": false,
    "ExecuteTime": {
     "end_time": "2023-09-15T07:35:39.061006Z",
     "start_time": "2023-09-15T07:35:39.031726Z"
    }
   },
   "id": "5fc26b7308873064"
  },
  {
   "cell_type": "code",
   "execution_count": 42,
   "outputs": [
    {
     "data": {
      "text/plain": "                age        balance           day      duration      campaign  \\\ncount  45211.000000   45211.000000  45211.000000  45211.000000  45211.000000   \nmean      40.936210    1362.272058     15.806419    258.163080      2.763841   \nstd       10.618762    3044.765829      8.322476    257.527812      3.098021   \nmin       18.000000   -8019.000000      1.000000      0.000000      1.000000   \n25%       33.000000      72.000000      8.000000    103.000000      1.000000   \n50%       39.000000     448.000000     16.000000    180.000000      2.000000   \n75%       48.000000    1428.000000     21.000000    319.000000      3.000000   \nmax       95.000000  102127.000000     31.000000   4918.000000     63.000000   \n\n              pdays      previous  \ncount  45211.000000  45211.000000  \nmean      40.197828      0.580323  \nstd      100.128746      2.303441  \nmin       -1.000000      0.000000  \n25%       -1.000000      0.000000  \n50%       -1.000000      0.000000  \n75%       -1.000000      0.000000  \nmax      871.000000    275.000000  ",
      "text/html": "<div>\n<style scoped>\n    .dataframe tbody tr th:only-of-type {\n        vertical-align: middle;\n    }\n\n    .dataframe tbody tr th {\n        vertical-align: top;\n    }\n\n    .dataframe thead th {\n        text-align: right;\n    }\n</style>\n<table border=\"1\" class=\"dataframe\">\n  <thead>\n    <tr style=\"text-align: right;\">\n      <th></th>\n      <th>age</th>\n      <th>balance</th>\n      <th>day</th>\n      <th>duration</th>\n      <th>campaign</th>\n      <th>pdays</th>\n      <th>previous</th>\n    </tr>\n  </thead>\n  <tbody>\n    <tr>\n      <th>count</th>\n      <td>45211.000000</td>\n      <td>45211.000000</td>\n      <td>45211.000000</td>\n      <td>45211.000000</td>\n      <td>45211.000000</td>\n      <td>45211.000000</td>\n      <td>45211.000000</td>\n    </tr>\n    <tr>\n      <th>mean</th>\n      <td>40.936210</td>\n      <td>1362.272058</td>\n      <td>15.806419</td>\n      <td>258.163080</td>\n      <td>2.763841</td>\n      <td>40.197828</td>\n      <td>0.580323</td>\n    </tr>\n    <tr>\n      <th>std</th>\n      <td>10.618762</td>\n      <td>3044.765829</td>\n      <td>8.322476</td>\n      <td>257.527812</td>\n      <td>3.098021</td>\n      <td>100.128746</td>\n      <td>2.303441</td>\n    </tr>\n    <tr>\n      <th>min</th>\n      <td>18.000000</td>\n      <td>-8019.000000</td>\n      <td>1.000000</td>\n      <td>0.000000</td>\n      <td>1.000000</td>\n      <td>-1.000000</td>\n      <td>0.000000</td>\n    </tr>\n    <tr>\n      <th>25%</th>\n      <td>33.000000</td>\n      <td>72.000000</td>\n      <td>8.000000</td>\n      <td>103.000000</td>\n      <td>1.000000</td>\n      <td>-1.000000</td>\n      <td>0.000000</td>\n    </tr>\n    <tr>\n      <th>50%</th>\n      <td>39.000000</td>\n      <td>448.000000</td>\n      <td>16.000000</td>\n      <td>180.000000</td>\n      <td>2.000000</td>\n      <td>-1.000000</td>\n      <td>0.000000</td>\n    </tr>\n    <tr>\n      <th>75%</th>\n      <td>48.000000</td>\n      <td>1428.000000</td>\n      <td>21.000000</td>\n      <td>319.000000</td>\n      <td>3.000000</td>\n      <td>-1.000000</td>\n      <td>0.000000</td>\n    </tr>\n    <tr>\n      <th>max</th>\n      <td>95.000000</td>\n      <td>102127.000000</td>\n      <td>31.000000</td>\n      <td>4918.000000</td>\n      <td>63.000000</td>\n      <td>871.000000</td>\n      <td>275.000000</td>\n    </tr>\n  </tbody>\n</table>\n</div>"
     },
     "execution_count": 42,
     "metadata": {},
     "output_type": "execute_result"
    }
   ],
   "source": [
    "bank.describe(include=['number'])"
   ],
   "metadata": {
    "collapsed": false,
    "ExecuteTime": {
     "end_time": "2023-09-15T07:36:43.628236Z",
     "start_time": "2023-09-15T07:36:43.601159Z"
    }
   },
   "id": "71ed2473a9b35dea"
  },
  {
   "cell_type": "code",
   "execution_count": 43,
   "outputs": [
    {
     "data": {
      "text/plain": "       age   marital  education default  balance housing loan    contact  day  \\\n0       58   married   tertiary      no     2143     yes   no    unknown    5   \n1       44    single  secondary      no       29     yes   no    unknown    5   \n2       33   married  secondary      no        2     yes  yes    unknown    5   \n3       47   married    unknown      no     1506     yes   no    unknown    5   \n4       33    single    unknown      no        1      no   no    unknown    5   \n...    ...       ...        ...     ...      ...     ...  ...        ...  ...   \n45206   51   married   tertiary      no      825      no   no   cellular   17   \n45207   71  divorced    primary      no     1729      no   no   cellular   17   \n45208   72   married  secondary      no     5715      no   no   cellular   17   \n45209   57   married  secondary      no      668      no   no  telephone   17   \n45210   37   married  secondary      no     2971      no   no   cellular   17   \n\n      month  duration  campaign  pdays  previous poutcome Target  \n0       may       261         1     -1         0  unknown     no  \n1       may       151         1     -1         0  unknown     no  \n2       may        76         1     -1         0  unknown     no  \n3       may        92         1     -1         0  unknown     no  \n4       may       198         1     -1         0  unknown     no  \n...     ...       ...       ...    ...       ...      ...    ...  \n45206   nov       977         3     -1         0  unknown    yes  \n45207   nov       456         2     -1         0  unknown    yes  \n45208   nov      1127         5    184         3  success    yes  \n45209   nov       508         4     -1         0  unknown     no  \n45210   nov       361         2    188        11    other     no  \n\n[45211 rows x 16 columns]",
      "text/html": "<div>\n<style scoped>\n    .dataframe tbody tr th:only-of-type {\n        vertical-align: middle;\n    }\n\n    .dataframe tbody tr th {\n        vertical-align: top;\n    }\n\n    .dataframe thead th {\n        text-align: right;\n    }\n</style>\n<table border=\"1\" class=\"dataframe\">\n  <thead>\n    <tr style=\"text-align: right;\">\n      <th></th>\n      <th>age</th>\n      <th>marital</th>\n      <th>education</th>\n      <th>default</th>\n      <th>balance</th>\n      <th>housing</th>\n      <th>loan</th>\n      <th>contact</th>\n      <th>day</th>\n      <th>month</th>\n      <th>duration</th>\n      <th>campaign</th>\n      <th>pdays</th>\n      <th>previous</th>\n      <th>poutcome</th>\n      <th>Target</th>\n    </tr>\n  </thead>\n  <tbody>\n    <tr>\n      <th>0</th>\n      <td>58</td>\n      <td>married</td>\n      <td>tertiary</td>\n      <td>no</td>\n      <td>2143</td>\n      <td>yes</td>\n      <td>no</td>\n      <td>unknown</td>\n      <td>5</td>\n      <td>may</td>\n      <td>261</td>\n      <td>1</td>\n      <td>-1</td>\n      <td>0</td>\n      <td>unknown</td>\n      <td>no</td>\n    </tr>\n    <tr>\n      <th>1</th>\n      <td>44</td>\n      <td>single</td>\n      <td>secondary</td>\n      <td>no</td>\n      <td>29</td>\n      <td>yes</td>\n      <td>no</td>\n      <td>unknown</td>\n      <td>5</td>\n      <td>may</td>\n      <td>151</td>\n      <td>1</td>\n      <td>-1</td>\n      <td>0</td>\n      <td>unknown</td>\n      <td>no</td>\n    </tr>\n    <tr>\n      <th>2</th>\n      <td>33</td>\n      <td>married</td>\n      <td>secondary</td>\n      <td>no</td>\n      <td>2</td>\n      <td>yes</td>\n      <td>yes</td>\n      <td>unknown</td>\n      <td>5</td>\n      <td>may</td>\n      <td>76</td>\n      <td>1</td>\n      <td>-1</td>\n      <td>0</td>\n      <td>unknown</td>\n      <td>no</td>\n    </tr>\n    <tr>\n      <th>3</th>\n      <td>47</td>\n      <td>married</td>\n      <td>unknown</td>\n      <td>no</td>\n      <td>1506</td>\n      <td>yes</td>\n      <td>no</td>\n      <td>unknown</td>\n      <td>5</td>\n      <td>may</td>\n      <td>92</td>\n      <td>1</td>\n      <td>-1</td>\n      <td>0</td>\n      <td>unknown</td>\n      <td>no</td>\n    </tr>\n    <tr>\n      <th>4</th>\n      <td>33</td>\n      <td>single</td>\n      <td>unknown</td>\n      <td>no</td>\n      <td>1</td>\n      <td>no</td>\n      <td>no</td>\n      <td>unknown</td>\n      <td>5</td>\n      <td>may</td>\n      <td>198</td>\n      <td>1</td>\n      <td>-1</td>\n      <td>0</td>\n      <td>unknown</td>\n      <td>no</td>\n    </tr>\n    <tr>\n      <th>...</th>\n      <td>...</td>\n      <td>...</td>\n      <td>...</td>\n      <td>...</td>\n      <td>...</td>\n      <td>...</td>\n      <td>...</td>\n      <td>...</td>\n      <td>...</td>\n      <td>...</td>\n      <td>...</td>\n      <td>...</td>\n      <td>...</td>\n      <td>...</td>\n      <td>...</td>\n      <td>...</td>\n    </tr>\n    <tr>\n      <th>45206</th>\n      <td>51</td>\n      <td>married</td>\n      <td>tertiary</td>\n      <td>no</td>\n      <td>825</td>\n      <td>no</td>\n      <td>no</td>\n      <td>cellular</td>\n      <td>17</td>\n      <td>nov</td>\n      <td>977</td>\n      <td>3</td>\n      <td>-1</td>\n      <td>0</td>\n      <td>unknown</td>\n      <td>yes</td>\n    </tr>\n    <tr>\n      <th>45207</th>\n      <td>71</td>\n      <td>divorced</td>\n      <td>primary</td>\n      <td>no</td>\n      <td>1729</td>\n      <td>no</td>\n      <td>no</td>\n      <td>cellular</td>\n      <td>17</td>\n      <td>nov</td>\n      <td>456</td>\n      <td>2</td>\n      <td>-1</td>\n      <td>0</td>\n      <td>unknown</td>\n      <td>yes</td>\n    </tr>\n    <tr>\n      <th>45208</th>\n      <td>72</td>\n      <td>married</td>\n      <td>secondary</td>\n      <td>no</td>\n      <td>5715</td>\n      <td>no</td>\n      <td>no</td>\n      <td>cellular</td>\n      <td>17</td>\n      <td>nov</td>\n      <td>1127</td>\n      <td>5</td>\n      <td>184</td>\n      <td>3</td>\n      <td>success</td>\n      <td>yes</td>\n    </tr>\n    <tr>\n      <th>45209</th>\n      <td>57</td>\n      <td>married</td>\n      <td>secondary</td>\n      <td>no</td>\n      <td>668</td>\n      <td>no</td>\n      <td>no</td>\n      <td>telephone</td>\n      <td>17</td>\n      <td>nov</td>\n      <td>508</td>\n      <td>4</td>\n      <td>-1</td>\n      <td>0</td>\n      <td>unknown</td>\n      <td>no</td>\n    </tr>\n    <tr>\n      <th>45210</th>\n      <td>37</td>\n      <td>married</td>\n      <td>secondary</td>\n      <td>no</td>\n      <td>2971</td>\n      <td>no</td>\n      <td>no</td>\n      <td>cellular</td>\n      <td>17</td>\n      <td>nov</td>\n      <td>361</td>\n      <td>2</td>\n      <td>188</td>\n      <td>11</td>\n      <td>other</td>\n      <td>no</td>\n    </tr>\n  </tbody>\n</table>\n<p>45211 rows × 16 columns</p>\n</div>"
     },
     "execution_count": 43,
     "metadata": {},
     "output_type": "execute_result"
    }
   ],
   "source": [
    "bank.drop('job', axis=1)"
   ],
   "metadata": {
    "collapsed": false,
    "ExecuteTime": {
     "end_time": "2023-09-15T07:37:07.928844Z",
     "start_time": "2023-09-15T07:37:07.912999Z"
    }
   },
   "id": "b2e44df32663c171"
  },
  {
   "cell_type": "code",
   "execution_count": 44,
   "outputs": [
    {
     "data": {
      "text/plain": "       age      job   marital  education default  balance housing loan  \\\n11517   20   admin.    single  secondary      no       66     yes   no   \n40121   20   admin.    single  secondary      no      336      no  yes   \n3929    21   admin.    single  secondary      no      325     yes   no   \n6279    21   admin.    single    unknown      no      -28     yes   no   \n31405   21   admin.    single   tertiary      no      242      no  yes   \n...    ...      ...       ...        ...     ...      ...     ...  ...   \n41823   75  unknown   married   tertiary      no      643      no   no   \n43653   77  unknown   married    unknown      no      397      no   no   \n45141   77  unknown   married    unknown      no      397      no   no   \n32089   78  unknown   married    unknown      no     2235      no   no   \n41524   82  unknown  divorced    unknown      no        0      no   no   \n\n         contact  day month  duration  campaign  pdays  previous poutcome  \\\n11517    unknown   19   jun        75         2     -1         0  unknown   \n40121   cellular    5   jun       133         1     -1         0  unknown   \n3929     unknown   16   may       467         1     -1         0  unknown   \n6279     unknown   27   may       125         1     -1         0  unknown   \n31405   cellular   26   mar       131         4     -1         0  unknown   \n...          ...  ...   ...       ...       ...    ...       ...      ...   \n41823   cellular   15   oct       522         2     -1         0  unknown   \n43653  telephone    7   may       300         3     -1         0  unknown   \n45141  telephone    8   nov       207         1    185         3  success   \n32089  telephone   14   apr       300         3     -1         0  unknown   \n41524  telephone    9   sep       277         5     -1         0  unknown   \n\n      Target  \n11517     no  \n40121     no  \n3929      no  \n6279      no  \n31405     no  \n...      ...  \n41823     no  \n43653    yes  \n45141     no  \n32089    yes  \n41524     no  \n\n[45211 rows x 17 columns]",
      "text/html": "<div>\n<style scoped>\n    .dataframe tbody tr th:only-of-type {\n        vertical-align: middle;\n    }\n\n    .dataframe tbody tr th {\n        vertical-align: top;\n    }\n\n    .dataframe thead th {\n        text-align: right;\n    }\n</style>\n<table border=\"1\" class=\"dataframe\">\n  <thead>\n    <tr style=\"text-align: right;\">\n      <th></th>\n      <th>age</th>\n      <th>job</th>\n      <th>marital</th>\n      <th>education</th>\n      <th>default</th>\n      <th>balance</th>\n      <th>housing</th>\n      <th>loan</th>\n      <th>contact</th>\n      <th>day</th>\n      <th>month</th>\n      <th>duration</th>\n      <th>campaign</th>\n      <th>pdays</th>\n      <th>previous</th>\n      <th>poutcome</th>\n      <th>Target</th>\n    </tr>\n  </thead>\n  <tbody>\n    <tr>\n      <th>11517</th>\n      <td>20</td>\n      <td>admin.</td>\n      <td>single</td>\n      <td>secondary</td>\n      <td>no</td>\n      <td>66</td>\n      <td>yes</td>\n      <td>no</td>\n      <td>unknown</td>\n      <td>19</td>\n      <td>jun</td>\n      <td>75</td>\n      <td>2</td>\n      <td>-1</td>\n      <td>0</td>\n      <td>unknown</td>\n      <td>no</td>\n    </tr>\n    <tr>\n      <th>40121</th>\n      <td>20</td>\n      <td>admin.</td>\n      <td>single</td>\n      <td>secondary</td>\n      <td>no</td>\n      <td>336</td>\n      <td>no</td>\n      <td>yes</td>\n      <td>cellular</td>\n      <td>5</td>\n      <td>jun</td>\n      <td>133</td>\n      <td>1</td>\n      <td>-1</td>\n      <td>0</td>\n      <td>unknown</td>\n      <td>no</td>\n    </tr>\n    <tr>\n      <th>3929</th>\n      <td>21</td>\n      <td>admin.</td>\n      <td>single</td>\n      <td>secondary</td>\n      <td>no</td>\n      <td>325</td>\n      <td>yes</td>\n      <td>no</td>\n      <td>unknown</td>\n      <td>16</td>\n      <td>may</td>\n      <td>467</td>\n      <td>1</td>\n      <td>-1</td>\n      <td>0</td>\n      <td>unknown</td>\n      <td>no</td>\n    </tr>\n    <tr>\n      <th>6279</th>\n      <td>21</td>\n      <td>admin.</td>\n      <td>single</td>\n      <td>unknown</td>\n      <td>no</td>\n      <td>-28</td>\n      <td>yes</td>\n      <td>no</td>\n      <td>unknown</td>\n      <td>27</td>\n      <td>may</td>\n      <td>125</td>\n      <td>1</td>\n      <td>-1</td>\n      <td>0</td>\n      <td>unknown</td>\n      <td>no</td>\n    </tr>\n    <tr>\n      <th>31405</th>\n      <td>21</td>\n      <td>admin.</td>\n      <td>single</td>\n      <td>tertiary</td>\n      <td>no</td>\n      <td>242</td>\n      <td>no</td>\n      <td>yes</td>\n      <td>cellular</td>\n      <td>26</td>\n      <td>mar</td>\n      <td>131</td>\n      <td>4</td>\n      <td>-1</td>\n      <td>0</td>\n      <td>unknown</td>\n      <td>no</td>\n    </tr>\n    <tr>\n      <th>...</th>\n      <td>...</td>\n      <td>...</td>\n      <td>...</td>\n      <td>...</td>\n      <td>...</td>\n      <td>...</td>\n      <td>...</td>\n      <td>...</td>\n      <td>...</td>\n      <td>...</td>\n      <td>...</td>\n      <td>...</td>\n      <td>...</td>\n      <td>...</td>\n      <td>...</td>\n      <td>...</td>\n      <td>...</td>\n    </tr>\n    <tr>\n      <th>41823</th>\n      <td>75</td>\n      <td>unknown</td>\n      <td>married</td>\n      <td>tertiary</td>\n      <td>no</td>\n      <td>643</td>\n      <td>no</td>\n      <td>no</td>\n      <td>cellular</td>\n      <td>15</td>\n      <td>oct</td>\n      <td>522</td>\n      <td>2</td>\n      <td>-1</td>\n      <td>0</td>\n      <td>unknown</td>\n      <td>no</td>\n    </tr>\n    <tr>\n      <th>43653</th>\n      <td>77</td>\n      <td>unknown</td>\n      <td>married</td>\n      <td>unknown</td>\n      <td>no</td>\n      <td>397</td>\n      <td>no</td>\n      <td>no</td>\n      <td>telephone</td>\n      <td>7</td>\n      <td>may</td>\n      <td>300</td>\n      <td>3</td>\n      <td>-1</td>\n      <td>0</td>\n      <td>unknown</td>\n      <td>yes</td>\n    </tr>\n    <tr>\n      <th>45141</th>\n      <td>77</td>\n      <td>unknown</td>\n      <td>married</td>\n      <td>unknown</td>\n      <td>no</td>\n      <td>397</td>\n      <td>no</td>\n      <td>no</td>\n      <td>telephone</td>\n      <td>8</td>\n      <td>nov</td>\n      <td>207</td>\n      <td>1</td>\n      <td>185</td>\n      <td>3</td>\n      <td>success</td>\n      <td>no</td>\n    </tr>\n    <tr>\n      <th>32089</th>\n      <td>78</td>\n      <td>unknown</td>\n      <td>married</td>\n      <td>unknown</td>\n      <td>no</td>\n      <td>2235</td>\n      <td>no</td>\n      <td>no</td>\n      <td>telephone</td>\n      <td>14</td>\n      <td>apr</td>\n      <td>300</td>\n      <td>3</td>\n      <td>-1</td>\n      <td>0</td>\n      <td>unknown</td>\n      <td>yes</td>\n    </tr>\n    <tr>\n      <th>41524</th>\n      <td>82</td>\n      <td>unknown</td>\n      <td>divorced</td>\n      <td>unknown</td>\n      <td>no</td>\n      <td>0</td>\n      <td>no</td>\n      <td>no</td>\n      <td>telephone</td>\n      <td>9</td>\n      <td>sep</td>\n      <td>277</td>\n      <td>5</td>\n      <td>-1</td>\n      <td>0</td>\n      <td>unknown</td>\n      <td>no</td>\n    </tr>\n  </tbody>\n</table>\n<p>45211 rows × 17 columns</p>\n</div>"
     },
     "execution_count": 44,
     "metadata": {},
     "output_type": "execute_result"
    }
   ],
   "source": [
    "bank.sort_values(by=['job','age'])"
   ],
   "metadata": {
    "collapsed": false,
    "ExecuteTime": {
     "end_time": "2023-09-15T07:37:40.893915Z",
     "start_time": "2023-09-15T07:37:40.859688Z"
    }
   },
   "id": "471c8b3c9f5463be"
  },
  {
   "cell_type": "code",
   "execution_count": 47,
   "outputs": [
    {
     "data": {
      "text/plain": "       age      job   marital  education default  balance housing loan  \\\n41524   82  unknown  divorced    unknown      no        0      no   no   \n32089   78  unknown   married    unknown      no     2235      no   no   \n43653   77  unknown   married    unknown      no      397      no   no   \n45141   77  unknown   married    unknown      no      397      no   no   \n41823   75  unknown   married   tertiary      no      643      no   no   \n...    ...      ...       ...        ...     ...      ...     ...  ...   \n31405   21   admin.    single   tertiary      no      242      no  yes   \n38479   21   admin.    single  secondary      no       66     yes   no   \n39651   21   admin.    single  secondary      no      524      no   no   \n11517   20   admin.    single  secondary      no       66     yes   no   \n40121   20   admin.    single  secondary      no      336      no  yes   \n\n         contact  day month  duration  campaign  pdays  previous poutcome  \\\n41524  telephone    9   sep       277         5     -1         0  unknown   \n32089  telephone   14   apr       300         3     -1         0  unknown   \n43653  telephone    7   may       300         3     -1         0  unknown   \n45141  telephone    8   nov       207         1    185         3  success   \n41823   cellular   15   oct       522         2     -1         0  unknown   \n...          ...  ...   ...       ...       ...    ...       ...      ...   \n31405   cellular   26   mar       131         4     -1         0  unknown   \n38479   cellular   15   may        31         1    330         2  failure   \n39651   cellular   26   may       185         1     -1         0  unknown   \n11517    unknown   19   jun        75         2     -1         0  unknown   \n40121   cellular    5   jun       133         1     -1         0  unknown   \n\n      Target  \n41524     no  \n32089    yes  \n43653    yes  \n45141     no  \n41823     no  \n...      ...  \n31405     no  \n38479     no  \n39651    yes  \n11517     no  \n40121     no  \n\n[45211 rows x 17 columns]",
      "text/html": "<div>\n<style scoped>\n    .dataframe tbody tr th:only-of-type {\n        vertical-align: middle;\n    }\n\n    .dataframe tbody tr th {\n        vertical-align: top;\n    }\n\n    .dataframe thead th {\n        text-align: right;\n    }\n</style>\n<table border=\"1\" class=\"dataframe\">\n  <thead>\n    <tr style=\"text-align: right;\">\n      <th></th>\n      <th>age</th>\n      <th>job</th>\n      <th>marital</th>\n      <th>education</th>\n      <th>default</th>\n      <th>balance</th>\n      <th>housing</th>\n      <th>loan</th>\n      <th>contact</th>\n      <th>day</th>\n      <th>month</th>\n      <th>duration</th>\n      <th>campaign</th>\n      <th>pdays</th>\n      <th>previous</th>\n      <th>poutcome</th>\n      <th>Target</th>\n    </tr>\n  </thead>\n  <tbody>\n    <tr>\n      <th>41524</th>\n      <td>82</td>\n      <td>unknown</td>\n      <td>divorced</td>\n      <td>unknown</td>\n      <td>no</td>\n      <td>0</td>\n      <td>no</td>\n      <td>no</td>\n      <td>telephone</td>\n      <td>9</td>\n      <td>sep</td>\n      <td>277</td>\n      <td>5</td>\n      <td>-1</td>\n      <td>0</td>\n      <td>unknown</td>\n      <td>no</td>\n    </tr>\n    <tr>\n      <th>32089</th>\n      <td>78</td>\n      <td>unknown</td>\n      <td>married</td>\n      <td>unknown</td>\n      <td>no</td>\n      <td>2235</td>\n      <td>no</td>\n      <td>no</td>\n      <td>telephone</td>\n      <td>14</td>\n      <td>apr</td>\n      <td>300</td>\n      <td>3</td>\n      <td>-1</td>\n      <td>0</td>\n      <td>unknown</td>\n      <td>yes</td>\n    </tr>\n    <tr>\n      <th>43653</th>\n      <td>77</td>\n      <td>unknown</td>\n      <td>married</td>\n      <td>unknown</td>\n      <td>no</td>\n      <td>397</td>\n      <td>no</td>\n      <td>no</td>\n      <td>telephone</td>\n      <td>7</td>\n      <td>may</td>\n      <td>300</td>\n      <td>3</td>\n      <td>-1</td>\n      <td>0</td>\n      <td>unknown</td>\n      <td>yes</td>\n    </tr>\n    <tr>\n      <th>45141</th>\n      <td>77</td>\n      <td>unknown</td>\n      <td>married</td>\n      <td>unknown</td>\n      <td>no</td>\n      <td>397</td>\n      <td>no</td>\n      <td>no</td>\n      <td>telephone</td>\n      <td>8</td>\n      <td>nov</td>\n      <td>207</td>\n      <td>1</td>\n      <td>185</td>\n      <td>3</td>\n      <td>success</td>\n      <td>no</td>\n    </tr>\n    <tr>\n      <th>41823</th>\n      <td>75</td>\n      <td>unknown</td>\n      <td>married</td>\n      <td>tertiary</td>\n      <td>no</td>\n      <td>643</td>\n      <td>no</td>\n      <td>no</td>\n      <td>cellular</td>\n      <td>15</td>\n      <td>oct</td>\n      <td>522</td>\n      <td>2</td>\n      <td>-1</td>\n      <td>0</td>\n      <td>unknown</td>\n      <td>no</td>\n    </tr>\n    <tr>\n      <th>...</th>\n      <td>...</td>\n      <td>...</td>\n      <td>...</td>\n      <td>...</td>\n      <td>...</td>\n      <td>...</td>\n      <td>...</td>\n      <td>...</td>\n      <td>...</td>\n      <td>...</td>\n      <td>...</td>\n      <td>...</td>\n      <td>...</td>\n      <td>...</td>\n      <td>...</td>\n      <td>...</td>\n      <td>...</td>\n    </tr>\n    <tr>\n      <th>31405</th>\n      <td>21</td>\n      <td>admin.</td>\n      <td>single</td>\n      <td>tertiary</td>\n      <td>no</td>\n      <td>242</td>\n      <td>no</td>\n      <td>yes</td>\n      <td>cellular</td>\n      <td>26</td>\n      <td>mar</td>\n      <td>131</td>\n      <td>4</td>\n      <td>-1</td>\n      <td>0</td>\n      <td>unknown</td>\n      <td>no</td>\n    </tr>\n    <tr>\n      <th>38479</th>\n      <td>21</td>\n      <td>admin.</td>\n      <td>single</td>\n      <td>secondary</td>\n      <td>no</td>\n      <td>66</td>\n      <td>yes</td>\n      <td>no</td>\n      <td>cellular</td>\n      <td>15</td>\n      <td>may</td>\n      <td>31</td>\n      <td>1</td>\n      <td>330</td>\n      <td>2</td>\n      <td>failure</td>\n      <td>no</td>\n    </tr>\n    <tr>\n      <th>39651</th>\n      <td>21</td>\n      <td>admin.</td>\n      <td>single</td>\n      <td>secondary</td>\n      <td>no</td>\n      <td>524</td>\n      <td>no</td>\n      <td>no</td>\n      <td>cellular</td>\n      <td>26</td>\n      <td>may</td>\n      <td>185</td>\n      <td>1</td>\n      <td>-1</td>\n      <td>0</td>\n      <td>unknown</td>\n      <td>yes</td>\n    </tr>\n    <tr>\n      <th>11517</th>\n      <td>20</td>\n      <td>admin.</td>\n      <td>single</td>\n      <td>secondary</td>\n      <td>no</td>\n      <td>66</td>\n      <td>yes</td>\n      <td>no</td>\n      <td>unknown</td>\n      <td>19</td>\n      <td>jun</td>\n      <td>75</td>\n      <td>2</td>\n      <td>-1</td>\n      <td>0</td>\n      <td>unknown</td>\n      <td>no</td>\n    </tr>\n    <tr>\n      <th>40121</th>\n      <td>20</td>\n      <td>admin.</td>\n      <td>single</td>\n      <td>secondary</td>\n      <td>no</td>\n      <td>336</td>\n      <td>no</td>\n      <td>yes</td>\n      <td>cellular</td>\n      <td>5</td>\n      <td>jun</td>\n      <td>133</td>\n      <td>1</td>\n      <td>-1</td>\n      <td>0</td>\n      <td>unknown</td>\n      <td>no</td>\n    </tr>\n  </tbody>\n</table>\n<p>45211 rows × 17 columns</p>\n</div>"
     },
     "execution_count": 47,
     "metadata": {},
     "output_type": "execute_result"
    }
   ],
   "source": [
    "bank.sort_values(by=['job','age'], ascending=False)"
   ],
   "metadata": {
    "collapsed": false,
    "ExecuteTime": {
     "end_time": "2023-09-15T07:38:22.228839Z",
     "start_time": "2023-09-15T07:38:22.200882Z"
    }
   },
   "id": "5acd89670dad869d"
  },
  {
   "cell_type": "code",
   "execution_count": 48,
   "outputs": [
    {
     "data": {
      "text/plain": "      Name  Age Sex\n0      Bob   12   M\n1    Alice   16   F\n2    Carol   13   M\n3    Henry   11   M\n4     Judy   14   F\n5   Robert   15   M\n6  William   24   F",
      "text/html": "<div>\n<style scoped>\n    .dataframe tbody tr th:only-of-type {\n        vertical-align: middle;\n    }\n\n    .dataframe tbody tr th {\n        vertical-align: top;\n    }\n\n    .dataframe thead th {\n        text-align: right;\n    }\n</style>\n<table border=\"1\" class=\"dataframe\">\n  <thead>\n    <tr style=\"text-align: right;\">\n      <th></th>\n      <th>Name</th>\n      <th>Age</th>\n      <th>Sex</th>\n    </tr>\n  </thead>\n  <tbody>\n    <tr>\n      <th>0</th>\n      <td>Bob</td>\n      <td>12</td>\n      <td>M</td>\n    </tr>\n    <tr>\n      <th>1</th>\n      <td>Alice</td>\n      <td>16</td>\n      <td>F</td>\n    </tr>\n    <tr>\n      <th>2</th>\n      <td>Carol</td>\n      <td>13</td>\n      <td>M</td>\n    </tr>\n    <tr>\n      <th>3</th>\n      <td>Henry</td>\n      <td>11</td>\n      <td>M</td>\n    </tr>\n    <tr>\n      <th>4</th>\n      <td>Judy</td>\n      <td>14</td>\n      <td>F</td>\n    </tr>\n    <tr>\n      <th>5</th>\n      <td>Robert</td>\n      <td>15</td>\n      <td>M</td>\n    </tr>\n    <tr>\n      <th>6</th>\n      <td>William</td>\n      <td>24</td>\n      <td>F</td>\n    </tr>\n  </tbody>\n</table>\n</div>"
     },
     "execution_count": 48,
     "metadata": {},
     "output_type": "execute_result"
    }
   ],
   "source": [
    "student = {'Name':['Bob','Alice','Carol','Henry','Judy','Robert','William'],\n",
    "           'Age':[12,16,13,11,14,15,24],\n",
    "           'Sex':['M','F','M','M','F','M','F']}\n",
    "score = {'Name':['Bob','Alice','Carol','Henry','William'],\n",
    "         'Score':[75,35,87,86,57]}\n",
    "\n",
    "df_student = pd.DataFrame(student)\n",
    "df_student"
   ],
   "metadata": {
    "collapsed": false,
    "ExecuteTime": {
     "end_time": "2023-09-15T07:39:43.264981Z",
     "start_time": "2023-09-15T07:39:43.234825Z"
    }
   },
   "id": "76d40fd599f3cf23"
  },
  {
   "cell_type": "code",
   "execution_count": 49,
   "outputs": [
    {
     "data": {
      "text/plain": "      Name  Score\n0      Bob     75\n1    Alice     35\n2    Carol     87\n3    Henry     86\n4  William     57",
      "text/html": "<div>\n<style scoped>\n    .dataframe tbody tr th:only-of-type {\n        vertical-align: middle;\n    }\n\n    .dataframe tbody tr th {\n        vertical-align: top;\n    }\n\n    .dataframe thead th {\n        text-align: right;\n    }\n</style>\n<table border=\"1\" class=\"dataframe\">\n  <thead>\n    <tr style=\"text-align: right;\">\n      <th></th>\n      <th>Name</th>\n      <th>Score</th>\n    </tr>\n  </thead>\n  <tbody>\n    <tr>\n      <th>0</th>\n      <td>Bob</td>\n      <td>75</td>\n    </tr>\n    <tr>\n      <th>1</th>\n      <td>Alice</td>\n      <td>35</td>\n    </tr>\n    <tr>\n      <th>2</th>\n      <td>Carol</td>\n      <td>87</td>\n    </tr>\n    <tr>\n      <th>3</th>\n      <td>Henry</td>\n      <td>86</td>\n    </tr>\n    <tr>\n      <th>4</th>\n      <td>William</td>\n      <td>57</td>\n    </tr>\n  </tbody>\n</table>\n</div>"
     },
     "execution_count": 49,
     "metadata": {},
     "output_type": "execute_result"
    }
   ],
   "source": [
    "df_score = pd.DataFrame(score)\n",
    "df_score"
   ],
   "metadata": {
    "collapsed": false,
    "ExecuteTime": {
     "end_time": "2023-09-15T07:39:51.052425Z",
     "start_time": "2023-09-15T07:39:51.026651Z"
    }
   },
   "id": "b1b5e2d4b76e8ce6"
  },
  {
   "cell_type": "code",
   "execution_count": 53,
   "outputs": [
    {
     "data": {
      "text/plain": "      Name  Age Sex  Score\n0      Bob   12   M     75\n1    Alice   16   F     35\n2    Carol   13   M     87\n3    Henry   11   M     86\n4  William   24   F     57",
      "text/html": "<div>\n<style scoped>\n    .dataframe tbody tr th:only-of-type {\n        vertical-align: middle;\n    }\n\n    .dataframe tbody tr th {\n        vertical-align: top;\n    }\n\n    .dataframe thead th {\n        text-align: right;\n    }\n</style>\n<table border=\"1\" class=\"dataframe\">\n  <thead>\n    <tr style=\"text-align: right;\">\n      <th></th>\n      <th>Name</th>\n      <th>Age</th>\n      <th>Sex</th>\n      <th>Score</th>\n    </tr>\n  </thead>\n  <tbody>\n    <tr>\n      <th>0</th>\n      <td>Bob</td>\n      <td>12</td>\n      <td>M</td>\n      <td>75</td>\n    </tr>\n    <tr>\n      <th>1</th>\n      <td>Alice</td>\n      <td>16</td>\n      <td>F</td>\n      <td>35</td>\n    </tr>\n    <tr>\n      <th>2</th>\n      <td>Carol</td>\n      <td>13</td>\n      <td>M</td>\n      <td>87</td>\n    </tr>\n    <tr>\n      <th>3</th>\n      <td>Henry</td>\n      <td>11</td>\n      <td>M</td>\n      <td>86</td>\n    </tr>\n    <tr>\n      <th>4</th>\n      <td>William</td>\n      <td>24</td>\n      <td>F</td>\n      <td>57</td>\n    </tr>\n  </tbody>\n</table>\n</div>"
     },
     "execution_count": 53,
     "metadata": {},
     "output_type": "execute_result"
    }
   ],
   "source": [
    "stu_score1 = pd.merge(df_student, df_score, on='Name')\n",
    "stu_score1"
   ],
   "metadata": {
    "collapsed": false,
    "ExecuteTime": {
     "end_time": "2023-09-15T07:41:55.349795Z",
     "start_time": "2023-09-15T07:41:55.340526Z"
    }
   },
   "id": "9d7c6e5a11fb1da5"
  },
  {
   "cell_type": "code",
   "execution_count": 79,
   "outputs": [
    {
     "data": {
      "text/plain": "      Name  Age Sex  Score\n0      Bob   12   M   75.0\n1    Alice   16   F   35.0\n2    Carol   13   M   87.0\n3    Henry   11   M   86.0\n4     Judy   14   F    NaN\n5   Robert   15   M    NaN\n6  William   24   F   57.0",
      "text/html": "<div>\n<style scoped>\n    .dataframe tbody tr th:only-of-type {\n        vertical-align: middle;\n    }\n\n    .dataframe tbody tr th {\n        vertical-align: top;\n    }\n\n    .dataframe thead th {\n        text-align: right;\n    }\n</style>\n<table border=\"1\" class=\"dataframe\">\n  <thead>\n    <tr style=\"text-align: right;\">\n      <th></th>\n      <th>Name</th>\n      <th>Age</th>\n      <th>Sex</th>\n      <th>Score</th>\n    </tr>\n  </thead>\n  <tbody>\n    <tr>\n      <th>0</th>\n      <td>Bob</td>\n      <td>12</td>\n      <td>M</td>\n      <td>75.0</td>\n    </tr>\n    <tr>\n      <th>1</th>\n      <td>Alice</td>\n      <td>16</td>\n      <td>F</td>\n      <td>35.0</td>\n    </tr>\n    <tr>\n      <th>2</th>\n      <td>Carol</td>\n      <td>13</td>\n      <td>M</td>\n      <td>87.0</td>\n    </tr>\n    <tr>\n      <th>3</th>\n      <td>Henry</td>\n      <td>11</td>\n      <td>M</td>\n      <td>86.0</td>\n    </tr>\n    <tr>\n      <th>4</th>\n      <td>Judy</td>\n      <td>14</td>\n      <td>F</td>\n      <td>NaN</td>\n    </tr>\n    <tr>\n      <th>5</th>\n      <td>Robert</td>\n      <td>15</td>\n      <td>M</td>\n      <td>NaN</td>\n    </tr>\n    <tr>\n      <th>6</th>\n      <td>William</td>\n      <td>24</td>\n      <td>F</td>\n      <td>57.0</td>\n    </tr>\n  </tbody>\n</table>\n</div>"
     },
     "execution_count": 79,
     "metadata": {},
     "output_type": "execute_result"
    }
   ],
   "source": [
    "stu_score2 = pd.merge(df_student, df_score, on='Name', how='left')\n",
    "stu_score2"
   ],
   "metadata": {
    "collapsed": false,
    "ExecuteTime": {
     "end_time": "2023-09-15T07:57:45.046752Z",
     "start_time": "2023-09-15T07:57:45.018590Z"
    }
   },
   "id": "f7f9213670a9e6e1"
  },
  {
   "cell_type": "code",
   "execution_count": 77,
   "outputs": [
    {
     "data": {
      "text/plain": "2"
     },
     "execution_count": 77,
     "metadata": {},
     "output_type": "execute_result"
    }
   ],
   "source": [
    "sum(pd.isnull(stu_score2['Score']))"
   ],
   "metadata": {
    "collapsed": false,
    "ExecuteTime": {
     "end_time": "2023-09-15T07:56:37.213014Z",
     "start_time": "2023-09-15T07:56:37.204476Z"
    }
   },
   "id": "a95ef6f6494ab6df"
  },
  {
   "cell_type": "code",
   "execution_count": 57,
   "outputs": [
    {
     "data": {
      "text/plain": "      Name  Age Sex  Score\n0      Bob   12   M   75.0\n1    Alice   16   F   35.0\n2    Carol   13   M   87.0\n3    Henry   11   M   86.0\n6  William   24   F   57.0",
      "text/html": "<div>\n<style scoped>\n    .dataframe tbody tr th:only-of-type {\n        vertical-align: middle;\n    }\n\n    .dataframe tbody tr th {\n        vertical-align: top;\n    }\n\n    .dataframe thead th {\n        text-align: right;\n    }\n</style>\n<table border=\"1\" class=\"dataframe\">\n  <thead>\n    <tr style=\"text-align: right;\">\n      <th></th>\n      <th>Name</th>\n      <th>Age</th>\n      <th>Sex</th>\n      <th>Score</th>\n    </tr>\n  </thead>\n  <tbody>\n    <tr>\n      <th>0</th>\n      <td>Bob</td>\n      <td>12</td>\n      <td>M</td>\n      <td>75.0</td>\n    </tr>\n    <tr>\n      <th>1</th>\n      <td>Alice</td>\n      <td>16</td>\n      <td>F</td>\n      <td>35.0</td>\n    </tr>\n    <tr>\n      <th>2</th>\n      <td>Carol</td>\n      <td>13</td>\n      <td>M</td>\n      <td>87.0</td>\n    </tr>\n    <tr>\n      <th>3</th>\n      <td>Henry</td>\n      <td>11</td>\n      <td>M</td>\n      <td>86.0</td>\n    </tr>\n    <tr>\n      <th>6</th>\n      <td>William</td>\n      <td>24</td>\n      <td>F</td>\n      <td>57.0</td>\n    </tr>\n  </tbody>\n</table>\n</div>"
     },
     "execution_count": 57,
     "metadata": {},
     "output_type": "execute_result"
    }
   ],
   "source": [
    "stu_score2.dropna()"
   ],
   "metadata": {
    "collapsed": false,
    "ExecuteTime": {
     "end_time": "2023-09-15T07:44:06.711295Z",
     "start_time": "2023-09-15T07:44:06.696113Z"
    }
   },
   "id": "18a487fa135697af"
  },
  {
   "cell_type": "code",
   "execution_count": 61,
   "outputs": [
    {
     "data": {
      "text/plain": "     a1    a2    a3\n0   1.0   2.0   3.0\n1   3.0   4.0   NaN\n2  12.0  23.0  43.0\n3  55.0   NaN  10.0\n4   NaN   NaN   NaN\n5   NaN   1.0   2.0",
      "text/html": "<div>\n<style scoped>\n    .dataframe tbody tr th:only-of-type {\n        vertical-align: middle;\n    }\n\n    .dataframe tbody tr th {\n        vertical-align: top;\n    }\n\n    .dataframe thead th {\n        text-align: right;\n    }\n</style>\n<table border=\"1\" class=\"dataframe\">\n  <thead>\n    <tr style=\"text-align: right;\">\n      <th></th>\n      <th>a1</th>\n      <th>a2</th>\n      <th>a3</th>\n    </tr>\n  </thead>\n  <tbody>\n    <tr>\n      <th>0</th>\n      <td>1.0</td>\n      <td>2.0</td>\n      <td>3.0</td>\n    </tr>\n    <tr>\n      <th>1</th>\n      <td>3.0</td>\n      <td>4.0</td>\n      <td>NaN</td>\n    </tr>\n    <tr>\n      <th>2</th>\n      <td>12.0</td>\n      <td>23.0</td>\n      <td>43.0</td>\n    </tr>\n    <tr>\n      <th>3</th>\n      <td>55.0</td>\n      <td>NaN</td>\n      <td>10.0</td>\n    </tr>\n    <tr>\n      <th>4</th>\n      <td>NaN</td>\n      <td>NaN</td>\n      <td>NaN</td>\n    </tr>\n    <tr>\n      <th>5</th>\n      <td>NaN</td>\n      <td>1.0</td>\n      <td>2.0</td>\n    </tr>\n  </tbody>\n</table>\n</div>"
     },
     "execution_count": 61,
     "metadata": {},
     "output_type": "execute_result"
    }
   ],
   "source": [
    "df = pd.DataFrame([[1,2,3],[3,4,np.nan],\n",
    "                  [12,23,43],[55,np.nan,10],\n",
    "                  [np.nan,np.nan,np.nan],[np.nan,1,2]],\n",
    "                  columns=['a1','a2','a3'])\n",
    "df"
   ],
   "metadata": {
    "collapsed": false,
    "ExecuteTime": {
     "end_time": "2023-09-15T07:44:49.219685Z",
     "start_time": "2023-09-15T07:44:49.211664Z"
    }
   },
   "id": "aff12a522e19ab20"
  },
  {
   "cell_type": "code",
   "execution_count": 60,
   "outputs": [
    {
     "data": {
      "text/plain": "     a1    a2    a3\n0   1.0   2.0   3.0\n2  12.0  23.0  43.0",
      "text/html": "<div>\n<style scoped>\n    .dataframe tbody tr th:only-of-type {\n        vertical-align: middle;\n    }\n\n    .dataframe tbody tr th {\n        vertical-align: top;\n    }\n\n    .dataframe thead th {\n        text-align: right;\n    }\n</style>\n<table border=\"1\" class=\"dataframe\">\n  <thead>\n    <tr style=\"text-align: right;\">\n      <th></th>\n      <th>a1</th>\n      <th>a2</th>\n      <th>a3</th>\n    </tr>\n  </thead>\n  <tbody>\n    <tr>\n      <th>0</th>\n      <td>1.0</td>\n      <td>2.0</td>\n      <td>3.0</td>\n    </tr>\n    <tr>\n      <th>2</th>\n      <td>12.0</td>\n      <td>23.0</td>\n      <td>43.0</td>\n    </tr>\n  </tbody>\n</table>\n</div>"
     },
     "execution_count": 60,
     "metadata": {},
     "output_type": "execute_result"
    }
   ],
   "source": [
    "df.dropna()"
   ],
   "metadata": {
    "collapsed": false,
    "ExecuteTime": {
     "end_time": "2023-09-15T07:44:45.817531Z",
     "start_time": "2023-09-15T07:44:45.796914Z"
    }
   },
   "id": "16aca41282dd3fa5"
  },
  {
   "cell_type": "code",
   "execution_count": 62,
   "outputs": [
    {
     "data": {
      "text/plain": "     a1    a2    a3\n0   1.0   2.0   3.0\n1   3.0   4.0   NaN\n2  12.0  23.0  43.0\n3  55.0   NaN  10.0\n5   NaN   1.0   2.0",
      "text/html": "<div>\n<style scoped>\n    .dataframe tbody tr th:only-of-type {\n        vertical-align: middle;\n    }\n\n    .dataframe tbody tr th {\n        vertical-align: top;\n    }\n\n    .dataframe thead th {\n        text-align: right;\n    }\n</style>\n<table border=\"1\" class=\"dataframe\">\n  <thead>\n    <tr style=\"text-align: right;\">\n      <th></th>\n      <th>a1</th>\n      <th>a2</th>\n      <th>a3</th>\n    </tr>\n  </thead>\n  <tbody>\n    <tr>\n      <th>0</th>\n      <td>1.0</td>\n      <td>2.0</td>\n      <td>3.0</td>\n    </tr>\n    <tr>\n      <th>1</th>\n      <td>3.0</td>\n      <td>4.0</td>\n      <td>NaN</td>\n    </tr>\n    <tr>\n      <th>2</th>\n      <td>12.0</td>\n      <td>23.0</td>\n      <td>43.0</td>\n    </tr>\n    <tr>\n      <th>3</th>\n      <td>55.0</td>\n      <td>NaN</td>\n      <td>10.0</td>\n    </tr>\n    <tr>\n      <th>5</th>\n      <td>NaN</td>\n      <td>1.0</td>\n      <td>2.0</td>\n    </tr>\n  </tbody>\n</table>\n</div>"
     },
     "execution_count": 62,
     "metadata": {},
     "output_type": "execute_result"
    }
   ],
   "source": [
    "df.dropna(how='all')    "
   ],
   "metadata": {
    "collapsed": false,
    "ExecuteTime": {
     "end_time": "2023-09-15T07:44:55.178973Z",
     "start_time": "2023-09-15T07:44:55.142651Z"
    }
   },
   "id": "6d5601637863506e"
  },
  {
   "cell_type": "code",
   "execution_count": 63,
   "outputs": [
    {
     "data": {
      "text/plain": "     a1    a2    a3\n0   1.0   2.0   3.0\n1   3.0   4.0   0.0\n2  12.0  23.0  43.0\n3  55.0   0.0  10.0\n4   0.0   0.0   0.0\n5   0.0   1.0   2.0",
      "text/html": "<div>\n<style scoped>\n    .dataframe tbody tr th:only-of-type {\n        vertical-align: middle;\n    }\n\n    .dataframe tbody tr th {\n        vertical-align: top;\n    }\n\n    .dataframe thead th {\n        text-align: right;\n    }\n</style>\n<table border=\"1\" class=\"dataframe\">\n  <thead>\n    <tr style=\"text-align: right;\">\n      <th></th>\n      <th>a1</th>\n      <th>a2</th>\n      <th>a3</th>\n    </tr>\n  </thead>\n  <tbody>\n    <tr>\n      <th>0</th>\n      <td>1.0</td>\n      <td>2.0</td>\n      <td>3.0</td>\n    </tr>\n    <tr>\n      <th>1</th>\n      <td>3.0</td>\n      <td>4.0</td>\n      <td>0.0</td>\n    </tr>\n    <tr>\n      <th>2</th>\n      <td>12.0</td>\n      <td>23.0</td>\n      <td>43.0</td>\n    </tr>\n    <tr>\n      <th>3</th>\n      <td>55.0</td>\n      <td>0.0</td>\n      <td>10.0</td>\n    </tr>\n    <tr>\n      <th>4</th>\n      <td>0.0</td>\n      <td>0.0</td>\n      <td>0.0</td>\n    </tr>\n    <tr>\n      <th>5</th>\n      <td>0.0</td>\n      <td>1.0</td>\n      <td>2.0</td>\n    </tr>\n  </tbody>\n</table>\n</div>"
     },
     "execution_count": 63,
     "metadata": {},
     "output_type": "execute_result"
    }
   ],
   "source": [
    "df.fillna(0)"
   ],
   "metadata": {
    "collapsed": false,
    "ExecuteTime": {
     "end_time": "2023-09-15T07:45:10.990104Z",
     "start_time": "2023-09-15T07:45:10.867470Z"
    }
   },
   "id": "e6d3e9e0973ccf72"
  },
  {
   "cell_type": "code",
   "execution_count": 64,
   "outputs": [
    {
     "data": {
      "text/plain": "     a1    a2    a3\n0   1.0   2.0   3.0\n1   3.0   4.0   3.0\n2  12.0  23.0  43.0\n3  55.0  23.0  10.0\n4  55.0  23.0  10.0\n5  55.0   1.0   2.0",
      "text/html": "<div>\n<style scoped>\n    .dataframe tbody tr th:only-of-type {\n        vertical-align: middle;\n    }\n\n    .dataframe tbody tr th {\n        vertical-align: top;\n    }\n\n    .dataframe thead th {\n        text-align: right;\n    }\n</style>\n<table border=\"1\" class=\"dataframe\">\n  <thead>\n    <tr style=\"text-align: right;\">\n      <th></th>\n      <th>a1</th>\n      <th>a2</th>\n      <th>a3</th>\n    </tr>\n  </thead>\n  <tbody>\n    <tr>\n      <th>0</th>\n      <td>1.0</td>\n      <td>2.0</td>\n      <td>3.0</td>\n    </tr>\n    <tr>\n      <th>1</th>\n      <td>3.0</td>\n      <td>4.0</td>\n      <td>3.0</td>\n    </tr>\n    <tr>\n      <th>2</th>\n      <td>12.0</td>\n      <td>23.0</td>\n      <td>43.0</td>\n    </tr>\n    <tr>\n      <th>3</th>\n      <td>55.0</td>\n      <td>23.0</td>\n      <td>10.0</td>\n    </tr>\n    <tr>\n      <th>4</th>\n      <td>55.0</td>\n      <td>23.0</td>\n      <td>10.0</td>\n    </tr>\n    <tr>\n      <th>5</th>\n      <td>55.0</td>\n      <td>1.0</td>\n      <td>2.0</td>\n    </tr>\n  </tbody>\n</table>\n</div>"
     },
     "execution_count": 64,
     "metadata": {},
     "output_type": "execute_result"
    }
   ],
   "source": [
    "df.fillna(method='ffill')"
   ],
   "metadata": {
    "collapsed": false,
    "ExecuteTime": {
     "end_time": "2023-09-15T07:45:24.233099Z",
     "start_time": "2023-09-15T07:45:24.212009Z"
    }
   },
   "id": "ec1eaab96d70f687"
  },
  {
   "cell_type": "code",
   "execution_count": 65,
   "outputs": [
    {
     "data": {
      "text/plain": "     a1    a2    a3\n0   1.0   2.0   3.0\n1   3.0   4.0  43.0\n2  12.0  23.0  43.0\n3  55.0   1.0  10.0\n4   NaN   1.0   2.0\n5   NaN   1.0   2.0",
      "text/html": "<div>\n<style scoped>\n    .dataframe tbody tr th:only-of-type {\n        vertical-align: middle;\n    }\n\n    .dataframe tbody tr th {\n        vertical-align: top;\n    }\n\n    .dataframe thead th {\n        text-align: right;\n    }\n</style>\n<table border=\"1\" class=\"dataframe\">\n  <thead>\n    <tr style=\"text-align: right;\">\n      <th></th>\n      <th>a1</th>\n      <th>a2</th>\n      <th>a3</th>\n    </tr>\n  </thead>\n  <tbody>\n    <tr>\n      <th>0</th>\n      <td>1.0</td>\n      <td>2.0</td>\n      <td>3.0</td>\n    </tr>\n    <tr>\n      <th>1</th>\n      <td>3.0</td>\n      <td>4.0</td>\n      <td>43.0</td>\n    </tr>\n    <tr>\n      <th>2</th>\n      <td>12.0</td>\n      <td>23.0</td>\n      <td>43.0</td>\n    </tr>\n    <tr>\n      <th>3</th>\n      <td>55.0</td>\n      <td>1.0</td>\n      <td>10.0</td>\n    </tr>\n    <tr>\n      <th>4</th>\n      <td>NaN</td>\n      <td>1.0</td>\n      <td>2.0</td>\n    </tr>\n    <tr>\n      <th>5</th>\n      <td>NaN</td>\n      <td>1.0</td>\n      <td>2.0</td>\n    </tr>\n  </tbody>\n</table>\n</div>"
     },
     "execution_count": 65,
     "metadata": {},
     "output_type": "execute_result"
    }
   ],
   "source": [
    "df.fillna(method='bfill')"
   ],
   "metadata": {
    "collapsed": false,
    "ExecuteTime": {
     "end_time": "2023-09-15T07:45:35.020169Z",
     "start_time": "2023-09-15T07:45:34.985197Z"
    }
   },
   "id": "e387b833fb02cb93"
  },
  {
   "cell_type": "code",
   "execution_count": 68,
   "outputs": [
    {
     "data": {
      "text/plain": "      a1     a2     a3\n0    1.0    2.0    3.0\n1    3.0    4.0  300.0\n2   12.0   23.0   43.0\n3   55.0  200.0   10.0\n4  100.0  200.0  300.0\n5  100.0    1.0    2.0",
      "text/html": "<div>\n<style scoped>\n    .dataframe tbody tr th:only-of-type {\n        vertical-align: middle;\n    }\n\n    .dataframe tbody tr th {\n        vertical-align: top;\n    }\n\n    .dataframe thead th {\n        text-align: right;\n    }\n</style>\n<table border=\"1\" class=\"dataframe\">\n  <thead>\n    <tr style=\"text-align: right;\">\n      <th></th>\n      <th>a1</th>\n      <th>a2</th>\n      <th>a3</th>\n    </tr>\n  </thead>\n  <tbody>\n    <tr>\n      <th>0</th>\n      <td>1.0</td>\n      <td>2.0</td>\n      <td>3.0</td>\n    </tr>\n    <tr>\n      <th>1</th>\n      <td>3.0</td>\n      <td>4.0</td>\n      <td>300.0</td>\n    </tr>\n    <tr>\n      <th>2</th>\n      <td>12.0</td>\n      <td>23.0</td>\n      <td>43.0</td>\n    </tr>\n    <tr>\n      <th>3</th>\n      <td>55.0</td>\n      <td>200.0</td>\n      <td>10.0</td>\n    </tr>\n    <tr>\n      <th>4</th>\n      <td>100.0</td>\n      <td>200.0</td>\n      <td>300.0</td>\n    </tr>\n    <tr>\n      <th>5</th>\n      <td>100.0</td>\n      <td>1.0</td>\n      <td>2.0</td>\n    </tr>\n  </tbody>\n</table>\n</div>"
     },
     "execution_count": 68,
     "metadata": {},
     "output_type": "execute_result"
    }
   ],
   "source": [
    "df.fillna({'a1':100, 'a2':200, 'a3':300})"
   ],
   "metadata": {
    "collapsed": false,
    "ExecuteTime": {
     "end_time": "2023-09-15T07:46:20.269828Z",
     "start_time": "2023-09-15T07:46:20.258725Z"
    }
   },
   "id": "7528b544d7502ca8"
  },
  {
   "cell_type": "code",
   "execution_count": 71,
   "outputs": [
    {
     "data": {
      "text/plain": "7.5"
     },
     "execution_count": 71,
     "metadata": {},
     "output_type": "execute_result"
    }
   ],
   "source": [
    "a1_median = df['a1'].median()\n",
    "a1_median"
   ],
   "metadata": {
    "collapsed": false,
    "ExecuteTime": {
     "end_time": "2023-09-15T07:47:01.845080Z",
     "start_time": "2023-09-15T07:47:01.826292Z"
    }
   },
   "id": "6373f54247f3db8"
  },
  {
   "cell_type": "code",
   "execution_count": 72,
   "outputs": [
    {
     "data": {
      "text/plain": "7.5"
     },
     "execution_count": 72,
     "metadata": {},
     "output_type": "execute_result"
    }
   ],
   "source": [
    "a2_mean = df['a2'].mean()\n",
    "a2_mean"
   ],
   "metadata": {
    "collapsed": false,
    "ExecuteTime": {
     "end_time": "2023-09-15T07:47:09.946133Z",
     "start_time": "2023-09-15T07:47:09.925849Z"
    }
   },
   "id": "8b91d5a5e2538446"
  },
  {
   "cell_type": "code",
   "execution_count": 73,
   "outputs": [
    {
     "data": {
      "text/plain": "14.5"
     },
     "execution_count": 73,
     "metadata": {},
     "output_type": "execute_result"
    }
   ],
   "source": [
    "a3_mean = df['a3'].mean()\n",
    "a3_mean"
   ],
   "metadata": {
    "collapsed": false,
    "ExecuteTime": {
     "end_time": "2023-09-15T07:47:20.357700Z",
     "start_time": "2023-09-15T07:47:20.347345Z"
    }
   },
   "id": "69d72de8235c6414"
  },
  {
   "cell_type": "code",
   "execution_count": 74,
   "outputs": [
    {
     "data": {
      "text/plain": "     a1    a2    a3\n0   1.0   2.0   3.0\n1   3.0   4.0  14.5\n2  12.0  23.0  43.0\n3  55.0   7.5  10.0\n4   7.5   7.5  14.5\n5   7.5   1.0   2.0",
      "text/html": "<div>\n<style scoped>\n    .dataframe tbody tr th:only-of-type {\n        vertical-align: middle;\n    }\n\n    .dataframe tbody tr th {\n        vertical-align: top;\n    }\n\n    .dataframe thead th {\n        text-align: right;\n    }\n</style>\n<table border=\"1\" class=\"dataframe\">\n  <thead>\n    <tr style=\"text-align: right;\">\n      <th></th>\n      <th>a1</th>\n      <th>a2</th>\n      <th>a3</th>\n    </tr>\n  </thead>\n  <tbody>\n    <tr>\n      <th>0</th>\n      <td>1.0</td>\n      <td>2.0</td>\n      <td>3.0</td>\n    </tr>\n    <tr>\n      <th>1</th>\n      <td>3.0</td>\n      <td>4.0</td>\n      <td>14.5</td>\n    </tr>\n    <tr>\n      <th>2</th>\n      <td>12.0</td>\n      <td>23.0</td>\n      <td>43.0</td>\n    </tr>\n    <tr>\n      <th>3</th>\n      <td>55.0</td>\n      <td>7.5</td>\n      <td>10.0</td>\n    </tr>\n    <tr>\n      <th>4</th>\n      <td>7.5</td>\n      <td>7.5</td>\n      <td>14.5</td>\n    </tr>\n    <tr>\n      <th>5</th>\n      <td>7.5</td>\n      <td>1.0</td>\n      <td>2.0</td>\n    </tr>\n  </tbody>\n</table>\n</div>"
     },
     "execution_count": 74,
     "metadata": {},
     "output_type": "execute_result"
    }
   ],
   "source": [
    "df.fillna({'a1':a1_median, 'a2':a2_mean, 'a3':a3_mean})"
   ],
   "metadata": {
    "collapsed": false,
    "ExecuteTime": {
     "end_time": "2023-09-15T07:47:25.775668Z",
     "start_time": "2023-09-15T07:47:25.618624Z"
    }
   },
   "id": "90f41b9512586826"
  },
  {
   "cell_type": "code",
   "execution_count": 74,
   "outputs": [],
   "source": [],
   "metadata": {
    "collapsed": false,
    "ExecuteTime": {
     "end_time": "2023-09-15T07:47:44.163995Z",
     "start_time": "2023-09-15T07:47:44.140038Z"
    }
   },
   "id": "8995a83bc2a7c31e"
  },
  {
   "cell_type": "code",
   "execution_count": 74,
   "outputs": [],
   "source": [],
   "metadata": {
    "collapsed": false,
    "ExecuteTime": {
     "end_time": "2023-09-15T07:47:44.539069Z",
     "start_time": "2023-09-15T07:47:44.496942Z"
    }
   },
   "id": "e1635bcdfb7e3a3a"
  },
  {
   "cell_type": "code",
   "execution_count": 74,
   "outputs": [],
   "source": [],
   "metadata": {
    "collapsed": false,
    "ExecuteTime": {
     "end_time": "2023-09-15T07:47:44.951596Z",
     "start_time": "2023-09-15T07:47:44.921317Z"
    }
   },
   "id": "ade7d685e3458026"
  },
  {
   "cell_type": "code",
   "execution_count": 81,
   "outputs": [
    {
     "data": {
      "text/plain": "     Значение\n0    6.991734\n1   11.570638\n2   12.464552\n3    9.553774\n4    9.863889\n..        ...\n95   8.395428\n96   9.935206\n97   6.684425\n98   6.832161\n99  13.064067\n\n[100 rows x 1 columns]",
      "text/html": "<div>\n<style scoped>\n    .dataframe tbody tr th:only-of-type {\n        vertical-align: middle;\n    }\n\n    .dataframe tbody tr th {\n        vertical-align: top;\n    }\n\n    .dataframe thead th {\n        text-align: right;\n    }\n</style>\n<table border=\"1\" class=\"dataframe\">\n  <thead>\n    <tr style=\"text-align: right;\">\n      <th></th>\n      <th>Значение</th>\n    </tr>\n  </thead>\n  <tbody>\n    <tr>\n      <th>0</th>\n      <td>6.991734</td>\n    </tr>\n    <tr>\n      <th>1</th>\n      <td>11.570638</td>\n    </tr>\n    <tr>\n      <th>2</th>\n      <td>12.464552</td>\n    </tr>\n    <tr>\n      <th>3</th>\n      <td>9.553774</td>\n    </tr>\n    <tr>\n      <th>4</th>\n      <td>9.863889</td>\n    </tr>\n    <tr>\n      <th>...</th>\n      <td>...</td>\n    </tr>\n    <tr>\n      <th>95</th>\n      <td>8.395428</td>\n    </tr>\n    <tr>\n      <th>96</th>\n      <td>9.935206</td>\n    </tr>\n    <tr>\n      <th>97</th>\n      <td>6.684425</td>\n    </tr>\n    <tr>\n      <th>98</th>\n      <td>6.832161</td>\n    </tr>\n    <tr>\n      <th>99</th>\n      <td>13.064067</td>\n    </tr>\n  </tbody>\n</table>\n<p>100 rows × 1 columns</p>\n</div>"
     },
     "execution_count": 81,
     "metadata": {},
     "output_type": "execute_result"
    }
   ],
   "source": [
    "mean = 10\n",
    "std = 3\n",
    "size = 100\n",
    "data = np.random.normal(mean, std, size)\n",
    "df = pd.DataFrame({'Значение':data})\n",
    "df"
   ],
   "metadata": {
    "collapsed": false,
    "ExecuteTime": {
     "end_time": "2023-09-15T08:00:37.850330Z",
     "start_time": "2023-09-15T08:00:37.832557Z"
    }
   },
   "id": "603d5f8512c631b5"
  },
  {
   "cell_type": "code",
   "execution_count": 82,
   "outputs": [
    {
     "data": {
      "text/plain": "Значение    10.245824\ndtype: float64"
     },
     "execution_count": 82,
     "metadata": {},
     "output_type": "execute_result"
    }
   ],
   "source": [
    "df.mean()"
   ],
   "metadata": {
    "collapsed": false,
    "ExecuteTime": {
     "end_time": "2023-09-15T08:03:54.173419Z",
     "start_time": "2023-09-15T08:03:54.147827Z"
    }
   },
   "id": "a7dcc803178e93ee"
  },
  {
   "cell_type": "code",
   "execution_count": 86,
   "outputs": [
    {
     "data": {
      "text/plain": "Значение    10.015091\ndtype: float64"
     },
     "execution_count": 86,
     "metadata": {},
     "output_type": "execute_result"
    }
   ],
   "source": [
    "df.median()"
   ],
   "metadata": {
    "collapsed": false,
    "ExecuteTime": {
     "end_time": "2023-09-15T08:04:32.003921Z",
     "start_time": "2023-09-15T08:04:31.994215Z"
    }
   },
   "id": "2625755644202961"
  },
  {
   "cell_type": "code",
   "execution_count": 84,
   "outputs": [
    {
     "data": {
      "text/plain": "Значение    4.827849\ndtype: float64"
     },
     "execution_count": 84,
     "metadata": {},
     "output_type": "execute_result"
    }
   ],
   "source": [
    "df.min()"
   ],
   "metadata": {
    "collapsed": false,
    "ExecuteTime": {
     "end_time": "2023-09-15T08:04:13.489388Z",
     "start_time": "2023-09-15T08:04:13.409830Z"
    }
   },
   "id": "5c97d3163e2b676b"
  },
  {
   "cell_type": "code",
   "execution_count": 87,
   "outputs": [
    {
     "data": {
      "text/plain": "Значение    16.312232\ndtype: float64"
     },
     "execution_count": 87,
     "metadata": {},
     "output_type": "execute_result"
    }
   ],
   "source": [
    "df.max()"
   ],
   "metadata": {
    "collapsed": false,
    "ExecuteTime": {
     "end_time": "2023-09-15T08:04:38.315959Z",
     "start_time": "2023-09-15T08:04:38.283485Z"
    }
   },
   "id": "b3ff0fc3f791b9fd"
  },
  {
   "cell_type": "code",
   "execution_count": 88,
   "outputs": [
    {
     "data": {
      "text/plain": "Значение    2.812994\ndtype: float64"
     },
     "execution_count": 88,
     "metadata": {},
     "output_type": "execute_result"
    }
   ],
   "source": [
    "df.std()"
   ],
   "metadata": {
    "collapsed": false,
    "ExecuteTime": {
     "end_time": "2023-09-15T08:04:42.019634Z",
     "start_time": "2023-09-15T08:04:41.981060Z"
    }
   },
   "id": "8e3a4544bf61b09b"
  },
  {
   "cell_type": "code",
   "execution_count": 89,
   "outputs": [
    {
     "data": {
      "text/plain": "Значение    8.127041\nName: 0.25, dtype: float64"
     },
     "execution_count": 89,
     "metadata": {},
     "output_type": "execute_result"
    }
   ],
   "source": [
    "df.quantile(0.25)"
   ],
   "metadata": {
    "collapsed": false,
    "ExecuteTime": {
     "end_time": "2023-09-15T08:04:49.549101Z",
     "start_time": "2023-09-15T08:04:49.510468Z"
    }
   },
   "id": "3e543548504595da"
  },
  {
   "cell_type": "code",
   "execution_count": 91,
   "outputs": [
    {
     "data": {
      "text/plain": "Значение    10.015091\nName: 0.5, dtype: float64"
     },
     "execution_count": 91,
     "metadata": {},
     "output_type": "execute_result"
    }
   ],
   "source": [
    "df.quantile(0.5)"
   ],
   "metadata": {
    "collapsed": false,
    "ExecuteTime": {
     "end_time": "2023-09-15T08:04:56.726268Z",
     "start_time": "2023-09-15T08:04:56.714774Z"
    }
   },
   "id": "247b36a0c6f84406"
  },
  {
   "cell_type": "code",
   "execution_count": 92,
   "outputs": [
    {
     "data": {
      "text/plain": "Значение    12.35164\nName: 0.75, dtype: float64"
     },
     "execution_count": 92,
     "metadata": {},
     "output_type": "execute_result"
    }
   ],
   "source": [
    "df.quantile(0.75)"
   ],
   "metadata": {
    "collapsed": false,
    "ExecuteTime": {
     "end_time": "2023-09-15T08:05:06.515897Z",
     "start_time": "2023-09-15T08:05:06.479867Z"
    }
   },
   "id": "930902435f232daf"
  },
  {
   "cell_type": "code",
   "execution_count": 93,
   "outputs": [
    {
     "data": {
      "text/plain": "         Значение\ncount  100.000000\nmean    10.245824\nstd      2.812994\nmin      4.827849\n25%      8.127041\n50%     10.015091\n75%     12.351640\nmax     16.312232",
      "text/html": "<div>\n<style scoped>\n    .dataframe tbody tr th:only-of-type {\n        vertical-align: middle;\n    }\n\n    .dataframe tbody tr th {\n        vertical-align: top;\n    }\n\n    .dataframe thead th {\n        text-align: right;\n    }\n</style>\n<table border=\"1\" class=\"dataframe\">\n  <thead>\n    <tr style=\"text-align: right;\">\n      <th></th>\n      <th>Значение</th>\n    </tr>\n  </thead>\n  <tbody>\n    <tr>\n      <th>count</th>\n      <td>100.000000</td>\n    </tr>\n    <tr>\n      <th>mean</th>\n      <td>10.245824</td>\n    </tr>\n    <tr>\n      <th>std</th>\n      <td>2.812994</td>\n    </tr>\n    <tr>\n      <th>min</th>\n      <td>4.827849</td>\n    </tr>\n    <tr>\n      <th>25%</th>\n      <td>8.127041</td>\n    </tr>\n    <tr>\n      <th>50%</th>\n      <td>10.015091</td>\n    </tr>\n    <tr>\n      <th>75%</th>\n      <td>12.351640</td>\n    </tr>\n    <tr>\n      <th>max</th>\n      <td>16.312232</td>\n    </tr>\n  </tbody>\n</table>\n</div>"
     },
     "execution_count": 93,
     "metadata": {},
     "output_type": "execute_result"
    }
   ],
   "source": [
    "df.describe()"
   ],
   "metadata": {
    "collapsed": false,
    "ExecuteTime": {
     "end_time": "2023-09-15T08:05:10.938513Z",
     "start_time": "2023-09-15T08:05:10.898339Z"
    }
   },
   "id": "603febce8508a596"
  },
  {
   "cell_type": "code",
   "execution_count": 94,
   "outputs": [
    {
     "data": {
      "text/plain": "Значение    28\ndtype: int64"
     },
     "execution_count": 94,
     "metadata": {},
     "output_type": "execute_result"
    }
   ],
   "source": [
    "df.idxmax()"
   ],
   "metadata": {
    "collapsed": false,
    "ExecuteTime": {
     "end_time": "2023-09-15T08:05:25.663684Z",
     "start_time": "2023-09-15T08:05:25.606726Z"
    }
   },
   "id": "dc9337dae4a49fc4"
  },
  {
   "cell_type": "code",
   "execution_count": 95,
   "outputs": [
    {
     "data": {
      "text/plain": "Значение    57\ndtype: int64"
     },
     "execution_count": 95,
     "metadata": {},
     "output_type": "execute_result"
    }
   ],
   "source": [
    "df.idxmin()"
   ],
   "metadata": {
    "collapsed": false,
    "ExecuteTime": {
     "end_time": "2023-09-15T08:05:27.544047Z",
     "start_time": "2023-09-15T08:05:27.501742Z"
    }
   },
   "id": "1d7400b7da5648d8"
  },
  {
   "cell_type": "code",
   "execution_count": 96,
   "outputs": [
    {
     "data": {
      "text/plain": "Значение    0.167144\ndtype: float64"
     },
     "execution_count": 96,
     "metadata": {},
     "output_type": "execute_result"
    }
   ],
   "source": [
    "df.skew()"
   ],
   "metadata": {
    "collapsed": false,
    "ExecuteTime": {
     "end_time": "2023-09-15T08:05:34.350032Z",
     "start_time": "2023-09-15T08:05:34.308159Z"
    }
   },
   "id": "462f26d3a133fdf4"
  },
  {
   "cell_type": "code",
   "execution_count": 97,
   "outputs": [
    {
     "data": {
      "text/plain": "Значение   -0.848847\ndtype: float64"
     },
     "execution_count": 97,
     "metadata": {},
     "output_type": "execute_result"
    }
   ],
   "source": [
    "df.kurt()"
   ],
   "metadata": {
    "collapsed": false,
    "ExecuteTime": {
     "end_time": "2023-09-15T08:05:36.658491Z",
     "start_time": "2023-09-15T08:05:36.561658Z"
    }
   },
   "id": "750161e64665a8b6"
  },
  {
   "cell_type": "code",
   "execution_count": 102,
   "outputs": [
    {
     "data": {
      "text/plain": "   Student_ID     Name\n0         101    Alice\n1         102      Bob\n2         103  Charlie\n3         104    David\n4         105      Eve\n5         106    Frank\n6         107    Grace\n7         108   Hannah\n8         109    Isaac\n9         110     Jack",
      "text/html": "<div>\n<style scoped>\n    .dataframe tbody tr th:only-of-type {\n        vertical-align: middle;\n    }\n\n    .dataframe tbody tr th {\n        vertical-align: top;\n    }\n\n    .dataframe thead th {\n        text-align: right;\n    }\n</style>\n<table border=\"1\" class=\"dataframe\">\n  <thead>\n    <tr style=\"text-align: right;\">\n      <th></th>\n      <th>Student_ID</th>\n      <th>Name</th>\n    </tr>\n  </thead>\n  <tbody>\n    <tr>\n      <th>0</th>\n      <td>101</td>\n      <td>Alice</td>\n    </tr>\n    <tr>\n      <th>1</th>\n      <td>102</td>\n      <td>Bob</td>\n    </tr>\n    <tr>\n      <th>2</th>\n      <td>103</td>\n      <td>Charlie</td>\n    </tr>\n    <tr>\n      <th>3</th>\n      <td>104</td>\n      <td>David</td>\n    </tr>\n    <tr>\n      <th>4</th>\n      <td>105</td>\n      <td>Eve</td>\n    </tr>\n    <tr>\n      <th>5</th>\n      <td>106</td>\n      <td>Frank</td>\n    </tr>\n    <tr>\n      <th>6</th>\n      <td>107</td>\n      <td>Grace</td>\n    </tr>\n    <tr>\n      <th>7</th>\n      <td>108</td>\n      <td>Hannah</td>\n    </tr>\n    <tr>\n      <th>8</th>\n      <td>109</td>\n      <td>Isaac</td>\n    </tr>\n    <tr>\n      <th>9</th>\n      <td>110</td>\n      <td>Jack</td>\n    </tr>\n  </tbody>\n</table>\n</div>"
     },
     "execution_count": 102,
     "metadata": {},
     "output_type": "execute_result"
    }
   ],
   "source": [
    "students = {\n",
    "    'Student_ID': [101, 102, 103, 104, 105, 106, 107, 108, 109, 110],\n",
    "    'Name': ['Alice', 'Bob', 'Charlie', 'David', 'Eve', 'Frank', 'Grace', 'Hannah', 'Isaac', 'Jack']\n",
    "}\n",
    "\n",
    "grades = {\n",
    "    'Student_ID': [101, 102, 103, 104, 105, 106, 107, 108, 110, 111],\n",
    "    'Grade': [85, 90, 78, 92, 88, 76, 95, 89, 83, 79]\n",
    "}\n",
    "\n",
    "\n",
    "students_df = pd.DataFrame(students)\n",
    "grades_df = pd.DataFrame(grades)\n",
    "\n",
    "students_df"
   ],
   "metadata": {
    "collapsed": false,
    "ExecuteTime": {
     "end_time": "2023-09-15T08:10:50.081515Z",
     "start_time": "2023-09-15T08:10:50.061946Z"
    }
   },
   "id": "ea0db99872049368"
  },
  {
   "cell_type": "code",
   "execution_count": 103,
   "outputs": [
    {
     "data": {
      "text/plain": "   Student_ID  Grade\n0         101     85\n1         102     90\n2         103     78\n3         104     92\n4         105     88\n5         106     76\n6         107     95\n7         108     89\n8         110     83\n9         111     79",
      "text/html": "<div>\n<style scoped>\n    .dataframe tbody tr th:only-of-type {\n        vertical-align: middle;\n    }\n\n    .dataframe tbody tr th {\n        vertical-align: top;\n    }\n\n    .dataframe thead th {\n        text-align: right;\n    }\n</style>\n<table border=\"1\" class=\"dataframe\">\n  <thead>\n    <tr style=\"text-align: right;\">\n      <th></th>\n      <th>Student_ID</th>\n      <th>Grade</th>\n    </tr>\n  </thead>\n  <tbody>\n    <tr>\n      <th>0</th>\n      <td>101</td>\n      <td>85</td>\n    </tr>\n    <tr>\n      <th>1</th>\n      <td>102</td>\n      <td>90</td>\n    </tr>\n    <tr>\n      <th>2</th>\n      <td>103</td>\n      <td>78</td>\n    </tr>\n    <tr>\n      <th>3</th>\n      <td>104</td>\n      <td>92</td>\n    </tr>\n    <tr>\n      <th>4</th>\n      <td>105</td>\n      <td>88</td>\n    </tr>\n    <tr>\n      <th>5</th>\n      <td>106</td>\n      <td>76</td>\n    </tr>\n    <tr>\n      <th>6</th>\n      <td>107</td>\n      <td>95</td>\n    </tr>\n    <tr>\n      <th>7</th>\n      <td>108</td>\n      <td>89</td>\n    </tr>\n    <tr>\n      <th>8</th>\n      <td>110</td>\n      <td>83</td>\n    </tr>\n    <tr>\n      <th>9</th>\n      <td>111</td>\n      <td>79</td>\n    </tr>\n  </tbody>\n</table>\n</div>"
     },
     "execution_count": 103,
     "metadata": {},
     "output_type": "execute_result"
    }
   ],
   "source": [
    "grades_df"
   ],
   "metadata": {
    "collapsed": false,
    "ExecuteTime": {
     "end_time": "2023-09-15T08:10:52.339279Z",
     "start_time": "2023-09-15T08:10:52.318254Z"
    }
   },
   "id": "88092e3b2404b124"
  },
  {
   "cell_type": "code",
   "execution_count": 105,
   "outputs": [
    {
     "data": {
      "text/plain": "   Student_ID     Name  Grade\n0         101    Alice     85\n1         102      Bob     90\n2         103  Charlie     78\n3         104    David     92\n4         105      Eve     88\n5         106    Frank     76\n6         107    Grace     95\n7         108   Hannah     89\n8         110     Jack     83",
      "text/html": "<div>\n<style scoped>\n    .dataframe tbody tr th:only-of-type {\n        vertical-align: middle;\n    }\n\n    .dataframe tbody tr th {\n        vertical-align: top;\n    }\n\n    .dataframe thead th {\n        text-align: right;\n    }\n</style>\n<table border=\"1\" class=\"dataframe\">\n  <thead>\n    <tr style=\"text-align: right;\">\n      <th></th>\n      <th>Student_ID</th>\n      <th>Name</th>\n      <th>Grade</th>\n    </tr>\n  </thead>\n  <tbody>\n    <tr>\n      <th>0</th>\n      <td>101</td>\n      <td>Alice</td>\n      <td>85</td>\n    </tr>\n    <tr>\n      <th>1</th>\n      <td>102</td>\n      <td>Bob</td>\n      <td>90</td>\n    </tr>\n    <tr>\n      <th>2</th>\n      <td>103</td>\n      <td>Charlie</td>\n      <td>78</td>\n    </tr>\n    <tr>\n      <th>3</th>\n      <td>104</td>\n      <td>David</td>\n      <td>92</td>\n    </tr>\n    <tr>\n      <th>4</th>\n      <td>105</td>\n      <td>Eve</td>\n      <td>88</td>\n    </tr>\n    <tr>\n      <th>5</th>\n      <td>106</td>\n      <td>Frank</td>\n      <td>76</td>\n    </tr>\n    <tr>\n      <th>6</th>\n      <td>107</td>\n      <td>Grace</td>\n      <td>95</td>\n    </tr>\n    <tr>\n      <th>7</th>\n      <td>108</td>\n      <td>Hannah</td>\n      <td>89</td>\n    </tr>\n    <tr>\n      <th>8</th>\n      <td>110</td>\n      <td>Jack</td>\n      <td>83</td>\n    </tr>\n  </tbody>\n</table>\n</div>"
     },
     "execution_count": 105,
     "metadata": {},
     "output_type": "execute_result"
    }
   ],
   "source": [
    "pd.merge(students_df, grades_df, on='Student_ID', how='inner')"
   ],
   "metadata": {
    "collapsed": false,
    "ExecuteTime": {
     "end_time": "2023-09-15T08:11:04.690670Z",
     "start_time": "2023-09-15T08:11:04.679247Z"
    }
   },
   "id": "5498afefd1fdd173"
  },
  {
   "cell_type": "code",
   "execution_count": 106,
   "outputs": [
    {
     "data": {
      "text/plain": "   Student_ID     Name  Grade\n0         101    Alice   85.0\n1         102      Bob   90.0\n2         103  Charlie   78.0\n3         104    David   92.0\n4         105      Eve   88.0\n5         106    Frank   76.0\n6         107    Grace   95.0\n7         108   Hannah   89.0\n8         109    Isaac    NaN\n9         110     Jack   83.0",
      "text/html": "<div>\n<style scoped>\n    .dataframe tbody tr th:only-of-type {\n        vertical-align: middle;\n    }\n\n    .dataframe tbody tr th {\n        vertical-align: top;\n    }\n\n    .dataframe thead th {\n        text-align: right;\n    }\n</style>\n<table border=\"1\" class=\"dataframe\">\n  <thead>\n    <tr style=\"text-align: right;\">\n      <th></th>\n      <th>Student_ID</th>\n      <th>Name</th>\n      <th>Grade</th>\n    </tr>\n  </thead>\n  <tbody>\n    <tr>\n      <th>0</th>\n      <td>101</td>\n      <td>Alice</td>\n      <td>85.0</td>\n    </tr>\n    <tr>\n      <th>1</th>\n      <td>102</td>\n      <td>Bob</td>\n      <td>90.0</td>\n    </tr>\n    <tr>\n      <th>2</th>\n      <td>103</td>\n      <td>Charlie</td>\n      <td>78.0</td>\n    </tr>\n    <tr>\n      <th>3</th>\n      <td>104</td>\n      <td>David</td>\n      <td>92.0</td>\n    </tr>\n    <tr>\n      <th>4</th>\n      <td>105</td>\n      <td>Eve</td>\n      <td>88.0</td>\n    </tr>\n    <tr>\n      <th>5</th>\n      <td>106</td>\n      <td>Frank</td>\n      <td>76.0</td>\n    </tr>\n    <tr>\n      <th>6</th>\n      <td>107</td>\n      <td>Grace</td>\n      <td>95.0</td>\n    </tr>\n    <tr>\n      <th>7</th>\n      <td>108</td>\n      <td>Hannah</td>\n      <td>89.0</td>\n    </tr>\n    <tr>\n      <th>8</th>\n      <td>109</td>\n      <td>Isaac</td>\n      <td>NaN</td>\n    </tr>\n    <tr>\n      <th>9</th>\n      <td>110</td>\n      <td>Jack</td>\n      <td>83.0</td>\n    </tr>\n  </tbody>\n</table>\n</div>"
     },
     "execution_count": 106,
     "metadata": {},
     "output_type": "execute_result"
    }
   ],
   "source": [
    "pd.merge(students_df, grades_df, on='Student_ID', how='left')"
   ],
   "metadata": {
    "collapsed": false,
    "ExecuteTime": {
     "end_time": "2023-09-15T08:11:06.455694Z",
     "start_time": "2023-09-15T08:11:06.440023Z"
    }
   },
   "id": "3eca4c543c234765"
  },
  {
   "cell_type": "code",
   "execution_count": 115,
   "outputs": [
    {
     "name": "stderr",
     "output_type": "stream",
     "text": [
      "/var/folders/t1/pt8lfl0s2rz_z_7z9cbm9f5r0000gn/T/ipykernel_44821/3821306398.py:2: FutureWarning: The frame.append method is deprecated and will be removed from pandas in a future version. Use pandas.concat instead.\n",
      "  students_df = students_df.append(pd.DataFrame(new_student), ignore_index=True)\n"
     ]
    },
    {
     "data": {
      "text/plain": "    Student_ID     Name\n0          101    Alice\n1          102      Bob\n2          103  Charlie\n3          104    David\n4          105      Eve\n5          106    Frank\n6          107    Grace\n7          108   Hannah\n8          109    Isaac\n9          110     Jack\n10         111     Kate",
      "text/html": "<div>\n<style scoped>\n    .dataframe tbody tr th:only-of-type {\n        vertical-align: middle;\n    }\n\n    .dataframe tbody tr th {\n        vertical-align: top;\n    }\n\n    .dataframe thead th {\n        text-align: right;\n    }\n</style>\n<table border=\"1\" class=\"dataframe\">\n  <thead>\n    <tr style=\"text-align: right;\">\n      <th></th>\n      <th>Student_ID</th>\n      <th>Name</th>\n    </tr>\n  </thead>\n  <tbody>\n    <tr>\n      <th>0</th>\n      <td>101</td>\n      <td>Alice</td>\n    </tr>\n    <tr>\n      <th>1</th>\n      <td>102</td>\n      <td>Bob</td>\n    </tr>\n    <tr>\n      <th>2</th>\n      <td>103</td>\n      <td>Charlie</td>\n    </tr>\n    <tr>\n      <th>3</th>\n      <td>104</td>\n      <td>David</td>\n    </tr>\n    <tr>\n      <th>4</th>\n      <td>105</td>\n      <td>Eve</td>\n    </tr>\n    <tr>\n      <th>5</th>\n      <td>106</td>\n      <td>Frank</td>\n    </tr>\n    <tr>\n      <th>6</th>\n      <td>107</td>\n      <td>Grace</td>\n    </tr>\n    <tr>\n      <th>7</th>\n      <td>108</td>\n      <td>Hannah</td>\n    </tr>\n    <tr>\n      <th>8</th>\n      <td>109</td>\n      <td>Isaac</td>\n    </tr>\n    <tr>\n      <th>9</th>\n      <td>110</td>\n      <td>Jack</td>\n    </tr>\n    <tr>\n      <th>10</th>\n      <td>111</td>\n      <td>Kate</td>\n    </tr>\n  </tbody>\n</table>\n</div>"
     },
     "execution_count": 115,
     "metadata": {},
     "output_type": "execute_result"
    }
   ],
   "source": [
    "new_student = {'Student_ID': [111], 'Name': ['Kate']}\n",
    "students_df = students_df.append(pd.DataFrame(new_student), ignore_index=True)\n",
    "students_df"
   ],
   "metadata": {
    "collapsed": false,
    "ExecuteTime": {
     "end_time": "2023-09-15T08:14:41.395972Z",
     "start_time": "2023-09-15T08:14:41.379553Z"
    }
   },
   "id": "cfe8abcd5bfcc93a"
  },
  {
   "cell_type": "code",
   "execution_count": 116,
   "outputs": [
    {
     "data": {
      "text/plain": "    Student_ID     Name  Grade\n0          101    Alice   85.0\n1          102      Bob   90.0\n2          103  Charlie   78.0\n3          104    David   92.0\n4          105      Eve   88.0\n5          106    Frank   76.0\n6          107    Grace   95.0\n7          108   Hannah   89.0\n8          109    Isaac    NaN\n9          110     Jack   83.0\n10         111     Kate   79.0",
      "text/html": "<div>\n<style scoped>\n    .dataframe tbody tr th:only-of-type {\n        vertical-align: middle;\n    }\n\n    .dataframe tbody tr th {\n        vertical-align: top;\n    }\n\n    .dataframe thead th {\n        text-align: right;\n    }\n</style>\n<table border=\"1\" class=\"dataframe\">\n  <thead>\n    <tr style=\"text-align: right;\">\n      <th></th>\n      <th>Student_ID</th>\n      <th>Name</th>\n      <th>Grade</th>\n    </tr>\n  </thead>\n  <tbody>\n    <tr>\n      <th>0</th>\n      <td>101</td>\n      <td>Alice</td>\n      <td>85.0</td>\n    </tr>\n    <tr>\n      <th>1</th>\n      <td>102</td>\n      <td>Bob</td>\n      <td>90.0</td>\n    </tr>\n    <tr>\n      <th>2</th>\n      <td>103</td>\n      <td>Charlie</td>\n      <td>78.0</td>\n    </tr>\n    <tr>\n      <th>3</th>\n      <td>104</td>\n      <td>David</td>\n      <td>92.0</td>\n    </tr>\n    <tr>\n      <th>4</th>\n      <td>105</td>\n      <td>Eve</td>\n      <td>88.0</td>\n    </tr>\n    <tr>\n      <th>5</th>\n      <td>106</td>\n      <td>Frank</td>\n      <td>76.0</td>\n    </tr>\n    <tr>\n      <th>6</th>\n      <td>107</td>\n      <td>Grace</td>\n      <td>95.0</td>\n    </tr>\n    <tr>\n      <th>7</th>\n      <td>108</td>\n      <td>Hannah</td>\n      <td>89.0</td>\n    </tr>\n    <tr>\n      <th>8</th>\n      <td>109</td>\n      <td>Isaac</td>\n      <td>NaN</td>\n    </tr>\n    <tr>\n      <th>9</th>\n      <td>110</td>\n      <td>Jack</td>\n      <td>83.0</td>\n    </tr>\n    <tr>\n      <th>10</th>\n      <td>111</td>\n      <td>Kate</td>\n      <td>79.0</td>\n    </tr>\n  </tbody>\n</table>\n</div>"
     },
     "execution_count": 116,
     "metadata": {},
     "output_type": "execute_result"
    }
   ],
   "source": [
    "pd.merge(students_df, grades_df, on='Student_ID', how='left')"
   ],
   "metadata": {
    "collapsed": false,
    "ExecuteTime": {
     "end_time": "2023-09-15T08:14:56.443429Z",
     "start_time": "2023-09-15T08:14:56.436213Z"
    }
   },
   "id": "7bfdec46f17766e"
  },
  {
   "cell_type": "code",
   "execution_count": 117,
   "outputs": [
    {
     "data": {
      "text/plain": "   Student_ID     Name  Grade\n0         101    Alice     85\n1         102      Bob     90\n2         103  Charlie     78\n3         104    David     92\n4         105      Eve     88\n5         106    Frank     76\n6         107    Grace     95\n7         108   Hannah     89\n8         110     Jack     83\n9         111     Kate     79",
      "text/html": "<div>\n<style scoped>\n    .dataframe tbody tr th:only-of-type {\n        vertical-align: middle;\n    }\n\n    .dataframe tbody tr th {\n        vertical-align: top;\n    }\n\n    .dataframe thead th {\n        text-align: right;\n    }\n</style>\n<table border=\"1\" class=\"dataframe\">\n  <thead>\n    <tr style=\"text-align: right;\">\n      <th></th>\n      <th>Student_ID</th>\n      <th>Name</th>\n      <th>Grade</th>\n    </tr>\n  </thead>\n  <tbody>\n    <tr>\n      <th>0</th>\n      <td>101</td>\n      <td>Alice</td>\n      <td>85</td>\n    </tr>\n    <tr>\n      <th>1</th>\n      <td>102</td>\n      <td>Bob</td>\n      <td>90</td>\n    </tr>\n    <tr>\n      <th>2</th>\n      <td>103</td>\n      <td>Charlie</td>\n      <td>78</td>\n    </tr>\n    <tr>\n      <th>3</th>\n      <td>104</td>\n      <td>David</td>\n      <td>92</td>\n    </tr>\n    <tr>\n      <th>4</th>\n      <td>105</td>\n      <td>Eve</td>\n      <td>88</td>\n    </tr>\n    <tr>\n      <th>5</th>\n      <td>106</td>\n      <td>Frank</td>\n      <td>76</td>\n    </tr>\n    <tr>\n      <th>6</th>\n      <td>107</td>\n      <td>Grace</td>\n      <td>95</td>\n    </tr>\n    <tr>\n      <th>7</th>\n      <td>108</td>\n      <td>Hannah</td>\n      <td>89</td>\n    </tr>\n    <tr>\n      <th>8</th>\n      <td>110</td>\n      <td>Jack</td>\n      <td>83</td>\n    </tr>\n    <tr>\n      <th>9</th>\n      <td>111</td>\n      <td>Kate</td>\n      <td>79</td>\n    </tr>\n  </tbody>\n</table>\n</div>"
     },
     "execution_count": 117,
     "metadata": {},
     "output_type": "execute_result"
    }
   ],
   "source": [
    "pd.merge(students_df, grades_df, on='Student_ID', how='inner')"
   ],
   "metadata": {
    "collapsed": false,
    "ExecuteTime": {
     "end_time": "2023-09-15T08:15:12.945958Z",
     "start_time": "2023-09-15T08:15:12.906215Z"
    }
   },
   "id": "e45e598ca1f0ee1a"
  },
  {
   "cell_type": "code",
   "execution_count": 120,
   "outputs": [
    {
     "data": {
      "text/plain": "    Student_ID     Name  Grade\n0          101    Alice   85.0\n1          102      Bob   90.0\n2          103  Charlie   78.0\n3          104    David   92.0\n4          105      Eve   88.0\n5          106    Frank   76.0\n6          107    Grace   95.0\n7          108   Hannah   89.0\n8          109    Isaac    NaN\n9          110     Jack   83.0\n10         111     Kate   79.0",
      "text/html": "<div>\n<style scoped>\n    .dataframe tbody tr th:only-of-type {\n        vertical-align: middle;\n    }\n\n    .dataframe tbody tr th {\n        vertical-align: top;\n    }\n\n    .dataframe thead th {\n        text-align: right;\n    }\n</style>\n<table border=\"1\" class=\"dataframe\">\n  <thead>\n    <tr style=\"text-align: right;\">\n      <th></th>\n      <th>Student_ID</th>\n      <th>Name</th>\n      <th>Grade</th>\n    </tr>\n  </thead>\n  <tbody>\n    <tr>\n      <th>0</th>\n      <td>101</td>\n      <td>Alice</td>\n      <td>85.0</td>\n    </tr>\n    <tr>\n      <th>1</th>\n      <td>102</td>\n      <td>Bob</td>\n      <td>90.0</td>\n    </tr>\n    <tr>\n      <th>2</th>\n      <td>103</td>\n      <td>Charlie</td>\n      <td>78.0</td>\n    </tr>\n    <tr>\n      <th>3</th>\n      <td>104</td>\n      <td>David</td>\n      <td>92.0</td>\n    </tr>\n    <tr>\n      <th>4</th>\n      <td>105</td>\n      <td>Eve</td>\n      <td>88.0</td>\n    </tr>\n    <tr>\n      <th>5</th>\n      <td>106</td>\n      <td>Frank</td>\n      <td>76.0</td>\n    </tr>\n    <tr>\n      <th>6</th>\n      <td>107</td>\n      <td>Grace</td>\n      <td>95.0</td>\n    </tr>\n    <tr>\n      <th>7</th>\n      <td>108</td>\n      <td>Hannah</td>\n      <td>89.0</td>\n    </tr>\n    <tr>\n      <th>8</th>\n      <td>109</td>\n      <td>Isaac</td>\n      <td>NaN</td>\n    </tr>\n    <tr>\n      <th>9</th>\n      <td>110</td>\n      <td>Jack</td>\n      <td>83.0</td>\n    </tr>\n    <tr>\n      <th>10</th>\n      <td>111</td>\n      <td>Kate</td>\n      <td>79.0</td>\n    </tr>\n  </tbody>\n</table>\n</div>"
     },
     "execution_count": 120,
     "metadata": {},
     "output_type": "execute_result"
    }
   ],
   "source": [
    "merge_df = pd.merge(students_df, grades_df, on='Student_ID', how='left')\n",
    "merge_df"
   ],
   "metadata": {
    "collapsed": false,
    "ExecuteTime": {
     "end_time": "2023-09-15T08:16:36.903211Z",
     "start_time": "2023-09-15T08:16:36.892062Z"
    }
   },
   "id": "5dd95ec455f84b5"
  },
  {
   "cell_type": "code",
   "execution_count": 121,
   "outputs": [
    {
     "data": {
      "text/plain": "    Student_ID     Name  Grade\n0          101    Alice   85.0\n1          102      Bob   90.0\n2          103  Charlie   78.0\n3          104    David   92.0\n4          105      Eve   88.0\n5          106    Frank   76.0\n6          107    Grace   95.0\n7          108   Hannah   89.0\n9          110     Jack   83.0\n10         111     Kate   79.0",
      "text/html": "<div>\n<style scoped>\n    .dataframe tbody tr th:only-of-type {\n        vertical-align: middle;\n    }\n\n    .dataframe tbody tr th {\n        vertical-align: top;\n    }\n\n    .dataframe thead th {\n        text-align: right;\n    }\n</style>\n<table border=\"1\" class=\"dataframe\">\n  <thead>\n    <tr style=\"text-align: right;\">\n      <th></th>\n      <th>Student_ID</th>\n      <th>Name</th>\n      <th>Grade</th>\n    </tr>\n  </thead>\n  <tbody>\n    <tr>\n      <th>0</th>\n      <td>101</td>\n      <td>Alice</td>\n      <td>85.0</td>\n    </tr>\n    <tr>\n      <th>1</th>\n      <td>102</td>\n      <td>Bob</td>\n      <td>90.0</td>\n    </tr>\n    <tr>\n      <th>2</th>\n      <td>103</td>\n      <td>Charlie</td>\n      <td>78.0</td>\n    </tr>\n    <tr>\n      <th>3</th>\n      <td>104</td>\n      <td>David</td>\n      <td>92.0</td>\n    </tr>\n    <tr>\n      <th>4</th>\n      <td>105</td>\n      <td>Eve</td>\n      <td>88.0</td>\n    </tr>\n    <tr>\n      <th>5</th>\n      <td>106</td>\n      <td>Frank</td>\n      <td>76.0</td>\n    </tr>\n    <tr>\n      <th>6</th>\n      <td>107</td>\n      <td>Grace</td>\n      <td>95.0</td>\n    </tr>\n    <tr>\n      <th>7</th>\n      <td>108</td>\n      <td>Hannah</td>\n      <td>89.0</td>\n    </tr>\n    <tr>\n      <th>9</th>\n      <td>110</td>\n      <td>Jack</td>\n      <td>83.0</td>\n    </tr>\n    <tr>\n      <th>10</th>\n      <td>111</td>\n      <td>Kate</td>\n      <td>79.0</td>\n    </tr>\n  </tbody>\n</table>\n</div>"
     },
     "execution_count": 121,
     "metadata": {},
     "output_type": "execute_result"
    }
   ],
   "source": [
    "merge_df.dropna()"
   ],
   "metadata": {
    "collapsed": false,
    "ExecuteTime": {
     "end_time": "2023-09-15T08:16:59.727206Z",
     "start_time": "2023-09-15T08:16:59.681544Z"
    }
   },
   "id": "4c77a3d1a81b4a"
  },
  {
   "cell_type": "code",
   "execution_count": 124,
   "outputs": [
    {
     "data": {
      "text/plain": "86.5"
     },
     "execution_count": 124,
     "metadata": {},
     "output_type": "execute_result"
    }
   ],
   "source": [
    "median = merge_df['Grade'].median()\n",
    "median"
   ],
   "metadata": {
    "collapsed": false,
    "ExecuteTime": {
     "end_time": "2023-09-15T08:18:31.287585Z",
     "start_time": "2023-09-15T08:18:31.280443Z"
    }
   },
   "id": "98367bae3d7f08c"
  },
  {
   "cell_type": "code",
   "execution_count": 125,
   "outputs": [
    {
     "data": {
      "text/plain": "    Student_ID     Name  Grade\n0          101    Alice   85.0\n1          102      Bob   90.0\n2          103  Charlie   78.0\n3          104    David   92.0\n4          105      Eve   88.0\n5          106    Frank   76.0\n6          107    Grace   95.0\n7          108   Hannah   89.0\n8          109    Isaac   86.5\n9          110     Jack   83.0\n10         111     Kate   79.0",
      "text/html": "<div>\n<style scoped>\n    .dataframe tbody tr th:only-of-type {\n        vertical-align: middle;\n    }\n\n    .dataframe tbody tr th {\n        vertical-align: top;\n    }\n\n    .dataframe thead th {\n        text-align: right;\n    }\n</style>\n<table border=\"1\" class=\"dataframe\">\n  <thead>\n    <tr style=\"text-align: right;\">\n      <th></th>\n      <th>Student_ID</th>\n      <th>Name</th>\n      <th>Grade</th>\n    </tr>\n  </thead>\n  <tbody>\n    <tr>\n      <th>0</th>\n      <td>101</td>\n      <td>Alice</td>\n      <td>85.0</td>\n    </tr>\n    <tr>\n      <th>1</th>\n      <td>102</td>\n      <td>Bob</td>\n      <td>90.0</td>\n    </tr>\n    <tr>\n      <th>2</th>\n      <td>103</td>\n      <td>Charlie</td>\n      <td>78.0</td>\n    </tr>\n    <tr>\n      <th>3</th>\n      <td>104</td>\n      <td>David</td>\n      <td>92.0</td>\n    </tr>\n    <tr>\n      <th>4</th>\n      <td>105</td>\n      <td>Eve</td>\n      <td>88.0</td>\n    </tr>\n    <tr>\n      <th>5</th>\n      <td>106</td>\n      <td>Frank</td>\n      <td>76.0</td>\n    </tr>\n    <tr>\n      <th>6</th>\n      <td>107</td>\n      <td>Grace</td>\n      <td>95.0</td>\n    </tr>\n    <tr>\n      <th>7</th>\n      <td>108</td>\n      <td>Hannah</td>\n      <td>89.0</td>\n    </tr>\n    <tr>\n      <th>8</th>\n      <td>109</td>\n      <td>Isaac</td>\n      <td>86.5</td>\n    </tr>\n    <tr>\n      <th>9</th>\n      <td>110</td>\n      <td>Jack</td>\n      <td>83.0</td>\n    </tr>\n    <tr>\n      <th>10</th>\n      <td>111</td>\n      <td>Kate</td>\n      <td>79.0</td>\n    </tr>\n  </tbody>\n</table>\n</div>"
     },
     "execution_count": 125,
     "metadata": {},
     "output_type": "execute_result"
    }
   ],
   "source": [
    "merge_df.fillna(median)\n"
   ],
   "metadata": {
    "collapsed": false,
    "ExecuteTime": {
     "end_time": "2023-09-15T08:18:33.707366Z",
     "start_time": "2023-09-15T08:18:33.606099Z"
    }
   },
   "id": "48cfae34eb72b34a"
  },
  {
   "cell_type": "code",
   "execution_count": null,
   "outputs": [],
   "source": [],
   "metadata": {
    "collapsed": false
   },
   "id": "e41740e75c7ce767"
  },
  {
   "cell_type": "markdown",
   "source": [],
   "metadata": {
    "collapsed": false
   },
   "id": "de29cd954e041714"
  }
 ],
 "metadata": {
  "kernelspec": {
   "display_name": "Python 3",
   "language": "python",
   "name": "python3"
  },
  "language_info": {
   "codemirror_mode": {
    "name": "ipython",
    "version": 2
   },
   "file_extension": ".py",
   "mimetype": "text/x-python",
   "name": "python",
   "nbconvert_exporter": "python",
   "pygments_lexer": "ipython2",
   "version": "2.7.6"
  }
 },
 "nbformat": 4,
 "nbformat_minor": 5
}
