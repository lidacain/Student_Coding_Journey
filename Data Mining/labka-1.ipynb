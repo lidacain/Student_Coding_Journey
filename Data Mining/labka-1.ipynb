{
 "cells": [
  {
   "cell_type": "code",
   "execution_count": 44,
   "id": "initial_id",
   "metadata": {
    "collapsed": true,
    "ExecuteTime": {
     "end_time": "2023-09-08T08:01:03.554720Z",
     "start_time": "2023-09-08T08:01:03.550399Z"
    }
   },
   "outputs": [
    {
     "name": "stdout",
     "output_type": "stream",
     "text": [
      "2.0\n",
      "16.0\n",
      "54.598150033144236\n",
      "2.0\n",
      "4.0\n",
      "24\n",
      "1\n",
      "0\n",
      "0\n",
      "3.6739403974420594e-16\n",
      "0.9999999869751758\n",
      "True\n",
      "True\n"
     ]
    }
   ],
   "source": [
    "import math\n",
    "\n",
    "x = 4\n",
    "print (math.sqrt (x))\n",
    "print(math.pow(x,2))\n",
    "print (math.exp(x))\n",
    "print (math.log(x,2))\n",
    "print(math.fabs(-4))\n",
    "print (math.factorial (x)) \n",
    "z = 0.2\n",
    "print (math.ceil(z))\n",
    "print (math.floor(z))\n",
    "print(math.trunc(z))\n",
    "z = 3 * math.pi\n",
    "print(math.sin(z))\n",
    "print (math.tanh(z))\n",
    "\n",
    "x = math.nan\n",
    "print (math.isnan(x))\n",
    "x = math.inf\n",
    "print(math.isinf(x))\n"
   ]
  },
  {
   "cell_type": "code",
   "execution_count": 5,
   "outputs": [
    {
     "name": "stdout",
     "output_type": "stream",
     "text": [
      "False\n",
      "True\n",
      "True\n"
     ]
    }
   ],
   "source": [
    "y1 = True\n",
    "y2 = False\n",
    "\n",
    "print(y1 and y2)\n",
    "print(y1 or y2)\n",
    "print(y1 and not y2)"
   ],
   "metadata": {
    "collapsed": false,
    "ExecuteTime": {
     "end_time": "2023-09-08T07:13:27.705906Z",
     "start_time": "2023-09-08T07:13:27.690694Z"
    }
   },
   "id": "49ca711f90b922f9"
  },
  {
   "cell_type": "code",
   "execution_count": 11,
   "outputs": [
    {
     "name": "stdout",
     "output_type": "stream",
     "text": [
      "his\n",
      "4\n",
      "Length of string is 4\n",
      "THIS\n",
      "this\n",
      "This\n",
      "This is another string\n",
      "That at a string\n",
      "8\n",
      "True\n",
      "True\n",
      "False\n",
      "This is a stringtoo\n",
      "This This This \n"
     ]
    }
   ],
   "source": [
    "s1 = (\"This\")\n",
    "\n",
    "print(s1[1:])\n",
    "print(len(s1))\n",
    "print(\"Length of string is \" + str(len(s1)))\n",
    "print(s1.upper())\n",
    "print(s1.lower())\n",
    "\n",
    "\n",
    "s2 = \"This is a string\"\n",
    "words = s2.split(' ')\n",
    "print(words[0])\n",
    "print(s2.replace('a', 'another'))\n",
    "print(s2.replace('is', 'at'))\n",
    "print(s2.find(\"a\"))\n",
    "print(s1 in s2)\n",
    "\n",
    "print(s1 == 'This')\n",
    "print(s1 < 'That')\n",
    "print(s2 + \"too\")\n",
    "print((s1 + \" \") * 3)\n"
   ],
   "metadata": {
    "collapsed": false,
    "ExecuteTime": {
     "end_time": "2023-09-08T07:19:37.950178Z",
     "start_time": "2023-09-08T07:19:37.935963Z"
    }
   },
   "id": "aee406d568a5e021"
  },
  {
   "cell_type": "code",
   "execution_count": 12,
   "outputs": [
    {
     "data": {
      "text/plain": "1.2"
     },
     "execution_count": 12,
     "metadata": {},
     "output_type": "execute_result"
    }
   ],
   "source": [
    "1.2"
   ],
   "metadata": {
    "collapsed": false,
    "ExecuteTime": {
     "end_time": "2023-09-08T07:21:33.580415Z",
     "start_time": "2023-09-08T07:21:33.547143Z"
    }
   },
   "id": "de673e7ded1f1ce9"
  },
  {
   "cell_type": "code",
   "execution_count": 50,
   "outputs": [
    {
     "name": "stdout",
     "output_type": "stream",
     "text": [
      "[5, 7, 9]\n",
      "<class 'list'>\n",
      "[1, 3, 5, 7, 9]\n",
      "[0, 2, 4, 6, 8]\n",
      "5\n",
      "[1, 3]\n",
      "[5, 7, 9]\n",
      "5\n",
      "25\n",
      "[1, 3, 5, 7, 9, 11]\n",
      "11\n",
      "[1, 3, 5, 7, 9]\n",
      "[1, 3, 5, 7, 9, 11, 13, 15]\n",
      "[1, 3, 5, 7, 9, 1, 3, 5, 7, 9, 1, 3, 5, 7, 9]\n",
      "[1, 3, 4, 5, 7, 9]\n",
      "[9, 7, 5, 4, 3, 1]\n"
     ]
    }
   ],
   "source": [
    "inlist = [1,3,5,7,9]\n",
    "print(inlist[2:])\n",
    "\n",
    "print(type(inlist))\n",
    "print(inlist)\n",
    "inlist2 = list(range(0, 10, 2))\n",
    "print(inlist2)\n",
    "\n",
    "print(inlist[2])\n",
    "print(inlist[:2])\n",
    "print(inlist[2:])\n",
    "print(len(inlist))\n",
    "print(sum(inlist))\n",
    "\n",
    "inlist.append(11)\n",
    "print(inlist)\n",
    "print(inlist.pop())\n",
    "print(inlist)\n",
    "print(inlist + [11, 13, 15])\n",
    "print(inlist * 3)\n",
    "inlist.insert(2, 4)\n",
    "print(inlist)\n",
    "inlist.sort(reverse = True)\n",
    "print(inlist)"
   ],
   "metadata": {
    "collapsed": false,
    "ExecuteTime": {
     "end_time": "2023-09-08T08:08:23.717286Z",
     "start_time": "2023-09-08T08:08:23.703858Z"
    }
   },
   "id": "68f028f756f31ac"
  },
  {
   "cell_type": "code",
   "execution_count": 48,
   "outputs": [
    {
     "name": "stdout",
     "output_type": "stream",
     "text": [
      "['this', 'is', 'a', 'list']\n",
      "<class 'list'>\n",
      "True\n",
      "a\n",
      "['this', 'is']\n",
      "['a', 'list']\n",
      "this is a list too\n",
      "['this', 'a', 'list', 'too']\n"
     ]
    }
   ],
   "source": [
    "mylist = ['this', 'is', 'a', 'list']\n",
    "print(mylist)\n",
    "print(type(mylist))\n",
    "\n",
    "print(\"list\" in mylist)\n",
    "print(mylist[2])\n",
    "print(mylist[:2])\n",
    "print(mylist[2:])\n",
    "mylist.append(\"too\")\n",
    "\n",
    "separator = \" \"\n",
    "print(separator.join(mylist))\n",
    "\n",
    "mylist.remove(\"is\")\n",
    "print(mylist)"
   ],
   "metadata": {
    "collapsed": false,
    "ExecuteTime": {
     "end_time": "2023-09-08T08:02:24.516015Z",
     "start_time": "2023-09-08T08:02:24.502286Z"
    }
   },
   "id": "e47fabfc64a1c7fd"
  },
  {
   "cell_type": "code",
   "execution_count": 23,
   "outputs": [
    {
     "name": "stdout",
     "output_type": "stream",
     "text": [
      "{'MI': 'Michigan', 'MN': 'Minnesota', 'TX': 'Texas', 'CA': 'California'}\n",
      "dict_keys(['MI', 'MN', 'TX', 'CA'])\n",
      "dict_values(['Michigan', 'Minnesota', 'Texas', 'California'])\n",
      "4\n",
      "Michigan\n",
      "False\n",
      "True\n",
      "{'apples': 3, 'oranges': 4, ' bananas': 2, 'cherries': 10}\n",
      "[' bananas', 'apples', 'cherries', 'oranges']\n",
      "[(' bananas', 2), ('apples', 3), ('cherries', 10), ('oranges', 4)]\n",
      "[(' bananas', 2), ('apples', 3), ('oranges', 4), ('cherries', 10)]\n"
     ]
    }
   ],
   "source": [
    "abbrev ={}\n",
    "abbrev['MI'] = 'Michigan'\n",
    "abbrev['MN'] = 'Minnesota'\n",
    "abbrev['TX'] = 'Texas'\n",
    "abbrev['CA'] = 'California'\n",
    "\n",
    "print(abbrev)\n",
    "print(abbrev.keys())\n",
    "print(abbrev.values())\n",
    "print(len(abbrev))\n",
    "\n",
    "print(abbrev.get('MI'))\n",
    "print('FL' in abbrev)\n",
    "print('CA' in abbrev)\n",
    "\n",
    "keys = ['apples', 'oranges', ' bananas', 'cherries']\n",
    "values = [3, 4, 2, 10]\n",
    "fruits = dict(zip(keys, values))\n",
    "print(fruits)\n",
    "print(sorted(fruits))\n",
    "\n",
    "from operator import itemgetter\n",
    "print(sorted(fruits.items(), key = itemgetter(0)))\n",
    "print(sorted(fruits.items(), key = itemgetter(1)))"
   ],
   "metadata": {
    "collapsed": false,
    "ExecuteTime": {
     "end_time": "2023-09-08T07:37:01.522507Z",
     "start_time": "2023-09-08T07:37:01.502404Z"
    }
   },
   "id": "d68a273f252df518"
  },
  {
   "cell_type": "code",
   "execution_count": 24,
   "outputs": [
    {
     "name": "stdout",
     "output_type": "stream",
     "text": [
      "('MI', 'Michigan', 'Lansing')\n",
      "('Michigan', 'Lansing')\n",
      "[('MI', 'Michigan', 'Lansing'), ('CA', ' California', 'Sacramento'), ('TX', 'Texas', 'Austin')]\n",
      "('TX', 'Texas', 'Austin')\n",
      "('TX', 'Texas', 'Austin')\n",
      "('Texas', 'Austin')\n",
      "[('TX', 'Texas', 'Austin'), ('MI', 'Michigan', 'Lansing'), ('CA', ' California', 'Sacramento')]\n"
     ]
    }
   ],
   "source": [
    "MItuple = ('MI', 'Michigan', 'Lansing')\n",
    "CAtuple = ('CA', ' California', 'Sacramento')\n",
    "TXtuple = ('TX', 'Texas', 'Austin')\n",
    "\n",
    "print(MItuple)\n",
    "print(MItuple[1:])\n",
    "\n",
    "states = [MItuple, CAtuple, TXtuple]\n",
    "print(states)\n",
    "print(states[2])\n",
    "print(states[2][:])\n",
    "print(states[2][1:])\n",
    "states.sort(key = lambda state: state[2])\n",
    "print(states)"
   ],
   "metadata": {
    "collapsed": false,
    "ExecuteTime": {
     "end_time": "2023-09-08T07:41:18.833315Z",
     "start_time": "2023-09-08T07:41:18.814268Z"
    }
   },
   "id": "b0e2259bce8a22f"
  },
  {
   "cell_type": "code",
   "execution_count": 25,
   "outputs": [
    {
     "data": {
      "text/plain": "1.3"
     },
     "execution_count": 25,
     "metadata": {},
     "output_type": "execute_result"
    }
   ],
   "source": [
    "1.3"
   ],
   "metadata": {
    "collapsed": false,
    "ExecuteTime": {
     "end_time": "2023-09-08T07:42:08.576939Z",
     "start_time": "2023-09-08T07:42:08.558423Z"
    }
   },
   "id": "c7c55de9c4d5e359"
  },
  {
   "cell_type": "code",
   "execution_count": 26,
   "outputs": [
    {
     "name": "stdout",
     "output_type": "stream",
     "text": [
      "x = 10 is even\n",
      "x = 10 is positive\n"
     ]
    }
   ],
   "source": [
    "x = 10\n",
    "\n",
    "if x%2 == 1:\n",
    "    print(\"x =\", x, \"is even\")\n",
    "else: \n",
    "    print(\"x =\", x, \"is odd\")\n",
    "\n",
    "if x > 0:\n",
    "    print(\"x =\", x, \"is positive\")\n",
    "elif x < 0:\n",
    "    print(\"x=\", x, \"is negative\")\n",
    "else:\n",
    "    print(\"x =\", x, \"is neither positive not negative\")\n",
    "    "
   ],
   "metadata": {
    "collapsed": false,
    "ExecuteTime": {
     "end_time": "2023-09-08T07:44:53.840025Z",
     "start_time": "2023-09-08T07:44:53.816225Z"
    }
   },
   "id": "e5733402fa5ac93c"
  },
  {
   "cell_type": "markdown",
   "source": [],
   "metadata": {
    "collapsed": false
   },
   "id": "ac756c1bc62cf4b5"
  },
  {
   "cell_type": "code",
   "execution_count": 27,
   "outputs": [
    {
     "name": "stdout",
     "output_type": "stream",
     "text": [
      "that\n",
      "at\n",
      "a\n",
      "latt\n",
      "[4, 2, 1, 4]\n",
      "['Austin', 'Lansing', 'Sacramento']\n",
      "['apples', 'oranges', 'bananas', 'cherries']\n"
     ]
    }
   ],
   "source": [
    "mylist = ['this', 'is', 'a', 'list']\n",
    "for word in mylist:\n",
    "    print(word.replace(\"is\", \"at\"))\n",
    "    \n",
    "mylist2 = [len (word) for word in mylist] \n",
    "print (mylist2)\n",
    "\n",
    "states = [('MI', 'Michigan', 'Lansing'), ('CA', 'California', 'Sacramento'),\n",
    "('TX', 'Texas', 'Austin')]\n",
    "\n",
    "sorted_capitals = [state[2] for state in states]\n",
    "sorted_capitals.sort()\n",
    "print (sorted_capitals)\n",
    "\n",
    "fruits = {'apples': 3, 'oranges': 4, 'bananas': 2, 'cherries': 10}\n",
    "fruitnames = [k for (k ,v) in fruits.items ()]\n",
    "print(fruitnames)"
   ],
   "metadata": {
    "collapsed": false,
    "ExecuteTime": {
     "end_time": "2023-09-08T07:47:56.132482Z",
     "start_time": "2023-09-08T07:47:56.070453Z"
    }
   },
   "id": "147b95ce9667f6c3"
  },
  {
   "cell_type": "code",
   "execution_count": 51,
   "outputs": [
    {
     "name": "stdout",
     "output_type": "stream",
     "text": [
      "[-10, -8, -6, -4, -2, 0, 2, 4, 6, 8]\n",
      "First non-negative number: 0\n"
     ]
    }
   ],
   "source": [
    "mylist = list(range (-10,10,2))\n",
    "print (mylist)\n",
    "i = 0\n",
    "while (mylist[i] < 0):\n",
    "    i = i + 1\n",
    "print(\"First non-negative number:\", mylist[i])"
   ],
   "metadata": {
    "collapsed": false,
    "ExecuteTime": {
     "end_time": "2023-09-08T08:10:44.200366Z",
     "start_time": "2023-09-08T08:10:44.176476Z"
    }
   },
   "id": "b2165b8aff4de503"
  },
  {
   "cell_type": "code",
   "execution_count": 33,
   "outputs": [
    {
     "name": "stdout",
     "output_type": "stream",
     "text": [
      "11\n"
     ]
    }
   ],
   "source": [
    "myfunc = lambda x: 3*x**2 - 2*x + 3\n",
    "\n",
    "print(myfunc(2))"
   ],
   "metadata": {
    "collapsed": false,
    "ExecuteTime": {
     "end_time": "2023-09-08T07:50:59.044024Z",
     "start_time": "2023-09-08T07:50:59.023888Z"
    }
   },
   "id": "8b89c0e4e3129a2"
  },
  {
   "cell_type": "code",
   "execution_count": 34,
   "outputs": [
    {
     "name": "stdout",
     "output_type": "stream",
     "text": [
      "[-11, 12, 23, 45, 71]\n"
     ]
    }
   ],
   "source": [
    "import math\n",
    "\n",
    "def discard(inlist, sortFlag=False):\n",
    "    outlist = []\n",
    "    for item in inlist:\n",
    "        if not math.isnan(item):\n",
    "            outlist.append(item)\n",
    "    if sortFlag:\n",
    "        outlist.sort ()\n",
    "    return outlistf\n",
    "\n",
    "mylist = [12, math.nan, 23, -11, 45, math.nan, 71]\n",
    "print(discard(mylist, True))"
   ],
   "metadata": {
    "collapsed": false,
    "ExecuteTime": {
     "end_time": "2023-09-08T07:52:45.534037Z",
     "start_time": "2023-09-08T07:52:45.508315Z"
    }
   },
   "id": "bcb531f2f1247a8d"
  },
  {
   "cell_type": "code",
   "execution_count": 39,
   "outputs": [
    {
     "name": "stdout",
     "output_type": "stream",
     "text": [
      "State= Michigan ( MI ) Capital: Lansing\n",
      "\n",
      "State= California ( CA ) Capital: Sacramento\n",
      "\n",
      "State= Texas ( TX ) Capital: Austin\n",
      "\n",
      "State= Minnesota ( MN ) Capital: St Paul\n"
     ]
    }
   ],
   "source": [
    "states = [('MI', 'Michigan', 'Lansing'), ('CA', 'California', 'Sacramento'),('TX', 'Texas','Austin'),('MN', 'Minnesota', 'St Paul' )]\n",
    "\n",
    "with open('states.txt', 'w') as f:\n",
    "    f.write('\\n'.join ('%s,%s,%s' % state for state in states))\n",
    "with open('states.txt', 'r') as f:\n",
    "    for line in f:\n",
    "        fields = line.split(sep=',')\n",
    "        print('State=',fields [1], '(',fields [0],')','Capital:', fields [2])"
   ],
   "metadata": {
    "collapsed": false,
    "ExecuteTime": {
     "end_time": "2023-09-08T07:58:02.419934Z",
     "start_time": "2023-09-08T07:58:02.416102Z"
    }
   },
   "id": "4d7cda410cd9bdcb"
  },
  {
   "cell_type": "code",
   "execution_count": 6,
   "outputs": [
    {
     "name": "stdout",
     "output_type": "stream",
     "text": [
      "hello adkslf jafd dfjda\n"
     ]
    }
   ],
   "source": [
    "def print_full_name(first, last):\n",
    "    # Write your code here\n",
    "    print('hello', first, last, \"dfjda\")\n",
    "if __name__ == '__main__':\n",
    "    first_name = input()\n",
    "    last_name = input()\n",
    "    print_full_name(first_name, last_name)"
   ],
   "metadata": {
    "collapsed": false,
    "ExecuteTime": {
     "end_time": "2023-09-09T13:39:34.202207Z",
     "start_time": "2023-09-09T13:39:32.761348Z"
    }
   },
   "id": "67a779917048d83e"
  },
  {
   "cell_type": "code",
   "execution_count": 8,
   "outputs": [
    {
     "name": "stdout",
     "output_type": "stream",
     "text": [
      "adl-afjkl-alf\n",
      "None\n"
     ]
    }
   ],
   "source": [
    "def split_and_join(line):\n",
    "    # write your code here\n",
    "    print(line.replace(' ', '-'))\n",
    "if __name__ == '__main__':\n",
    "    line = input()\n",
    "    result = split_and_join(line)\n",
    "    print(result) "
   ],
   "metadata": {
    "collapsed": false,
    "ExecuteTime": {
     "end_time": "2023-09-09T13:44:24.544370Z",
     "start_time": "2023-09-09T13:44:20.033873Z"
    }
   },
   "id": "c9b8d43f357fbbff"
  },
  {
   "cell_type": "code",
   "execution_count": null,
   "outputs": [],
   "source": [],
   "metadata": {
    "collapsed": false
   },
   "id": "bd044968a7e49e67"
  }
 ],
 "metadata": {
  "kernelspec": {
   "display_name": "Python 3",
   "language": "python",
   "name": "python3"
  },
  "language_info": {
   "codemirror_mode": {
    "name": "ipython",
    "version": 2
   },
   "file_extension": ".py",
   "mimetype": "text/x-python",
   "name": "python",
   "nbconvert_exporter": "python",
   "pygments_lexer": "ipython2",
   "version": "2.7.6"
  }
 },
 "nbformat": 4,
 "nbformat_minor": 5
}
