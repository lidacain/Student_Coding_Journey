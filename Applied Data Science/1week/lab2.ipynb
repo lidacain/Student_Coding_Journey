{
 "cells": [
  {
   "cell_type": "code",
   "execution_count": 2,
   "id": "initial_id",
   "metadata": {
    "collapsed": true,
    "ExecuteTime": {
     "end_time": "2024-01-30T06:05:42.113613Z",
     "start_time": "2024-01-30T06:05:42.107539Z"
    }
   },
   "outputs": [],
   "source": [
    "from pandas import DataFrame\n",
    "import pandas as pd"
   ]
  },
  {
   "cell_type": "code",
   "outputs": [
    {
     "data": {
      "text/plain": "   Year  Month  DayofMonth  DayOfWeek  DepTime  CRSDepTime  ArrTime  \\\n0  2008      6          18          3   2111.0        2055   2308.0   \n1  2008      6           4          3   1426.0        1410   1730.0   \n2  2008      8           3          7   1143.0        1145   1501.0   \n3  2008      1          23          3   1141.0        1144   1323.0   \n4  2008      5           4          7    815.0         820   1243.0   \n\n   CRSArrTime UniqueCarrier  FlightNum  ... TaxiIn  TaxiOut  Cancelled  \\\n0        2300            WN        242  ...    3.0      8.0          0   \n1        1728            XE       2380  ...    4.0     12.0          0   \n2        1520            WN       1769  ...    4.0      9.0          0   \n3        1335            OO       3802  ...    4.0     19.0          0   \n4        1300            WN        399  ...    4.0      8.0          0   \n\n   CancellationCode  Diverted  CarrierDelay WeatherDelay NASDelay  \\\n0               NaN         0           NaN          NaN      NaN   \n1               NaN         0           NaN          NaN      NaN   \n2               NaN         0           NaN          NaN      NaN   \n3               NaN         0           NaN          NaN      NaN   \n4               NaN         0           NaN          NaN      NaN   \n\n   SecurityDelay  LateAircraftDelay  \n0            NaN                NaN  \n1            NaN                NaN  \n2            NaN                NaN  \n3            NaN                NaN  \n4            NaN                NaN  \n\n[5 rows x 29 columns]",
      "text/html": "<div>\n<style scoped>\n    .dataframe tbody tr th:only-of-type {\n        vertical-align: middle;\n    }\n\n    .dataframe tbody tr th {\n        vertical-align: top;\n    }\n\n    .dataframe thead th {\n        text-align: right;\n    }\n</style>\n<table border=\"1\" class=\"dataframe\">\n  <thead>\n    <tr style=\"text-align: right;\">\n      <th></th>\n      <th>Year</th>\n      <th>Month</th>\n      <th>DayofMonth</th>\n      <th>DayOfWeek</th>\n      <th>DepTime</th>\n      <th>CRSDepTime</th>\n      <th>ArrTime</th>\n      <th>CRSArrTime</th>\n      <th>UniqueCarrier</th>\n      <th>FlightNum</th>\n      <th>...</th>\n      <th>TaxiIn</th>\n      <th>TaxiOut</th>\n      <th>Cancelled</th>\n      <th>CancellationCode</th>\n      <th>Diverted</th>\n      <th>CarrierDelay</th>\n      <th>WeatherDelay</th>\n      <th>NASDelay</th>\n      <th>SecurityDelay</th>\n      <th>LateAircraftDelay</th>\n    </tr>\n  </thead>\n  <tbody>\n    <tr>\n      <th>0</th>\n      <td>2008</td>\n      <td>6</td>\n      <td>18</td>\n      <td>3</td>\n      <td>2111.0</td>\n      <td>2055</td>\n      <td>2308.0</td>\n      <td>2300</td>\n      <td>WN</td>\n      <td>242</td>\n      <td>...</td>\n      <td>3.0</td>\n      <td>8.0</td>\n      <td>0</td>\n      <td>NaN</td>\n      <td>0</td>\n      <td>NaN</td>\n      <td>NaN</td>\n      <td>NaN</td>\n      <td>NaN</td>\n      <td>NaN</td>\n    </tr>\n    <tr>\n      <th>1</th>\n      <td>2008</td>\n      <td>6</td>\n      <td>4</td>\n      <td>3</td>\n      <td>1426.0</td>\n      <td>1410</td>\n      <td>1730.0</td>\n      <td>1728</td>\n      <td>XE</td>\n      <td>2380</td>\n      <td>...</td>\n      <td>4.0</td>\n      <td>12.0</td>\n      <td>0</td>\n      <td>NaN</td>\n      <td>0</td>\n      <td>NaN</td>\n      <td>NaN</td>\n      <td>NaN</td>\n      <td>NaN</td>\n      <td>NaN</td>\n    </tr>\n    <tr>\n      <th>2</th>\n      <td>2008</td>\n      <td>8</td>\n      <td>3</td>\n      <td>7</td>\n      <td>1143.0</td>\n      <td>1145</td>\n      <td>1501.0</td>\n      <td>1520</td>\n      <td>WN</td>\n      <td>1769</td>\n      <td>...</td>\n      <td>4.0</td>\n      <td>9.0</td>\n      <td>0</td>\n      <td>NaN</td>\n      <td>0</td>\n      <td>NaN</td>\n      <td>NaN</td>\n      <td>NaN</td>\n      <td>NaN</td>\n      <td>NaN</td>\n    </tr>\n    <tr>\n      <th>3</th>\n      <td>2008</td>\n      <td>1</td>\n      <td>23</td>\n      <td>3</td>\n      <td>1141.0</td>\n      <td>1144</td>\n      <td>1323.0</td>\n      <td>1335</td>\n      <td>OO</td>\n      <td>3802</td>\n      <td>...</td>\n      <td>4.0</td>\n      <td>19.0</td>\n      <td>0</td>\n      <td>NaN</td>\n      <td>0</td>\n      <td>NaN</td>\n      <td>NaN</td>\n      <td>NaN</td>\n      <td>NaN</td>\n      <td>NaN</td>\n    </tr>\n    <tr>\n      <th>4</th>\n      <td>2008</td>\n      <td>5</td>\n      <td>4</td>\n      <td>7</td>\n      <td>815.0</td>\n      <td>820</td>\n      <td>1243.0</td>\n      <td>1300</td>\n      <td>WN</td>\n      <td>399</td>\n      <td>...</td>\n      <td>4.0</td>\n      <td>8.0</td>\n      <td>0</td>\n      <td>NaN</td>\n      <td>0</td>\n      <td>NaN</td>\n      <td>NaN</td>\n      <td>NaN</td>\n      <td>NaN</td>\n      <td>NaN</td>\n    </tr>\n  </tbody>\n</table>\n<p>5 rows × 29 columns</p>\n</div>"
     },
     "execution_count": 4,
     "metadata": {},
     "output_type": "execute_result"
    }
   ],
   "source": [
    "with open('2008.csv') as file:\n",
    "    data = pd.read_csv(file, delimiter=',')\n",
    "df = pd.DataFrame(data)\n",
    "df.head(5)"
   ],
   "metadata": {
    "collapsed": false,
    "ExecuteTime": {
     "end_time": "2024-01-30T06:08:15.819667Z",
     "start_time": "2024-01-30T06:08:15.666046Z"
    }
   },
   "id": "ab4f04099f3a9ab2",
   "execution_count": 4
  },
  {
   "cell_type": "code",
   "outputs": [
    {
     "name": "stdout",
     "output_type": "stream",
     "text": [
      "0    A\n",
      "Name: CancellationCode, dtype: object\n"
     ]
    }
   ],
   "source": [
    "#1.\tКакая из причин отмены рейса (CancellationCode) была самой частой?\n",
    "print(df['CancellationCode'].mode())"
   ],
   "metadata": {
    "collapsed": false,
    "ExecuteTime": {
     "end_time": "2024-01-30T06:10:41.969613Z",
     "start_time": "2024-01-30T06:10:41.949417Z"
    }
   },
   "id": "7d0b77a500bf1a4b",
   "execution_count": 7
  },
  {
   "cell_type": "code",
   "outputs": [
    {
     "name": "stdout",
     "output_type": "stream",
     "text": [
      "Среднее: 724.5082571428571\n",
      "Минимальное: 4962\n",
      "Максимальное: 31\n"
     ]
    }
   ],
   "source": [
    "#2.\tНайдите среднее, минимальное и максимальное расстояние, пройденное самолетом.\n",
    "print(f\"Среднее: {df['Distance'].mean()}\")\n",
    "print(f\"Минимальное: {df['Distance'].max()}\")\n",
    "print(f\"Максимальное: {df['Distance'].min()}\")"
   ],
   "metadata": {
    "collapsed": false,
    "ExecuteTime": {
     "end_time": "2024-01-30T06:14:41.782356Z",
     "start_time": "2024-01-30T06:14:41.768196Z"
    }
   },
   "id": "943989d18d20ff19",
   "execution_count": 13
  },
  {
   "cell_type": "code",
   "outputs": [
    {
     "name": "stdout",
     "output_type": "stream",
     "text": [
      "рейс 65. День 30.\n",
      "Расстояние на этом рейсе в другие дни: [ 533  680 2381   82 1005  123  359   31 1747  571  372 2454  581  883\n",
      "  281  682  414  386]\n"
     ]
    }
   ],
   "source": [
    "#3.\tНе выглядит ли подозрительным минимальное пройденное расстояние? В какие дни и на каких рейсах оно было? Какое расстояние было пройдено этими же рейсами в другие дни?\n",
    "min_d = df[df['Distance'] == df['Distance'].min()]\n",
    "x = df[(df['FlightNum'].isin(min_d['FlightNum'])) & (df['DayofMonth'] != min_d.iloc[0]['DayofMonth'])]\n",
    "print(f\"Рейс {min_d.iloc[0]['FlightNum']}. День {min_d.iloc[0]['DayofMonth']}.\")\n",
    "print(f\"Расстояние на этом рейсе в другие дни: {x['Distance'].unique()}\")\n"
   ],
   "metadata": {
    "collapsed": false,
    "ExecuteTime": {
     "end_time": "2024-01-30T06:19:39.674599Z",
     "start_time": "2024-01-30T06:19:39.657497Z"
    }
   },
   "id": "a0cd7d229ece4cd2",
   "execution_count": 15
  },
  {
   "cell_type": "code",
   "outputs": [
    {
     "name": "stdout",
     "output_type": "stream",
     "text": [
      "ATL\n",
      "PHF\n"
     ]
    }
   ],
   "source": [
    "#4.\tИз какого аэропорта было произведено больше всего вылетов? В каком городе он находится?\n",
    "print(f\"{df['Origin'].value_counts().idxmax()}\")\n",
    "print(f\"{df[df['Origin'] == df['Origin'].value_counts().idxmax()]['Dest'].iloc[0]}\")"
   ],
   "metadata": {
    "collapsed": false,
    "ExecuteTime": {
     "end_time": "2024-01-30T06:27:39.914711Z",
     "start_time": "2024-01-30T06:27:39.873297Z"
    }
   },
   "id": "71a9ec2e02b8ac63",
   "execution_count": 20
  },
  {
   "cell_type": "code",
   "outputs": [
    {
     "name": "stdout",
     "output_type": "stream",
     "text": [
      "Origin\n",
      "ABE    88.266667\n",
      "ABI    36.400000\n",
      "ABQ    93.454321\n",
      "ABY    35.714286\n",
      "ACK    50.800000\n",
      "         ...    \n",
      "WRG    18.000000\n",
      "XNA    85.945736\n",
      "YAK    35.900000\n",
      "YKM    79.000000\n",
      "YUM    47.470588\n",
      "Name: AirTime, Length: 297, dtype: float64\n",
      "\n",
      "SJU\n"
     ]
    }
   ],
   "source": [
    "#5.\tНайдите для каждого аэропорта среднее время полета (AirTime) по всем вылетевшим из него рейсам. Какой аэропорт имеет наибольшее значение этого показателя?\n",
    "print(f\"{df.groupby('Origin')['AirTime'].mean()}\")\n",
    "print()\n",
    "print(f\"{df.groupby('Origin')['AirTime'].mean().idxmax()}\")"
   ],
   "metadata": {
    "collapsed": false,
    "ExecuteTime": {
     "end_time": "2024-01-30T06:37:42.422702Z",
     "start_time": "2024-01-30T06:37:42.397506Z"
    }
   },
   "id": "4007a714b3314e1f",
   "execution_count": 40
  },
  {
   "cell_type": "code",
   "outputs": [
    {
     "name": "stdout",
     "output_type": "stream",
     "text": [
      "Аэропорт - EWR Доля - 0.5286671630677587\n"
     ]
    }
   ],
   "source": [
    "#6.\tНайдите аэропорт, у которого наибольшая доля задержанных (DepDelay > 0) рейсов. Исключите при этом из рассмотрения аэропорты, из которых было отправлено меньше 1000 рейсов (используйте функцию filter после groupby).\n",
    "a = df[df['DepDelay'] > 0].groupby('Origin')['DepDelay'].count()\n",
    "b = df.groupby('Origin')['DepDelay'].count()\n",
    "c = a/b\n",
    "d = c[b >= 1000]\n",
    "e = d.idxmax()\n",
    "f = d.max()\n",
    "print(f\"Аэропорт - {e} Доля - {f}\")"
   ],
   "metadata": {
    "collapsed": false,
    "ExecuteTime": {
     "end_time": "2024-01-30T06:42:18.001890Z",
     "start_time": "2024-01-30T06:42:17.986051Z"
    }
   },
   "id": "cf6cf0c2ed546966",
   "execution_count": 42
  },
  {
   "cell_type": "code",
   "outputs": [],
   "source": [],
   "metadata": {
    "collapsed": false,
    "ExecuteTime": {
     "end_time": "2024-01-30T06:36:46.551309Z",
     "start_time": "2024-01-30T06:36:46.543234Z"
    }
   },
   "id": "5ebc776c5a34d6b2",
   "execution_count": 38
  },
  {
   "cell_type": "code",
   "outputs": [],
   "source": [],
   "metadata": {
    "collapsed": false
   },
   "id": "eedc8626c4b8cf6f"
  }
 ],
 "metadata": {
  "kernelspec": {
   "display_name": "Python 3",
   "language": "python",
   "name": "python3"
  },
  "language_info": {
   "codemirror_mode": {
    "name": "ipython",
    "version": 2
   },
   "file_extension": ".py",
   "mimetype": "text/x-python",
   "name": "python",
   "nbconvert_exporter": "python",
   "pygments_lexer": "ipython2",
   "version": "2.7.6"
  }
 },
 "nbformat": 4,
 "nbformat_minor": 5
}
