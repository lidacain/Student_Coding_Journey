{
 "cells": [
  {
   "cell_type": "markdown",
   "metadata": {},
   "source": [
    "<center>\n",
    "<img src=\"https://cdn.megabonus.com/images/shop_logo/skillbox.png\"/> \n",
    "    \n",
    "# Курс аналитик данных на Python\n",
    "## Модуль 3.1. Pandas advanced. Составляем отчетность."
   ]
  },
  {
   "cell_type": "code",
   "execution_count": 1,
   "metadata": {
    "ExecuteTime": {
     "end_time": "2024-02-10T05:46:10.382363Z",
     "start_time": "2024-02-10T05:46:09.482626Z"
    }
   },
   "outputs": [
    {
     "name": "stderr",
     "output_type": "stream",
     "text": [
      "/var/folders/t1/pt8lfl0s2rz_z_7z9cbm9f5r0000gn/T/ipykernel_89814/1403132920.py:2: DeprecationWarning: \n",
      "Pyarrow will become a required dependency of pandas in the next major release of pandas (pandas 3.0),\n",
      "(to allow more performant data types, such as the Arrow string type, and better interoperability with other libraries)\n",
      "but was not found to be installed on your system.\n",
      "If this would cause problems for you,\n",
      "please provide us feedback at https://github.com/pandas-dev/pandas/issues/54466\n",
      "        \n",
      "  import pandas as pd\n"
     ]
    }
   ],
   "source": [
    "import numpy as np\n",
    "import pandas as pd\n",
    "import random"
   ]
  },
  {
   "cell_type": "markdown",
   "metadata": {},
   "source": [
    "Итак, в этом уроке мы попробуем решить совсем прикладную задачу и научимся работать с табличными данными.<br>\n",
    "А именно:\n",
    "* узнаем как работать с файлом, который весит **30+ мегабайт**.;\n",
    "* посчитаем **базовые статистики** в разных **разрезах и сегментах пользователей** и **уберем выбросы**;\n",
    "* поймем **как объединить таблицы** по ключу;\n",
    "* оформим **отчет по среднему чеку по дате и в разрезе категорий** и **отчет по оттоку пользователей**;\n",
    "* сделаем **отдельную функцию для отправления на почту**;\n",
    "<br>\n",
    "Но обо всем по порядку!\n"
   ]
  },
  {
   "cell_type": "markdown",
   "metadata": {},
   "source": [
    "Для начала прочитаем данные с помощью библиотеки [**pandas**](http://pandas.pydata.org/pandas-docs/stable/).<br>\n",
    "Наши довольно большие. Таблица более миллиона строк и в распакованном виде весит около **30 мб**<br>\n",
    "Это не так много, но вопрос сколько времени excel это будет читать оставляю вам на размышление)"
   ]
  },
  {
   "cell_type": "markdown",
   "metadata": {},
   "source": [
    "## 1. Загрузим наш файл."
   ]
  },
  {
   "cell_type": "code",
   "execution_count": 2,
   "metadata": {
    "scrolled": true,
    "ExecuteTime": {
     "end_time": "2024-02-10T05:46:17.038039Z",
     "start_time": "2024-02-10T05:46:15.729571Z"
    }
   },
   "outputs": [],
   "source": [
    "data = pd.read_csv('data.csv.gz', compression='gzip')"
   ]
  },
  {
   "cell_type": "markdown",
   "metadata": {},
   "source": [
    "Как и прежде, первое с чего нужно начать это с того чтобы понять что перел нами за данные.<br>\n",
    "Посмотрим на количество строк, колонки и типы данных. Также заметим что в распакованном виде наши **данные раздулись до 53+ мб**."
   ]
  },
  {
   "cell_type": "code",
   "execution_count": 3,
   "metadata": {
    "ExecuteTime": {
     "end_time": "2024-02-10T05:46:17.324704Z",
     "start_time": "2024-02-10T05:46:17.029201Z"
    }
   },
   "outputs": [
    {
     "name": "stdout",
     "output_type": "stream",
     "text": [
      "У нас 1008889 строк и 8 колонок.\n",
      "---\n",
      "<class 'pandas.core.frame.DataFrame'>\n",
      "RangeIndex: 1008889 entries, 0 to 1008888\n",
      "Data columns (total 8 columns):\n",
      " #   Column        Non-Null Count    Dtype  \n",
      "---  ------        --------------    -----  \n",
      " 0   mcc           1008889 non-null  int64  \n",
      " 1   period        1008889 non-null  object \n",
      " 2   trdatetime    1008889 non-null  object \n",
      " 3   amount        1008889 non-null  float64\n",
      " 4   channel_type  1003825 non-null  object \n",
      " 5   cl_id         1008889 non-null  int64  \n",
      " 6   currency      1008889 non-null  int64  \n",
      " 7   trx_category  1008889 non-null  object \n",
      "dtypes: float64(1), int64(3), object(4)\n",
      "memory usage: 61.6+ MB\n",
      "None\n"
     ]
    }
   ],
   "source": [
    "print('У нас %s строк и %s колонок.'%data.shape)\n",
    "print('---')\n",
    "print(data.info())"
   ]
  },
  {
   "cell_type": "code",
   "execution_count": 4,
   "metadata": {
    "ExecuteTime": {
     "end_time": "2024-02-10T05:46:18.580726Z",
     "start_time": "2024-02-10T05:46:18.337178Z"
    }
   },
   "outputs": [
    {
     "data": {
      "text/plain": "                mcc        amount         cl_id      currency\ncount  1.008889e+06  1.008889e+06  1.008889e+06  1.008889e+06\nmean   5.695758e+03  5.613910e+03  4.792338e+03  8.106325e+02\nstd    6.629852e+02  6.258510e+04  2.956989e+03  3.869616e+01\nmin    7.420000e+02  1.000000e-02  0.000000e+00  3.200000e+01\n25%    5.411000e+03  2.200000e+02  2.184000e+03  8.100000e+02\n50%    5.661000e+03  6.162000e+02  4.586000e+03  8.100000e+02\n75%    5.941000e+03  2.147000e+03  7.350000e+03  8.100000e+02\nmax    9.405000e+03  3.583500e+07  1.021600e+04  9.860000e+02",
      "text/html": "<div>\n<style scoped>\n    .dataframe tbody tr th:only-of-type {\n        vertical-align: middle;\n    }\n\n    .dataframe tbody tr th {\n        vertical-align: top;\n    }\n\n    .dataframe thead th {\n        text-align: right;\n    }\n</style>\n<table border=\"1\" class=\"dataframe\">\n  <thead>\n    <tr style=\"text-align: right;\">\n      <th></th>\n      <th>mcc</th>\n      <th>amount</th>\n      <th>cl_id</th>\n      <th>currency</th>\n    </tr>\n  </thead>\n  <tbody>\n    <tr>\n      <th>count</th>\n      <td>1.008889e+06</td>\n      <td>1.008889e+06</td>\n      <td>1.008889e+06</td>\n      <td>1.008889e+06</td>\n    </tr>\n    <tr>\n      <th>mean</th>\n      <td>5.695758e+03</td>\n      <td>5.613910e+03</td>\n      <td>4.792338e+03</td>\n      <td>8.106325e+02</td>\n    </tr>\n    <tr>\n      <th>std</th>\n      <td>6.629852e+02</td>\n      <td>6.258510e+04</td>\n      <td>2.956989e+03</td>\n      <td>3.869616e+01</td>\n    </tr>\n    <tr>\n      <th>min</th>\n      <td>7.420000e+02</td>\n      <td>1.000000e-02</td>\n      <td>0.000000e+00</td>\n      <td>3.200000e+01</td>\n    </tr>\n    <tr>\n      <th>25%</th>\n      <td>5.411000e+03</td>\n      <td>2.200000e+02</td>\n      <td>2.184000e+03</td>\n      <td>8.100000e+02</td>\n    </tr>\n    <tr>\n      <th>50%</th>\n      <td>5.661000e+03</td>\n      <td>6.162000e+02</td>\n      <td>4.586000e+03</td>\n      <td>8.100000e+02</td>\n    </tr>\n    <tr>\n      <th>75%</th>\n      <td>5.941000e+03</td>\n      <td>2.147000e+03</td>\n      <td>7.350000e+03</td>\n      <td>8.100000e+02</td>\n    </tr>\n    <tr>\n      <th>max</th>\n      <td>9.405000e+03</td>\n      <td>3.583500e+07</td>\n      <td>1.021600e+04</td>\n      <td>9.860000e+02</td>\n    </tr>\n  </tbody>\n</table>\n</div>"
     },
     "execution_count": 4,
     "metadata": {},
     "output_type": "execute_result"
    }
   ],
   "source": [
    "data.describe()"
   ]
  },
  {
   "cell_type": "markdown",
   "metadata": {},
   "source": [
    "И посмотрим на первые 3 строчки."
   ]
  },
  {
   "cell_type": "code",
   "execution_count": 5,
   "metadata": {
    "ExecuteTime": {
     "end_time": "2024-02-10T05:46:19.643762Z",
     "start_time": "2024-02-10T05:46:19.517459Z"
    }
   },
   "outputs": [
    {
     "data": {
      "text/plain": "    mcc      period        trdatetime   amount channel_type  cl_id  currency  \\\n0  5200  01/10/2017  21OCT17:00:00:00   5023.0          NaN      0       810   \n1  6011  01/10/2017  12OCT17:12:24:07  20000.0          NaN      0       810   \n2  5921  01/12/2017  05DEC17:00:00:00    767.0          NaN      0       810   \n\n  trx_category  \n0          POS  \n1      DEPOSIT  \n2          POS  ",
      "text/html": "<div>\n<style scoped>\n    .dataframe tbody tr th:only-of-type {\n        vertical-align: middle;\n    }\n\n    .dataframe tbody tr th {\n        vertical-align: top;\n    }\n\n    .dataframe thead th {\n        text-align: right;\n    }\n</style>\n<table border=\"1\" class=\"dataframe\">\n  <thead>\n    <tr style=\"text-align: right;\">\n      <th></th>\n      <th>mcc</th>\n      <th>period</th>\n      <th>trdatetime</th>\n      <th>amount</th>\n      <th>channel_type</th>\n      <th>cl_id</th>\n      <th>currency</th>\n      <th>trx_category</th>\n    </tr>\n  </thead>\n  <tbody>\n    <tr>\n      <th>0</th>\n      <td>5200</td>\n      <td>01/10/2017</td>\n      <td>21OCT17:00:00:00</td>\n      <td>5023.0</td>\n      <td>NaN</td>\n      <td>0</td>\n      <td>810</td>\n      <td>POS</td>\n    </tr>\n    <tr>\n      <th>1</th>\n      <td>6011</td>\n      <td>01/10/2017</td>\n      <td>12OCT17:12:24:07</td>\n      <td>20000.0</td>\n      <td>NaN</td>\n      <td>0</td>\n      <td>810</td>\n      <td>DEPOSIT</td>\n    </tr>\n    <tr>\n      <th>2</th>\n      <td>5921</td>\n      <td>01/12/2017</td>\n      <td>05DEC17:00:00:00</td>\n      <td>767.0</td>\n      <td>NaN</td>\n      <td>0</td>\n      <td>810</td>\n      <td>POS</td>\n    </tr>\n  </tbody>\n</table>\n</div>"
     },
     "execution_count": 5,
     "metadata": {},
     "output_type": "execute_result"
    }
   ],
   "source": [
    "data.head(3)"
   ]
  },
  {
   "cell_type": "markdown",
   "metadata": {},
   "source": [
    "Сразу можно заметить, что у нас транзакционный датасет. Так как это реальные данные, то некоторые поля заменяются приватными значения, как например тут категория валюты.<br> "
   ]
  },
  {
   "cell_type": "markdown",
   "metadata": {},
   "source": [
    "Мы можем посчитать сколько унас валют всего, чтобы понять масштабы."
   ]
  },
  {
   "cell_type": "code",
   "execution_count": 6,
   "metadata": {
    "ExecuteTime": {
     "end_time": "2024-02-10T05:46:21.498612Z",
     "start_time": "2024-02-10T05:46:21.322862Z"
    }
   },
   "outputs": [
    {
     "data": {
      "text/plain": "67"
     },
     "execution_count": 6,
     "metadata": {},
     "output_type": "execute_result"
    }
   ],
   "source": [
    "len(data['currency'].unique())"
   ]
  },
  {
   "cell_type": "markdown",
   "metadata": {},
   "source": [
    "И посмотреть что у нас за категории. Смутно можно понять, что они связаны с типом транзакции, например <br>\n",
    "`WD_ATM_PARTNER` это снятие с банкомата партнера, а `POS` это потребительский кредит, тоесть оплата с кредитной карты."
   ]
  },
  {
   "cell_type": "code",
   "execution_count": 7,
   "metadata": {
    "ExecuteTime": {
     "end_time": "2024-02-10T05:46:22.480622Z",
     "start_time": "2024-02-10T05:46:22.443369Z"
    }
   },
   "outputs": [
    {
     "data": {
      "text/plain": "array(['POS', 'DEPOSIT', 'C2C_OUT', 'WD_ATM_ROS', 'BACK_TRX',\n       'WD_ATM_PARTNER', 'WD_ATM_OTHER', 'C2C_IN', 'CAT', 'CASH_ADV'],\n      dtype=object)"
     },
     "execution_count": 7,
     "metadata": {},
     "output_type": "execute_result"
    }
   ],
   "source": [
    "data.trx_category.unique()"
   ]
  },
  {
   "cell_type": "code",
   "execution_count": 8,
   "metadata": {
    "ExecuteTime": {
     "end_time": "2024-02-10T05:46:23.043270Z",
     "start_time": "2024-02-10T05:46:22.923367Z"
    }
   },
   "outputs": [
    {
     "data": {
      "text/plain": "    mcc      period        trdatetime   amount channel_type  cl_id  currency  \\\n0  5200  01/10/2017  21OCT17:00:00:00   5023.0          NaN      0       810   \n1  6011  01/10/2017  12OCT17:12:24:07  20000.0          NaN      0       810   \n2  5921  01/12/2017  05DEC17:00:00:00    767.0          NaN      0       810   \n3  5411  01/10/2017  21OCT17:00:00:00   2031.0          NaN      0       810   \n4  6012  01/10/2017  24OCT17:13:14:24  36562.0          NaN      0       810   \n\n  trx_category  \n0          POS  \n1      DEPOSIT  \n2          POS  \n3          POS  \n4      C2C_OUT  ",
      "text/html": "<div>\n<style scoped>\n    .dataframe tbody tr th:only-of-type {\n        vertical-align: middle;\n    }\n\n    .dataframe tbody tr th {\n        vertical-align: top;\n    }\n\n    .dataframe thead th {\n        text-align: right;\n    }\n</style>\n<table border=\"1\" class=\"dataframe\">\n  <thead>\n    <tr style=\"text-align: right;\">\n      <th></th>\n      <th>mcc</th>\n      <th>period</th>\n      <th>trdatetime</th>\n      <th>amount</th>\n      <th>channel_type</th>\n      <th>cl_id</th>\n      <th>currency</th>\n      <th>trx_category</th>\n    </tr>\n  </thead>\n  <tbody>\n    <tr>\n      <th>0</th>\n      <td>5200</td>\n      <td>01/10/2017</td>\n      <td>21OCT17:00:00:00</td>\n      <td>5023.0</td>\n      <td>NaN</td>\n      <td>0</td>\n      <td>810</td>\n      <td>POS</td>\n    </tr>\n    <tr>\n      <th>1</th>\n      <td>6011</td>\n      <td>01/10/2017</td>\n      <td>12OCT17:12:24:07</td>\n      <td>20000.0</td>\n      <td>NaN</td>\n      <td>0</td>\n      <td>810</td>\n      <td>DEPOSIT</td>\n    </tr>\n    <tr>\n      <th>2</th>\n      <td>5921</td>\n      <td>01/12/2017</td>\n      <td>05DEC17:00:00:00</td>\n      <td>767.0</td>\n      <td>NaN</td>\n      <td>0</td>\n      <td>810</td>\n      <td>POS</td>\n    </tr>\n    <tr>\n      <th>3</th>\n      <td>5411</td>\n      <td>01/10/2017</td>\n      <td>21OCT17:00:00:00</td>\n      <td>2031.0</td>\n      <td>NaN</td>\n      <td>0</td>\n      <td>810</td>\n      <td>POS</td>\n    </tr>\n    <tr>\n      <th>4</th>\n      <td>6012</td>\n      <td>01/10/2017</td>\n      <td>24OCT17:13:14:24</td>\n      <td>36562.0</td>\n      <td>NaN</td>\n      <td>0</td>\n      <td>810</td>\n      <td>C2C_OUT</td>\n    </tr>\n  </tbody>\n</table>\n</div>"
     },
     "execution_count": 8,
     "metadata": {},
     "output_type": "execute_result"
    }
   ],
   "source": [
    "data.head()"
   ]
  },
  {
   "cell_type": "markdown",
   "metadata": {},
   "source": [
    "Сразу бросается в глаза дата транзакции и ее формат, поэтому давайте приведем ее в нормальный вид.<br>\n",
    "А так же отдельные колонки для года/месяца/дня/времени и соединим месяц с годом, для удобства <br>\n",
    "(так как у нас данные за несколько лет), чтобы потом сделать помесячные отчеты.<br>\n",
    "Чтобы не потерять и не испортить данные, лучше делать отдельные колонки."
   ]
  },
  {
   "cell_type": "code",
   "execution_count": 9,
   "metadata": {
    "ExecuteTime": {
     "end_time": "2024-02-10T05:46:26.416427Z",
     "start_time": "2024-02-10T05:46:23.974706Z"
    }
   },
   "outputs": [],
   "source": [
    "# преобразование даты\n",
    "data['period'] = pd.to_datetime(data['period'], format='%d/%m/%Y')\n",
    "\n",
    "# преобразование времени\n",
    "data['transac_time'] = data['trdatetime'].str[-11:-3]\n",
    "\n",
    "# разные компоненты даты по столбцам\n",
    "data['transac_day'] = data['trdatetime'].str[:2]\n",
    "month_dict={'JAN':'01', 'FEB':'02', 'MAR':'03', 'APR':'04', 'MAY':'05', 'JUN':'06', \n",
    "            'JUL':'07', 'AUG':'08', 'SEP':'09', 'OCT':'10', 'NOV':'11', 'DEC':'12'}\n",
    "data['transac_month'] = data['trdatetime'].str[2:5].map(month_dict)\n",
    "data['transac_year'] = '20'+data['trdatetime'].str[5:7]\n",
    "\n",
    "# комбинированное поле месяц-год\n",
    "#data['transac_year_month'] = data['period'].apply(lambda x: x.strftime('%m-%Y')) \n",
    "data['transac_year_month'] = '20'+data['trdatetime'].str[5:7]+'-'+data['trdatetime'].str[2:5].map(month_dict)"
   ]
  },
  {
   "cell_type": "code",
   "execution_count": 10,
   "metadata": {
    "ExecuteTime": {
     "end_time": "2024-02-10T05:46:26.496209Z",
     "start_time": "2024-02-10T05:46:26.402854Z"
    }
   },
   "outputs": [
    {
     "data": {
      "text/plain": "    mcc     period        trdatetime   amount channel_type  cl_id  currency  \\\n0  5200 2017-10-01  21OCT17:00:00:00   5023.0          NaN      0       810   \n1  6011 2017-10-01  12OCT17:12:24:07  20000.0          NaN      0       810   \n2  5921 2017-12-01  05DEC17:00:00:00    767.0          NaN      0       810   \n\n  trx_category transac_time transac_day transac_month transac_year  \\\n0          POS     17:00:00          21            10         2017   \n1      DEPOSIT     17:12:24          12            10         2017   \n2          POS     17:00:00          05            12         2017   \n\n  transac_year_month  \n0            2017-10  \n1            2017-10  \n2            2017-12  ",
      "text/html": "<div>\n<style scoped>\n    .dataframe tbody tr th:only-of-type {\n        vertical-align: middle;\n    }\n\n    .dataframe tbody tr th {\n        vertical-align: top;\n    }\n\n    .dataframe thead th {\n        text-align: right;\n    }\n</style>\n<table border=\"1\" class=\"dataframe\">\n  <thead>\n    <tr style=\"text-align: right;\">\n      <th></th>\n      <th>mcc</th>\n      <th>period</th>\n      <th>trdatetime</th>\n      <th>amount</th>\n      <th>channel_type</th>\n      <th>cl_id</th>\n      <th>currency</th>\n      <th>trx_category</th>\n      <th>transac_time</th>\n      <th>transac_day</th>\n      <th>transac_month</th>\n      <th>transac_year</th>\n      <th>transac_year_month</th>\n    </tr>\n  </thead>\n  <tbody>\n    <tr>\n      <th>0</th>\n      <td>5200</td>\n      <td>2017-10-01</td>\n      <td>21OCT17:00:00:00</td>\n      <td>5023.0</td>\n      <td>NaN</td>\n      <td>0</td>\n      <td>810</td>\n      <td>POS</td>\n      <td>17:00:00</td>\n      <td>21</td>\n      <td>10</td>\n      <td>2017</td>\n      <td>2017-10</td>\n    </tr>\n    <tr>\n      <th>1</th>\n      <td>6011</td>\n      <td>2017-10-01</td>\n      <td>12OCT17:12:24:07</td>\n      <td>20000.0</td>\n      <td>NaN</td>\n      <td>0</td>\n      <td>810</td>\n      <td>DEPOSIT</td>\n      <td>17:12:24</td>\n      <td>12</td>\n      <td>10</td>\n      <td>2017</td>\n      <td>2017-10</td>\n    </tr>\n    <tr>\n      <th>2</th>\n      <td>5921</td>\n      <td>2017-12-01</td>\n      <td>05DEC17:00:00:00</td>\n      <td>767.0</td>\n      <td>NaN</td>\n      <td>0</td>\n      <td>810</td>\n      <td>POS</td>\n      <td>17:00:00</td>\n      <td>05</td>\n      <td>12</td>\n      <td>2017</td>\n      <td>2017-12</td>\n    </tr>\n  </tbody>\n</table>\n</div>"
     },
     "execution_count": 10,
     "metadata": {},
     "output_type": "execute_result"
    }
   ],
   "source": [
    "data.head(3)"
   ]
  },
  {
   "cell_type": "markdown",
   "metadata": {},
   "source": [
    "Отлично, давайте теперь посмотрим на экстримальные значения наших транзакций."
   ]
  },
  {
   "cell_type": "code",
   "execution_count": 11,
   "metadata": {
    "ExecuteTime": {
     "end_time": "2024-02-10T05:46:26.605419Z",
     "start_time": "2024-02-10T05:46:26.422685Z"
    }
   },
   "outputs": [
    {
     "data": {
      "text/plain": "           min        mean  median       max\ncurrency                                    \n978       0.01  105.797974   29.00   9690.00\n980       1.50  885.639098  282.00  15451.17\n981       0.80   94.718251   35.62   1306.00\n985       0.99  101.715674   35.67   4800.00\n986       6.00   88.106471   60.00    260.00",
      "text/html": "<div>\n<style scoped>\n    .dataframe tbody tr th:only-of-type {\n        vertical-align: middle;\n    }\n\n    .dataframe tbody tr th {\n        vertical-align: top;\n    }\n\n    .dataframe thead th {\n        text-align: right;\n    }\n</style>\n<table border=\"1\" class=\"dataframe\">\n  <thead>\n    <tr style=\"text-align: right;\">\n      <th></th>\n      <th>min</th>\n      <th>mean</th>\n      <th>median</th>\n      <th>max</th>\n    </tr>\n    <tr>\n      <th>currency</th>\n      <th></th>\n      <th></th>\n      <th></th>\n      <th></th>\n    </tr>\n  </thead>\n  <tbody>\n    <tr>\n      <th>978</th>\n      <td>0.01</td>\n      <td>105.797974</td>\n      <td>29.00</td>\n      <td>9690.00</td>\n    </tr>\n    <tr>\n      <th>980</th>\n      <td>1.50</td>\n      <td>885.639098</td>\n      <td>282.00</td>\n      <td>15451.17</td>\n    </tr>\n    <tr>\n      <th>981</th>\n      <td>0.80</td>\n      <td>94.718251</td>\n      <td>35.62</td>\n      <td>1306.00</td>\n    </tr>\n    <tr>\n      <th>985</th>\n      <td>0.99</td>\n      <td>101.715674</td>\n      <td>35.67</td>\n      <td>4800.00</td>\n    </tr>\n    <tr>\n      <th>986</th>\n      <td>6.00</td>\n      <td>88.106471</td>\n      <td>60.00</td>\n      <td>260.00</td>\n    </tr>\n  </tbody>\n</table>\n</div>"
     },
     "execution_count": 11,
     "metadata": {},
     "output_type": "execute_result"
    }
   ],
   "source": [
    "(data.groupby('currency')['amount'].agg(['min', 'mean', 'median','max']).tail())"
   ]
  },
  {
   "cell_type": "markdown",
   "metadata": {},
   "source": [
    "Ок, но не ясно что за валюты, может где-то можно найти соотвествие числовых кодов и хотябы привычных<br>\n",
    "трехбуквенных кодов вида **USD**, **EUR**, **RUB**?"
   ]
  },
  {
   "cell_type": "markdown",
   "metadata": {},
   "source": [
    "## 2. Расшифруем валютные коды."
   ]
  },
  {
   "cell_type": "code",
   "outputs": [
    {
     "name": "stderr",
     "output_type": "stream",
     "text": [
      "/Users/adil/PycharmProjects/codes/.venv/lib/python3.9/site-packages/urllib3/__init__.py:34: NotOpenSSLWarning: urllib3 v2 only supports OpenSSL 1.1.1+, currently the 'ssl' module is compiled with 'LibreSSL 2.8.3'. See: https://github.com/urllib3/urllib3/issues/3020\n",
      "  warnings.warn(\n"
     ]
    },
    {
     "ename": "ConnectionError",
     "evalue": "HTTPSConnectionPool(host='en.wikipedia.org', port=443): Max retries exceeded with url: /wiki/ISO_4217 (Caused by NameResolutionError(\"<urllib3.connection.HTTPSConnection object at 0x17a0b33d0>: Failed to resolve 'en.wikipedia.org' ([Errno 8] nodename nor servname provided, or not known)\"))",
     "output_type": "error",
     "traceback": [
      "\u001B[0;31m---------------------------------------------------------------------------\u001B[0m",
      "\u001B[0;31mgaierror\u001B[0m                                  Traceback (most recent call last)",
      "File \u001B[0;32m~/PycharmProjects/codes/.venv/lib/python3.9/site-packages/urllib3/connection.py:203\u001B[0m, in \u001B[0;36mHTTPConnection._new_conn\u001B[0;34m(self)\u001B[0m\n\u001B[1;32m    202\u001B[0m \u001B[38;5;28;01mtry\u001B[39;00m:\n\u001B[0;32m--> 203\u001B[0m     sock \u001B[38;5;241m=\u001B[39m \u001B[43mconnection\u001B[49m\u001B[38;5;241;43m.\u001B[39;49m\u001B[43mcreate_connection\u001B[49m\u001B[43m(\u001B[49m\n\u001B[1;32m    204\u001B[0m \u001B[43m        \u001B[49m\u001B[43m(\u001B[49m\u001B[38;5;28;43mself\u001B[39;49m\u001B[38;5;241;43m.\u001B[39;49m\u001B[43m_dns_host\u001B[49m\u001B[43m,\u001B[49m\u001B[43m \u001B[49m\u001B[38;5;28;43mself\u001B[39;49m\u001B[38;5;241;43m.\u001B[39;49m\u001B[43mport\u001B[49m\u001B[43m)\u001B[49m\u001B[43m,\u001B[49m\n\u001B[1;32m    205\u001B[0m \u001B[43m        \u001B[49m\u001B[38;5;28;43mself\u001B[39;49m\u001B[38;5;241;43m.\u001B[39;49m\u001B[43mtimeout\u001B[49m\u001B[43m,\u001B[49m\n\u001B[1;32m    206\u001B[0m \u001B[43m        \u001B[49m\u001B[43msource_address\u001B[49m\u001B[38;5;241;43m=\u001B[39;49m\u001B[38;5;28;43mself\u001B[39;49m\u001B[38;5;241;43m.\u001B[39;49m\u001B[43msource_address\u001B[49m\u001B[43m,\u001B[49m\n\u001B[1;32m    207\u001B[0m \u001B[43m        \u001B[49m\u001B[43msocket_options\u001B[49m\u001B[38;5;241;43m=\u001B[39;49m\u001B[38;5;28;43mself\u001B[39;49m\u001B[38;5;241;43m.\u001B[39;49m\u001B[43msocket_options\u001B[49m\u001B[43m,\u001B[49m\n\u001B[1;32m    208\u001B[0m \u001B[43m    \u001B[49m\u001B[43m)\u001B[49m\n\u001B[1;32m    209\u001B[0m \u001B[38;5;28;01mexcept\u001B[39;00m socket\u001B[38;5;241m.\u001B[39mgaierror \u001B[38;5;28;01mas\u001B[39;00m e:\n",
      "File \u001B[0;32m~/PycharmProjects/codes/.venv/lib/python3.9/site-packages/urllib3/util/connection.py:60\u001B[0m, in \u001B[0;36mcreate_connection\u001B[0;34m(address, timeout, source_address, socket_options)\u001B[0m\n\u001B[1;32m     58\u001B[0m     \u001B[38;5;28;01mraise\u001B[39;00m LocationParseError(\u001B[38;5;124mf\u001B[39m\u001B[38;5;124m\"\u001B[39m\u001B[38;5;124m'\u001B[39m\u001B[38;5;132;01m{\u001B[39;00mhost\u001B[38;5;132;01m}\u001B[39;00m\u001B[38;5;124m'\u001B[39m\u001B[38;5;124m, label empty or too long\u001B[39m\u001B[38;5;124m\"\u001B[39m) \u001B[38;5;28;01mfrom\u001B[39;00m \u001B[38;5;28;01mNone\u001B[39;00m\n\u001B[0;32m---> 60\u001B[0m \u001B[38;5;28;01mfor\u001B[39;00m res \u001B[38;5;129;01min\u001B[39;00m \u001B[43msocket\u001B[49m\u001B[38;5;241;43m.\u001B[39;49m\u001B[43mgetaddrinfo\u001B[49m\u001B[43m(\u001B[49m\u001B[43mhost\u001B[49m\u001B[43m,\u001B[49m\u001B[43m \u001B[49m\u001B[43mport\u001B[49m\u001B[43m,\u001B[49m\u001B[43m \u001B[49m\u001B[43mfamily\u001B[49m\u001B[43m,\u001B[49m\u001B[43m \u001B[49m\u001B[43msocket\u001B[49m\u001B[38;5;241;43m.\u001B[39;49m\u001B[43mSOCK_STREAM\u001B[49m\u001B[43m)\u001B[49m:\n\u001B[1;32m     61\u001B[0m     af, socktype, proto, canonname, sa \u001B[38;5;241m=\u001B[39m res\n",
      "File \u001B[0;32m/Library/Developer/CommandLineTools/Library/Frameworks/Python3.framework/Versions/3.9/lib/python3.9/socket.py:953\u001B[0m, in \u001B[0;36mgetaddrinfo\u001B[0;34m(host, port, family, type, proto, flags)\u001B[0m\n\u001B[1;32m    952\u001B[0m addrlist \u001B[38;5;241m=\u001B[39m []\n\u001B[0;32m--> 953\u001B[0m \u001B[38;5;28;01mfor\u001B[39;00m res \u001B[38;5;129;01min\u001B[39;00m \u001B[43m_socket\u001B[49m\u001B[38;5;241;43m.\u001B[39;49m\u001B[43mgetaddrinfo\u001B[49m\u001B[43m(\u001B[49m\u001B[43mhost\u001B[49m\u001B[43m,\u001B[49m\u001B[43m \u001B[49m\u001B[43mport\u001B[49m\u001B[43m,\u001B[49m\u001B[43m \u001B[49m\u001B[43mfamily\u001B[49m\u001B[43m,\u001B[49m\u001B[43m \u001B[49m\u001B[38;5;28;43mtype\u001B[39;49m\u001B[43m,\u001B[49m\u001B[43m \u001B[49m\u001B[43mproto\u001B[49m\u001B[43m,\u001B[49m\u001B[43m \u001B[49m\u001B[43mflags\u001B[49m\u001B[43m)\u001B[49m:\n\u001B[1;32m    954\u001B[0m     af, socktype, proto, canonname, sa \u001B[38;5;241m=\u001B[39m res\n",
      "\u001B[0;31mgaierror\u001B[0m: [Errno 8] nodename nor servname provided, or not known",
      "\nThe above exception was the direct cause of the following exception:\n",
      "\u001B[0;31mNameResolutionError\u001B[0m                       Traceback (most recent call last)",
      "File \u001B[0;32m~/PycharmProjects/codes/.venv/lib/python3.9/site-packages/urllib3/connectionpool.py:790\u001B[0m, in \u001B[0;36mHTTPConnectionPool.urlopen\u001B[0;34m(self, method, url, body, headers, retries, redirect, assert_same_host, timeout, pool_timeout, release_conn, chunked, body_pos, preload_content, decode_content, **response_kw)\u001B[0m\n\u001B[1;32m    789\u001B[0m \u001B[38;5;66;03m# Make the request on the HTTPConnection object\u001B[39;00m\n\u001B[0;32m--> 790\u001B[0m response \u001B[38;5;241m=\u001B[39m \u001B[38;5;28;43mself\u001B[39;49m\u001B[38;5;241;43m.\u001B[39;49m\u001B[43m_make_request\u001B[49m\u001B[43m(\u001B[49m\n\u001B[1;32m    791\u001B[0m \u001B[43m    \u001B[49m\u001B[43mconn\u001B[49m\u001B[43m,\u001B[49m\n\u001B[1;32m    792\u001B[0m \u001B[43m    \u001B[49m\u001B[43mmethod\u001B[49m\u001B[43m,\u001B[49m\n\u001B[1;32m    793\u001B[0m \u001B[43m    \u001B[49m\u001B[43murl\u001B[49m\u001B[43m,\u001B[49m\n\u001B[1;32m    794\u001B[0m \u001B[43m    \u001B[49m\u001B[43mtimeout\u001B[49m\u001B[38;5;241;43m=\u001B[39;49m\u001B[43mtimeout_obj\u001B[49m\u001B[43m,\u001B[49m\n\u001B[1;32m    795\u001B[0m \u001B[43m    \u001B[49m\u001B[43mbody\u001B[49m\u001B[38;5;241;43m=\u001B[39;49m\u001B[43mbody\u001B[49m\u001B[43m,\u001B[49m\n\u001B[1;32m    796\u001B[0m \u001B[43m    \u001B[49m\u001B[43mheaders\u001B[49m\u001B[38;5;241;43m=\u001B[39;49m\u001B[43mheaders\u001B[49m\u001B[43m,\u001B[49m\n\u001B[1;32m    797\u001B[0m \u001B[43m    \u001B[49m\u001B[43mchunked\u001B[49m\u001B[38;5;241;43m=\u001B[39;49m\u001B[43mchunked\u001B[49m\u001B[43m,\u001B[49m\n\u001B[1;32m    798\u001B[0m \u001B[43m    \u001B[49m\u001B[43mretries\u001B[49m\u001B[38;5;241;43m=\u001B[39;49m\u001B[43mretries\u001B[49m\u001B[43m,\u001B[49m\n\u001B[1;32m    799\u001B[0m \u001B[43m    \u001B[49m\u001B[43mresponse_conn\u001B[49m\u001B[38;5;241;43m=\u001B[39;49m\u001B[43mresponse_conn\u001B[49m\u001B[43m,\u001B[49m\n\u001B[1;32m    800\u001B[0m \u001B[43m    \u001B[49m\u001B[43mpreload_content\u001B[49m\u001B[38;5;241;43m=\u001B[39;49m\u001B[43mpreload_content\u001B[49m\u001B[43m,\u001B[49m\n\u001B[1;32m    801\u001B[0m \u001B[43m    \u001B[49m\u001B[43mdecode_content\u001B[49m\u001B[38;5;241;43m=\u001B[39;49m\u001B[43mdecode_content\u001B[49m\u001B[43m,\u001B[49m\n\u001B[1;32m    802\u001B[0m \u001B[43m    \u001B[49m\u001B[38;5;241;43m*\u001B[39;49m\u001B[38;5;241;43m*\u001B[39;49m\u001B[43mresponse_kw\u001B[49m\u001B[43m,\u001B[49m\n\u001B[1;32m    803\u001B[0m \u001B[43m\u001B[49m\u001B[43m)\u001B[49m\n\u001B[1;32m    805\u001B[0m \u001B[38;5;66;03m# Everything went great!\u001B[39;00m\n",
      "File \u001B[0;32m~/PycharmProjects/codes/.venv/lib/python3.9/site-packages/urllib3/connectionpool.py:491\u001B[0m, in \u001B[0;36mHTTPConnectionPool._make_request\u001B[0;34m(self, conn, method, url, body, headers, retries, timeout, chunked, response_conn, preload_content, decode_content, enforce_content_length)\u001B[0m\n\u001B[1;32m    490\u001B[0m         new_e \u001B[38;5;241m=\u001B[39m _wrap_proxy_error(new_e, conn\u001B[38;5;241m.\u001B[39mproxy\u001B[38;5;241m.\u001B[39mscheme)\n\u001B[0;32m--> 491\u001B[0m     \u001B[38;5;28;01mraise\u001B[39;00m new_e\n\u001B[1;32m    493\u001B[0m \u001B[38;5;66;03m# conn.request() calls http.client.*.request, not the method in\u001B[39;00m\n\u001B[1;32m    494\u001B[0m \u001B[38;5;66;03m# urllib3.request. It also calls makefile (recv) on the socket.\u001B[39;00m\n",
      "File \u001B[0;32m~/PycharmProjects/codes/.venv/lib/python3.9/site-packages/urllib3/connectionpool.py:467\u001B[0m, in \u001B[0;36mHTTPConnectionPool._make_request\u001B[0;34m(self, conn, method, url, body, headers, retries, timeout, chunked, response_conn, preload_content, decode_content, enforce_content_length)\u001B[0m\n\u001B[1;32m    466\u001B[0m \u001B[38;5;28;01mtry\u001B[39;00m:\n\u001B[0;32m--> 467\u001B[0m     \u001B[38;5;28;43mself\u001B[39;49m\u001B[38;5;241;43m.\u001B[39;49m\u001B[43m_validate_conn\u001B[49m\u001B[43m(\u001B[49m\u001B[43mconn\u001B[49m\u001B[43m)\u001B[49m\n\u001B[1;32m    468\u001B[0m \u001B[38;5;28;01mexcept\u001B[39;00m (SocketTimeout, BaseSSLError) \u001B[38;5;28;01mas\u001B[39;00m e:\n",
      "File \u001B[0;32m~/PycharmProjects/codes/.venv/lib/python3.9/site-packages/urllib3/connectionpool.py:1096\u001B[0m, in \u001B[0;36mHTTPSConnectionPool._validate_conn\u001B[0;34m(self, conn)\u001B[0m\n\u001B[1;32m   1095\u001B[0m \u001B[38;5;28;01mif\u001B[39;00m conn\u001B[38;5;241m.\u001B[39mis_closed:\n\u001B[0;32m-> 1096\u001B[0m     \u001B[43mconn\u001B[49m\u001B[38;5;241;43m.\u001B[39;49m\u001B[43mconnect\u001B[49m\u001B[43m(\u001B[49m\u001B[43m)\u001B[49m\n\u001B[1;32m   1098\u001B[0m \u001B[38;5;28;01mif\u001B[39;00m \u001B[38;5;129;01mnot\u001B[39;00m conn\u001B[38;5;241m.\u001B[39mis_verified:\n",
      "File \u001B[0;32m~/PycharmProjects/codes/.venv/lib/python3.9/site-packages/urllib3/connection.py:611\u001B[0m, in \u001B[0;36mHTTPSConnection.connect\u001B[0;34m(self)\u001B[0m\n\u001B[1;32m    610\u001B[0m sock: socket\u001B[38;5;241m.\u001B[39msocket \u001B[38;5;241m|\u001B[39m ssl\u001B[38;5;241m.\u001B[39mSSLSocket\n\u001B[0;32m--> 611\u001B[0m \u001B[38;5;28mself\u001B[39m\u001B[38;5;241m.\u001B[39msock \u001B[38;5;241m=\u001B[39m sock \u001B[38;5;241m=\u001B[39m \u001B[38;5;28;43mself\u001B[39;49m\u001B[38;5;241;43m.\u001B[39;49m\u001B[43m_new_conn\u001B[49m\u001B[43m(\u001B[49m\u001B[43m)\u001B[49m\n\u001B[1;32m    612\u001B[0m server_hostname: \u001B[38;5;28mstr\u001B[39m \u001B[38;5;241m=\u001B[39m \u001B[38;5;28mself\u001B[39m\u001B[38;5;241m.\u001B[39mhost\n",
      "File \u001B[0;32m~/PycharmProjects/codes/.venv/lib/python3.9/site-packages/urllib3/connection.py:210\u001B[0m, in \u001B[0;36mHTTPConnection._new_conn\u001B[0;34m(self)\u001B[0m\n\u001B[1;32m    209\u001B[0m \u001B[38;5;28;01mexcept\u001B[39;00m socket\u001B[38;5;241m.\u001B[39mgaierror \u001B[38;5;28;01mas\u001B[39;00m e:\n\u001B[0;32m--> 210\u001B[0m     \u001B[38;5;28;01mraise\u001B[39;00m NameResolutionError(\u001B[38;5;28mself\u001B[39m\u001B[38;5;241m.\u001B[39mhost, \u001B[38;5;28mself\u001B[39m, e) \u001B[38;5;28;01mfrom\u001B[39;00m \u001B[38;5;21;01me\u001B[39;00m\n\u001B[1;32m    211\u001B[0m \u001B[38;5;28;01mexcept\u001B[39;00m SocketTimeout \u001B[38;5;28;01mas\u001B[39;00m e:\n",
      "\u001B[0;31mNameResolutionError\u001B[0m: <urllib3.connection.HTTPSConnection object at 0x17a0b33d0>: Failed to resolve 'en.wikipedia.org' ([Errno 8] nodename nor servname provided, or not known)",
      "\nThe above exception was the direct cause of the following exception:\n",
      "\u001B[0;31mMaxRetryError\u001B[0m                             Traceback (most recent call last)",
      "File \u001B[0;32m~/PycharmProjects/codes/.venv/lib/python3.9/site-packages/requests/adapters.py:486\u001B[0m, in \u001B[0;36mHTTPAdapter.send\u001B[0;34m(self, request, stream, timeout, verify, cert, proxies)\u001B[0m\n\u001B[1;32m    485\u001B[0m \u001B[38;5;28;01mtry\u001B[39;00m:\n\u001B[0;32m--> 486\u001B[0m     resp \u001B[38;5;241m=\u001B[39m \u001B[43mconn\u001B[49m\u001B[38;5;241;43m.\u001B[39;49m\u001B[43murlopen\u001B[49m\u001B[43m(\u001B[49m\n\u001B[1;32m    487\u001B[0m \u001B[43m        \u001B[49m\u001B[43mmethod\u001B[49m\u001B[38;5;241;43m=\u001B[39;49m\u001B[43mrequest\u001B[49m\u001B[38;5;241;43m.\u001B[39;49m\u001B[43mmethod\u001B[49m\u001B[43m,\u001B[49m\n\u001B[1;32m    488\u001B[0m \u001B[43m        \u001B[49m\u001B[43murl\u001B[49m\u001B[38;5;241;43m=\u001B[39;49m\u001B[43murl\u001B[49m\u001B[43m,\u001B[49m\n\u001B[1;32m    489\u001B[0m \u001B[43m        \u001B[49m\u001B[43mbody\u001B[49m\u001B[38;5;241;43m=\u001B[39;49m\u001B[43mrequest\u001B[49m\u001B[38;5;241;43m.\u001B[39;49m\u001B[43mbody\u001B[49m\u001B[43m,\u001B[49m\n\u001B[1;32m    490\u001B[0m \u001B[43m        \u001B[49m\u001B[43mheaders\u001B[49m\u001B[38;5;241;43m=\u001B[39;49m\u001B[43mrequest\u001B[49m\u001B[38;5;241;43m.\u001B[39;49m\u001B[43mheaders\u001B[49m\u001B[43m,\u001B[49m\n\u001B[1;32m    491\u001B[0m \u001B[43m        \u001B[49m\u001B[43mredirect\u001B[49m\u001B[38;5;241;43m=\u001B[39;49m\u001B[38;5;28;43;01mFalse\u001B[39;49;00m\u001B[43m,\u001B[49m\n\u001B[1;32m    492\u001B[0m \u001B[43m        \u001B[49m\u001B[43massert_same_host\u001B[49m\u001B[38;5;241;43m=\u001B[39;49m\u001B[38;5;28;43;01mFalse\u001B[39;49;00m\u001B[43m,\u001B[49m\n\u001B[1;32m    493\u001B[0m \u001B[43m        \u001B[49m\u001B[43mpreload_content\u001B[49m\u001B[38;5;241;43m=\u001B[39;49m\u001B[38;5;28;43;01mFalse\u001B[39;49;00m\u001B[43m,\u001B[49m\n\u001B[1;32m    494\u001B[0m \u001B[43m        \u001B[49m\u001B[43mdecode_content\u001B[49m\u001B[38;5;241;43m=\u001B[39;49m\u001B[38;5;28;43;01mFalse\u001B[39;49;00m\u001B[43m,\u001B[49m\n\u001B[1;32m    495\u001B[0m \u001B[43m        \u001B[49m\u001B[43mretries\u001B[49m\u001B[38;5;241;43m=\u001B[39;49m\u001B[38;5;28;43mself\u001B[39;49m\u001B[38;5;241;43m.\u001B[39;49m\u001B[43mmax_retries\u001B[49m\u001B[43m,\u001B[49m\n\u001B[1;32m    496\u001B[0m \u001B[43m        \u001B[49m\u001B[43mtimeout\u001B[49m\u001B[38;5;241;43m=\u001B[39;49m\u001B[43mtimeout\u001B[49m\u001B[43m,\u001B[49m\n\u001B[1;32m    497\u001B[0m \u001B[43m        \u001B[49m\u001B[43mchunked\u001B[49m\u001B[38;5;241;43m=\u001B[39;49m\u001B[43mchunked\u001B[49m\u001B[43m,\u001B[49m\n\u001B[1;32m    498\u001B[0m \u001B[43m    \u001B[49m\u001B[43m)\u001B[49m\n\u001B[1;32m    500\u001B[0m \u001B[38;5;28;01mexcept\u001B[39;00m (ProtocolError, \u001B[38;5;167;01mOSError\u001B[39;00m) \u001B[38;5;28;01mas\u001B[39;00m err:\n",
      "File \u001B[0;32m~/PycharmProjects/codes/.venv/lib/python3.9/site-packages/urllib3/connectionpool.py:844\u001B[0m, in \u001B[0;36mHTTPConnectionPool.urlopen\u001B[0;34m(self, method, url, body, headers, retries, redirect, assert_same_host, timeout, pool_timeout, release_conn, chunked, body_pos, preload_content, decode_content, **response_kw)\u001B[0m\n\u001B[1;32m    842\u001B[0m     new_e \u001B[38;5;241m=\u001B[39m ProtocolError(\u001B[38;5;124m\"\u001B[39m\u001B[38;5;124mConnection aborted.\u001B[39m\u001B[38;5;124m\"\u001B[39m, new_e)\n\u001B[0;32m--> 844\u001B[0m retries \u001B[38;5;241m=\u001B[39m \u001B[43mretries\u001B[49m\u001B[38;5;241;43m.\u001B[39;49m\u001B[43mincrement\u001B[49m\u001B[43m(\u001B[49m\n\u001B[1;32m    845\u001B[0m \u001B[43m    \u001B[49m\u001B[43mmethod\u001B[49m\u001B[43m,\u001B[49m\u001B[43m \u001B[49m\u001B[43murl\u001B[49m\u001B[43m,\u001B[49m\u001B[43m \u001B[49m\u001B[43merror\u001B[49m\u001B[38;5;241;43m=\u001B[39;49m\u001B[43mnew_e\u001B[49m\u001B[43m,\u001B[49m\u001B[43m \u001B[49m\u001B[43m_pool\u001B[49m\u001B[38;5;241;43m=\u001B[39;49m\u001B[38;5;28;43mself\u001B[39;49m\u001B[43m,\u001B[49m\u001B[43m \u001B[49m\u001B[43m_stacktrace\u001B[49m\u001B[38;5;241;43m=\u001B[39;49m\u001B[43msys\u001B[49m\u001B[38;5;241;43m.\u001B[39;49m\u001B[43mexc_info\u001B[49m\u001B[43m(\u001B[49m\u001B[43m)\u001B[49m\u001B[43m[\u001B[49m\u001B[38;5;241;43m2\u001B[39;49m\u001B[43m]\u001B[49m\n\u001B[1;32m    846\u001B[0m \u001B[43m\u001B[49m\u001B[43m)\u001B[49m\n\u001B[1;32m    847\u001B[0m retries\u001B[38;5;241m.\u001B[39msleep()\n",
      "File \u001B[0;32m~/PycharmProjects/codes/.venv/lib/python3.9/site-packages/urllib3/util/retry.py:515\u001B[0m, in \u001B[0;36mRetry.increment\u001B[0;34m(self, method, url, response, error, _pool, _stacktrace)\u001B[0m\n\u001B[1;32m    514\u001B[0m     reason \u001B[38;5;241m=\u001B[39m error \u001B[38;5;129;01mor\u001B[39;00m ResponseError(cause)\n\u001B[0;32m--> 515\u001B[0m     \u001B[38;5;28;01mraise\u001B[39;00m MaxRetryError(_pool, url, reason) \u001B[38;5;28;01mfrom\u001B[39;00m \u001B[38;5;21;01mreason\u001B[39;00m  \u001B[38;5;66;03m# type: ignore[arg-type]\u001B[39;00m\n\u001B[1;32m    517\u001B[0m log\u001B[38;5;241m.\u001B[39mdebug(\u001B[38;5;124m\"\u001B[39m\u001B[38;5;124mIncremented Retry for (url=\u001B[39m\u001B[38;5;124m'\u001B[39m\u001B[38;5;132;01m%s\u001B[39;00m\u001B[38;5;124m'\u001B[39m\u001B[38;5;124m): \u001B[39m\u001B[38;5;132;01m%r\u001B[39;00m\u001B[38;5;124m\"\u001B[39m, url, new_retry)\n",
      "\u001B[0;31mMaxRetryError\u001B[0m: HTTPSConnectionPool(host='en.wikipedia.org', port=443): Max retries exceeded with url: /wiki/ISO_4217 (Caused by NameResolutionError(\"<urllib3.connection.HTTPSConnection object at 0x17a0b33d0>: Failed to resolve 'en.wikipedia.org' ([Errno 8] nodename nor servname provided, or not known)\"))",
      "\nDuring handling of the above exception, another exception occurred:\n",
      "\u001B[0;31mConnectionError\u001B[0m                           Traceback (most recent call last)",
      "Cell \u001B[0;32mIn[12], line 7\u001B[0m\n\u001B[1;32m      5\u001B[0m \u001B[38;5;66;03m# Загрузка страницы\u001B[39;00m\n\u001B[1;32m      6\u001B[0m url \u001B[38;5;241m=\u001B[39m \u001B[38;5;124m'\u001B[39m\u001B[38;5;124mhttps://en.wikipedia.org/wiki/ISO_4217#Active_codes_(list_one)\u001B[39m\u001B[38;5;124m'\u001B[39m\n\u001B[0;32m----> 7\u001B[0m response \u001B[38;5;241m=\u001B[39m \u001B[43mrequests\u001B[49m\u001B[38;5;241;43m.\u001B[39;49m\u001B[43mget\u001B[49m\u001B[43m(\u001B[49m\u001B[43murl\u001B[49m\u001B[43m)\u001B[49m\n\u001B[1;32m      9\u001B[0m \u001B[38;5;66;03m# Создание объекта BeautifulSoup\u001B[39;00m\n\u001B[1;32m     10\u001B[0m soup \u001B[38;5;241m=\u001B[39m BeautifulSoup(response\u001B[38;5;241m.\u001B[39mtext, \u001B[38;5;124m'\u001B[39m\u001B[38;5;124mhtml.parser\u001B[39m\u001B[38;5;124m'\u001B[39m)\n",
      "File \u001B[0;32m~/PycharmProjects/codes/.venv/lib/python3.9/site-packages/requests/api.py:73\u001B[0m, in \u001B[0;36mget\u001B[0;34m(url, params, **kwargs)\u001B[0m\n\u001B[1;32m     62\u001B[0m \u001B[38;5;28;01mdef\u001B[39;00m \u001B[38;5;21mget\u001B[39m(url, params\u001B[38;5;241m=\u001B[39m\u001B[38;5;28;01mNone\u001B[39;00m, \u001B[38;5;241m*\u001B[39m\u001B[38;5;241m*\u001B[39mkwargs):\n\u001B[1;32m     63\u001B[0m \u001B[38;5;250m    \u001B[39m\u001B[38;5;124mr\u001B[39m\u001B[38;5;124;03m\"\"\"Sends a GET request.\u001B[39;00m\n\u001B[1;32m     64\u001B[0m \n\u001B[1;32m     65\u001B[0m \u001B[38;5;124;03m    :param url: URL for the new :class:`Request` object.\u001B[39;00m\n\u001B[0;32m   (...)\u001B[0m\n\u001B[1;32m     70\u001B[0m \u001B[38;5;124;03m    :rtype: requests.Response\u001B[39;00m\n\u001B[1;32m     71\u001B[0m \u001B[38;5;124;03m    \"\"\"\u001B[39;00m\n\u001B[0;32m---> 73\u001B[0m     \u001B[38;5;28;01mreturn\u001B[39;00m \u001B[43mrequest\u001B[49m\u001B[43m(\u001B[49m\u001B[38;5;124;43m\"\u001B[39;49m\u001B[38;5;124;43mget\u001B[39;49m\u001B[38;5;124;43m\"\u001B[39;49m\u001B[43m,\u001B[49m\u001B[43m \u001B[49m\u001B[43murl\u001B[49m\u001B[43m,\u001B[49m\u001B[43m \u001B[49m\u001B[43mparams\u001B[49m\u001B[38;5;241;43m=\u001B[39;49m\u001B[43mparams\u001B[49m\u001B[43m,\u001B[49m\u001B[43m \u001B[49m\u001B[38;5;241;43m*\u001B[39;49m\u001B[38;5;241;43m*\u001B[39;49m\u001B[43mkwargs\u001B[49m\u001B[43m)\u001B[49m\n",
      "File \u001B[0;32m~/PycharmProjects/codes/.venv/lib/python3.9/site-packages/requests/api.py:59\u001B[0m, in \u001B[0;36mrequest\u001B[0;34m(method, url, **kwargs)\u001B[0m\n\u001B[1;32m     55\u001B[0m \u001B[38;5;66;03m# By using the 'with' statement we are sure the session is closed, thus we\u001B[39;00m\n\u001B[1;32m     56\u001B[0m \u001B[38;5;66;03m# avoid leaving sockets open which can trigger a ResourceWarning in some\u001B[39;00m\n\u001B[1;32m     57\u001B[0m \u001B[38;5;66;03m# cases, and look like a memory leak in others.\u001B[39;00m\n\u001B[1;32m     58\u001B[0m \u001B[38;5;28;01mwith\u001B[39;00m sessions\u001B[38;5;241m.\u001B[39mSession() \u001B[38;5;28;01mas\u001B[39;00m session:\n\u001B[0;32m---> 59\u001B[0m     \u001B[38;5;28;01mreturn\u001B[39;00m \u001B[43msession\u001B[49m\u001B[38;5;241;43m.\u001B[39;49m\u001B[43mrequest\u001B[49m\u001B[43m(\u001B[49m\u001B[43mmethod\u001B[49m\u001B[38;5;241;43m=\u001B[39;49m\u001B[43mmethod\u001B[49m\u001B[43m,\u001B[49m\u001B[43m \u001B[49m\u001B[43murl\u001B[49m\u001B[38;5;241;43m=\u001B[39;49m\u001B[43murl\u001B[49m\u001B[43m,\u001B[49m\u001B[43m \u001B[49m\u001B[38;5;241;43m*\u001B[39;49m\u001B[38;5;241;43m*\u001B[39;49m\u001B[43mkwargs\u001B[49m\u001B[43m)\u001B[49m\n",
      "File \u001B[0;32m~/PycharmProjects/codes/.venv/lib/python3.9/site-packages/requests/sessions.py:589\u001B[0m, in \u001B[0;36mSession.request\u001B[0;34m(self, method, url, params, data, headers, cookies, files, auth, timeout, allow_redirects, proxies, hooks, stream, verify, cert, json)\u001B[0m\n\u001B[1;32m    584\u001B[0m send_kwargs \u001B[38;5;241m=\u001B[39m {\n\u001B[1;32m    585\u001B[0m     \u001B[38;5;124m\"\u001B[39m\u001B[38;5;124mtimeout\u001B[39m\u001B[38;5;124m\"\u001B[39m: timeout,\n\u001B[1;32m    586\u001B[0m     \u001B[38;5;124m\"\u001B[39m\u001B[38;5;124mallow_redirects\u001B[39m\u001B[38;5;124m\"\u001B[39m: allow_redirects,\n\u001B[1;32m    587\u001B[0m }\n\u001B[1;32m    588\u001B[0m send_kwargs\u001B[38;5;241m.\u001B[39mupdate(settings)\n\u001B[0;32m--> 589\u001B[0m resp \u001B[38;5;241m=\u001B[39m \u001B[38;5;28;43mself\u001B[39;49m\u001B[38;5;241;43m.\u001B[39;49m\u001B[43msend\u001B[49m\u001B[43m(\u001B[49m\u001B[43mprep\u001B[49m\u001B[43m,\u001B[49m\u001B[43m \u001B[49m\u001B[38;5;241;43m*\u001B[39;49m\u001B[38;5;241;43m*\u001B[39;49m\u001B[43msend_kwargs\u001B[49m\u001B[43m)\u001B[49m\n\u001B[1;32m    591\u001B[0m \u001B[38;5;28;01mreturn\u001B[39;00m resp\n",
      "File \u001B[0;32m~/PycharmProjects/codes/.venv/lib/python3.9/site-packages/requests/sessions.py:703\u001B[0m, in \u001B[0;36mSession.send\u001B[0;34m(self, request, **kwargs)\u001B[0m\n\u001B[1;32m    700\u001B[0m start \u001B[38;5;241m=\u001B[39m preferred_clock()\n\u001B[1;32m    702\u001B[0m \u001B[38;5;66;03m# Send the request\u001B[39;00m\n\u001B[0;32m--> 703\u001B[0m r \u001B[38;5;241m=\u001B[39m \u001B[43madapter\u001B[49m\u001B[38;5;241;43m.\u001B[39;49m\u001B[43msend\u001B[49m\u001B[43m(\u001B[49m\u001B[43mrequest\u001B[49m\u001B[43m,\u001B[49m\u001B[43m \u001B[49m\u001B[38;5;241;43m*\u001B[39;49m\u001B[38;5;241;43m*\u001B[39;49m\u001B[43mkwargs\u001B[49m\u001B[43m)\u001B[49m\n\u001B[1;32m    705\u001B[0m \u001B[38;5;66;03m# Total elapsed time of the request (approximately)\u001B[39;00m\n\u001B[1;32m    706\u001B[0m elapsed \u001B[38;5;241m=\u001B[39m preferred_clock() \u001B[38;5;241m-\u001B[39m start\n",
      "File \u001B[0;32m~/PycharmProjects/codes/.venv/lib/python3.9/site-packages/requests/adapters.py:519\u001B[0m, in \u001B[0;36mHTTPAdapter.send\u001B[0;34m(self, request, stream, timeout, verify, cert, proxies)\u001B[0m\n\u001B[1;32m    515\u001B[0m     \u001B[38;5;28;01mif\u001B[39;00m \u001B[38;5;28misinstance\u001B[39m(e\u001B[38;5;241m.\u001B[39mreason, _SSLError):\n\u001B[1;32m    516\u001B[0m         \u001B[38;5;66;03m# This branch is for urllib3 v1.22 and later.\u001B[39;00m\n\u001B[1;32m    517\u001B[0m         \u001B[38;5;28;01mraise\u001B[39;00m SSLError(e, request\u001B[38;5;241m=\u001B[39mrequest)\n\u001B[0;32m--> 519\u001B[0m     \u001B[38;5;28;01mraise\u001B[39;00m \u001B[38;5;167;01mConnectionError\u001B[39;00m(e, request\u001B[38;5;241m=\u001B[39mrequest)\n\u001B[1;32m    521\u001B[0m \u001B[38;5;28;01mexcept\u001B[39;00m ClosedPoolError \u001B[38;5;28;01mas\u001B[39;00m e:\n\u001B[1;32m    522\u001B[0m     \u001B[38;5;28;01mraise\u001B[39;00m \u001B[38;5;167;01mConnectionError\u001B[39;00m(e, request\u001B[38;5;241m=\u001B[39mrequest)\n",
      "\u001B[0;31mConnectionError\u001B[0m: HTTPSConnectionPool(host='en.wikipedia.org', port=443): Max retries exceeded with url: /wiki/ISO_4217 (Caused by NameResolutionError(\"<urllib3.connection.HTTPSConnection object at 0x17a0b33d0>: Failed to resolve 'en.wikipedia.org' ([Errno 8] nodename nor servname provided, or not known)\"))"
     ]
    }
   ],
   "source": [
    "import pandas as pd\n",
    "import requests\n",
    "from bs4 import BeautifulSoup\n",
    "\n",
    "# Загрузка страницы\n",
    "url = 'https://en.wikipedia.org/wiki/ISO_4217#Active_codes_(list_one)'\n",
    "response = requests.get(url)\n",
    "\n",
    "# Создание объекта BeautifulSoup\n",
    "soup = BeautifulSoup(response.text, 'html.parser')\n",
    "\n",
    "# Нахождение таблицы\n",
    "table = soup.find('table', {'class': 'wikitable'})\n",
    "\n",
    "# Извлечение данных из таблицы\n",
    "rows = table.find_all('tr')\n",
    "data_1 = []\n",
    "for row in rows:\n",
    "    cols = row.find_all(['th', 'td'])\n",
    "    cols = [col.text.strip() for col in cols]\n",
    "    data_1.append(cols)\n",
    "\n",
    "# Создание DataFrame\n",
    "wiki_table = pd.DataFrame(data_1[1:], columns=data_1[0])\n",
    "\n",
    "# Создание CSV\n",
    "wiki_table.to_csv('currency_codes_wiki.csv')\n",
    "\n",
    "# Вывод DataFrame\n",
    "wiki_table"
   ],
   "metadata": {
    "collapsed": false,
    "ExecuteTime": {
     "end_time": "2024-02-10T05:46:30.759835Z",
     "start_time": "2024-02-10T05:46:29.956941Z"
    }
   },
   "execution_count": 12
  },
  {
   "cell_type": "code",
   "execution_count": 13,
   "metadata": {
    "scrolled": true,
    "ExecuteTime": {
     "end_time": "2024-02-10T05:46:31.429183Z",
     "start_time": "2024-02-10T05:46:31.379620Z"
    }
   },
   "outputs": [
    {
     "data": {
      "text/plain": "   Unnamed: 0 Code  Num D[a]                       Currency  \\\n0           0  AED  784    2    United Arab Emirates dirham   \n1           1  AFN  971    2                 Afghan afghani   \n2           2  ALL    8    2                   Albanian lek   \n3           3  AMD   51    2                  Armenian dram   \n4           4  ANG  532    2  Netherlands Antillean guilder   \n\n  Locations listed for this currency[b]  \n0                  United Arab Emirates  \n1                           Afghanistan  \n2                               Albania  \n3                               Armenia  \n4      Curaçao (CW),  Sint Maarten (SX)  ",
      "text/html": "<div>\n<style scoped>\n    .dataframe tbody tr th:only-of-type {\n        vertical-align: middle;\n    }\n\n    .dataframe tbody tr th {\n        vertical-align: top;\n    }\n\n    .dataframe thead th {\n        text-align: right;\n    }\n</style>\n<table border=\"1\" class=\"dataframe\">\n  <thead>\n    <tr style=\"text-align: right;\">\n      <th></th>\n      <th>Unnamed: 0</th>\n      <th>Code</th>\n      <th>Num</th>\n      <th>D[a]</th>\n      <th>Currency</th>\n      <th>Locations listed for this currency[b]</th>\n    </tr>\n  </thead>\n  <tbody>\n    <tr>\n      <th>0</th>\n      <td>0</td>\n      <td>AED</td>\n      <td>784</td>\n      <td>2</td>\n      <td>United Arab Emirates dirham</td>\n      <td>United Arab Emirates</td>\n    </tr>\n    <tr>\n      <th>1</th>\n      <td>1</td>\n      <td>AFN</td>\n      <td>971</td>\n      <td>2</td>\n      <td>Afghan afghani</td>\n      <td>Afghanistan</td>\n    </tr>\n    <tr>\n      <th>2</th>\n      <td>2</td>\n      <td>ALL</td>\n      <td>8</td>\n      <td>2</td>\n      <td>Albanian lek</td>\n      <td>Albania</td>\n    </tr>\n    <tr>\n      <th>3</th>\n      <td>3</td>\n      <td>AMD</td>\n      <td>51</td>\n      <td>2</td>\n      <td>Armenian dram</td>\n      <td>Armenia</td>\n    </tr>\n    <tr>\n      <th>4</th>\n      <td>4</td>\n      <td>ANG</td>\n      <td>532</td>\n      <td>2</td>\n      <td>Netherlands Antillean guilder</td>\n      <td>Curaçao (CW),  Sint Maarten (SX)</td>\n    </tr>\n  </tbody>\n</table>\n</div>"
     },
     "execution_count": 13,
     "metadata": {},
     "output_type": "execute_result"
    }
   ],
   "source": [
    "wiki_table = pd.read_csv('currency_codes_wiki.csv')\n",
    "wiki_table.head()"
   ]
  },
  {
   "cell_type": "code",
   "execution_count": 14,
   "metadata": {
    "ExecuteTime": {
     "end_time": "2024-02-10T05:46:33.692533Z",
     "start_time": "2024-02-10T05:46:33.555433Z"
    }
   },
   "outputs": [
    {
     "name": "stdout",
     "output_type": "stream",
     "text": [
      "<class 'pandas.core.frame.DataFrame'>\n",
      "RangeIndex: 179 entries, 0 to 178\n",
      "Data columns (total 6 columns):\n",
      " #   Column                                 Non-Null Count  Dtype \n",
      "---  ------                                 --------------  ----- \n",
      " 0   Unnamed: 0                             179 non-null    int64 \n",
      " 1   Code                                   179 non-null    object\n",
      " 2   Num                                    179 non-null    int64 \n",
      " 3   D[a]                                   179 non-null    object\n",
      " 4   Currency                               179 non-null    object\n",
      " 5   Locations listed for this currency[b]  169 non-null    object\n",
      "dtypes: int64(2), object(4)\n",
      "memory usage: 8.5+ KB\n",
      "     Unnamed: 0 Code  Num D[a]                       Currency  \\\n",
      "0             0  AED  784    2    United Arab Emirates dirham   \n",
      "1             1  AFN  971    2                 Afghan afghani   \n",
      "2             2  ALL    8    2                   Albanian lek   \n",
      "3             3  AMD   51    2                  Armenian dram   \n",
      "4             4  ANG  532    2  Netherlands Antillean guilder   \n",
      "..          ...  ...  ...  ...                            ...   \n",
      "174         174  XXX  999    .                    No currency   \n",
      "175         175  YER  886    2                    Yemeni rial   \n",
      "176         176  ZAR  710    2             South African rand   \n",
      "177         177  ZMW  967    2                 Zambian kwacha   \n",
      "178         178  ZWL  932    2   Zimbabwean dollar (fifth)[g]   \n",
      "\n",
      "           Locations listed for this currency[b]  \n",
      "0                           United Arab Emirates  \n",
      "1                                    Afghanistan  \n",
      "2                                        Albania  \n",
      "3                                        Armenia  \n",
      "4               Curaçao (CW),  Sint Maarten (SX)  \n",
      "..                                           ...  \n",
      "174                                          NaN  \n",
      "175                                        Yemen  \n",
      "176  Eswatini,  Lesotho,  Namibia,  South Africa  \n",
      "177                                       Zambia  \n",
      "178                                     Zimbabwe  \n",
      "\n",
      "[179 rows x 6 columns]\n"
     ]
    }
   ],
   "source": [
    "wiki_table.info()\n",
    "print(wiki_table)"
   ]
  },
  {
   "cell_type": "code",
   "execution_count": 15,
   "metadata": {
    "ExecuteTime": {
     "end_time": "2024-02-10T05:46:34.403781Z",
     "start_time": "2024-02-10T05:46:34.331418Z"
    }
   },
   "outputs": [
    {
     "data": {
      "text/plain": "    mcc     period        trdatetime   amount channel_type  cl_id  currency  \\\n0  5200 2017-10-01  21OCT17:00:00:00   5023.0          NaN      0       810   \n1  6011 2017-10-01  12OCT17:12:24:07  20000.0          NaN      0       810   \n2  5921 2017-12-01  05DEC17:00:00:00    767.0          NaN      0       810   \n3  5411 2017-10-01  21OCT17:00:00:00   2031.0          NaN      0       810   \n4  6012 2017-10-01  24OCT17:13:14:24  36562.0          NaN      0       810   \n\n  trx_category transac_time transac_day transac_month transac_year  \\\n0          POS     17:00:00          21            10         2017   \n1      DEPOSIT     17:12:24          12            10         2017   \n2          POS     17:00:00          05            12         2017   \n3          POS     17:00:00          21            10         2017   \n4      C2C_OUT     17:13:14          24            10         2017   \n\n  transac_year_month  \n0            2017-10  \n1            2017-10  \n2            2017-12  \n3            2017-10  \n4            2017-10  ",
      "text/html": "<div>\n<style scoped>\n    .dataframe tbody tr th:only-of-type {\n        vertical-align: middle;\n    }\n\n    .dataframe tbody tr th {\n        vertical-align: top;\n    }\n\n    .dataframe thead th {\n        text-align: right;\n    }\n</style>\n<table border=\"1\" class=\"dataframe\">\n  <thead>\n    <tr style=\"text-align: right;\">\n      <th></th>\n      <th>mcc</th>\n      <th>period</th>\n      <th>trdatetime</th>\n      <th>amount</th>\n      <th>channel_type</th>\n      <th>cl_id</th>\n      <th>currency</th>\n      <th>trx_category</th>\n      <th>transac_time</th>\n      <th>transac_day</th>\n      <th>transac_month</th>\n      <th>transac_year</th>\n      <th>transac_year_month</th>\n    </tr>\n  </thead>\n  <tbody>\n    <tr>\n      <th>0</th>\n      <td>5200</td>\n      <td>2017-10-01</td>\n      <td>21OCT17:00:00:00</td>\n      <td>5023.0</td>\n      <td>NaN</td>\n      <td>0</td>\n      <td>810</td>\n      <td>POS</td>\n      <td>17:00:00</td>\n      <td>21</td>\n      <td>10</td>\n      <td>2017</td>\n      <td>2017-10</td>\n    </tr>\n    <tr>\n      <th>1</th>\n      <td>6011</td>\n      <td>2017-10-01</td>\n      <td>12OCT17:12:24:07</td>\n      <td>20000.0</td>\n      <td>NaN</td>\n      <td>0</td>\n      <td>810</td>\n      <td>DEPOSIT</td>\n      <td>17:12:24</td>\n      <td>12</td>\n      <td>10</td>\n      <td>2017</td>\n      <td>2017-10</td>\n    </tr>\n    <tr>\n      <th>2</th>\n      <td>5921</td>\n      <td>2017-12-01</td>\n      <td>05DEC17:00:00:00</td>\n      <td>767.0</td>\n      <td>NaN</td>\n      <td>0</td>\n      <td>810</td>\n      <td>POS</td>\n      <td>17:00:00</td>\n      <td>05</td>\n      <td>12</td>\n      <td>2017</td>\n      <td>2017-12</td>\n    </tr>\n    <tr>\n      <th>3</th>\n      <td>5411</td>\n      <td>2017-10-01</td>\n      <td>21OCT17:00:00:00</td>\n      <td>2031.0</td>\n      <td>NaN</td>\n      <td>0</td>\n      <td>810</td>\n      <td>POS</td>\n      <td>17:00:00</td>\n      <td>21</td>\n      <td>10</td>\n      <td>2017</td>\n      <td>2017-10</td>\n    </tr>\n    <tr>\n      <th>4</th>\n      <td>6012</td>\n      <td>2017-10-01</td>\n      <td>24OCT17:13:14:24</td>\n      <td>36562.0</td>\n      <td>NaN</td>\n      <td>0</td>\n      <td>810</td>\n      <td>C2C_OUT</td>\n      <td>17:13:14</td>\n      <td>24</td>\n      <td>10</td>\n      <td>2017</td>\n      <td>2017-10</td>\n    </tr>\n  </tbody>\n</table>\n</div>"
     },
     "execution_count": 15,
     "metadata": {},
     "output_type": "execute_result"
    }
   ],
   "source": [
    "data.head()"
   ]
  },
  {
   "cell_type": "markdown",
   "metadata": {},
   "source": [
    "Переведем наши поля по которым будем мэтчить в один тип данных. Я выбрал `int`.<br>\n",
    "Приводить значения в таблице `wiki_table` нам не надо так как они уже в `int`."
   ]
  },
  {
   "cell_type": "code",
   "execution_count": 16,
   "metadata": {
    "ExecuteTime": {
     "end_time": "2024-02-10T05:46:35.990371Z",
     "start_time": "2024-02-10T05:46:35.913712Z"
    }
   },
   "outputs": [],
   "source": [
    "#wiki_table['num_code'] = wiki_table['num_code'].astype(int)\n",
    "data['currency'] = data['currency'].astype(int)"
   ]
  },
  {
   "cell_type": "markdown",
   "metadata": {},
   "source": [
    "Чтобы совместить таблички нам нужно их \"смерджить\", то есть применить метод **.merge**, который дословно значит \"слить\".<br>\n",
    "Итак, смерджить таблички можно по-разному, как схематически показано ниже. И в зависимости от смысла задачи может требоваться <br>\n",
    "разный вид мерджа. В нашем случае нам нужен левый (left), чтобы притянуть все значения к левой табличке.<br>\n",
    "Про объединение таблиц и различного рода совмещения очень хорошо написано с примерами в [документации](https://pandas.pydata.org/pandas-docs/stable/merging.html).\n",
    "<img src=\"https://shanelynnwebsite-mid9n9g1q9y8tt.netdna-ssl.com/wp-content/uploads/2017/03/join-types-merge-names.jpg\"/> "
   ]
  },
  {
   "cell_type": "code",
   "execution_count": 17,
   "metadata": {
    "ExecuteTime": {
     "end_time": "2024-02-10T05:46:38.279742Z",
     "start_time": "2024-02-10T05:46:37.919253Z"
    }
   },
   "outputs": [
    {
     "name": "stdout",
     "output_type": "stream",
     "text": [
      "<class 'pandas.core.frame.DataFrame'>\n",
      "RangeIndex: 1008889 entries, 0 to 1008888\n",
      "Data columns (total 13 columns):\n",
      " #   Column              Non-Null Count    Dtype         \n",
      "---  ------              --------------    -----         \n",
      " 0   mcc                 1008889 non-null  int64         \n",
      " 1   period              1008889 non-null  datetime64[ns]\n",
      " 2   trdatetime          1008889 non-null  object        \n",
      " 3   amount              1008889 non-null  float64       \n",
      " 4   channel_type        1003825 non-null  object        \n",
      " 5   cl_id               1008889 non-null  int64         \n",
      " 6   currency            1008889 non-null  int64         \n",
      " 7   trx_category        1008889 non-null  object        \n",
      " 8   transac_time        1008889 non-null  object        \n",
      " 9   transac_day         1008889 non-null  object        \n",
      " 10  transac_month       1008889 non-null  object        \n",
      " 11  transac_year        1008889 non-null  object        \n",
      " 12  transac_year_month  1008889 non-null  object        \n",
      "dtypes: datetime64[ns](1), float64(1), int64(3), object(8)\n",
      "memory usage: 100.1+ MB\n"
     ]
    }
   ],
   "source": [
    "# data = data.merge(wiki_table, left_on='currency', right_on='Num', how='left').head()\n",
    "data.info()"
   ]
  },
  {
   "cell_type": "markdown",
   "metadata": {},
   "source": [
    "**WAT DA HELL?**"
   ]
  },
  {
   "cell_type": "markdown",
   "metadata": {},
   "source": [
    "Хух, ну вроде все верно, но что не так?"
   ]
  },
  {
   "cell_type": "code",
   "execution_count": 18,
   "metadata": {
    "scrolled": true,
    "ExecuteTime": {
     "end_time": "2024-02-10T05:46:40.776983Z",
     "start_time": "2024-02-10T05:46:40.276587Z"
    }
   },
   "outputs": [
    {
     "name": "stdout",
     "output_type": "stream",
     "text": [
      "[ nan 978. 504. 704. 981. 985. 840. 949.  51. 826. 214. 764. 203. 702.\n",
      " 360. 756. 933. 975.  36. 784. 980. 124. 398. 376. 944. 352. 417. 156.\n",
      " 752. 392. 484. 634. 188. 643. 348. 356. 458. 986. 498. 578. 208. 344.\n",
      "  32. 410. 788. 480. 604. 941. 144. 946. 710. 690.  44. 170. 901. 608.\n",
      " 554. 462. 800. 977. 496. 516.  48. 446. 404. 524.]\n",
      "    mcc     period        trdatetime   amount channel_type  cl_id  currency  \\\n",
      "0  5200 2017-10-01  21OCT17:00:00:00   5023.0          NaN      0       810   \n",
      "1  6011 2017-10-01  12OCT17:12:24:07  20000.0          NaN      0       810   \n",
      "2  5921 2017-12-01  05DEC17:00:00:00    767.0          NaN      0       810   \n",
      "3  5411 2017-10-01  21OCT17:00:00:00   2031.0          NaN      0       810   \n",
      "4  6012 2017-10-01  24OCT17:13:14:24  36562.0          NaN      0       810   \n",
      "\n",
      "  trx_category transac_time transac_day transac_month transac_year  \\\n",
      "0          POS     17:00:00          21            10         2017   \n",
      "1      DEPOSIT     17:12:24          12            10         2017   \n",
      "2          POS     17:00:00          05            12         2017   \n",
      "3          POS     17:00:00          21            10         2017   \n",
      "4      C2C_OUT     17:13:14          24            10         2017   \n",
      "\n",
      "  transac_year_month  Num  \n",
      "0            2017-10  NaN  \n",
      "1            2017-10  NaN  \n",
      "2            2017-12  NaN  \n",
      "3            2017-10  NaN  \n",
      "4            2017-10  NaN  \n"
     ]
    }
   ],
   "source": [
    "data['currency'] = data['currency'].astype(int)\n",
    "\n",
    "# Выполняем объединение с явным указанием суффиксов\n",
    "merged_data = data.merge(wiki_table, left_on='currency', right_on='Num', how='left', suffixes=('_data', '_wiki'))\n",
    "\n",
    "# Уникальные значения 'Num' в объединенном DataFrame\n",
    "unique_nums = merged_data['Num'].unique()\n",
    "\n",
    "# Выводим уникальные значения\n",
    "print(unique_nums)\n",
    "\n",
    "# Обновляем столбец 'Num' в 'data' с уникальными значениями из 'Num_wiki'\n",
    "data['Num'] = merged_data['Num']\n",
    "\n",
    "# Выводим обновленные данные в 'data'\n",
    "print(data.head())"
   ]
  },
  {
   "cell_type": "markdown",
   "metadata": {},
   "source": [
    "Дело в том, что в российских банках транзакции учитываюсь с кодом 810, который был введен **еще до деноминации 1998 года.** <br>\n",
    "<center>\n",
    "<img src=\"https://cs5.pikabu.ru/post_img/2015/12/04/5/1449210847155432089.jpg\"/> \n",
    "    \n",
    "А в международном стандарте у России код: 643, что мы и можем видеть в таблице ниже.<br>\n",
    "Внутренний код для платежей в рублях до сих пор 810, что немного смущет, если честно.<br>\n",
    "Вокруг этого ходит довольно много баек и мифов, но с другой стороны, по сути это всего лишь дирекция ЦБ России <br>\n",
    "и присутствие того или иного кода в платежке ни на что не влияет существенным образом.<br>\n",
    "Тем не менее, кому интересно, больше можно почитать [тут](https://goo.gl/Jb5rQG) и конкретно [тут](https://fincult.info/articles/valyuty/mify-i-pravda-o-valyutnykh-kodakh-rublya/).<br>\n",
    "Но вернемся к делу!"
   ]
  },
  {
   "cell_type": "code",
   "execution_count": 19,
   "metadata": {
    "ExecuteTime": {
     "end_time": "2024-02-10T05:46:41.915492Z",
     "start_time": "2024-02-10T05:46:41.801728Z"
    }
   },
   "outputs": [
    {
     "data": {
      "text/plain": "     Unnamed: 0 Code  Num D[a]       Currency  \\\n118         118  RUB  643    2  Russian ruble   \n\n    Locations listed for this currency[b]  \n118                                Russia  ",
      "text/html": "<div>\n<style scoped>\n    .dataframe tbody tr th:only-of-type {\n        vertical-align: middle;\n    }\n\n    .dataframe tbody tr th {\n        vertical-align: top;\n    }\n\n    .dataframe thead th {\n        text-align: right;\n    }\n</style>\n<table border=\"1\" class=\"dataframe\">\n  <thead>\n    <tr style=\"text-align: right;\">\n      <th></th>\n      <th>Unnamed: 0</th>\n      <th>Code</th>\n      <th>Num</th>\n      <th>D[a]</th>\n      <th>Currency</th>\n      <th>Locations listed for this currency[b]</th>\n    </tr>\n  </thead>\n  <tbody>\n    <tr>\n      <th>118</th>\n      <td>118</td>\n      <td>RUB</td>\n      <td>643</td>\n      <td>2</td>\n      <td>Russian ruble</td>\n      <td>Russia</td>\n    </tr>\n  </tbody>\n</table>\n</div>"
     },
     "execution_count": 19,
     "metadata": {},
     "output_type": "execute_result"
    }
   ],
   "source": [
    "wiki_table[wiki_table['Currency'] == 'Russian ruble']"
   ]
  },
  {
   "cell_type": "code",
   "execution_count": 20,
   "metadata": {
    "ExecuteTime": {
     "end_time": "2024-02-10T05:46:42.819618Z",
     "start_time": "2024-02-10T05:46:42.754467Z"
    }
   },
   "outputs": [
    {
     "data": {
      "text/plain": "     Unnamed: 0 Code  Num D[a]              Currency  \\\n1             1  AFN  971    2        Afghan afghani   \n147         147  USD  840    2  United States dollar   \n\n                 Locations listed for this currency[b]  \n1                                          Afghanistan  \n147  United States,  American Samoa (AS),  British ...  ",
      "text/html": "<div>\n<style scoped>\n    .dataframe tbody tr th:only-of-type {\n        vertical-align: middle;\n    }\n\n    .dataframe tbody tr th {\n        vertical-align: top;\n    }\n\n    .dataframe thead th {\n        text-align: right;\n    }\n</style>\n<table border=\"1\" class=\"dataframe\">\n  <thead>\n    <tr style=\"text-align: right;\">\n      <th></th>\n      <th>Unnamed: 0</th>\n      <th>Code</th>\n      <th>Num</th>\n      <th>D[a]</th>\n      <th>Currency</th>\n      <th>Locations listed for this currency[b]</th>\n    </tr>\n  </thead>\n  <tbody>\n    <tr>\n      <th>1</th>\n      <td>1</td>\n      <td>AFN</td>\n      <td>971</td>\n      <td>2</td>\n      <td>Afghan afghani</td>\n      <td>Afghanistan</td>\n    </tr>\n    <tr>\n      <th>147</th>\n      <td>147</td>\n      <td>USD</td>\n      <td>840</td>\n      <td>2</td>\n      <td>United States dollar</td>\n      <td>United States,  American Samoa (AS),  British ...</td>\n    </tr>\n  </tbody>\n</table>\n</div>"
     },
     "execution_count": 20,
     "metadata": {},
     "output_type": "execute_result"
    }
   ],
   "source": [
    "wiki_table[wiki_table['Currency'].isin([\"United States dollar\",\"Afghan afghani\"])]"
   ]
  },
  {
   "cell_type": "markdown",
   "metadata": {},
   "source": [
    "Поправим немного нашу таблицу, чтобы мы могли классифицировать наши транзакции полностью."
   ]
  },
  {
   "cell_type": "code",
   "execution_count": 21,
   "metadata": {
    "ExecuteTime": {
     "end_time": "2024-02-10T05:46:44.481868Z",
     "start_time": "2024-02-10T05:46:44.334043Z"
    }
   },
   "outputs": [
    {
     "name": "stdout",
     "output_type": "stream",
     "text": [
      "     Unnamed: 0 Code  Num D[a]                       Currency  \\\n",
      "0           0.0  AED  784    2    United Arab Emirates dirham   \n",
      "1           1.0  AFN  971    2                 Afghan afghani   \n",
      "2           2.0  ALL    8    2                   Albanian lek   \n",
      "3           3.0  AMD   51    2                  Armenian dram   \n",
      "4           4.0  ANG  532    2  Netherlands Antillean guilder   \n",
      "..          ...  ...  ...  ...                            ...   \n",
      "175       175.0  YER  886    2                    Yemeni rial   \n",
      "176       176.0  ZAR  710    2             South African rand   \n",
      "177       177.0  ZMW  967    2                 Zambian kwacha   \n",
      "178       178.0  ZWL  932    2   Zimbabwean dollar (fifth)[g]   \n",
      "179         NaN  RUR  810  NaN                  Russian ruble   \n",
      "\n",
      "           Locations listed for this currency[b]  \n",
      "0                           United Arab Emirates  \n",
      "1                                    Afghanistan  \n",
      "2                                        Albania  \n",
      "3                                        Armenia  \n",
      "4               Curaçao (CW),  Sint Maarten (SX)  \n",
      "..                                           ...  \n",
      "175                                        Yemen  \n",
      "176  Eswatini,  Lesotho,  Namibia,  South Africa  \n",
      "177                                       Zambia  \n",
      "178                                     Zimbabwe  \n",
      "179                                          NaN  \n",
      "\n",
      "[180 rows x 6 columns]\n"
     ]
    }
   ],
   "source": [
    "import pandas as pd\n",
    "\n",
    "# Ваш DataFrame 'wiki_table'\n",
    "data_2 = {'Num': [810], 'Code': ['RUR'], 'Currency': ['Russian ruble']}\n",
    "new_row = pd.DataFrame(data_2)\n",
    "\n",
    "# Обновление значения в 'Locations listed for this currency[b]' для кода 'RUR'\n",
    "wiki_table.loc[wiki_table['Code'] == 'RUR', 'Locations listed for this currency[b]'] = 'Russia'\n",
    "\n",
    "# Добавление новой строки в DataFrame 'wiki_table'\n",
    "wiki_table = pd.concat([wiki_table, new_row], ignore_index=True)\n",
    "\n",
    "# Вывод DataFrame после изменений\n",
    "print(wiki_table)\n"
   ]
  },
  {
   "cell_type": "markdown",
   "metadata": {},
   "source": [
    "В этот раз сохраним наши измениея, переназначив объект."
   ]
  },
  {
   "cell_type": "code",
   "execution_count": 22,
   "metadata": {
    "ExecuteTime": {
     "end_time": "2024-02-10T05:46:46.903829Z",
     "start_time": "2024-02-10T05:46:46.042518Z"
    }
   },
   "outputs": [
    {
     "data": {
      "text/plain": "    mcc     period        trdatetime   amount channel_type  cl_id  currency  \\\n0  5200 2017-10-01  21OCT17:00:00:00   5023.0          NaN      0       810   \n1  6011 2017-10-01  12OCT17:12:24:07  20000.0          NaN      0       810   \n2  5921 2017-12-01  05DEC17:00:00:00    767.0          NaN      0       810   \n3  5411 2017-10-01  21OCT17:00:00:00   2031.0          NaN      0       810   \n4  6012 2017-10-01  24OCT17:13:14:24  36562.0          NaN      0       810   \n\n  trx_category transac_time transac_day transac_month transac_year  \\\n0          POS     17:00:00          21            10         2017   \n1      DEPOSIT     17:12:24          12            10         2017   \n2          POS     17:00:00          05            12         2017   \n3          POS     17:00:00          21            10         2017   \n4      C2C_OUT     17:13:14          24            10         2017   \n\n  transac_year_month  Num_x  Unnamed: 0 Code  Num_y D[a]       Currency  \\\n0            2017-10    NaN         NaN  RUR  810.0  NaN  Russian ruble   \n1            2017-10    NaN         NaN  RUR  810.0  NaN  Russian ruble   \n2            2017-12    NaN         NaN  RUR  810.0  NaN  Russian ruble   \n3            2017-10    NaN         NaN  RUR  810.0  NaN  Russian ruble   \n4            2017-10    NaN         NaN  RUR  810.0  NaN  Russian ruble   \n\n  Locations listed for this currency[b]  \n0                                   NaN  \n1                                   NaN  \n2                                   NaN  \n3                                   NaN  \n4                                   NaN  ",
      "text/html": "<div>\n<style scoped>\n    .dataframe tbody tr th:only-of-type {\n        vertical-align: middle;\n    }\n\n    .dataframe tbody tr th {\n        vertical-align: top;\n    }\n\n    .dataframe thead th {\n        text-align: right;\n    }\n</style>\n<table border=\"1\" class=\"dataframe\">\n  <thead>\n    <tr style=\"text-align: right;\">\n      <th></th>\n      <th>mcc</th>\n      <th>period</th>\n      <th>trdatetime</th>\n      <th>amount</th>\n      <th>channel_type</th>\n      <th>cl_id</th>\n      <th>currency</th>\n      <th>trx_category</th>\n      <th>transac_time</th>\n      <th>transac_day</th>\n      <th>transac_month</th>\n      <th>transac_year</th>\n      <th>transac_year_month</th>\n      <th>Num_x</th>\n      <th>Unnamed: 0</th>\n      <th>Code</th>\n      <th>Num_y</th>\n      <th>D[a]</th>\n      <th>Currency</th>\n      <th>Locations listed for this currency[b]</th>\n    </tr>\n  </thead>\n  <tbody>\n    <tr>\n      <th>0</th>\n      <td>5200</td>\n      <td>2017-10-01</td>\n      <td>21OCT17:00:00:00</td>\n      <td>5023.0</td>\n      <td>NaN</td>\n      <td>0</td>\n      <td>810</td>\n      <td>POS</td>\n      <td>17:00:00</td>\n      <td>21</td>\n      <td>10</td>\n      <td>2017</td>\n      <td>2017-10</td>\n      <td>NaN</td>\n      <td>NaN</td>\n      <td>RUR</td>\n      <td>810.0</td>\n      <td>NaN</td>\n      <td>Russian ruble</td>\n      <td>NaN</td>\n    </tr>\n    <tr>\n      <th>1</th>\n      <td>6011</td>\n      <td>2017-10-01</td>\n      <td>12OCT17:12:24:07</td>\n      <td>20000.0</td>\n      <td>NaN</td>\n      <td>0</td>\n      <td>810</td>\n      <td>DEPOSIT</td>\n      <td>17:12:24</td>\n      <td>12</td>\n      <td>10</td>\n      <td>2017</td>\n      <td>2017-10</td>\n      <td>NaN</td>\n      <td>NaN</td>\n      <td>RUR</td>\n      <td>810.0</td>\n      <td>NaN</td>\n      <td>Russian ruble</td>\n      <td>NaN</td>\n    </tr>\n    <tr>\n      <th>2</th>\n      <td>5921</td>\n      <td>2017-12-01</td>\n      <td>05DEC17:00:00:00</td>\n      <td>767.0</td>\n      <td>NaN</td>\n      <td>0</td>\n      <td>810</td>\n      <td>POS</td>\n      <td>17:00:00</td>\n      <td>05</td>\n      <td>12</td>\n      <td>2017</td>\n      <td>2017-12</td>\n      <td>NaN</td>\n      <td>NaN</td>\n      <td>RUR</td>\n      <td>810.0</td>\n      <td>NaN</td>\n      <td>Russian ruble</td>\n      <td>NaN</td>\n    </tr>\n    <tr>\n      <th>3</th>\n      <td>5411</td>\n      <td>2017-10-01</td>\n      <td>21OCT17:00:00:00</td>\n      <td>2031.0</td>\n      <td>NaN</td>\n      <td>0</td>\n      <td>810</td>\n      <td>POS</td>\n      <td>17:00:00</td>\n      <td>21</td>\n      <td>10</td>\n      <td>2017</td>\n      <td>2017-10</td>\n      <td>NaN</td>\n      <td>NaN</td>\n      <td>RUR</td>\n      <td>810.0</td>\n      <td>NaN</td>\n      <td>Russian ruble</td>\n      <td>NaN</td>\n    </tr>\n    <tr>\n      <th>4</th>\n      <td>6012</td>\n      <td>2017-10-01</td>\n      <td>24OCT17:13:14:24</td>\n      <td>36562.0</td>\n      <td>NaN</td>\n      <td>0</td>\n      <td>810</td>\n      <td>C2C_OUT</td>\n      <td>17:13:14</td>\n      <td>24</td>\n      <td>10</td>\n      <td>2017</td>\n      <td>2017-10</td>\n      <td>NaN</td>\n      <td>NaN</td>\n      <td>RUR</td>\n      <td>810.0</td>\n      <td>NaN</td>\n      <td>Russian ruble</td>\n      <td>NaN</td>\n    </tr>\n  </tbody>\n</table>\n</div>"
     },
     "execution_count": 22,
     "metadata": {},
     "output_type": "execute_result"
    }
   ],
   "source": [
    "data = data.merge(wiki_table, left_on='currency', right_on='Num', how='left')\n",
    "data.head()"
   ]
  },
  {
   "cell_type": "markdown",
   "metadata": {},
   "source": [
    "Вот теперь совсем все хорошо и у нас все транзакции размечены нормальными названиями валют в которых они были совершены.\n",
    "Напомню, что числовы коды у нас типа `int`."
   ]
  },
  {
   "cell_type": "code",
   "execution_count": 25,
   "metadata": {
    "ExecuteTime": {
     "end_time": "2024-02-10T05:47:18.282363Z",
     "start_time": "2024-02-10T05:47:17.724289Z"
    }
   },
   "outputs": [
    {
     "data": {
      "text/plain": "    mcc     period        trdatetime   amount channel_type  cl_id  currency  \\\n0  5200 2017-10-01  21OCT17:00:00:00   5023.0          NaN      0       810   \n1  6011 2017-10-01  12OCT17:12:24:07  20000.0          NaN      0       810   \n2  5921 2017-12-01  05DEC17:00:00:00    767.0          NaN      0       810   \n3  5411 2017-10-01  21OCT17:00:00:00   2031.0          NaN      0       810   \n4  6012 2017-10-01  24OCT17:13:14:24  36562.0          NaN      0       810   \n\n  trx_category transac_time transac_day transac_month transac_year  \\\n0          POS     17:00:00          21            10         2017   \n1      DEPOSIT     17:12:24          12            10         2017   \n2          POS     17:00:00          05            12         2017   \n3          POS     17:00:00          21            10         2017   \n4      C2C_OUT     17:13:14          24            10         2017   \n\n  transac_year_month  Num_x  Unnamed: 0 Code  Num_y D[a]       Currency  \\\n0            2017-10    NaN         NaN  RUR  810.0  NaN  Russian ruble   \n1            2017-10    NaN         NaN  RUR  810.0  NaN  Russian ruble   \n2            2017-12    NaN         NaN  RUR  810.0  NaN  Russian ruble   \n3            2017-10    NaN         NaN  RUR  810.0  NaN  Russian ruble   \n4            2017-10    NaN         NaN  RUR  810.0  NaN  Russian ruble   \n\n  Locations listed for this currency[b]  \n0                                   NaN  \n1                                   NaN  \n2                                   NaN  \n3                                   NaN  \n4                                   NaN  ",
      "text/html": "<div>\n<style scoped>\n    .dataframe tbody tr th:only-of-type {\n        vertical-align: middle;\n    }\n\n    .dataframe tbody tr th {\n        vertical-align: top;\n    }\n\n    .dataframe thead th {\n        text-align: right;\n    }\n</style>\n<table border=\"1\" class=\"dataframe\">\n  <thead>\n    <tr style=\"text-align: right;\">\n      <th></th>\n      <th>mcc</th>\n      <th>period</th>\n      <th>trdatetime</th>\n      <th>amount</th>\n      <th>channel_type</th>\n      <th>cl_id</th>\n      <th>currency</th>\n      <th>trx_category</th>\n      <th>transac_time</th>\n      <th>transac_day</th>\n      <th>transac_month</th>\n      <th>transac_year</th>\n      <th>transac_year_month</th>\n      <th>Num_x</th>\n      <th>Unnamed: 0</th>\n      <th>Code</th>\n      <th>Num_y</th>\n      <th>D[a]</th>\n      <th>Currency</th>\n      <th>Locations listed for this currency[b]</th>\n    </tr>\n  </thead>\n  <tbody>\n    <tr>\n      <th>0</th>\n      <td>5200</td>\n      <td>2017-10-01</td>\n      <td>21OCT17:00:00:00</td>\n      <td>5023.0</td>\n      <td>NaN</td>\n      <td>0</td>\n      <td>810</td>\n      <td>POS</td>\n      <td>17:00:00</td>\n      <td>21</td>\n      <td>10</td>\n      <td>2017</td>\n      <td>2017-10</td>\n      <td>NaN</td>\n      <td>NaN</td>\n      <td>RUR</td>\n      <td>810.0</td>\n      <td>NaN</td>\n      <td>Russian ruble</td>\n      <td>NaN</td>\n    </tr>\n    <tr>\n      <th>1</th>\n      <td>6011</td>\n      <td>2017-10-01</td>\n      <td>12OCT17:12:24:07</td>\n      <td>20000.0</td>\n      <td>NaN</td>\n      <td>0</td>\n      <td>810</td>\n      <td>DEPOSIT</td>\n      <td>17:12:24</td>\n      <td>12</td>\n      <td>10</td>\n      <td>2017</td>\n      <td>2017-10</td>\n      <td>NaN</td>\n      <td>NaN</td>\n      <td>RUR</td>\n      <td>810.0</td>\n      <td>NaN</td>\n      <td>Russian ruble</td>\n      <td>NaN</td>\n    </tr>\n    <tr>\n      <th>2</th>\n      <td>5921</td>\n      <td>2017-12-01</td>\n      <td>05DEC17:00:00:00</td>\n      <td>767.0</td>\n      <td>NaN</td>\n      <td>0</td>\n      <td>810</td>\n      <td>POS</td>\n      <td>17:00:00</td>\n      <td>05</td>\n      <td>12</td>\n      <td>2017</td>\n      <td>2017-12</td>\n      <td>NaN</td>\n      <td>NaN</td>\n      <td>RUR</td>\n      <td>810.0</td>\n      <td>NaN</td>\n      <td>Russian ruble</td>\n      <td>NaN</td>\n    </tr>\n    <tr>\n      <th>3</th>\n      <td>5411</td>\n      <td>2017-10-01</td>\n      <td>21OCT17:00:00:00</td>\n      <td>2031.0</td>\n      <td>NaN</td>\n      <td>0</td>\n      <td>810</td>\n      <td>POS</td>\n      <td>17:00:00</td>\n      <td>21</td>\n      <td>10</td>\n      <td>2017</td>\n      <td>2017-10</td>\n      <td>NaN</td>\n      <td>NaN</td>\n      <td>RUR</td>\n      <td>810.0</td>\n      <td>NaN</td>\n      <td>Russian ruble</td>\n      <td>NaN</td>\n    </tr>\n    <tr>\n      <th>4</th>\n      <td>6012</td>\n      <td>2017-10-01</td>\n      <td>24OCT17:13:14:24</td>\n      <td>36562.0</td>\n      <td>NaN</td>\n      <td>0</td>\n      <td>810</td>\n      <td>C2C_OUT</td>\n      <td>17:13:14</td>\n      <td>24</td>\n      <td>10</td>\n      <td>2017</td>\n      <td>2017-10</td>\n      <td>NaN</td>\n      <td>NaN</td>\n      <td>RUR</td>\n      <td>810.0</td>\n      <td>NaN</td>\n      <td>Russian ruble</td>\n      <td>NaN</td>\n    </tr>\n  </tbody>\n</table>\n</div>"
     },
     "execution_count": 25,
     "metadata": {},
     "output_type": "execute_result"
    }
   ],
   "source": [
    "data[data['currency'] == 810].head()"
   ]
  },
  {
   "cell_type": "markdown",
   "metadata": {},
   "source": [
    "Пропусков нет! Мы разметили все транзакции."
   ]
  },
  {
   "cell_type": "code",
   "execution_count": 26,
   "metadata": {
    "ExecuteTime": {
     "end_time": "2024-02-10T05:47:23.512701Z",
     "start_time": "2024-02-10T05:47:23.447274Z"
    }
   },
   "outputs": [
    {
     "data": {
      "text/plain": "currency\nFalse    1008889\nName: count, dtype: int64"
     },
     "execution_count": 26,
     "metadata": {},
     "output_type": "execute_result"
    }
   ],
   "source": [
    "data['currency'].isna().value_counts()"
   ]
  },
  {
   "cell_type": "markdown",
   "metadata": {},
   "source": [
    "Вернемся к нашей сгруппированной табличке."
   ]
  },
  {
   "cell_type": "code",
   "execution_count": 27,
   "metadata": {
    "ExecuteTime": {
     "end_time": "2024-02-10T05:47:27.643784Z",
     "start_time": "2024-02-10T05:47:27.550712Z"
    }
   },
   "outputs": [
    {
     "data": {
      "text/plain": "           min        mean  median       max\ncurrency                                    \n978       0.01  105.797974   29.00   9690.00\n980       1.50  885.639098  282.00  15451.17\n981       0.80   94.718251   35.62   1306.00\n985       0.99  101.715674   35.67   4800.00\n986       6.00   88.106471   60.00    260.00",
      "text/html": "<div>\n<style scoped>\n    .dataframe tbody tr th:only-of-type {\n        vertical-align: middle;\n    }\n\n    .dataframe tbody tr th {\n        vertical-align: top;\n    }\n\n    .dataframe thead th {\n        text-align: right;\n    }\n</style>\n<table border=\"1\" class=\"dataframe\">\n  <thead>\n    <tr style=\"text-align: right;\">\n      <th></th>\n      <th>min</th>\n      <th>mean</th>\n      <th>median</th>\n      <th>max</th>\n    </tr>\n    <tr>\n      <th>currency</th>\n      <th></th>\n      <th></th>\n      <th></th>\n      <th></th>\n    </tr>\n  </thead>\n  <tbody>\n    <tr>\n      <th>978</th>\n      <td>0.01</td>\n      <td>105.797974</td>\n      <td>29.00</td>\n      <td>9690.00</td>\n    </tr>\n    <tr>\n      <th>980</th>\n      <td>1.50</td>\n      <td>885.639098</td>\n      <td>282.00</td>\n      <td>15451.17</td>\n    </tr>\n    <tr>\n      <th>981</th>\n      <td>0.80</td>\n      <td>94.718251</td>\n      <td>35.62</td>\n      <td>1306.00</td>\n    </tr>\n    <tr>\n      <th>985</th>\n      <td>0.99</td>\n      <td>101.715674</td>\n      <td>35.67</td>\n      <td>4800.00</td>\n    </tr>\n    <tr>\n      <th>986</th>\n      <td>6.00</td>\n      <td>88.106471</td>\n      <td>60.00</td>\n      <td>260.00</td>\n    </tr>\n  </tbody>\n</table>\n</div>"
     },
     "execution_count": 27,
     "metadata": {},
     "output_type": "execute_result"
    }
   ],
   "source": [
    "data.groupby('currency')['amount'].agg(['min', 'mean', 'median','max']).tail()"
   ]
  },
  {
   "cell_type": "markdown",
   "metadata": {},
   "source": [
    "И сделаем её немного читабельнее.<br>\n",
    "Стоит заметить, что сортировка происходит по индексу, так что в случае с числовым кодом и названием валюты у нас <br>\n",
    "будет разный порядок."
   ]
  },
  {
   "cell_type": "code",
   "execution_count": 28,
   "metadata": {
    "ExecuteTime": {
     "end_time": "2024-02-10T05:47:33.459848Z",
     "start_time": "2024-02-10T05:47:33.355953Z"
    }
   },
   "outputs": [
    {
     "data": {
      "text/plain": "          min   mean  median      max\ncurrency                             \n978       0.0  106.0    29.0   9690.0\n980       2.0  886.0   282.0  15451.0\n981       1.0   95.0    36.0   1306.0\n985       1.0  102.0    36.0   4800.0\n986       6.0   88.0    60.0    260.0",
      "text/html": "<div>\n<style scoped>\n    .dataframe tbody tr th:only-of-type {\n        vertical-align: middle;\n    }\n\n    .dataframe tbody tr th {\n        vertical-align: top;\n    }\n\n    .dataframe thead th {\n        text-align: right;\n    }\n</style>\n<table border=\"1\" class=\"dataframe\">\n  <thead>\n    <tr style=\"text-align: right;\">\n      <th></th>\n      <th>min</th>\n      <th>mean</th>\n      <th>median</th>\n      <th>max</th>\n    </tr>\n    <tr>\n      <th>currency</th>\n      <th></th>\n      <th></th>\n      <th></th>\n      <th></th>\n    </tr>\n  </thead>\n  <tbody>\n    <tr>\n      <th>978</th>\n      <td>0.0</td>\n      <td>106.0</td>\n      <td>29.0</td>\n      <td>9690.0</td>\n    </tr>\n    <tr>\n      <th>980</th>\n      <td>2.0</td>\n      <td>886.0</td>\n      <td>282.0</td>\n      <td>15451.0</td>\n    </tr>\n    <tr>\n      <th>981</th>\n      <td>1.0</td>\n      <td>95.0</td>\n      <td>36.0</td>\n      <td>1306.0</td>\n    </tr>\n    <tr>\n      <th>985</th>\n      <td>1.0</td>\n      <td>102.0</td>\n      <td>36.0</td>\n      <td>4800.0</td>\n    </tr>\n    <tr>\n      <th>986</th>\n      <td>6.0</td>\n      <td>88.0</td>\n      <td>60.0</td>\n      <td>260.0</td>\n    </tr>\n  </tbody>\n</table>\n</div>"
     },
     "execution_count": 28,
     "metadata": {},
     "output_type": "execute_result"
    }
   ],
   "source": [
    "data.groupby('currency')['amount'].agg(['min', 'mean', 'median','max']).tail().apply(lambda x:round(x,0))"
   ]
  },
  {
   "cell_type": "code",
   "execution_count": 29,
   "metadata": {
    "ExecuteTime": {
     "end_time": "2024-02-10T05:47:54.606647Z",
     "start_time": "2024-02-10T05:47:54.485995Z"
    }
   },
   "outputs": [
    {
     "data": {
      "text/plain": "Currency\nEuro                    105.797974\nUnited States dollar    173.517300\nName: amount, dtype: float64"
     },
     "execution_count": 29,
     "metadata": {},
     "output_type": "execute_result"
    }
   ],
   "source": [
    "data[(data['currency'].isin([840,978]))].groupby('Currency')[\"amount\"].mean()\n"
   ]
  },
  {
   "cell_type": "markdown",
   "metadata": {},
   "source": [
    "## 3. Расшифруем MCC коды."
   ]
  },
  {
   "cell_type": "markdown",
   "metadata": {},
   "source": [
    "Также в интренете можно найти информаци о [MCC](https://en.wikipedia.org/wiki/Merchant_category_code). Это стандартизированный код категории покупки, который устанавливается на кассы предприятия. Потом банки исходя из этих кодов могут начислять кэшбек или бонусы за проведенные транзакции, если это предуматривает Ваш тариф. Имея текстовые репрезентации этих кодов довольно сильно поможет нам при построении осмысленного отчета.<br>\n",
    "\n",
    "У нас есть табличка с различными mcc кодами и их интерпритацией, которую я просто нагуглил."
   ]
  },
  {
   "cell_type": "code",
   "execution_count": 30,
   "metadata": {
    "ExecuteTime": {
     "end_time": "2024-02-10T05:48:07.359863Z",
     "start_time": "2024-02-10T05:48:07.304843Z"
    }
   },
   "outputs": [],
   "source": [
    "mcc = pd.read_excel('mcc_codes.xls')"
   ]
  },
  {
   "cell_type": "code",
   "execution_count": 31,
   "metadata": {
    "ExecuteTime": {
     "end_time": "2024-02-10T05:48:09.069406Z",
     "start_time": "2024-02-10T05:48:08.991517Z"
    }
   },
   "outputs": [
    {
     "data": {
      "text/plain": "  STANDARD MERCHANT CATEGORY CODES\\n**Please do not sort this spreadsheet**  \\\n0                                           MCC CODE                          \n1                                               0742                          \n2                                               0763                          \n3                                               0780                          \n4                                               1520                          \n\n                                Unnamed: 1 Unnamed: 2  \n0                            Program Type:        NaN  \n1                      Veterinary Services        NaN  \n2                Agricultural Cooperatives        NaN  \n3   Landscaping and Horticultural Services        NaN  \n4  General Contractor/Residential Building        NaN  ",
      "text/html": "<div>\n<style scoped>\n    .dataframe tbody tr th:only-of-type {\n        vertical-align: middle;\n    }\n\n    .dataframe tbody tr th {\n        vertical-align: top;\n    }\n\n    .dataframe thead th {\n        text-align: right;\n    }\n</style>\n<table border=\"1\" class=\"dataframe\">\n  <thead>\n    <tr style=\"text-align: right;\">\n      <th></th>\n      <th>STANDARD MERCHANT CATEGORY CODES\\n**Please do not sort this spreadsheet**</th>\n      <th>Unnamed: 1</th>\n      <th>Unnamed: 2</th>\n    </tr>\n  </thead>\n  <tbody>\n    <tr>\n      <th>0</th>\n      <td>MCC CODE</td>\n      <td>Program Type:</td>\n      <td>NaN</td>\n    </tr>\n    <tr>\n      <th>1</th>\n      <td>0742</td>\n      <td>Veterinary Services</td>\n      <td>NaN</td>\n    </tr>\n    <tr>\n      <th>2</th>\n      <td>0763</td>\n      <td>Agricultural Cooperatives</td>\n      <td>NaN</td>\n    </tr>\n    <tr>\n      <th>3</th>\n      <td>0780</td>\n      <td>Landscaping and Horticultural Services</td>\n      <td>NaN</td>\n    </tr>\n    <tr>\n      <th>4</th>\n      <td>1520</td>\n      <td>General Contractor/Residential Building</td>\n      <td>NaN</td>\n    </tr>\n  </tbody>\n</table>\n</div>"
     },
     "execution_count": 31,
     "metadata": {},
     "output_type": "execute_result"
    }
   ],
   "source": [
    "mcc.head()"
   ]
  },
  {
   "cell_type": "markdown",
   "metadata": {},
   "source": [
    "Очень часто бывае что эксель попадает в таком виде. Чтобы получить красивую табличку нужно пропустить первый ряд и убрать правую колонку с пустыми значениями. Так и сделаем:"
   ]
  },
  {
   "cell_type": "code",
   "execution_count": 32,
   "metadata": {
    "ExecuteTime": {
     "end_time": "2024-02-10T05:48:10.304515Z",
     "start_time": "2024-02-10T05:48:10.205607Z"
    }
   },
   "outputs": [
    {
     "data": {
      "text/plain": "   MCC CODE                                    Program Type:\n0     742.0                              Veterinary Services\n1     763.0                        Agricultural Cooperatives\n2     780.0           Landscaping and Horticultural Services\n3    1520.0          General Contractor/Residential Building\n4    1711.0  Heating, Plumbing, Air Conditioning Contractors",
      "text/html": "<div>\n<style scoped>\n    .dataframe tbody tr th:only-of-type {\n        vertical-align: middle;\n    }\n\n    .dataframe tbody tr th {\n        vertical-align: top;\n    }\n\n    .dataframe thead th {\n        text-align: right;\n    }\n</style>\n<table border=\"1\" class=\"dataframe\">\n  <thead>\n    <tr style=\"text-align: right;\">\n      <th></th>\n      <th>MCC CODE</th>\n      <th>Program Type:</th>\n    </tr>\n  </thead>\n  <tbody>\n    <tr>\n      <th>0</th>\n      <td>742.0</td>\n      <td>Veterinary Services</td>\n    </tr>\n    <tr>\n      <th>1</th>\n      <td>763.0</td>\n      <td>Agricultural Cooperatives</td>\n    </tr>\n    <tr>\n      <th>2</th>\n      <td>780.0</td>\n      <td>Landscaping and Horticultural Services</td>\n    </tr>\n    <tr>\n      <th>3</th>\n      <td>1520.0</td>\n      <td>General Contractor/Residential Building</td>\n    </tr>\n    <tr>\n      <th>4</th>\n      <td>1711.0</td>\n      <td>Heating, Plumbing, Air Conditioning Contractors</td>\n    </tr>\n  </tbody>\n</table>\n</div>"
     },
     "execution_count": 32,
     "metadata": {},
     "output_type": "execute_result"
    }
   ],
   "source": [
    "mcc = pd.read_excel('mcc_codes.xls',skiprows=1)\n",
    "mcc = mcc.iloc[:,:-1]\n",
    "mcc.head()"
   ]
  },
  {
   "cell_type": "markdown",
   "metadata": {},
   "source": [
    "И переименуем колонки для красоты и удобства."
   ]
  },
  {
   "cell_type": "code",
   "execution_count": 33,
   "metadata": {
    "ExecuteTime": {
     "end_time": "2024-02-10T05:48:12.541830Z",
     "start_time": "2024-02-10T05:48:12.435695Z"
    }
   },
   "outputs": [],
   "source": [
    "mcc = mcc.rename(columns={'MCC CODE':'mcc','Program Type:':'category'})"
   ]
  },
  {
   "cell_type": "code",
   "execution_count": 34,
   "metadata": {
    "ExecuteTime": {
     "end_time": "2024-02-10T05:48:13.428911Z",
     "start_time": "2024-02-10T05:48:13.305398Z"
    }
   },
   "outputs": [
    {
     "data": {
      "text/plain": "      mcc                                         category\n0   742.0                              Veterinary Services\n1   763.0                        Agricultural Cooperatives\n2   780.0           Landscaping and Horticultural Services\n3  1520.0          General Contractor/Residential Building\n4  1711.0  Heating, Plumbing, Air Conditioning Contractors",
      "text/html": "<div>\n<style scoped>\n    .dataframe tbody tr th:only-of-type {\n        vertical-align: middle;\n    }\n\n    .dataframe tbody tr th {\n        vertical-align: top;\n    }\n\n    .dataframe thead th {\n        text-align: right;\n    }\n</style>\n<table border=\"1\" class=\"dataframe\">\n  <thead>\n    <tr style=\"text-align: right;\">\n      <th></th>\n      <th>mcc</th>\n      <th>category</th>\n    </tr>\n  </thead>\n  <tbody>\n    <tr>\n      <th>0</th>\n      <td>742.0</td>\n      <td>Veterinary Services</td>\n    </tr>\n    <tr>\n      <th>1</th>\n      <td>763.0</td>\n      <td>Agricultural Cooperatives</td>\n    </tr>\n    <tr>\n      <th>2</th>\n      <td>780.0</td>\n      <td>Landscaping and Horticultural Services</td>\n    </tr>\n    <tr>\n      <th>3</th>\n      <td>1520.0</td>\n      <td>General Contractor/Residential Building</td>\n    </tr>\n    <tr>\n      <th>4</th>\n      <td>1711.0</td>\n      <td>Heating, Plumbing, Air Conditioning Contractors</td>\n    </tr>\n  </tbody>\n</table>\n</div>"
     },
     "execution_count": 34,
     "metadata": {},
     "output_type": "execute_result"
    }
   ],
   "source": [
    "mcc.head()"
   ]
  },
  {
   "cell_type": "markdown",
   "metadata": {},
   "source": [
    "Объедним по категории к нашей общей таблице (левый мердж). <br>"
   ]
  },
  {
   "cell_type": "code",
   "execution_count": 35,
   "metadata": {
    "ExecuteTime": {
     "end_time": "2024-02-10T05:48:19.467817Z",
     "start_time": "2024-02-10T05:48:18.816290Z"
    }
   },
   "outputs": [],
   "source": [
    "data = data.merge(mcc, on='mcc', how='left')"
   ]
  },
  {
   "cell_type": "code",
   "execution_count": 36,
   "metadata": {
    "ExecuteTime": {
     "end_time": "2024-02-10T05:49:04.943575Z",
     "start_time": "2024-02-10T05:49:04.866358Z"
    }
   },
   "outputs": [
    {
     "data": {
      "text/plain": "    mcc     period        trdatetime   amount channel_type  cl_id  currency  \\\n0  5200 2017-10-01  21OCT17:00:00:00   5023.0          NaN      0       810   \n1  6011 2017-10-01  12OCT17:12:24:07  20000.0          NaN      0       810   \n2  5921 2017-12-01  05DEC17:00:00:00    767.0          NaN      0       810   \n3  5411 2017-10-01  21OCT17:00:00:00   2031.0          NaN      0       810   \n4  6012 2017-10-01  24OCT17:13:14:24  36562.0          NaN      0       810   \n\n  trx_category transac_time transac_day  ... transac_year transac_year_month  \\\n0          POS     17:00:00          21  ...         2017            2017-10   \n1      DEPOSIT     17:12:24          12  ...         2017            2017-10   \n2          POS     17:00:00          05  ...         2017            2017-12   \n3          POS     17:00:00          21  ...         2017            2017-10   \n4      C2C_OUT     17:13:14          24  ...         2017            2017-10   \n\n  Num_x  Unnamed: 0  Code  Num_y  D[a]       Currency  \\\n0   NaN         NaN   RUR  810.0   NaN  Russian ruble   \n1   NaN         NaN   RUR  810.0   NaN  Russian ruble   \n2   NaN         NaN   RUR  810.0   NaN  Russian ruble   \n3   NaN         NaN   RUR  810.0   NaN  Russian ruble   \n4   NaN         NaN   RUR  810.0   NaN  Russian ruble   \n\n  Locations listed for this currency[b]  \\\n0                                   NaN   \n1                                   NaN   \n2                                   NaN   \n3                                   NaN   \n4                                   NaN   \n\n                                            category  \n0                              Home Supply Warehouse  \n1  Financial Institutions--Automated Cash Disburs...  \n2             Package Stores--Beer, Wine, and Liquor  \n3                    Grocery Stores and Supermarkets  \n4  Quasi Cash - Financial Institution - Merchandi...  \n\n[5 rows x 21 columns]",
      "text/html": "<div>\n<style scoped>\n    .dataframe tbody tr th:only-of-type {\n        vertical-align: middle;\n    }\n\n    .dataframe tbody tr th {\n        vertical-align: top;\n    }\n\n    .dataframe thead th {\n        text-align: right;\n    }\n</style>\n<table border=\"1\" class=\"dataframe\">\n  <thead>\n    <tr style=\"text-align: right;\">\n      <th></th>\n      <th>mcc</th>\n      <th>period</th>\n      <th>trdatetime</th>\n      <th>amount</th>\n      <th>channel_type</th>\n      <th>cl_id</th>\n      <th>currency</th>\n      <th>trx_category</th>\n      <th>transac_time</th>\n      <th>transac_day</th>\n      <th>...</th>\n      <th>transac_year</th>\n      <th>transac_year_month</th>\n      <th>Num_x</th>\n      <th>Unnamed: 0</th>\n      <th>Code</th>\n      <th>Num_y</th>\n      <th>D[a]</th>\n      <th>Currency</th>\n      <th>Locations listed for this currency[b]</th>\n      <th>category</th>\n    </tr>\n  </thead>\n  <tbody>\n    <tr>\n      <th>0</th>\n      <td>5200</td>\n      <td>2017-10-01</td>\n      <td>21OCT17:00:00:00</td>\n      <td>5023.0</td>\n      <td>NaN</td>\n      <td>0</td>\n      <td>810</td>\n      <td>POS</td>\n      <td>17:00:00</td>\n      <td>21</td>\n      <td>...</td>\n      <td>2017</td>\n      <td>2017-10</td>\n      <td>NaN</td>\n      <td>NaN</td>\n      <td>RUR</td>\n      <td>810.0</td>\n      <td>NaN</td>\n      <td>Russian ruble</td>\n      <td>NaN</td>\n      <td>Home Supply Warehouse</td>\n    </tr>\n    <tr>\n      <th>1</th>\n      <td>6011</td>\n      <td>2017-10-01</td>\n      <td>12OCT17:12:24:07</td>\n      <td>20000.0</td>\n      <td>NaN</td>\n      <td>0</td>\n      <td>810</td>\n      <td>DEPOSIT</td>\n      <td>17:12:24</td>\n      <td>12</td>\n      <td>...</td>\n      <td>2017</td>\n      <td>2017-10</td>\n      <td>NaN</td>\n      <td>NaN</td>\n      <td>RUR</td>\n      <td>810.0</td>\n      <td>NaN</td>\n      <td>Russian ruble</td>\n      <td>NaN</td>\n      <td>Financial Institutions--Automated Cash Disburs...</td>\n    </tr>\n    <tr>\n      <th>2</th>\n      <td>5921</td>\n      <td>2017-12-01</td>\n      <td>05DEC17:00:00:00</td>\n      <td>767.0</td>\n      <td>NaN</td>\n      <td>0</td>\n      <td>810</td>\n      <td>POS</td>\n      <td>17:00:00</td>\n      <td>05</td>\n      <td>...</td>\n      <td>2017</td>\n      <td>2017-12</td>\n      <td>NaN</td>\n      <td>NaN</td>\n      <td>RUR</td>\n      <td>810.0</td>\n      <td>NaN</td>\n      <td>Russian ruble</td>\n      <td>NaN</td>\n      <td>Package Stores--Beer, Wine, and Liquor</td>\n    </tr>\n    <tr>\n      <th>3</th>\n      <td>5411</td>\n      <td>2017-10-01</td>\n      <td>21OCT17:00:00:00</td>\n      <td>2031.0</td>\n      <td>NaN</td>\n      <td>0</td>\n      <td>810</td>\n      <td>POS</td>\n      <td>17:00:00</td>\n      <td>21</td>\n      <td>...</td>\n      <td>2017</td>\n      <td>2017-10</td>\n      <td>NaN</td>\n      <td>NaN</td>\n      <td>RUR</td>\n      <td>810.0</td>\n      <td>NaN</td>\n      <td>Russian ruble</td>\n      <td>NaN</td>\n      <td>Grocery Stores and Supermarkets</td>\n    </tr>\n    <tr>\n      <th>4</th>\n      <td>6012</td>\n      <td>2017-10-01</td>\n      <td>24OCT17:13:14:24</td>\n      <td>36562.0</td>\n      <td>NaN</td>\n      <td>0</td>\n      <td>810</td>\n      <td>C2C_OUT</td>\n      <td>17:13:14</td>\n      <td>24</td>\n      <td>...</td>\n      <td>2017</td>\n      <td>2017-10</td>\n      <td>NaN</td>\n      <td>NaN</td>\n      <td>RUR</td>\n      <td>810.0</td>\n      <td>NaN</td>\n      <td>Russian ruble</td>\n      <td>NaN</td>\n      <td>Quasi Cash - Financial Institution - Merchandi...</td>\n    </tr>\n  </tbody>\n</table>\n<p>5 rows × 21 columns</p>\n</div>"
     },
     "execution_count": 36,
     "metadata": {},
     "output_type": "execute_result"
    }
   ],
   "source": [
    "data.head()"
   ]
  },
  {
   "cell_type": "markdown",
   "metadata": {},
   "source": [
    "Проверим сколько у нас категорий не подтянулось с помощью методов **.isna()** и **.value_counts()**."
   ]
  },
  {
   "cell_type": "code",
   "execution_count": 37,
   "metadata": {
    "ExecuteTime": {
     "end_time": "2024-02-10T05:49:19.439012Z",
     "start_time": "2024-02-10T05:49:19.424055Z"
    }
   },
   "outputs": [
    {
     "data": {
      "text/plain": "category\nFalse    1008888\nTrue           1\nName: count, dtype: int64"
     },
     "execution_count": 37,
     "metadata": {},
     "output_type": "execute_result"
    }
   ],
   "source": [
    "data.category.isna().value_counts()"
   ]
  },
  {
   "cell_type": "code",
   "execution_count": 38,
   "metadata": {
    "ExecuteTime": {
     "end_time": "2024-02-10T05:50:02.085878Z",
     "start_time": "2024-02-10T05:50:02.037914Z"
    }
   },
   "outputs": [
    {
     "data": {
      "text/plain": "mcc\nFalse    1008889\nName: count, dtype: int64"
     },
     "execution_count": 38,
     "metadata": {},
     "output_type": "execute_result"
    }
   ],
   "source": [
    "data.mcc.isna().value_counts()"
   ]
  },
  {
   "cell_type": "code",
   "outputs": [],
   "source": [
    "data.to_csv('data.csv', index=False)"
   ],
   "metadata": {
    "collapsed": false,
    "ExecuteTime": {
     "end_time": "2024-02-10T05:50:13.544399Z",
     "start_time": "2024-02-10T05:50:03.867415Z"
    }
   },
   "execution_count": 39
  },
  {
   "cell_type": "code",
   "outputs": [],
   "source": [],
   "metadata": {
    "collapsed": false,
    "ExecuteTime": {
     "end_time": "2024-02-10T05:50:16.840176Z",
     "start_time": "2024-02-10T05:50:16.797494Z"
    }
   },
   "execution_count": 39
  },
  {
   "cell_type": "code",
   "outputs": [],
   "source": [],
   "metadata": {
    "collapsed": false,
    "ExecuteTime": {
     "end_time": "2024-02-10T05:50:17.825311Z",
     "start_time": "2024-02-10T05:50:17.683792Z"
    }
   },
   "execution_count": 39
  },
  {
   "cell_type": "markdown",
   "metadata": {},
   "source": [
    "Действительно, в силу тех или иных причин мы не смогли индифицировать всего лишь 1 код, так что мы можем этим пренебречь."
   ]
  },
  {
   "cell_type": "markdown",
   "metadata": {},
   "source": [
    "## 4.  Отчет по средним тратам."
   ]
  },
  {
   "cell_type": "markdown",
   "metadata": {},
   "source": [
    "Давайте уже построим отчет! Для этих целей отберем только рублевые транзакции и сделаем табличку в разрезе категория-даты.<br>\n",
    "\n",
    "Также, тк природа данных это покупки/транзакции, то присутствуют экстримальные значения, которые будут искажать среднее по больнице.\n",
    "Поэтому мы **отбросим по 5% максимальных значений и столько же минимальных**. Это называется **очисткой от выбросов** и для этого нам понадобится посчитать квартили и применить фильтрацию."
   ]
  },
  {
   "cell_type": "code",
   "execution_count": 40,
   "metadata": {
    "ExecuteTime": {
     "end_time": "2024-02-10T05:50:24.048429Z",
     "start_time": "2024-02-10T05:50:20.465041Z"
    }
   },
   "outputs": [],
   "source": [
    "report = pd.DataFrame()\n",
    "currency = 810\n",
    "rubbles = data[data['currency'] == currency]\n",
    "dates = sorted(rubbles['transac_year_month'].unique())\n",
    "\n",
    "\n",
    "for date in dates:\n",
    "    buffer = rubbles[rubbles['transac_year_month'] == date][['transac_year_month','amount','category']].set_index(['transac_year_month','category'])\n",
    "\n",
    "    low = .05\n",
    "    high = .95\n",
    "    quant_df = buffer.quantile([low, high])\n",
    "\n",
    "    filtered_df = buffer.apply(lambda x: x[(x>quant_df.loc[low,x.name]) & (x < quant_df.loc[high,x.name])], axis=0)\n",
    "    filtered_df = filtered_df.reset_index().groupby(['transac_year_month','category']).mean()\n",
    "\n",
    "    report = pd.concat([report, filtered_df]) # объединяем нашу таблицу\n",
    "\n",
    "report = report.unstack().T # разворачиваем нашу таблицу \n",
    "report = round(report,2)"
   ]
  },
  {
   "cell_type": "code",
   "execution_count": 41,
   "metadata": {
    "scrolled": true,
    "ExecuteTime": {
     "end_time": "2024-02-10T05:50:26.023513Z",
     "start_time": "2024-02-10T05:50:25.962184Z"
    }
   },
   "outputs": [
    {
     "data": {
      "text/plain": "transac_year_month                                       2016-10   2016-11  \\\n       category                                                              \namount AIR STANA                                             NaN       NaN   \n       Accounting, Auditing, and Bookkeeping Services        NaN   2294.42   \n       Advertising Services                              1306.57   2674.30   \n       AeroFlot                                         20423.09  12961.51   \n       Agricultural Cooperatives                             NaN       NaN   \n\ntransac_year_month                                       2016-12   2017-01  \\\n       category                                                              \namount AIR STANA                                             NaN  14061.00   \n       Accounting, Auditing, and Bookkeeping Services        NaN    960.00   \n       Advertising Services                              1863.58   1367.67   \n       AeroFlot                                         13992.32   8480.99   \n       Agricultural Cooperatives                             NaN    702.00   \n\ntransac_year_month                                       2017-02   2017-03  \\\n       category                                                              \namount AIR STANA                                        10977.00       NaN   \n       Accounting, Auditing, and Bookkeeping Services        NaN       NaN   \n       Advertising Services                              1071.13   1117.51   \n       AeroFlot                                          9766.56  11490.96   \n       Agricultural Cooperatives                          624.00       NaN   \n\ntransac_year_month                                      2017-04  2017-05  \\\n       category                                                            \namount AIR STANA                                            NaN      NaN   \n       Accounting, Auditing, and Bookkeeping Services       NaN   290.00   \n       Advertising Services                             1783.02  1130.19   \n       AeroFlot                                         9601.84  8756.14   \n       Agricultural Cooperatives                        1879.50  1440.00   \n\ntransac_year_month                                       2017-06   2017-07  \\\n       category                                                              \namount AIR STANA                                        14092.00  11113.67   \n       Accounting, Auditing, and Bookkeeping Services        NaN       NaN   \n       Advertising Services                              1490.12   2049.76   \n       AeroFlot                                         10632.52   9061.11   \n       Agricultural Cooperatives                         1531.50       NaN   \n\ntransac_year_month                                       2017-08  2017-09  \\\n       category                                                             \namount AIR STANA                                        10691.00      NaN   \n       Accounting, Auditing, and Bookkeeping Services        NaN   720.00   \n       Advertising Services                              1517.03  1700.32   \n       AeroFlot                                         10445.11  9230.78   \n       Agricultural Cooperatives                             NaN   174.00   \n\ntransac_year_month                                      2017-10   2017-11  \\\n       category                                                             \namount AIR STANA                                            NaN       NaN   \n       Accounting, Auditing, and Bookkeeping Services       NaN       NaN   \n       Advertising Services                             2955.57    533.81   \n       AeroFlot                                         9766.24  16065.27   \n       Agricultural Cooperatives                            NaN       NaN   \n\ntransac_year_month                                       2017-12   2018-01  \\\n       category                                                              \namount AIR STANA                                             NaN       NaN   \n       Accounting, Auditing, and Bookkeeping Services        NaN       NaN   \n       Advertising Services                               191.31    293.31   \n       AeroFlot                                         11272.70  12295.00   \n       Agricultural Cooperatives                             NaN       NaN   \n\ntransac_year_month                                       2018-02  2018-03  \\\n       category                                                             \namount AIR STANA                                             NaN      NaN   \n       Accounting, Auditing, and Bookkeeping Services        NaN      NaN   \n       Advertising Services                               339.00   339.64   \n       AeroFlot                                         11299.33  7031.71   \n       Agricultural Cooperatives                             NaN      NaN   \n\ntransac_year_month                                      2018-04  \n       category                                                  \namount AIR STANA                                            NaN  \n       Accounting, Auditing, and Bookkeeping Services       NaN  \n       Advertising Services                                 NaN  \n       AeroFlot                                             NaN  \n       Agricultural Cooperatives                            NaN  ",
      "text/html": "<div>\n<style scoped>\n    .dataframe tbody tr th:only-of-type {\n        vertical-align: middle;\n    }\n\n    .dataframe tbody tr th {\n        vertical-align: top;\n    }\n\n    .dataframe thead th {\n        text-align: right;\n    }\n</style>\n<table border=\"1\" class=\"dataframe\">\n  <thead>\n    <tr style=\"text-align: right;\">\n      <th></th>\n      <th>transac_year_month</th>\n      <th>2016-10</th>\n      <th>2016-11</th>\n      <th>2016-12</th>\n      <th>2017-01</th>\n      <th>2017-02</th>\n      <th>2017-03</th>\n      <th>2017-04</th>\n      <th>2017-05</th>\n      <th>2017-06</th>\n      <th>2017-07</th>\n      <th>2017-08</th>\n      <th>2017-09</th>\n      <th>2017-10</th>\n      <th>2017-11</th>\n      <th>2017-12</th>\n      <th>2018-01</th>\n      <th>2018-02</th>\n      <th>2018-03</th>\n      <th>2018-04</th>\n    </tr>\n    <tr>\n      <th></th>\n      <th>category</th>\n      <th></th>\n      <th></th>\n      <th></th>\n      <th></th>\n      <th></th>\n      <th></th>\n      <th></th>\n      <th></th>\n      <th></th>\n      <th></th>\n      <th></th>\n      <th></th>\n      <th></th>\n      <th></th>\n      <th></th>\n      <th></th>\n      <th></th>\n      <th></th>\n      <th></th>\n    </tr>\n  </thead>\n  <tbody>\n    <tr>\n      <th rowspan=\"5\" valign=\"top\">amount</th>\n      <th>AIR STANA</th>\n      <td>NaN</td>\n      <td>NaN</td>\n      <td>NaN</td>\n      <td>14061.00</td>\n      <td>10977.00</td>\n      <td>NaN</td>\n      <td>NaN</td>\n      <td>NaN</td>\n      <td>14092.00</td>\n      <td>11113.67</td>\n      <td>10691.00</td>\n      <td>NaN</td>\n      <td>NaN</td>\n      <td>NaN</td>\n      <td>NaN</td>\n      <td>NaN</td>\n      <td>NaN</td>\n      <td>NaN</td>\n      <td>NaN</td>\n    </tr>\n    <tr>\n      <th>Accounting, Auditing, and Bookkeeping Services</th>\n      <td>NaN</td>\n      <td>2294.42</td>\n      <td>NaN</td>\n      <td>960.00</td>\n      <td>NaN</td>\n      <td>NaN</td>\n      <td>NaN</td>\n      <td>290.00</td>\n      <td>NaN</td>\n      <td>NaN</td>\n      <td>NaN</td>\n      <td>720.00</td>\n      <td>NaN</td>\n      <td>NaN</td>\n      <td>NaN</td>\n      <td>NaN</td>\n      <td>NaN</td>\n      <td>NaN</td>\n      <td>NaN</td>\n    </tr>\n    <tr>\n      <th>Advertising Services</th>\n      <td>1306.57</td>\n      <td>2674.30</td>\n      <td>1863.58</td>\n      <td>1367.67</td>\n      <td>1071.13</td>\n      <td>1117.51</td>\n      <td>1783.02</td>\n      <td>1130.19</td>\n      <td>1490.12</td>\n      <td>2049.76</td>\n      <td>1517.03</td>\n      <td>1700.32</td>\n      <td>2955.57</td>\n      <td>533.81</td>\n      <td>191.31</td>\n      <td>293.31</td>\n      <td>339.00</td>\n      <td>339.64</td>\n      <td>NaN</td>\n    </tr>\n    <tr>\n      <th>AeroFlot</th>\n      <td>20423.09</td>\n      <td>12961.51</td>\n      <td>13992.32</td>\n      <td>8480.99</td>\n      <td>9766.56</td>\n      <td>11490.96</td>\n      <td>9601.84</td>\n      <td>8756.14</td>\n      <td>10632.52</td>\n      <td>9061.11</td>\n      <td>10445.11</td>\n      <td>9230.78</td>\n      <td>9766.24</td>\n      <td>16065.27</td>\n      <td>11272.70</td>\n      <td>12295.00</td>\n      <td>11299.33</td>\n      <td>7031.71</td>\n      <td>NaN</td>\n    </tr>\n    <tr>\n      <th>Agricultural Cooperatives</th>\n      <td>NaN</td>\n      <td>NaN</td>\n      <td>NaN</td>\n      <td>702.00</td>\n      <td>624.00</td>\n      <td>NaN</td>\n      <td>1879.50</td>\n      <td>1440.00</td>\n      <td>1531.50</td>\n      <td>NaN</td>\n      <td>NaN</td>\n      <td>174.00</td>\n      <td>NaN</td>\n      <td>NaN</td>\n      <td>NaN</td>\n      <td>NaN</td>\n      <td>NaN</td>\n      <td>NaN</td>\n      <td>NaN</td>\n    </tr>\n  </tbody>\n</table>\n</div>"
     },
     "execution_count": 41,
     "metadata": {},
     "output_type": "execute_result"
    }
   ],
   "source": [
    "report.head()"
   ]
  },
  {
   "cell_type": "code",
   "execution_count": 42,
   "metadata": {
    "ExecuteTime": {
     "end_time": "2024-02-10T05:50:31.658289Z",
     "start_time": "2024-02-10T05:50:31.586810Z"
    }
   },
   "outputs": [],
   "source": [
    "def do_report(dataframe, currency_int):\n",
    "    \"\"\"\n",
    "    Данная функция делает отчет по аналогии с тем что мыы делали выше, но принимает на вход таблицу и значение валюты\n",
    "    по которым нужно построить отчет.\n",
    "    \n",
    "    Сначала мы создаем пустую таблицу в которую будем добавлять уже посчитанные значения.\n",
    "    Далее создаем срез из переданной таблицы и создаем отсортированный вектор дат.\n",
    "    \n",
    "    После этого начинается цикл, которй бегает по сформированному срезу и берет транзакции по определенной дате и \n",
    "    выбирает значения ['transac_year_month','amount','category'].\n",
    "    \n",
    "    Далее рассчитаывается .05 и .95 квартиль распределения. По сути мы отбрасываем по 5% максимальных значений и \n",
    "    столько же минимальных, тем самым очищая от выбросов, которые могут исказить наши средние значения.\n",
    "    После того как рассчитали пороги, мы приминяем фильтрацию и получаем очищенную табличку.\n",
    "    \n",
    "    Присоединяем ее к созданной в начале с помощью метода pd.concat, разворачиваем и транспонируем.\n",
    "\n",
    "    \"\"\"\n",
    "    \n",
    "    report = pd.DataFrame()\n",
    "    currency = currency_int\n",
    "    df = dataframe[dataframe['currency'] == currency]\n",
    "    dates = sorted(df['transac_year_month'].unique())\n",
    "\n",
    "\n",
    "    for date in dates:\n",
    "        buffer = df[df['transac_year_month'] == date][['transac_year_month','amount','category']].set_index(['transac_year_month','category'])\n",
    "\n",
    "        # посчитаем значения квартилей по которым будем обрезать наши значния в транзакциях\n",
    "        low = .05\n",
    "        high = .95\n",
    "        quant_df = buffer.quantile([low, high])\n",
    "\n",
    "        # отфильтруем значения \n",
    "        filtered_df = buffer.apply(lambda x: x[(x>quant_df.loc[low,x.name]) & (x < quant_df.loc[high,x.name])], axis=0)\n",
    "        filtered_df = filtered_df.reset_index().groupby(['transac_year_month','category']).mean()\n",
    "\n",
    "        # объединяем нашу посчитанную таблицу с главной\n",
    "        report = pd.concat([report, filtered_df])\n",
    "\n",
    "    # разворачиваем нашу таблицу, транспонируем и удаляем одну колонку по которой индексировались - непростое комбо!\n",
    "    report = report.unstack().T\n",
    "    \n",
    "    \"\"\"\n",
    "    P.S. Пофиксили случай, когда у нас получается слишком маленький отчет и наше отсечение порогов захватывает все записи и у нас\n",
    "    остается пустой отчет, который приводит к ошибке в следующей функции, которая записывает отчет в excel.\n",
    "    Я решил написать просто дополнение, а не переписывать функцию полностью.\n",
    "    \"\"\"\n",
    "    if report.shape[0] == 0: # сравниваем длину нашего отчета с нулем. если да, то делаем операции внутри цикла.\n",
    "        \n",
    "        report = pd.DataFrame() # обнуляем наш отчет\n",
    "        \n",
    "        # для каждой из дат считаем все теже операции, что и выше, но без отсечения выбросов.\n",
    "        for date in dates:\n",
    "            buffer = df[df['transac_year_month'] == date][['transac_year_month','amount','category']].set_index(['transac_year_month','category'])\n",
    "            buffer = buffer.groupby(['transac_year_month','category']).mean()\n",
    "            report = pd.concat([report, buffer])\n",
    "            return round(report,2) # возвращаем таблицу с округленными значениями\n",
    "    else:\n",
    "        return round(report,2)"
   ]
  },
  {
   "cell_type": "code",
   "execution_count": 43,
   "metadata": {
    "ExecuteTime": {
     "end_time": "2024-02-10T05:50:37.188737Z",
     "start_time": "2024-02-10T05:50:33.763515Z"
    }
   },
   "outputs": [
    {
     "data": {
      "text/plain": "transac_year_month                                       2016-10   2016-11  \\\n       category                                                              \namount AIR STANA                                             NaN       NaN   \n       Accounting, Auditing, and Bookkeeping Services        NaN   2294.42   \n       Advertising Services                              1306.57   2674.30   \n       AeroFlot                                         20423.09  12961.51   \n       Agricultural Cooperatives                             NaN       NaN   \n...                                                          ...       ...   \n       Watch, Clock, and Jewelry Repair Shops                NaN       NaN   \n       Wholesale Club with or without membership fee    12276.22   6662.86   \n       Wig & Toupee Shops                                    NaN       NaN   \n       Women's Accessory and Specialty Stores            1228.40   2127.35   \n       Women's Ready-to-Wear Stores                      8233.03   6074.67   \n\ntransac_year_month                                       2016-12   2017-01  \\\n       category                                                              \namount AIR STANA                                             NaN  14061.00   \n       Accounting, Auditing, and Bookkeeping Services        NaN    960.00   \n       Advertising Services                              1863.58   1367.67   \n       AeroFlot                                         13992.32   8480.99   \n       Agricultural Cooperatives                             NaN    702.00   \n...                                                          ...       ...   \n       Watch, Clock, and Jewelry Repair Shops                NaN       NaN   \n       Wholesale Club with or without membership fee     4101.72   3943.72   \n       Wig & Toupee Shops                                    NaN   2000.00   \n       Women's Accessory and Specialty Stores            2307.11   2518.97   \n       Women's Ready-to-Wear Stores                      4550.76   3579.52   \n\ntransac_year_month                                       2017-02   2017-03  \\\n       category                                                              \namount AIR STANA                                        10977.00       NaN   \n       Accounting, Auditing, and Bookkeeping Services        NaN       NaN   \n       Advertising Services                              1071.13   1117.51   \n       AeroFlot                                          9766.56  11490.96   \n       Agricultural Cooperatives                          624.00       NaN   \n...                                                          ...       ...   \n       Watch, Clock, and Jewelry Repair Shops                NaN       NaN   \n       Wholesale Club with or without membership fee     3913.00   3178.16   \n       Wig & Toupee Shops                                    NaN       NaN   \n       Women's Accessory and Specialty Stores            1885.26   2966.96   \n       Women's Ready-to-Wear Stores                      4765.81   5491.56   \n\ntransac_year_month                                      2017-04  2017-05  \\\n       category                                                            \namount AIR STANA                                            NaN      NaN   \n       Accounting, Auditing, and Bookkeeping Services       NaN   290.00   \n       Advertising Services                             1783.02  1130.19   \n       AeroFlot                                         9601.84  8756.14   \n       Agricultural Cooperatives                        1879.50  1440.00   \n...                                                         ...      ...   \n       Watch, Clock, and Jewelry Repair Shops               NaN      NaN   \n       Wholesale Club with or without membership fee    3814.22  3966.04   \n       Wig & Toupee Shops                                   NaN      NaN   \n       Women's Accessory and Specialty Stores           3505.10  2999.78   \n       Women's Ready-to-Wear Stores                     5339.64  5209.03   \n\ntransac_year_month                                       2017-06   2017-07  \\\n       category                                                              \namount AIR STANA                                        14092.00  11113.67   \n       Accounting, Auditing, and Bookkeeping Services        NaN       NaN   \n       Advertising Services                              1490.12   2049.76   \n       AeroFlot                                         10632.52   9061.11   \n       Agricultural Cooperatives                         1531.50       NaN   \n...                                                          ...       ...   \n       Watch, Clock, and Jewelry Repair Shops                NaN       NaN   \n       Wholesale Club with or without membership fee     4017.87   3020.72   \n       Wig & Toupee Shops                                    NaN       NaN   \n       Women's Accessory and Specialty Stores            2930.45   2947.80   \n       Women's Ready-to-Wear Stores                      4699.04   3722.10   \n\ntransac_year_month                                       2017-08  2017-09  \\\n       category                                                             \namount AIR STANA                                        10691.00      NaN   \n       Accounting, Auditing, and Bookkeeping Services        NaN   720.00   \n       Advertising Services                              1517.03  1700.32   \n       AeroFlot                                         10445.11  9230.78   \n       Agricultural Cooperatives                             NaN   174.00   \n...                                                          ...      ...   \n       Watch, Clock, and Jewelry Repair Shops                NaN      NaN   \n       Wholesale Club with or without membership fee     3512.87  3525.78   \n       Wig & Toupee Shops                                    NaN      NaN   \n       Women's Accessory and Specialty Stores            2489.57  3279.07   \n       Women's Ready-to-Wear Stores                      3936.42  4783.55   \n\ntransac_year_month                                      2017-10   2017-11  \\\n       category                                                             \namount AIR STANA                                            NaN       NaN   \n       Accounting, Auditing, and Bookkeeping Services       NaN       NaN   \n       Advertising Services                             2955.57    533.81   \n       AeroFlot                                         9766.24  16065.27   \n       Agricultural Cooperatives                            NaN       NaN   \n...                                                         ...       ...   \n       Watch, Clock, and Jewelry Repair Shops               NaN       NaN   \n       Wholesale Club with or without membership fee    3588.00   8530.00   \n       Wig & Toupee Shops                                   NaN       NaN   \n       Women's Accessory and Specialty Stores           3666.73   4258.17   \n       Women's Ready-to-Wear Stores                     6139.80   5924.88   \n\ntransac_year_month                                       2017-12   2018-01  \\\n       category                                                              \namount AIR STANA                                             NaN       NaN   \n       Accounting, Auditing, and Bookkeeping Services        NaN       NaN   \n       Advertising Services                               191.31    293.31   \n       AeroFlot                                         11272.70  12295.00   \n       Agricultural Cooperatives                             NaN       NaN   \n...                                                          ...       ...   \n       Watch, Clock, and Jewelry Repair Shops           18369.00       NaN   \n       Wholesale Club with or without membership fee     6133.33   2055.50   \n       Wig & Toupee Shops                                    NaN       NaN   \n       Women's Accessory and Specialty Stores            3555.40   5061.33   \n       Women's Ready-to-Wear Stores                      3342.75   4795.25   \n\ntransac_year_month                                       2018-02  2018-03  \\\n       category                                                             \namount AIR STANA                                             NaN      NaN   \n       Accounting, Auditing, and Bookkeeping Services        NaN      NaN   \n       Advertising Services                               339.00   339.64   \n       AeroFlot                                         11299.33  7031.71   \n       Agricultural Cooperatives                             NaN      NaN   \n...                                                          ...      ...   \n       Watch, Clock, and Jewelry Repair Shops                NaN      NaN   \n       Wholesale Club with or without membership fee      442.00   367.00   \n       Wig & Toupee Shops                                    NaN      NaN   \n       Women's Accessory and Specialty Stores             373.50  1200.00   \n       Women's Ready-to-Wear Stores                      5228.12  5874.35   \n\ntransac_year_month                                      2018-04  \n       category                                                  \namount AIR STANA                                            NaN  \n       Accounting, Auditing, and Bookkeeping Services       NaN  \n       Advertising Services                                 NaN  \n       AeroFlot                                             NaN  \n       Agricultural Cooperatives                            NaN  \n...                                                         ...  \n       Watch, Clock, and Jewelry Repair Shops               NaN  \n       Wholesale Club with or without membership fee        NaN  \n       Wig & Toupee Shops                                   NaN  \n       Women's Accessory and Specialty Stores               NaN  \n       Women's Ready-to-Wear Stores                         NaN  \n\n[316 rows x 19 columns]",
      "text/html": "<div>\n<style scoped>\n    .dataframe tbody tr th:only-of-type {\n        vertical-align: middle;\n    }\n\n    .dataframe tbody tr th {\n        vertical-align: top;\n    }\n\n    .dataframe thead th {\n        text-align: right;\n    }\n</style>\n<table border=\"1\" class=\"dataframe\">\n  <thead>\n    <tr style=\"text-align: right;\">\n      <th></th>\n      <th>transac_year_month</th>\n      <th>2016-10</th>\n      <th>2016-11</th>\n      <th>2016-12</th>\n      <th>2017-01</th>\n      <th>2017-02</th>\n      <th>2017-03</th>\n      <th>2017-04</th>\n      <th>2017-05</th>\n      <th>2017-06</th>\n      <th>2017-07</th>\n      <th>2017-08</th>\n      <th>2017-09</th>\n      <th>2017-10</th>\n      <th>2017-11</th>\n      <th>2017-12</th>\n      <th>2018-01</th>\n      <th>2018-02</th>\n      <th>2018-03</th>\n      <th>2018-04</th>\n    </tr>\n    <tr>\n      <th></th>\n      <th>category</th>\n      <th></th>\n      <th></th>\n      <th></th>\n      <th></th>\n      <th></th>\n      <th></th>\n      <th></th>\n      <th></th>\n      <th></th>\n      <th></th>\n      <th></th>\n      <th></th>\n      <th></th>\n      <th></th>\n      <th></th>\n      <th></th>\n      <th></th>\n      <th></th>\n      <th></th>\n    </tr>\n  </thead>\n  <tbody>\n    <tr>\n      <th rowspan=\"11\" valign=\"top\">amount</th>\n      <th>AIR STANA</th>\n      <td>NaN</td>\n      <td>NaN</td>\n      <td>NaN</td>\n      <td>14061.00</td>\n      <td>10977.00</td>\n      <td>NaN</td>\n      <td>NaN</td>\n      <td>NaN</td>\n      <td>14092.00</td>\n      <td>11113.67</td>\n      <td>10691.00</td>\n      <td>NaN</td>\n      <td>NaN</td>\n      <td>NaN</td>\n      <td>NaN</td>\n      <td>NaN</td>\n      <td>NaN</td>\n      <td>NaN</td>\n      <td>NaN</td>\n    </tr>\n    <tr>\n      <th>Accounting, Auditing, and Bookkeeping Services</th>\n      <td>NaN</td>\n      <td>2294.42</td>\n      <td>NaN</td>\n      <td>960.00</td>\n      <td>NaN</td>\n      <td>NaN</td>\n      <td>NaN</td>\n      <td>290.00</td>\n      <td>NaN</td>\n      <td>NaN</td>\n      <td>NaN</td>\n      <td>720.00</td>\n      <td>NaN</td>\n      <td>NaN</td>\n      <td>NaN</td>\n      <td>NaN</td>\n      <td>NaN</td>\n      <td>NaN</td>\n      <td>NaN</td>\n    </tr>\n    <tr>\n      <th>Advertising Services</th>\n      <td>1306.57</td>\n      <td>2674.30</td>\n      <td>1863.58</td>\n      <td>1367.67</td>\n      <td>1071.13</td>\n      <td>1117.51</td>\n      <td>1783.02</td>\n      <td>1130.19</td>\n      <td>1490.12</td>\n      <td>2049.76</td>\n      <td>1517.03</td>\n      <td>1700.32</td>\n      <td>2955.57</td>\n      <td>533.81</td>\n      <td>191.31</td>\n      <td>293.31</td>\n      <td>339.00</td>\n      <td>339.64</td>\n      <td>NaN</td>\n    </tr>\n    <tr>\n      <th>AeroFlot</th>\n      <td>20423.09</td>\n      <td>12961.51</td>\n      <td>13992.32</td>\n      <td>8480.99</td>\n      <td>9766.56</td>\n      <td>11490.96</td>\n      <td>9601.84</td>\n      <td>8756.14</td>\n      <td>10632.52</td>\n      <td>9061.11</td>\n      <td>10445.11</td>\n      <td>9230.78</td>\n      <td>9766.24</td>\n      <td>16065.27</td>\n      <td>11272.70</td>\n      <td>12295.00</td>\n      <td>11299.33</td>\n      <td>7031.71</td>\n      <td>NaN</td>\n    </tr>\n    <tr>\n      <th>Agricultural Cooperatives</th>\n      <td>NaN</td>\n      <td>NaN</td>\n      <td>NaN</td>\n      <td>702.00</td>\n      <td>624.00</td>\n      <td>NaN</td>\n      <td>1879.50</td>\n      <td>1440.00</td>\n      <td>1531.50</td>\n      <td>NaN</td>\n      <td>NaN</td>\n      <td>174.00</td>\n      <td>NaN</td>\n      <td>NaN</td>\n      <td>NaN</td>\n      <td>NaN</td>\n      <td>NaN</td>\n      <td>NaN</td>\n      <td>NaN</td>\n    </tr>\n    <tr>\n      <th>...</th>\n      <td>...</td>\n      <td>...</td>\n      <td>...</td>\n      <td>...</td>\n      <td>...</td>\n      <td>...</td>\n      <td>...</td>\n      <td>...</td>\n      <td>...</td>\n      <td>...</td>\n      <td>...</td>\n      <td>...</td>\n      <td>...</td>\n      <td>...</td>\n      <td>...</td>\n      <td>...</td>\n      <td>...</td>\n      <td>...</td>\n      <td>...</td>\n    </tr>\n    <tr>\n      <th>Watch, Clock, and Jewelry Repair Shops</th>\n      <td>NaN</td>\n      <td>NaN</td>\n      <td>NaN</td>\n      <td>NaN</td>\n      <td>NaN</td>\n      <td>NaN</td>\n      <td>NaN</td>\n      <td>NaN</td>\n      <td>NaN</td>\n      <td>NaN</td>\n      <td>NaN</td>\n      <td>NaN</td>\n      <td>NaN</td>\n      <td>NaN</td>\n      <td>18369.00</td>\n      <td>NaN</td>\n      <td>NaN</td>\n      <td>NaN</td>\n      <td>NaN</td>\n    </tr>\n    <tr>\n      <th>Wholesale Club with or without membership fee</th>\n      <td>12276.22</td>\n      <td>6662.86</td>\n      <td>4101.72</td>\n      <td>3943.72</td>\n      <td>3913.00</td>\n      <td>3178.16</td>\n      <td>3814.22</td>\n      <td>3966.04</td>\n      <td>4017.87</td>\n      <td>3020.72</td>\n      <td>3512.87</td>\n      <td>3525.78</td>\n      <td>3588.00</td>\n      <td>8530.00</td>\n      <td>6133.33</td>\n      <td>2055.50</td>\n      <td>442.00</td>\n      <td>367.00</td>\n      <td>NaN</td>\n    </tr>\n    <tr>\n      <th>Wig &amp; Toupee Shops</th>\n      <td>NaN</td>\n      <td>NaN</td>\n      <td>NaN</td>\n      <td>2000.00</td>\n      <td>NaN</td>\n      <td>NaN</td>\n      <td>NaN</td>\n      <td>NaN</td>\n      <td>NaN</td>\n      <td>NaN</td>\n      <td>NaN</td>\n      <td>NaN</td>\n      <td>NaN</td>\n      <td>NaN</td>\n      <td>NaN</td>\n      <td>NaN</td>\n      <td>NaN</td>\n      <td>NaN</td>\n      <td>NaN</td>\n    </tr>\n    <tr>\n      <th>Women's Accessory and Specialty Stores</th>\n      <td>1228.40</td>\n      <td>2127.35</td>\n      <td>2307.11</td>\n      <td>2518.97</td>\n      <td>1885.26</td>\n      <td>2966.96</td>\n      <td>3505.10</td>\n      <td>2999.78</td>\n      <td>2930.45</td>\n      <td>2947.80</td>\n      <td>2489.57</td>\n      <td>3279.07</td>\n      <td>3666.73</td>\n      <td>4258.17</td>\n      <td>3555.40</td>\n      <td>5061.33</td>\n      <td>373.50</td>\n      <td>1200.00</td>\n      <td>NaN</td>\n    </tr>\n    <tr>\n      <th>Women's Ready-to-Wear Stores</th>\n      <td>8233.03</td>\n      <td>6074.67</td>\n      <td>4550.76</td>\n      <td>3579.52</td>\n      <td>4765.81</td>\n      <td>5491.56</td>\n      <td>5339.64</td>\n      <td>5209.03</td>\n      <td>4699.04</td>\n      <td>3722.10</td>\n      <td>3936.42</td>\n      <td>4783.55</td>\n      <td>6139.80</td>\n      <td>5924.88</td>\n      <td>3342.75</td>\n      <td>4795.25</td>\n      <td>5228.12</td>\n      <td>5874.35</td>\n      <td>NaN</td>\n    </tr>\n  </tbody>\n</table>\n<p>316 rows × 19 columns</p>\n</div>"
     },
     "execution_count": 43,
     "metadata": {},
     "output_type": "execute_result"
    }
   ],
   "source": [
    "rep = do_report(data,810)\n",
    "rep"
   ]
  },
  {
   "cell_type": "markdown",
   "metadata": {},
   "source": [
    "Проверим. Работает!"
   ]
  },
  {
   "cell_type": "markdown",
   "metadata": {},
   "source": [
    "Осталось только проделать это все для каждой категории транзакций, записать на отдельный лист и записать в эксельник.<br>\n",
    "Ниже я написал функуцию, которая циклично добавляет табличку на новыый лист с названием этой таблицы."
   ]
  },
  {
   "cell_type": "code",
   "execution_count": 44,
   "metadata": {
    "ExecuteTime": {
     "end_time": "2024-02-10T05:50:56.065976Z",
     "start_time": "2024-02-10T05:50:50.599559Z"
    }
   },
   "outputs": [],
   "source": [
    "import pandas as pd\n",
    "import openpyxl\n",
    "\n",
    "def write_excel_cyclicaly(dataframe, dataframe_name, book):\n",
    "    \"\"\"\n",
    "    Эта функция циклично добавляет табличку на новый лист с названием этой таблицы.\n",
    "    \"\"\"\n",
    "    # Если лист с именем dataframe_name уже существует, удаляем его\n",
    "    if dataframe_name in book.sheetnames:\n",
    "        idx = book.sheetnames.index(dataframe_name)\n",
    "        book.remove(book.worksheets[idx])\n",
    "\n",
    "    # Добавляем новый лист\n",
    "    sheet = book.create_sheet(title=dataframe_name, index=0)\n",
    "\n",
    "    # Записываем DataFrame в Excel\n",
    "    dataframe.to_excel('report1.xlsx', sheet_name=dataframe_name, index=False)\n",
    "\n",
    "    # Устанавливаем новый лист активным\n",
    "    book.active = sheet\n",
    "\n",
    "# определяем транзакционные категории конкретно для выбранного нами кода валюты\n",
    "trx_cats = data[data['currency'] == 810]['trx_category'].unique()\n",
    "\n",
    "# создаем/инициализируем файл \n",
    "filepath = \"report1.xlsx\"\n",
    "book = openpyxl.Workbook()\n",
    "\n",
    "# добавляем хотя бы один лист (вы можете изменить Sheet1 на другое имя листа)\n",
    "book.create_sheet(\"Sheet1\", 0)\n",
    "\n",
    "# сохраняем файл\n",
    "book.save(filepath)\n",
    "\n",
    "# цикл создания отчетов и записи в эксель файл\n",
    "for trx_cat in trx_cats:\n",
    "    report = do_report(data[data['trx_category'] == trx_cat], 810)\n",
    "    write_excel_cyclicaly(report, '{}'.format(trx_cat), book)\n"
   ]
  },
  {
   "cell_type": "markdown",
   "metadata": {},
   "source": [
    " Осталось немного. А именно нам нужно создать/инициализировать пустой файл эксель отчета и произвести в него запись,<br>\n",
    "получившихся таблиц."
   ]
  },
  {
   "cell_type": "code",
   "outputs": [],
   "source": [
    "rep = do_report(data, 840)"
   ],
   "metadata": {
    "collapsed": false,
    "ExecuteTime": {
     "end_time": "2024-02-10T05:51:33.428883Z",
     "start_time": "2024-02-10T05:51:33.183714Z"
    }
   },
   "execution_count": 45
  },
  {
   "cell_type": "code",
   "execution_count": 46,
   "metadata": {
    "ExecuteTime": {
     "end_time": "2024-02-10T05:51:41.855130Z",
     "start_time": "2024-02-10T05:51:38.971953Z"
    }
   },
   "outputs": [],
   "source": [
    "import pandas as pd\n",
    "import openpyxl\n",
    "\n",
    "def write_excel_cyclicaly(dataframe, dataframe_name, book):\n",
    "    \"\"\"\n",
    "    Эта функция циклично добавляет табличку на новый лист с названием этой таблицы.\n",
    "    \"\"\"\n",
    "    # Если лист с именем dataframe_name уже существует, удаляем его\n",
    "    if dataframe_name in book.sheetnames:\n",
    "        idx = book.sheetnames.index(dataframe_name)\n",
    "        book.remove(book.worksheets[idx])\n",
    "\n",
    "    # Добавляем новый лист\n",
    "    sheet = book.create_sheet(title=dataframe_name, index=0)\n",
    "\n",
    "    # Записываем DataFrame в Excel\n",
    "    dataframe.to_excel('report0.xlsx', sheet_name=dataframe_name, index=False)\n",
    "\n",
    "    # Устанавливаем новый лист активным\n",
    "    book.active = sheet\n",
    "\n",
    "# определяем транзакционные категории конкретно для выбранного нами кода валюты\n",
    "trx_cats = data[data['currency'] == 840]['trx_category'].unique()\n",
    "\n",
    "# создаем/инициализируем файл \n",
    "filepath = \"report0.xlsx\"\n",
    "book = openpyxl.Workbook()\n",
    "\n",
    "# добавляем хотя бы один лист (вы можете изменить Sheet1 на другое имя листа)\n",
    "book.create_sheet(\"Sheet1\", 0)\n",
    "\n",
    "# сохраняем файл\n",
    "book.save(filepath)\n",
    "\n",
    "# цикл создания отчетов и записи в эксель файл\n",
    "for trx_cat in trx_cats:\n",
    "    report = do_report(data[data['trx_category'] == trx_cat], 840)\n",
    "    write_excel_cyclicaly(report, '{}'.format(trx_cat), book)\n"
   ]
  },
  {
   "cell_type": "code",
   "outputs": [],
   "source": [
    "rep = do_report(data, 978)"
   ],
   "metadata": {
    "collapsed": false,
    "ExecuteTime": {
     "end_time": "2024-02-10T05:52:20.490754Z",
     "start_time": "2024-02-10T05:52:20.247124Z"
    }
   },
   "execution_count": 47
  },
  {
   "cell_type": "code",
   "outputs": [],
   "source": [
    "import pandas as pd\n",
    "import openpyxl\n",
    "\n",
    "def write_excel_cyclicaly(dataframe, dataframe_name, book):\n",
    "    \"\"\"\n",
    "    Эта функция циклично добавляет табличку на новый лист с названием этой таблицы.\n",
    "    \"\"\"\n",
    "    # Если лист с именем dataframe_name уже существует, удаляем его\n",
    "    if dataframe_name in book.sheetnames:\n",
    "        idx = book.sheetnames.index(dataframe_name)\n",
    "        book.remove(book.worksheets[idx])\n",
    "\n",
    "    # Добавляем новый лист\n",
    "    sheet = book.create_sheet(title=dataframe_name, index=0)\n",
    "\n",
    "    # Записываем DataFrame в Excel\n",
    "    dataframe.to_excel('report2.xlsx', sheet_name=dataframe_name, index=False)\n",
    "\n",
    "    # Устанавливаем новый лист активным\n",
    "    book.active = sheet\n",
    "\n",
    "# определяем транзакционные категории конкретно для выбранного нами кода валюты\n",
    "trx_cats = data[data['currency'] == 978]['trx_category'].unique()\n",
    "\n",
    "# создаем/инициализируем файл \n",
    "filepath = \"report2.xlsx\"\n",
    "book = openpyxl.Workbook()\n",
    "\n",
    "# добавляем хотя бы один лист (вы можете изменить Sheet1 на другое имя листа)\n",
    "book.create_sheet(\"Sheet1\", 0)\n",
    "\n",
    "# сохраняем файл\n",
    "book.save(filepath)\n",
    "\n",
    "# цикл создания отчетов и записи в эксель файл\n",
    "for trx_cat in trx_cats:\n",
    "    report = do_report(data[data['trx_category'] == trx_cat], 978)\n",
    "    write_excel_cyclicaly(report, '{}'.format(trx_cat), book)\n"
   ],
   "metadata": {
    "collapsed": false,
    "ExecuteTime": {
     "end_time": "2024-02-10T05:52:28.377883Z",
     "start_time": "2024-02-10T05:52:26.184384Z"
    }
   },
   "execution_count": 48
  },
  {
   "cell_type": "code",
   "outputs": [],
   "source": [],
   "metadata": {
    "collapsed": false,
    "ExecuteTime": {
     "end_time": "2024-02-10T05:52:53.021643Z",
     "start_time": "2024-02-10T05:52:52.980316Z"
    }
   },
   "execution_count": 48
  },
  {
   "cell_type": "markdown",
   "metadata": {},
   "source": [
    "## 5. Отчет по оттоку."
   ]
  },
  {
   "cell_type": "markdown",
   "metadata": {},
   "source": [
    "Отток, или **churn** можно определять по-разному, например в зависимости от периода.<br>\n",
    "Так же понятие оттока довольно тесно связано с удержанием или **retention**. Это напротив, сколько людей у нас остается на протяжении из месяца в месяц работы сервиса/подписки и приносит деньги.\n",
    "Давайте посчитаем классический месячныый отток, тоесть проверим сколько людей уходили в текущий месяц, сравнивая его с предыдущим."
   ]
  },
  {
   "cell_type": "code",
   "execution_count": 49,
   "metadata": {
    "ExecuteTime": {
     "end_time": "2024-02-10T05:52:55.960858Z",
     "start_time": "2024-02-10T05:52:55.805400Z"
    }
   },
   "outputs": [
    {
     "data": {
      "text/plain": "    mcc     period        trdatetime   amount channel_type  cl_id  currency  \\\n0  5200 2017-10-01  21OCT17:00:00:00   5023.0          NaN      0       810   \n1  6011 2017-10-01  12OCT17:12:24:07  20000.0          NaN      0       810   \n2  5921 2017-12-01  05DEC17:00:00:00    767.0          NaN      0       810   \n\n  trx_category transac_time transac_day  ... transac_year transac_year_month  \\\n0          POS     17:00:00          21  ...         2017            2017-10   \n1      DEPOSIT     17:12:24          12  ...         2017            2017-10   \n2          POS     17:00:00          05  ...         2017            2017-12   \n\n  Num_x  Unnamed: 0  Code  Num_y  D[a]       Currency  \\\n0   NaN         NaN   RUR  810.0   NaN  Russian ruble   \n1   NaN         NaN   RUR  810.0   NaN  Russian ruble   \n2   NaN         NaN   RUR  810.0   NaN  Russian ruble   \n\n  Locations listed for this currency[b]  \\\n0                                   NaN   \n1                                   NaN   \n2                                   NaN   \n\n                                            category  \n0                              Home Supply Warehouse  \n1  Financial Institutions--Automated Cash Disburs...  \n2             Package Stores--Beer, Wine, and Liquor  \n\n[3 rows x 21 columns]",
      "text/html": "<div>\n<style scoped>\n    .dataframe tbody tr th:only-of-type {\n        vertical-align: middle;\n    }\n\n    .dataframe tbody tr th {\n        vertical-align: top;\n    }\n\n    .dataframe thead th {\n        text-align: right;\n    }\n</style>\n<table border=\"1\" class=\"dataframe\">\n  <thead>\n    <tr style=\"text-align: right;\">\n      <th></th>\n      <th>mcc</th>\n      <th>period</th>\n      <th>trdatetime</th>\n      <th>amount</th>\n      <th>channel_type</th>\n      <th>cl_id</th>\n      <th>currency</th>\n      <th>trx_category</th>\n      <th>transac_time</th>\n      <th>transac_day</th>\n      <th>...</th>\n      <th>transac_year</th>\n      <th>transac_year_month</th>\n      <th>Num_x</th>\n      <th>Unnamed: 0</th>\n      <th>Code</th>\n      <th>Num_y</th>\n      <th>D[a]</th>\n      <th>Currency</th>\n      <th>Locations listed for this currency[b]</th>\n      <th>category</th>\n    </tr>\n  </thead>\n  <tbody>\n    <tr>\n      <th>0</th>\n      <td>5200</td>\n      <td>2017-10-01</td>\n      <td>21OCT17:00:00:00</td>\n      <td>5023.0</td>\n      <td>NaN</td>\n      <td>0</td>\n      <td>810</td>\n      <td>POS</td>\n      <td>17:00:00</td>\n      <td>21</td>\n      <td>...</td>\n      <td>2017</td>\n      <td>2017-10</td>\n      <td>NaN</td>\n      <td>NaN</td>\n      <td>RUR</td>\n      <td>810.0</td>\n      <td>NaN</td>\n      <td>Russian ruble</td>\n      <td>NaN</td>\n      <td>Home Supply Warehouse</td>\n    </tr>\n    <tr>\n      <th>1</th>\n      <td>6011</td>\n      <td>2017-10-01</td>\n      <td>12OCT17:12:24:07</td>\n      <td>20000.0</td>\n      <td>NaN</td>\n      <td>0</td>\n      <td>810</td>\n      <td>DEPOSIT</td>\n      <td>17:12:24</td>\n      <td>12</td>\n      <td>...</td>\n      <td>2017</td>\n      <td>2017-10</td>\n      <td>NaN</td>\n      <td>NaN</td>\n      <td>RUR</td>\n      <td>810.0</td>\n      <td>NaN</td>\n      <td>Russian ruble</td>\n      <td>NaN</td>\n      <td>Financial Institutions--Automated Cash Disburs...</td>\n    </tr>\n    <tr>\n      <th>2</th>\n      <td>5921</td>\n      <td>2017-12-01</td>\n      <td>05DEC17:00:00:00</td>\n      <td>767.0</td>\n      <td>NaN</td>\n      <td>0</td>\n      <td>810</td>\n      <td>POS</td>\n      <td>17:00:00</td>\n      <td>05</td>\n      <td>...</td>\n      <td>2017</td>\n      <td>2017-12</td>\n      <td>NaN</td>\n      <td>NaN</td>\n      <td>RUR</td>\n      <td>810.0</td>\n      <td>NaN</td>\n      <td>Russian ruble</td>\n      <td>NaN</td>\n      <td>Package Stores--Beer, Wine, and Liquor</td>\n    </tr>\n  </tbody>\n</table>\n<p>3 rows × 21 columns</p>\n</div>"
     },
     "execution_count": 49,
     "metadata": {},
     "output_type": "execute_result"
    }
   ],
   "source": [
    "data.head(3)"
   ]
  },
  {
   "cell_type": "code",
   "execution_count": 50,
   "metadata": {
    "ExecuteTime": {
     "end_time": "2024-02-10T05:53:04.402407Z",
     "start_time": "2024-02-10T05:53:01.311327Z"
    }
   },
   "outputs": [],
   "source": [
    "\"\"\"\n",
    "В этом куске кода мы будем искать оттекших пользователей тоесть cl_id, которых нет в этом месяце, но есть в прошлом. \n",
    "С точки зрения банковской деятельности это вобщем-то обосновано и у нас как раз транзакционные данные. В случае если \n",
    "это какой-то продукт, то возможно стоит увеличить окно в зависимости от бизнес процессов.\n",
    "\n",
    "`del previous, current` - Строчка которая, удаляет вектора \n",
    "Если вылезла ошибка, то нужно просто закомментировать, а потом раскомментировать, чтобы первая ячейка была всегда np.nan, \n",
    "потому что мы считаем отношение к прошлом месяцу, данными к которым мы еще не обладаем.\n",
    "\n",
    "1) Используем цикл с возможностью отловить ошибку: try ... except, который позволит нам не завершать цикл если вылезет ошибка.\n",
    "А ошибка у нас вылезает в случае, если у нас нет значения за прошлый период. \n",
    "2) Находим вектор айдишников пользователей в текущем месяце.\n",
    "3) Находим пересечение с прошлым месяцем, точнее инфертированное пересечение или те значения, которых нет в текущем месяце, \n",
    "сравнивая с предыдущим. У нас возвращается вектор True/False значений.\n",
    "P.S. На этом этапе у нас появляется ошибка в когда мы сравниваем первый месяц с прыдыдущего, которого у нас нет. У нас возникает\n",
    "ошибка, которую мы отлавливает и исполняем код в после except.\n",
    "4) Мы индексируемся, используя вектор True/False значений, получая только значения айдишников пользователей.\n",
    "5) Считаем длину вектора или по-другому количество \"оттекших\" пользователей.\n",
    "6) Переназначаем текущий вектор айдишников на прошлый период, чтобы сравнивать уже со следующим периодом.\n",
    "\n",
    "\"\"\"\n",
    "\n",
    "# del previous, current \n",
    "churn_array = []\n",
    "\n",
    "for month in sorted(data['transac_year_month'].unique()):\n",
    "    # 1\n",
    "    try:\n",
    "        # 2\n",
    "        current = data[data['transac_year_month'] == month]['cl_id'].unique()\n",
    "        # 3\n",
    "        churned_idx = np.isin(previous, current, invert=True) \n",
    "        # 4\n",
    "        churned = previous[churned_idx] \n",
    "        # 5\n",
    "        churn_array.append(len(churned))\n",
    "        # 6\n",
    "        previous = current\n",
    "    except NameError:\n",
    "        churn_array.append(np.nan)\n",
    "        # 7\n",
    "        previous = data[data['transac_year_month'] == month]['cl_id'].unique()"
   ]
  },
  {
   "cell_type": "code",
   "execution_count": 53,
   "metadata": {
    "ExecuteTime": {
     "end_time": "2024-02-10T05:53:16.839041Z",
     "start_time": "2024-02-10T05:53:16.785173Z"
    }
   },
   "outputs": [
    {
     "data": {
      "text/plain": "     months  churn\n0   2016-10     50\n1   2016-11     21\n2   2016-12    107\n3   2017-01    313\n4   2017-02    919\n5   2017-03   1220\n6   2017-04   1155\n7   2017-05    595\n8   2017-06    841\n9   2017-07    946\n10  2017-08   1072\n11  2017-09   1010\n12  2017-10   1009\n13  2017-11    793\n14  2017-12    194\n15  2018-01    129\n16  2018-02     96\n17  2018-03     94\n18  2018-04    138",
      "text/html": "<div>\n<style scoped>\n    .dataframe tbody tr th:only-of-type {\n        vertical-align: middle;\n    }\n\n    .dataframe tbody tr th {\n        vertical-align: top;\n    }\n\n    .dataframe thead th {\n        text-align: right;\n    }\n</style>\n<table border=\"1\" class=\"dataframe\">\n  <thead>\n    <tr style=\"text-align: right;\">\n      <th></th>\n      <th>months</th>\n      <th>churn</th>\n    </tr>\n  </thead>\n  <tbody>\n    <tr>\n      <th>0</th>\n      <td>2016-10</td>\n      <td>50</td>\n    </tr>\n    <tr>\n      <th>1</th>\n      <td>2016-11</td>\n      <td>21</td>\n    </tr>\n    <tr>\n      <th>2</th>\n      <td>2016-12</td>\n      <td>107</td>\n    </tr>\n    <tr>\n      <th>3</th>\n      <td>2017-01</td>\n      <td>313</td>\n    </tr>\n    <tr>\n      <th>4</th>\n      <td>2017-02</td>\n      <td>919</td>\n    </tr>\n    <tr>\n      <th>5</th>\n      <td>2017-03</td>\n      <td>1220</td>\n    </tr>\n    <tr>\n      <th>6</th>\n      <td>2017-04</td>\n      <td>1155</td>\n    </tr>\n    <tr>\n      <th>7</th>\n      <td>2017-05</td>\n      <td>595</td>\n    </tr>\n    <tr>\n      <th>8</th>\n      <td>2017-06</td>\n      <td>841</td>\n    </tr>\n    <tr>\n      <th>9</th>\n      <td>2017-07</td>\n      <td>946</td>\n    </tr>\n    <tr>\n      <th>10</th>\n      <td>2017-08</td>\n      <td>1072</td>\n    </tr>\n    <tr>\n      <th>11</th>\n      <td>2017-09</td>\n      <td>1010</td>\n    </tr>\n    <tr>\n      <th>12</th>\n      <td>2017-10</td>\n      <td>1009</td>\n    </tr>\n    <tr>\n      <th>13</th>\n      <td>2017-11</td>\n      <td>793</td>\n    </tr>\n    <tr>\n      <th>14</th>\n      <td>2017-12</td>\n      <td>194</td>\n    </tr>\n    <tr>\n      <th>15</th>\n      <td>2018-01</td>\n      <td>129</td>\n    </tr>\n    <tr>\n      <th>16</th>\n      <td>2018-02</td>\n      <td>96</td>\n    </tr>\n    <tr>\n      <th>17</th>\n      <td>2018-03</td>\n      <td>94</td>\n    </tr>\n    <tr>\n      <th>18</th>\n      <td>2018-04</td>\n      <td>138</td>\n    </tr>\n  </tbody>\n</table>\n</div>"
     },
     "execution_count": 53,
     "metadata": {},
     "output_type": "execute_result"
    }
   ],
   "source": [
    "churn_table = pd.DataFrame({'months':sorted(data['transac_year_month'].unique()),\n",
    "                            'churn':churn_array\n",
    "                           }, columns=['months','churn'])\n",
    "\n",
    "churn_table"
   ]
  },
  {
   "cell_type": "code",
   "outputs": [
    {
     "data": {
      "text/plain": "     months  churn  retention\n0   2016-10     50          0\n1   2016-11     21        430\n2   2016-12    107       1569\n3   2017-01    313       2913\n4   2017-02    919       2330\n5   2017-03   1220       1992\n6   2017-04   1155       1796\n7   2017-05    595       2291\n8   2017-06    841       2451\n9   2017-07    946       2628\n10  2017-08   1072       2656\n11  2017-09   1010       1893\n12  2017-10   1009       1030\n13  2017-11    793        361\n14  2017-12    194        267\n15  2018-01    129        209\n16  2018-02     96        174\n17  2018-03     94        149\n18  2018-04    138         48",
      "text/html": "<div>\n<style scoped>\n    .dataframe tbody tr th:only-of-type {\n        vertical-align: middle;\n    }\n\n    .dataframe tbody tr th {\n        vertical-align: top;\n    }\n\n    .dataframe thead th {\n        text-align: right;\n    }\n</style>\n<table border=\"1\" class=\"dataframe\">\n  <thead>\n    <tr style=\"text-align: right;\">\n      <th></th>\n      <th>months</th>\n      <th>churn</th>\n      <th>retention</th>\n    </tr>\n  </thead>\n  <tbody>\n    <tr>\n      <th>0</th>\n      <td>2016-10</td>\n      <td>50</td>\n      <td>0</td>\n    </tr>\n    <tr>\n      <th>1</th>\n      <td>2016-11</td>\n      <td>21</td>\n      <td>430</td>\n    </tr>\n    <tr>\n      <th>2</th>\n      <td>2016-12</td>\n      <td>107</td>\n      <td>1569</td>\n    </tr>\n    <tr>\n      <th>3</th>\n      <td>2017-01</td>\n      <td>313</td>\n      <td>2913</td>\n    </tr>\n    <tr>\n      <th>4</th>\n      <td>2017-02</td>\n      <td>919</td>\n      <td>2330</td>\n    </tr>\n    <tr>\n      <th>5</th>\n      <td>2017-03</td>\n      <td>1220</td>\n      <td>1992</td>\n    </tr>\n    <tr>\n      <th>6</th>\n      <td>2017-04</td>\n      <td>1155</td>\n      <td>1796</td>\n    </tr>\n    <tr>\n      <th>7</th>\n      <td>2017-05</td>\n      <td>595</td>\n      <td>2291</td>\n    </tr>\n    <tr>\n      <th>8</th>\n      <td>2017-06</td>\n      <td>841</td>\n      <td>2451</td>\n    </tr>\n    <tr>\n      <th>9</th>\n      <td>2017-07</td>\n      <td>946</td>\n      <td>2628</td>\n    </tr>\n    <tr>\n      <th>10</th>\n      <td>2017-08</td>\n      <td>1072</td>\n      <td>2656</td>\n    </tr>\n    <tr>\n      <th>11</th>\n      <td>2017-09</td>\n      <td>1010</td>\n      <td>1893</td>\n    </tr>\n    <tr>\n      <th>12</th>\n      <td>2017-10</td>\n      <td>1009</td>\n      <td>1030</td>\n    </tr>\n    <tr>\n      <th>13</th>\n      <td>2017-11</td>\n      <td>793</td>\n      <td>361</td>\n    </tr>\n    <tr>\n      <th>14</th>\n      <td>2017-12</td>\n      <td>194</td>\n      <td>267</td>\n    </tr>\n    <tr>\n      <th>15</th>\n      <td>2018-01</td>\n      <td>129</td>\n      <td>209</td>\n    </tr>\n    <tr>\n      <th>16</th>\n      <td>2018-02</td>\n      <td>96</td>\n      <td>174</td>\n    </tr>\n    <tr>\n      <th>17</th>\n      <td>2018-03</td>\n      <td>94</td>\n      <td>149</td>\n    </tr>\n    <tr>\n      <th>18</th>\n      <td>2018-04</td>\n      <td>138</td>\n      <td>48</td>\n    </tr>\n  </tbody>\n</table>\n</div>"
     },
     "execution_count": 52,
     "metadata": {},
     "output_type": "execute_result"
    }
   ],
   "source": [
    "# del previous, current \n",
    "churn_array = []\n",
    "retention_array = []\n",
    "\n",
    "for month in sorted(data['transac_year_month'].unique()):\n",
    "    # 1\n",
    "    try:\n",
    "        # 2\n",
    "        current = data[data['transac_year_month'] == month]['cl_id'].unique()\n",
    "        # 3\n",
    "        retained_idx = np.isin(previous, current)\n",
    "        # 4\n",
    "        retained = previous[retained_idx]\n",
    "        # 5\n",
    "        retention_array.append(len(retained))\n",
    "        # 6\n",
    "        churned_idx = np.isin(previous, current, invert=True) \n",
    "        churned = previous[churned_idx]\n",
    "        # 7\n",
    "        churn_array.append(len(churned))\n",
    "        # 8\n",
    "        previous = current\n",
    "    except NameError:\n",
    "        retention_array.append(np.nan)\n",
    "        churn_array.append(np.nan)\n",
    "        # 9\n",
    "        previous = data[data['transac_year_month'] == month]['cl_id'].unique()\n",
    "\n",
    "result_table = pd.DataFrame({'months': sorted(data['transac_year_month'].unique()),\n",
    "                              'churn': churn_array,\n",
    "                              'retention': retention_array\n",
    "                             }, columns=['months', 'churn', 'retention'])\n",
    "\n",
    "result_table\n"
   ],
   "metadata": {
    "collapsed": false,
    "ExecuteTime": {
     "end_time": "2024-02-10T05:53:11.598698Z",
     "start_time": "2024-02-10T05:53:09.813573Z"
    }
   },
   "execution_count": 52
  },
  {
   "cell_type": "markdown",
   "source": [],
   "metadata": {
    "collapsed": false
   }
  },
  {
   "cell_type": "code",
   "outputs": [],
   "source": [
    "result_table.to_csv('retention.csv',index=False)"
   ],
   "metadata": {
    "collapsed": false,
    "ExecuteTime": {
     "end_time": "2024-02-10T05:53:22.222473Z",
     "start_time": "2024-02-10T05:53:22.176410Z"
    }
   },
   "execution_count": 54
  },
  {
   "cell_type": "markdown",
   "metadata": {},
   "source": [
    "Запишем наш файл."
   ]
  },
  {
   "cell_type": "code",
   "execution_count": 55,
   "metadata": {
    "ExecuteTime": {
     "end_time": "2024-02-10T05:53:24.699384Z",
     "start_time": "2024-02-10T05:53:24.592163Z"
    }
   },
   "outputs": [],
   "source": [
    "churn_table.to_csv('churn.csv',index=False)"
   ]
  },
  {
   "cell_type": "markdown",
   "metadata": {},
   "source": [
    "Построим минимальный график, чтобы немного затронуть нашу следующую тему- визуализацию."
   ]
  },
  {
   "cell_type": "code",
   "execution_count": 56,
   "metadata": {
    "ExecuteTime": {
     "end_time": "2024-02-10T05:53:30.855893Z",
     "start_time": "2024-02-10T05:53:28.612928Z"
    }
   },
   "outputs": [
    {
     "data": {
      "text/plain": "<Figure size 1500x500 with 1 Axes>",
      "image/png": "[encoded data removed]"
     },
     "metadata": {},
     "output_type": "display_data"
    }
   ],
   "source": [
    "import matplotlib.pyplot as plt\n",
    "fig, ax = plt.subplots(1, 1, figsize=(15,5))\n",
    "churn_table['churn'].plot()\n",
    "\n",
    "plt.xlabel('dates', fontsize=14)\n",
    "ax = plt.gca()\n",
    "plt.xticks(np.arange(0, len(dates), 1.0))\n",
    "ax.set_xticklabels(churn_table['months'], fontsize=12, rotation=30)\n",
    "plt.tight_layout()\n",
    "\n",
    "plt.ylabel('ids')\n",
    "plt.xlabel('dates')\n",
    "plt.title('Users churned', fontsize=14)\n",
    "plt.savefig('churn.png', dpi=300, bbox_inches='tight')\n",
    "plt.show()"
   ]
  },
  {
   "cell_type": "code",
   "outputs": [
    {
     "data": {
      "text/plain": "<Figure size 1500x1000 with 2 Axes>",
      "image/png": "[encoded data removed]"
     },
     "metadata": {},
     "output_type": "display_data"
    }
   ],
   "source": [
    "import matplotlib.pyplot as plt\n",
    "\n",
    "fig, (ax1, ax2) = plt.subplots(2, 1, figsize=(15,10))\n",
    "\n",
    "# График для оттока\n",
    "ax1.plot(churn_table['months'], churn_table['churn'], marker='o', linestyle='-', color='r')\n",
    "ax1.set_xlabel('Months', fontsize=14)\n",
    "ax1.set_ylabel('Churned Users', fontsize=14)\n",
    "ax1.set_title('Users Churned', fontsize=16)\n",
    "ax1.tick_params(axis='x', rotation=45)\n",
    "ax1.grid(True)\n",
    "\n",
    "# График для удержания\n",
    "ax2.plot(result_table['months'], result_table['retention'], marker='o', linestyle='-', color='b')\n",
    "ax2.set_xlabel('Months', fontsize=14)\n",
    "ax2.set_ylabel('Retained Users', fontsize=14)\n",
    "ax2.set_title('Users Retained', fontsize=16)\n",
    "ax2.tick_params(axis='x', rotation=45)\n",
    "ax2.grid(True)\n",
    "\n",
    "plt.tight_layout()\n",
    "plt.savefig('churn_retention.png', dpi=300, bbox_inches='tight')\n",
    "plt.show()\n"
   ],
   "metadata": {
    "collapsed": false,
    "ExecuteTime": {
     "end_time": "2024-02-10T05:53:36.663900Z",
     "start_time": "2024-02-10T05:53:32.833962Z"
    }
   },
   "execution_count": 57
  },
  {
   "cell_type": "markdown",
   "metadata": {},
   "source": [
    "## 6. Посылаем файлы на почту."
   ]
  },
  {
   "cell_type": "markdown",
   "metadata": {},
   "source": [
    "Эта монстр функция посылает прогноз по почте указаным адресам.<br>\n",
    "Не обязатально понимать сразу все что написано внутри, можно разобрать это по-тихоньку по этапам."
   ]
  },
  {
   "cell_type": "code",
   "execution_count": 58,
   "metadata": {
    "ExecuteTime": {
     "end_time": "2024-02-10T06:43:22.267905Z",
     "start_time": "2024-02-10T06:43:22.206075Z"
    }
   },
   "outputs": [],
   "source": [
    "def send_email(mail_from, password, subject):  \n",
    "    \"\"\"\n",
    "    Эта функция посылает файл/файлы по почте указанным адресам.\n",
    "    \n",
    "    1) Константы и переменные, которые остаются неизменными, либо меняются нечасто.\n",
    "    2) Параметры для письма.\n",
    "    3) Список всех путей до документов, которые нужно послать.\n",
    "    4) Цикл для присоединения документов к письму.\n",
    "    5) Цикл для посылки письма. Тестирует на соединение и посылает письмо.\n",
    "    \n",
    "    \"\"\"\n",
    "    import smtplib, os, sys\n",
    "    from email.mime.multipart import MIMEMultipart\n",
    "    from email.mime.text import MIMEText\n",
    "    from email.mime.base import MIMEBase\n",
    "    from email import encoders\n",
    "    \n",
    "    # 1\n",
    "    RESULTS_PATH = ''\n",
    "    SENDER = '4adil4@mail.ru'  \n",
    "    PASSWORD = 'cvbnjkl123'  \n",
    "    RECEPIENTS = 'lida2004adil@gmail.com'  \n",
    "    COMMASPACE = ', '\n",
    "    \n",
    "    # 2\n",
    "    outer = MIMEMultipart()\n",
    "    outer['Subject'] = subject\n",
    "    outer['To'] =  COMMASPACE.join(RECEPIENTS)  # RECEPIENTS\n",
    "    outer['From'] = SENDER\n",
    "    # outer.preamble = ''\n",
    "\n",
    "    # 3\n",
    "    ATTACHEMENTS = ['report1.xlsx',\n",
    "                    'churn.csv',\n",
    "                    'churn.png'] \n",
    "\n",
    "    # 4\n",
    "    for file in ATTACHEMENTS:\n",
    "        try:\n",
    "            with open(file, 'rb') as fp:\n",
    "                msg = MIMEBase('application', \"octet-stream\")\n",
    "                msg.set_payload(fp.read())\n",
    "            encoders.encode_base64(msg)\n",
    "            msg.add_header('Content-Disposition', 'attachment', filename=os.path.basename(file))\n",
    "            outer.attach(msg)\n",
    "        except:\n",
    "            print(\"Unable to open one of the attachments. Error: \", sys.exc_info()[0])\n",
    "            raise\n",
    "\n",
    "    COMPOSED = outer.as_string()\n",
    "\n",
    "    # 5\n",
    "    try:\n",
    "        with smtplib.SMTP('smtp.mail.ru', 587) as s:\n",
    "            s.ehlo()\n",
    "            s.starttls()\n",
    "            s.ehlo()\n",
    "            s.login(SENDER, PASSWORD)\n",
    "            s.sendmail(SENDER, RECEPIENTS, COMPOSED)\n",
    "            s.close()\n",
    "    except:\n",
    "        print(\"Unable to send the email. Error: \", sys.exc_info()[0])\n",
    "        raise\n"
   ]
  },
  {
   "cell_type": "markdown",
   "metadata": {},
   "source": [
    "Функция не быстрая, немного подумает, но все отработает.<br>\n",
    "При желаниии ее можно немного переделать, например переместив возможность задавать пути до файлов как аргументы для самой функции."
   ]
  },
  {
   "cell_type": "code",
   "execution_count": 59,
   "metadata": {
    "ExecuteTime": {
     "end_time": "2024-02-10T06:43:28.281474Z",
     "start_time": "2024-02-10T06:43:24.307459Z"
    }
   },
   "outputs": [
    {
     "name": "stdout",
     "output_type": "stream",
     "text": [
      "Unable to send the email. Error:  <class 'smtplib.SMTPAuthenticationError'>\n"
     ]
    },
    {
     "ename": "SMTPAuthenticationError",
     "evalue": "(535, b'5.7.0 NEOBHODIM parol prilozheniya https://help.mail.ru/mail/security/protection/external / Application password is REQUIRED')",
     "output_type": "error",
     "traceback": [
      "\u001B[0;31m---------------------------------------------------------------------------\u001B[0m",
      "\u001B[0;31mSMTPAuthenticationError\u001B[0m                   Traceback (most recent call last)",
      "Cell \u001B[0;32mIn[59], line 1\u001B[0m\n\u001B[0;32m----> 1\u001B[0m \u001B[43msend_email\u001B[49m\u001B[43m(\u001B[49m\u001B[38;5;124;43m\"\u001B[39;49m\u001B[38;5;124;43m4adil4@mail.ru\u001B[39;49m\u001B[38;5;124;43m\"\u001B[39;49m\u001B[43m,\u001B[49m\u001B[43m \u001B[49m\u001B[38;5;124;43m\"\u001B[39;49m\u001B[38;5;124;43mcvbnjkl123\u001B[39;49m\u001B[38;5;124;43m\"\u001B[39;49m\u001B[43m,\u001B[49m\u001B[43m \u001B[49m\u001B[38;5;124;43m\"\u001B[39;49m\u001B[38;5;124;43mTEST\u001B[39;49m\u001B[38;5;124;43m\"\u001B[39;49m\u001B[43m)\u001B[49m\n",
      "Cell \u001B[0;32mIn[58], line 58\u001B[0m, in \u001B[0;36msend_email\u001B[0;34m(mail_from, password, subject)\u001B[0m\n\u001B[1;32m     56\u001B[0m s\u001B[38;5;241m.\u001B[39mstarttls()\n\u001B[1;32m     57\u001B[0m s\u001B[38;5;241m.\u001B[39mehlo()\n\u001B[0;32m---> 58\u001B[0m \u001B[43ms\u001B[49m\u001B[38;5;241;43m.\u001B[39;49m\u001B[43mlogin\u001B[49m\u001B[43m(\u001B[49m\u001B[43mSENDER\u001B[49m\u001B[43m,\u001B[49m\u001B[43m \u001B[49m\u001B[43mPASSWORD\u001B[49m\u001B[43m)\u001B[49m\n\u001B[1;32m     59\u001B[0m s\u001B[38;5;241m.\u001B[39msendmail(SENDER, RECEPIENTS, COMPOSED)\n\u001B[1;32m     60\u001B[0m s\u001B[38;5;241m.\u001B[39mclose()\n",
      "File \u001B[0;32m/Library/Developer/CommandLineTools/Library/Frameworks/Python3.framework/Versions/3.9/lib/python3.9/smtplib.py:745\u001B[0m, in \u001B[0;36mSMTP.login\u001B[0;34m(self, user, password, initial_response_ok)\u001B[0m\n\u001B[1;32m    742\u001B[0m         last_exception \u001B[38;5;241m=\u001B[39m e\n\u001B[1;32m    744\u001B[0m \u001B[38;5;66;03m# We could not login successfully.  Return result of last attempt.\u001B[39;00m\n\u001B[0;32m--> 745\u001B[0m \u001B[38;5;28;01mraise\u001B[39;00m last_exception\n",
      "File \u001B[0;32m/Library/Developer/CommandLineTools/Library/Frameworks/Python3.framework/Versions/3.9/lib/python3.9/smtplib.py:734\u001B[0m, in \u001B[0;36mSMTP.login\u001B[0;34m(self, user, password, initial_response_ok)\u001B[0m\n\u001B[1;32m    732\u001B[0m method_name \u001B[38;5;241m=\u001B[39m \u001B[38;5;124m'\u001B[39m\u001B[38;5;124mauth_\u001B[39m\u001B[38;5;124m'\u001B[39m \u001B[38;5;241m+\u001B[39m authmethod\u001B[38;5;241m.\u001B[39mlower()\u001B[38;5;241m.\u001B[39mreplace(\u001B[38;5;124m'\u001B[39m\u001B[38;5;124m-\u001B[39m\u001B[38;5;124m'\u001B[39m, \u001B[38;5;124m'\u001B[39m\u001B[38;5;124m_\u001B[39m\u001B[38;5;124m'\u001B[39m)\n\u001B[1;32m    733\u001B[0m \u001B[38;5;28;01mtry\u001B[39;00m:\n\u001B[0;32m--> 734\u001B[0m     (code, resp) \u001B[38;5;241m=\u001B[39m \u001B[38;5;28;43mself\u001B[39;49m\u001B[38;5;241;43m.\u001B[39;49m\u001B[43mauth\u001B[49m\u001B[43m(\u001B[49m\n\u001B[1;32m    735\u001B[0m \u001B[43m        \u001B[49m\u001B[43mauthmethod\u001B[49m\u001B[43m,\u001B[49m\u001B[43m \u001B[49m\u001B[38;5;28;43mgetattr\u001B[39;49m\u001B[43m(\u001B[49m\u001B[38;5;28;43mself\u001B[39;49m\u001B[43m,\u001B[49m\u001B[43m \u001B[49m\u001B[43mmethod_name\u001B[49m\u001B[43m)\u001B[49m\u001B[43m,\u001B[49m\n\u001B[1;32m    736\u001B[0m \u001B[43m        \u001B[49m\u001B[43minitial_response_ok\u001B[49m\u001B[38;5;241;43m=\u001B[39;49m\u001B[43minitial_response_ok\u001B[49m\u001B[43m)\u001B[49m\n\u001B[1;32m    737\u001B[0m     \u001B[38;5;66;03m# 235 == 'Authentication successful'\u001B[39;00m\n\u001B[1;32m    738\u001B[0m     \u001B[38;5;66;03m# 503 == 'Error: already authenticated'\u001B[39;00m\n\u001B[1;32m    739\u001B[0m     \u001B[38;5;28;01mif\u001B[39;00m code \u001B[38;5;129;01min\u001B[39;00m (\u001B[38;5;241m235\u001B[39m, \u001B[38;5;241m503\u001B[39m):\n",
      "File \u001B[0;32m/Library/Developer/CommandLineTools/Library/Frameworks/Python3.framework/Versions/3.9/lib/python3.9/smtplib.py:657\u001B[0m, in \u001B[0;36mSMTP.auth\u001B[0;34m(self, mechanism, authobject, initial_response_ok)\u001B[0m\n\u001B[1;32m    655\u001B[0m \u001B[38;5;28;01mif\u001B[39;00m code \u001B[38;5;129;01min\u001B[39;00m (\u001B[38;5;241m235\u001B[39m, \u001B[38;5;241m503\u001B[39m):\n\u001B[1;32m    656\u001B[0m     \u001B[38;5;28;01mreturn\u001B[39;00m (code, resp)\n\u001B[0;32m--> 657\u001B[0m \u001B[38;5;28;01mraise\u001B[39;00m SMTPAuthenticationError(code, resp)\n",
      "\u001B[0;31mSMTPAuthenticationError\u001B[0m: (535, b'5.7.0 NEOBHODIM parol prilozheniya https://help.mail.ru/mail/security/protection/external / Application password is REQUIRED')"
     ]
    }
   ],
   "source": [
    "send_email(\"4adil4@mail.ru\", \"cvbnjkl123\", \"TEST\")\n"
   ]
  },
  {
   "cell_type": "markdown",
   "source": [],
   "metadata": {
    "collapsed": false
   }
  },
  {
   "cell_type": "markdown",
   "metadata": {},
   "source": [
    "### Домашнее задание"
   ]
  },
  {
   "cell_type": "markdown",
   "metadata": {},
   "source": [
    "Практическая часть домашнего задания на этой неделе будет довольно объемным: \n",
    "\n",
    "1) Нужно поиграться с ноутбуком и подкрутить скрипт для подобного отчета **по долларам США** и еще одной валюте на выбор. Смело копируйте этот ноутбук и сделайте так, чтобы **отчет о транзакциях** был **в одном файле экселя** и пошлите себе **файлик на почту**.<br>\n",
    "\n",
    "2) Отток мы посчитали, как на счет посчитать retention? Или сколько пользователей в текущем месяце присутствуют в прошлом месяце. (по сути это ***обратная*** или ***инвертированная задача*** для той что уже мы посчитали.)\n",
    "\n",
    "3) И свободная часть: **реализовать похожий скрипт для своих нужд** и со своими данными.<br>\n",
    "\n",
    "**P.S.** В функции `send_email` можете указать несколько адресатов в поле `RECEPIENTS` через запятую.\n",
    "В таком случае нужно будет раскомментировать параметр `COMMASPACE = ', '` (убрать решетку до него) и заменить `RECEPIENTS` на `COMMASPACE.join(RECEPIENTS)` так же без решетки."
   ]
  },
  {
   "cell_type": "code",
   "outputs": [
    {
     "name": "stdout",
     "output_type": "stream",
     "text": [
      "Письмо успешно отправлено!\n"
     ]
    }
   ],
   "source": [
    "import smtplib\n",
    "from email.mime.multipart import MIMEMultipart\n",
    "from email.mime.text import MIMEText\n",
    "from email.mime.base import MIMEBase\n",
    "from email import encoders\n",
    "\n",
    "# Информация об отправителе, получателе и авторизации\n",
    "SENDER = '?@mail.ru'\n",
    "PASSWORD = '??'\n",
    "RECIPIENTS = '??'\n",
    "\n",
    "# Список файлов, которые вы хотите отправить\n",
    "ATTACHMENTS = ['report0.xlsx', 'report2.xlsx', 'retention.csv', 'churn_retention.png']\n",
    "\n",
    "# Создание объекта MIMEMultipart\n",
    "msg = MIMEMultipart()\n",
    "\n",
    "# Установка параметров письма (от, кому, тема)\n",
    "msg['From'] = SENDER\n",
    "msg['To'] = RECIPIENTS\n",
    "msg['Subject'] = 'Отчеты и файлы'\n",
    "\n",
    "# Добавление текста в тело письма (необязательно)\n",
    "body = 'Файлы с заданиия СРС-1 (Свои файлы)'\n",
    "msg.attach(MIMEText(body, 'plain'))\n",
    "\n",
    "# Добавление вложений к письму\n",
    "for attachment in ATTACHMENTS:\n",
    "    part = MIMEBase('application', 'octet-stream')\n",
    "    part.set_payload(open(attachment, 'rb').read())\n",
    "    encoders.encode_base64(part)\n",
    "    part.add_header('Content-Disposition', f'attachment; filename={attachment}')\n",
    "    msg.attach(part)\n",
    "\n",
    "# Установка соединения с SMTP-сервером и отправка письма\n",
    "try:\n",
    "    with smtplib.SMTP('smtp.mail.ru', 587) as server:\n",
    "        server.starttls()\n",
    "        server.login(SENDER, PASSWORD)\n",
    "        server.sendmail(SENDER, RECIPIENTS, msg.as_string())\n",
    "    print('Письмо успешно отправлено!')\n",
    "except Exception as e:\n",
    "    print(f'Ошибка при отправке письма: {e}')\n"
   ],
   "metadata": {
    "collapsed": false,
    "ExecuteTime": {
     "end_time": "2024-02-10T07:17:36.837043Z",
     "start_time": "2024-02-10T07:17:33.012578Z"
    }
   },
   "execution_count": 64
  },
  {
   "cell_type": "code",
   "outputs": [],
   "source": [],
   "metadata": {
    "collapsed": false
   }
  }
 ],
 "metadata": {
  "kernelspec": {
   "display_name": "Python 3",
   "language": "python",
   "name": "python3"
  },
  "language_info": {
   "codemirror_mode": {
    "name": "ipython",
    "version": 3
   },
   "file_extension": ".py",
   "mimetype": "text/x-python",
   "name": "python",
   "nbconvert_exporter": "python",
   "pygments_lexer": "ipython3",
   "version": "3.6.6"
  }
 },
 "nbformat": 4,
 "nbformat_minor": 2
}
